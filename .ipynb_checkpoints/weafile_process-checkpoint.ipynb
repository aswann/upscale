{
 "cells": [
  {
   "cell_type": "markdown",
   "metadata": {},
   "source": [
    "# Identifying & Quantifying Missing Weather Data"
   ]
  },
  {
   "cell_type": "markdown",
   "metadata": {},
   "source": [
    "Load in required packages:"
   ]
  },
  {
   "cell_type": "code",
   "execution_count": 121,
   "metadata": {},
   "outputs": [],
   "source": [
    "import numpy as np\n",
    "import pandas as pd\n",
    "import matplotlib.pyplot as plt\n",
    "import seaborn as sns\n",
    "import glob\n",
    "import xarray as xr\n",
    "from datetime import datetime\n",
    "import time "
   ]
  },
  {
   "cell_type": "markdown",
   "metadata": {},
   "source": [
    "Read in temperature, precip, RH & solar radiation data:"
   ]
  },
  {
   "cell_type": "code",
   "execution_count": 336,
   "metadata": {},
   "outputs": [],
   "source": [
    "df_temp = pd.read_csv(\"/home/disk/eos8/ach315/UpScale/weadata/temp_all.csv\", index_col= 0)\n",
    "df_precip = pd.read_csv(\"/home/disk/eos8/ach315/UpScale/weadata/precip_all.csv\", index_col= 0)\n",
    "df_rh = pd.read_csv(\"/home/disk/eos8/ach315/UpScale/weadata/rh_all.csv\", index_col= 0)\n",
    "df_solrad = pd.read_csv(\"/home/disk/eos8/ach315/UpScale/weadata/solrad_all.csv\", index_col= 0)"
   ]
  },
  {
   "cell_type": "markdown",
   "metadata": {},
   "source": [
    "Putting data together into xarray:"
   ]
  },
  {
   "cell_type": "code",
   "execution_count": 337,
   "metadata": {},
   "outputs": [
    {
     "data": {
      "text/plain": [
       "<xarray.Dataset>\n",
       "Dimensions:        (loc: 237, time: 262968)\n",
       "Coordinates:\n",
       "  * time           (time) object '1961-01-01 00:00:00' '1961-01-01 01:00:00' ...\n",
       "  * loc            (loc) object '03103' '03812' '03813' '03820' '03822' ...\n",
       "Data variables:\n",
       "    temperature    (time, loc) float64 nan 3.3 14.4 9.4 11.7 9.4 nan nan 6.1 ...\n",
       "    precipitation  (time, loc) float64 nan nan 109.0 48.0 0.0 13.0 nan nan ...\n",
       "    relhumidity    (time, loc) float64 nan 0.892 0.9677 0.9665 0.9288 0.9665 ...\n",
       "    solrad         (time, loc) float64 nan 0.0 0.0 0.0 0.0 0.0 0.0 0.0 0.0 ..."
      ]
     },
     "execution_count": 337,
     "metadata": {},
     "output_type": "execute_result"
    }
   ],
   "source": [
    "timepoints = df_temp.index\n",
    "sites = df_temp.columns\n",
    "\n",
    "ds_weadata = xr.Dataset({\"temperature\": ([\"time\", \"loc\"], df_temp),\n",
    "                         \"precipitation\": ([\"time\", \"loc\"], df_precip),\n",
    "                         \"relhumidity\": ([\"time\", \"loc\"], df_rh),\n",
    "                         \"solrad\": ([\"time\", \"loc\"], df_solrad)},\n",
    "                        coords= {\"time\": timepoints,\n",
    "                                 \"loc\": sites})\n",
    "\n",
    "ds_weadata"
   ]
  },
  {
   "cell_type": "markdown",
   "metadata": {},
   "source": [
    "----------------------------------------------------------------------------------------------------"
   ]
  },
  {
   "cell_type": "markdown",
   "metadata": {},
   "source": [
    "### Step 1. Figure out site-years that can be gap-filled"
   ]
  },
  {
   "cell_type": "code",
   "execution_count": 251,
   "metadata": {},
   "outputs": [],
   "source": [
    "#--- Setting up variables\n",
    "# variable input for loop\n",
    "\n",
    "# weather datasets to process\n",
    "datasets = list([df_temp, df_precip]) # df_rh is based off df_temp, so no need to evaluate \n",
    "\n",
    "# final lists to store processed output\n",
    "finalist = list([[], []]) # order: [0]-temp, [1]-precip\n",
    "\n",
    "# years\n",
    "years = np.arange(1961, 1991)\n",
    "\n",
    "# growing season\n",
    "growseason_start = \"-05-01 00:00:00\"\n",
    "growseason_end = \"-10-31 23:00:00\"\n",
    "\n",
    "# critical hrs of missing data\n",
    "crit_hrs = 0"
   ]
  },
  {
   "cell_type": "code",
   "execution_count": 252,
   "metadata": {},
   "outputs": [],
   "source": [
    "#--- Loop\n",
    "# looking through the temp, precip & rh dataset to pick out usable site-years\n",
    "\n",
    "for i in np.arange(len(datasets)):\n",
    "    dataset = datasets[i]\n",
    "    siteyears_all = list()\n",
    "    sites = dataset.columns\n",
    "    \n",
    "    for j in years:\n",
    "        start_time = str(j) + growseason_start\n",
    "        end_time = str(j) + growseason_end\n",
    "        siteyears = list()\n",
    "        \n",
    "        for k in sites:\n",
    "            df = dataset.loc[start_time:end_time, k]\n",
    "            df = pd.DataFrame(df)\n",
    "            df[\"group\"] = df.notnull().astype(int)\n",
    "            df[\"group\"] = df.group.cumsum()\n",
    "            df = df[df.iloc[:,0].isnull()]\n",
    "            df[\"count\"] = df.groupby(\"group\")[\"group\"].transform(\"size\")\n",
    "            df.drop_duplicates(\"group\")\n",
    "            \n",
    "            if df[df[\"count\"] > crit_hrs].shape[0] == 0:\n",
    "                use_siteyear = str(j) + \"_\" + str(k)\n",
    "                siteyears.append(use_siteyear)\n",
    "        \n",
    "        siteyears_all.extend(siteyears)\n",
    "    \n",
    "    finalist[i] = siteyears_all\n"
   ]
  },
  {
   "cell_type": "markdown",
   "metadata": {},
   "source": [
    "### Step 2. Compare usable site-years for temp  & precip and find the common year-sites"
   ]
  },
  {
   "cell_type": "code",
   "execution_count": 254,
   "metadata": {},
   "outputs": [
    {
     "name": "stdout",
     "output_type": "stream",
     "text": [
      "2059\n",
      "1695\n",
      "1581\n"
     ]
    }
   ],
   "source": [
    "yearsites_temp = finalist[0]\n",
    "yearsites_precip = finalist[1]\n",
    "print(len(yearsites_temp))\n",
    "print(len(yearsites_precip))\n",
    "\n",
    "yearsites = list(set(yearsites_temp) & set(yearsites_precip))\n",
    "yearsites.sort()\n",
    "print(len(yearsites))"
   ]
  },
  {
   "cell_type": "code",
   "execution_count": 255,
   "metadata": {},
   "outputs": [],
   "source": [
    "crithrs_0 = len(yearsites)"
   ]
  },
  {
   "cell_type": "code",
   "execution_count": 256,
   "metadata": {},
   "outputs": [
    {
     "name": "stdout",
     "output_type": "stream",
     "text": [
      "1581\n",
      "2239\n",
      "3394\n",
      "3517\n",
      "3790\n",
      "3867\n",
      "3927\n",
      "4005\n",
      "4124\n"
     ]
    }
   ],
   "source": [
    "print(crithrs_0)\n",
    "print(crithrs_1)\n",
    "print(crithrs_2)\n",
    "print(crithrs_3)\n",
    "print(crithrs_6)\n",
    "print(crithrs_8)\n",
    "print(crithrs_12)\n",
    "print(crithrs_18)\n",
    "print(crithrs_24)"
   ]
  },
  {
   "cell_type": "markdown",
   "metadata": {},
   "source": [
    "### Step 3. Visualize output"
   ]
  },
  {
   "cell_type": "code",
   "execution_count": 293,
   "metadata": {},
   "outputs": [
    {
     "data": {
      "text/plain": [
       "<Container object of 9 artists>"
      ]
     },
     "execution_count": 293,
     "metadata": {},
     "output_type": "execute_result"
    },
    {
     "data": {
      "image/png": "[encoded data removed]",
      "text/plain": [
       "<matplotlib.figure.Figure at 0x7fa995ee2ac8>"
      ]
     },
     "metadata": {},
     "output_type": "display_data"
    }
   ],
   "source": [
    "x = [0,1,2,3,6,8,12,18,24]\n",
    "width = [crithrs_0, crithrs_1, crithrs_2, crithrs_3, \n",
    "         crithrs_6, crithrs_8, crithrs_12, crithrs_18, crithrs_24]\n",
    "plt.bar(x, width, alpha= 0.5)"
   ]
  },
  {
   "cell_type": "markdown",
   "metadata": {},
   "source": [
    "### Step 4. Parse out the year-sites into a dataframe that has usable year as a column & site as a column "
   ]
  },
  {
   "cell_type": "code",
   "execution_count": null,
   "metadata": {},
   "outputs": [],
   "source": []
  }
 ],
 "metadata": {
  "kernelspec": {
   "display_name": "Python 3",
   "language": "python",
   "name": "python3"
  },
  "language_info": {
   "codemirror_mode": {
    "name": "ipython",
    "version": 3
   },
   "file_extension": ".py",
   "mimetype": "text/x-python",
   "name": "python",
   "nbconvert_exporter": "python",
   "pygments_lexer": "ipython3",
   "version": "3.6.4"
  }
 },
 "nbformat": 4,
 "nbformat_minor": 2
}
