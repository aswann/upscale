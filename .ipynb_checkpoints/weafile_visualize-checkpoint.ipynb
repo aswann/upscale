{
 "cells": [
  {
   "cell_type": "markdown",
   "metadata": {},
   "source": [
    "# Visualizing Weather Data"
   ]
  },
  {
   "cell_type": "markdown",
   "metadata": {},
   "source": [
    "Load in required packages:"
   ]
  },
  {
   "cell_type": "code",
   "execution_count": 2,
   "metadata": {},
   "outputs": [],
   "source": [
    "import numpy as np\n",
    "import pandas as pd\n",
    "import matplotlib.pyplot as plt\n",
    "import seaborn as sns\n",
    "import cartopy.crs as ccrs\n",
    "from datetime import datetime"
   ]
  },
  {
   "cell_type": "markdown",
   "metadata": {},
   "source": [
    "### Step 1. Figure out lat-lon of weather stations"
   ]
  },
  {
   "cell_type": "markdown",
   "metadata": {},
   "source": [
    "Read in site files from solar radiation data, since these files include all the common sites across temp, precip and solrad, and within the first line include some information of the stie. I'm only reading in files from year 1962, since all sites are present for this year, and just one year will give us all the information needed for each site."
   ]
  },
  {
   "cell_type": "code",
   "execution_count": 9,
   "metadata": {},
   "outputs": [],
   "source": [
    "sites = pd.read_table(\"/home/disk/eos8/ach315/data/ISH_NSRD/station_list_1961to1990.txt\", \n",
    "                      header= None, squeeze= True, dtype= str)\n",
    "file_list = sites + \"_62.txt\" # generate the files from year 1962 to read in\n",
    "\n",
    "WBAN_id = list()\n",
    "cities = list()\n",
    "states = list()\n",
    "latitude = list()\n",
    "longitude = list()\n",
    "\n",
    "for i in file_list:\n",
    "    solrad_file = pd.read_table(\"/home/disk/eos8/ach315/data/ISH_NSRD/1961to1990/\" + \n",
    "                                str(i), squeeze= True, header= None)\n",
    "    wban = solrad_file[0][1:6]\n",
    "    WBAN_id.append(wban)\n",
    "    \n",
    "    city = solrad_file[0][7:29]\n",
    "    cities.append(city)\n",
    "    \n",
    "    state = solrad_file[0][30:32]\n",
    "    states.append(state)\n",
    "\n",
    "    lat_degree = int(solrad_file[0][39:42])\n",
    "    lat_minute = int(solrad_file[0][42:44])*0.01\n",
    "    lat = lat_degree + lat_minute\n",
    "    latitude.append(lat)\n",
    "    \n",
    "    lon_degree = int(solrad_file[0][47:50])\n",
    "    lon_minute = int(solrad_file[0][51:53])*0.01\n",
    "    lon = lon_degree + lon_minute\n",
    "    longitude.append(lon)\n",
    "    \n",
    "site_info = pd.DataFrame({\"site\": WBAN_id,\n",
    "                          \"city\": cities,\n",
    "                          \"state\": states,\n",
    "                          \"latitude\": latitude,\n",
    "                          \"longitude\": longitude},\n",
    "                         columns = [\"site\", \"city\", \"state\", \"latitude\", \"longitude\"])"
   ]
  },
  {
   "cell_type": "code",
   "execution_count": 10,
   "metadata": {},
   "outputs": [
    {
     "data": {
      "text/html": [
       "<div>\n",
       "<style scoped>\n",
       "    .dataframe tbody tr th:only-of-type {\n",
       "        vertical-align: middle;\n",
       "    }\n",
       "\n",
       "    .dataframe tbody tr th {\n",
       "        vertical-align: top;\n",
       "    }\n",
       "\n",
       "    .dataframe thead th {\n",
       "        text-align: right;\n",
       "    }\n",
       "</style>\n",
       "<table border=\"1\" class=\"dataframe\">\n",
       "  <thead>\n",
       "    <tr style=\"text-align: right;\">\n",
       "      <th></th>\n",
       "      <th>site</th>\n",
       "      <th>city</th>\n",
       "      <th>state</th>\n",
       "      <th>latitude</th>\n",
       "      <th>longitude</th>\n",
       "    </tr>\n",
       "  </thead>\n",
       "  <tbody>\n",
       "    <tr>\n",
       "      <th>0</th>\n",
       "      <td>03103</td>\n",
       "      <td>FLAGSTAFF</td>\n",
       "      <td>AZ</td>\n",
       "      <td>35.08</td>\n",
       "      <td>111.40</td>\n",
       "    </tr>\n",
       "    <tr>\n",
       "      <th>1</th>\n",
       "      <td>03812</td>\n",
       "      <td>ASHEVILLE</td>\n",
       "      <td>NC</td>\n",
       "      <td>35.26</td>\n",
       "      <td>82.32</td>\n",
       "    </tr>\n",
       "    <tr>\n",
       "      <th>2</th>\n",
       "      <td>03813</td>\n",
       "      <td>MACON</td>\n",
       "      <td>GA</td>\n",
       "      <td>32.42</td>\n",
       "      <td>83.39</td>\n",
       "    </tr>\n",
       "    <tr>\n",
       "      <th>3</th>\n",
       "      <td>03820</td>\n",
       "      <td>AUGUSTA</td>\n",
       "      <td>GA</td>\n",
       "      <td>33.22</td>\n",
       "      <td>81.58</td>\n",
       "    </tr>\n",
       "    <tr>\n",
       "      <th>4</th>\n",
       "      <td>03822</td>\n",
       "      <td>SAVANNAH</td>\n",
       "      <td>GA</td>\n",
       "      <td>32.08</td>\n",
       "      <td>81.12</td>\n",
       "    </tr>\n",
       "  </tbody>\n",
       "</table>\n",
       "</div>"
      ],
      "text/plain": [
       "    site                    city state  latitude  longitude\n",
       "0  03103  FLAGSTAFF                 AZ     35.08     111.40\n",
       "1  03812  ASHEVILLE                 NC     35.26      82.32\n",
       "2  03813  MACON                     GA     32.42      83.39\n",
       "3  03820  AUGUSTA                   GA     33.22      81.58\n",
       "4  03822  SAVANNAH                  GA     32.08      81.12"
      ]
     },
     "execution_count": 10,
     "metadata": {},
     "output_type": "execute_result"
    }
   ],
   "source": [
    "site_info.head()"
   ]
  },
  {
   "cell_type": "code",
   "execution_count": 12,
   "metadata": {},
   "outputs": [],
   "source": [
    "# reading information out into .csv file\n",
    "site_info.to_csv(\"site_info.csv\")"
   ]
  },
  {
   "cell_type": "markdown",
   "metadata": {},
   "source": [
    "### Step 2. Plot out weather station locations on map"
   ]
  },
  {
   "cell_type": "code",
   "execution_count": null,
   "metadata": {},
   "outputs": [],
   "source": []
  }
 ],
 "metadata": {
  "kernelspec": {
   "display_name": "Python 3",
   "language": "python",
   "name": "python3"
  },
  "language_info": {
   "codemirror_mode": {
    "name": "ipython",
    "version": 3
   },
   "file_extension": ".py",
   "mimetype": "text/x-python",
   "name": "python",
   "nbconvert_exporter": "python",
   "pygments_lexer": "ipython3",
   "version": "3.6.8"
  }
 },
 "nbformat": 4,
 "nbformat_minor": 2
}
