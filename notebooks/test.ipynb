{
 "cells": [
  {
   "cell_type": "code",
   "execution_count": 12,
   "metadata": {},
   "outputs": [],
   "source": [
    "import xarray as xr\n",
    "import pandas as pd\n",
    "import numpy as np\n",
    "import matplotlib.pyplot as plt\n",
    "import glob"
   ]
  },
  {
   "cell_type": "markdown",
   "metadata": {},
   "source": [
    "200326JH: <br/>\n",
    "I can't quite figure out how to decode the original netCDF file so I'll probably just have to populate the data with the raw text data myself."
   ]
  },
  {
   "cell_type": "code",
   "execution_count": 76,
   "metadata": {},
   "outputs": [
    {
     "data": {
      "text/plain": [
       "<xarray.Dataset>\n",
       "Dimensions:              (countylist: 3018, time: 105)\n",
       "Coordinates:\n",
       "  * time                 (time) |S1 b'' b'' b'' b'' b'' b'' b'' b'' b'' b'' ...\n",
       "Dimensions without coordinates: countylist\n",
       "Data variables:\n",
       "    counties             (countylist) float64 ...\n",
       "    lon_county           (countylist) float64 ...\n",
       "    lat_county           (countylist) float64 ...\n",
       "    corn_yield_bycounty  (time, countylist) float64 ...\n",
       "    soy_yield_bycounty   (time, countylist) float64 ...\n",
       "    swht_yield_bycounty  (time, countylist) float64 ...\n",
       "    dwht_yield_bycounty  (time, countylist) float64 ..."
      ]
     },
     "execution_count": 76,
     "metadata": {},
     "output_type": "execute_result"
    }
   ],
   "source": [
    "ds_yield = xr.open_dataset('/home/disk/eos8/ach315/data/NASS_cropdata/NASS_cropdata_2014_cornsoywheat')\n",
    "ds_yield"
   ]
  },
  {
   "cell_type": "code",
   "execution_count": null,
   "metadata": {},
   "outputs": [],
   "source": []
  },
  {
   "cell_type": "code",
   "execution_count": 90,
   "metadata": {},
   "outputs": [],
   "source": [
    "ds_yield['time'] = np.arange(1910, 2015)"
   ]
  },
  {
   "cell_type": "code",
   "execution_count": 91,
   "metadata": {},
   "outputs": [
    {
     "data": {
      "text/plain": [
       "<xarray.Dataset>\n",
       "Dimensions:              (countylist: 3018, time: 105)\n",
       "Coordinates:\n",
       "  * time                 (time) int64 1910 1911 1912 1913 1914 1915 1916 ...\n",
       "Dimensions without coordinates: countylist\n",
       "Data variables:\n",
       "    counties             (countylist) float64 1.0 2.0 3.0 4.0 5.0 6.0 7.0 ...\n",
       "    lon_county           (countylist) float64 ...\n",
       "    lat_county           (countylist) float64 ...\n",
       "    corn_yield_bycounty  (time, countylist) float64 ...\n",
       "    soy_yield_bycounty   (time, countylist) float64 ...\n",
       "    swht_yield_bycounty  (time, countylist) float64 ...\n",
       "    dwht_yield_bycounty  (time, countylist) float64 ..."
      ]
     },
     "execution_count": 91,
     "metadata": {},
     "output_type": "execute_result"
    }
   ],
   "source": [
    "ds_yield"
   ]
  },
  {
   "cell_type": "code",
   "execution_count": 125,
   "metadata": {},
   "outputs": [],
   "source": [
    "state = pd.read_csv('/home/disk/eos8/ach315/data/NASS_cropdata/stateID.txt', header=None, sep='\\s+')\n",
    "lat = pd.read_csv('/home/disk/eos8/ach315/data/NASS_cropdata/lat_county.txt', header=None, sep='\\s+')\n",
    "lon = pd.read_csv('/home/disk/eos8/ach315/data/NASS_cropdata/lon_county.txt', header=None, sep='\\s+')\n",
    "maize_yield = pd.read_csv('/home/disk/eos8/ach315/data/NASS_cropdata/corn_yield.txt', header=None, sep='\\s+')\n",
    "maize_area = pd.read_csv('/home/disk/eos8/ach315/data/NASS_cropdata/corn_area.txt', header=None, sep='\\s+')"
   ]
  },
  {
   "cell_type": "code",
   "execution_count": 153,
   "metadata": {},
   "outputs": [],
   "source": [
    "ds_yield = xr.Dataset({'yield': (['county', 'time'], maize_yield),\n",
    "                       'area': (['county', 'time'], maize_area)},\n",
    "                      coords = {'county': np.arange(1,3109),\n",
    "                                'time': np.arange(1910,2015)})"
   ]
  },
  {
   "cell_type": "code",
   "execution_count": 154,
   "metadata": {},
   "outputs": [
    {
     "data": {
      "text/plain": [
       "<xarray.Dataset>\n",
       "Dimensions:  (county: 3108, time: 105)\n",
       "Coordinates:\n",
       "  * county   (county) int64 1 2 3 4 5 6 7 8 9 10 11 12 13 14 15 16 17 18 19 ...\n",
       "  * time     (time) int64 1910 1911 1912 1913 1914 1915 1916 1917 1918 1919 ...\n",
       "Data variables:\n",
       "    yield    (county, time) float64 nan nan nan nan nan nan nan nan nan nan ...\n",
       "    area     (county, time) float64 nan nan nan nan nan nan nan nan nan nan ..."
      ]
     },
     "execution_count": 154,
     "metadata": {},
     "output_type": "execute_result"
    }
   ],
   "source": [
    "ds_yield"
   ]
  },
  {
   "cell_type": "code",
   "execution_count": null,
   "metadata": {},
   "outputs": [],
   "source": []
  },
  {
   "cell_type": "code",
   "execution_count": null,
   "metadata": {},
   "outputs": [],
   "source": []
  }
 ],
 "metadata": {
  "kernelspec": {
   "display_name": "Python 3",
   "language": "python",
   "name": "python3"
  },
  "language_info": {
   "codemirror_mode": {
    "name": "ipython",
    "version": 3
   },
   "file_extension": ".py",
   "mimetype": "text/x-python",
   "name": "python",
   "nbconvert_exporter": "python",
   "pygments_lexer": "ipython3",
   "version": "3.6.10"
  }
 },
 "nbformat": 4,
 "nbformat_minor": 4
}
