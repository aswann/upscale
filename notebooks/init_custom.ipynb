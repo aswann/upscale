{
 "cells": [
  {
   "cell_type": "markdown",
   "metadata": {},
   "source": [
    "# Generate initial text files for maizsim simulations"
   ]
  },
  {
   "cell_type": "markdown",
   "metadata": {},
   "source": [
    "Maizsim has a total of X intput files. The files listed here are only ones that require: <br/>\n",
    "1. customization for individual site-years, or\n",
    "2. multiple sets for parametetr sensitivity testing"
   ]
  },
  {
   "cell_type": "code",
   "execution_count": 1,
   "metadata": {},
   "outputs": [],
   "source": [
    "import os\n",
    "import pandas as pd\n",
    "import numpy as np\n",
    "import glob as glob\n",
    "import datetime\n",
    "from funcs import tup_convert"
   ]
  },
  {
   "cell_type": "markdown",
   "metadata": {},
   "source": [
    "### 0. Setup"
   ]
  },
  {
   "cell_type": "markdown",
   "metadata": {},
   "source": [
    "#### 0.1Making directories to hold initial files & simulation outputs\n",
    "Code block only needs to be executed once because after that the folders will be created <br/>\n",
    "if you try executing this code block after the folders exist it won't execute and will throw an error"
   ]
  },
  {
   "cell_type": "code",
   "execution_count": null,
   "metadata": {},
   "outputs": [],
   "source": [
    "\"\"\"\n",
    "siteyears = pd.read_csv('/home/disk/eos8/ach315/upscale/weadata/siteyears_filtered.csv', dtype=str, index_col=0)\n",
    "for i in np.arange(0,len(siteyears)):\n",
    "    os.mkdir('/home/disk/eos8/ach315/upscale/inits/custom/' + str(siteyears.iloc[i,0]) + '_' + str(siteyears.iloc[i,1]))\n",
    "\"\"\""
   ]
  },
  {
   "cell_type": "code",
   "execution_count": 2,
   "metadata": {},
   "outputs": [
    {
     "data": {
      "text/html": [
       "<div>\n",
       "<style scoped>\n",
       "    .dataframe tbody tr th:only-of-type {\n",
       "        vertical-align: middle;\n",
       "    }\n",
       "\n",
       "    .dataframe tbody tr th {\n",
       "        vertical-align: top;\n",
       "    }\n",
       "\n",
       "    .dataframe thead th {\n",
       "        text-align: right;\n",
       "    }\n",
       "</style>\n",
       "<table border=\"1\" class=\"dataframe\">\n",
       "  <thead>\n",
       "    <tr style=\"text-align: right;\">\n",
       "      <th></th>\n",
       "      <th>site</th>\n",
       "      <th>year</th>\n",
       "      <th>doy</th>\n",
       "      <th>pdate</th>\n",
       "    </tr>\n",
       "  </thead>\n",
       "  <tbody>\n",
       "    <tr>\n",
       "      <th>0</th>\n",
       "      <td>722070</td>\n",
       "      <td>1970</td>\n",
       "      <td>61</td>\n",
       "      <td>1970-03-02</td>\n",
       "    </tr>\n",
       "    <tr>\n",
       "      <th>1</th>\n",
       "      <td>722070</td>\n",
       "      <td>1972</td>\n",
       "      <td>61</td>\n",
       "      <td>1972-03-01</td>\n",
       "    </tr>\n",
       "    <tr>\n",
       "      <th>2</th>\n",
       "      <td>722070</td>\n",
       "      <td>1977</td>\n",
       "      <td>61</td>\n",
       "      <td>1977-03-02</td>\n",
       "    </tr>\n",
       "    <tr>\n",
       "      <th>3</th>\n",
       "      <td>722070</td>\n",
       "      <td>1978</td>\n",
       "      <td>75</td>\n",
       "      <td>1978-03-16</td>\n",
       "    </tr>\n",
       "    <tr>\n",
       "      <th>4</th>\n",
       "      <td>722070</td>\n",
       "      <td>1979</td>\n",
       "      <td>61</td>\n",
       "      <td>1979-03-02</td>\n",
       "    </tr>\n",
       "  </tbody>\n",
       "</table>\n",
       "</div>"
      ],
      "text/plain": [
       "     site  year doy       pdate\n",
       "0  722070  1970  61  1970-03-02\n",
       "1  722070  1972  61  1972-03-01\n",
       "2  722070  1977  61  1977-03-02\n",
       "3  722070  1978  75  1978-03-16\n",
       "4  722070  1979  61  1979-03-02"
      ]
     },
     "execution_count": 2,
     "metadata": {},
     "output_type": "execute_result"
    }
   ],
   "source": [
    "siteyears = pd.read_csv('/home/disk/eos8/ach315/upscale/weadata/siteyears_filtered.csv', dtype=str, index_col=0)\n",
    "siteyears.head()"
   ]
  },
  {
   "cell_type": "markdown",
   "metadata": {},
   "source": [
    "#### 0.2 Identifying initial files that need to customized for each site-year due to time & date\n",
    "Other than weather file, init files that need to be customized include:\n",
    "1. init.txt\n",
    "2. time.txt\n",
    "3. climate.txt\n",
    "4. management.txt"
   ]
  },
  {
   "cell_type": "markdown",
   "metadata": {},
   "source": [
    "#### 0.3 Specifying some general input variables"
   ]
  },
  {
   "cell_type": "code",
   "execution_count": 3,
   "metadata": {},
   "outputs": [],
   "source": [
    "directories = glob.glob('/home/disk/eos8/ach315/upscale/inits/custom_pdate/*')\n",
    "site_info = pd.read_csv('/home/disk/eos8/ach315/upscale/weadata/stations_info_9110.csv', \n",
    "                        dtype={'USAF': str}, usecols=[0,1,3,4,8,9,10])\n",
    "site_info.columns = ['site', 'class', 'station', 'state', 'tzone', 'lat', 'lon']\n",
    "\n",
    "# setting up tab\n",
    "tab = '    '"
   ]
  },
  {
   "cell_type": "markdown",
   "metadata": {},
   "source": [
    "### 1. init.txt"
   ]
  },
  {
   "cell_type": "markdown",
   "metadata": {},
   "source": [
    "setting up constant parameters:"
   ]
  },
  {
   "cell_type": "code",
   "execution_count": 4,
   "metadata": {},
   "outputs": [],
   "source": [
    "# management\n",
    "poprow = 7.5 # plants/meter of row\n",
    "rowsp = 75 # row spacing (cm)\n",
    "plant_density = 8 # plant density (plants/m2)\n",
    "rowang = 0\n",
    "x_seed = 0\n",
    "y_seed = 195\n",
    "cec = 0.65\n",
    "eomult = 0.5\n",
    "co2 = -1\n",
    "\n",
    "# output soil file or not\n",
    "soil_yes = ('0', tab, '1')\n",
    "soil_no = ('1', tab, '0')\n",
    "\n",
    "# adjustable parameters: time\n",
    "start_date = '03/01/'\n",
    "#sowing_date = '04/01/'\n",
    "# this will now be customized\n",
    "end_date = '12/31/'\n",
    "timestep = 60\n",
    "\n",
    "# location\n",
    "alt = 0\n",
    "\n",
    "# irrigation \n",
    "irrigate = 0"
   ]
  },
  {
   "cell_type": "markdown",
   "metadata": {},
   "source": [
    "creating .txt file for each site-year:"
   ]
  },
  {
   "cell_type": "code",
   "execution_count": 5,
   "metadata": {},
   "outputs": [],
   "source": [
    "for i in directories:\n",
    "    init = open(i + '/init.txt', 'w')\n",
    "    year = i.split('/')[-1].split('_')[-1]\n",
    "    site = i.split('/')[-1].split('_')[-2]\n",
    "    \n",
    "    # customized parameters: location\n",
    "    lat = site_info[site_info.site == i.split('/')[-1].split('_')[-2]].lat\n",
    "    lon = site_info[site_info.site == i.split('/')[-1].split('_')[-2]].lon\n",
    "    alt = 0 # we actually don't have altitude information, so setting all as sea level\n",
    "\n",
    "    pdate = siteyears[(siteyears.site == site) & (siteyears.year == year)].iloc[0,3]\n",
    "    pdate_month = pdate.split('-')[1]\n",
    "    pdate_day = pdate.split('-')[2]\n",
    "    \n",
    "    # customized parameters: timing\n",
    "    start = \"'\" + start_date + year + \"'\"\n",
    "    sowing = \"'\" + pdate_month + '/' + pdate_day + '/' + year + \"'\"\n",
    "    end = \"'\" + end_date + year + \"'\"\n",
    "    \n",
    "    # setting up text strings\n",
    "    str1 = '*** initialization data ***\\n'\n",
    "    str2 = tup_convert(['poprow', tab, 'rowsp', tab, 'plant_density', tab, \n",
    "                        'rowang', tab, 'x_seed', tab, 'y_seed', tab, 'CEC', tab, 'eomult'])\n",
    "    str3 = tup_convert(['%.1f' %poprow, tab, '%.1f' %rowsp, tab, '%.1f' %plant_density, tab,\n",
    "                        '%.1f' %rowang, tab, '%.1f' %x_seed, tab, '%.1f' %y_seed, tab, \n",
    "                        '%.2f' %cec, tab, '%.2f' %eomult])\n",
    "    str4 = tup_convert(['latitude', tab, 'longitude', tab, 'altitude\\n'])\n",
    "    str5 = tup_convert(['%.2f' %lat, tab, '%.2f' %lon, tab, '%.2f\\n' %alt])\n",
    "    str6 = 'autoirrigate\\n'\n",
    "    str7 = '%.0f\\n' %irrigate\n",
    "    str8 = tup_convert(['begin', tab, 'sowing', tab, 'end', tab, 'timestep (mins)\\n'])\n",
    "    str9 = tup_convert([start, tab, sowing, tab, end, tab, '%.0f\\n' %timestep])\n",
    "    str10 = 'output soils data (g03, g04, g05, and g06 files) 1 if true\\n'\n",
    "    str11 = tup_convert(['no soil files', tab, 'outputsoil files\\n'])\n",
    "    str12 = tup_convert(soil_no)\n",
    "    \n",
    "    # compiling all strings\n",
    "    strings = [str1, str2, str3, str4, str5, str6, str7, str8, str9, str10, str11, str12]\n",
    "       \n",
    "    # writing out .txt file and clsoing file\n",
    "    init.writelines(strings)\n",
    "    init.close()"
   ]
  },
  {
   "cell_type": "markdown",
   "metadata": {},
   "source": [
    "### 2. time.txt"
   ]
  },
  {
   "cell_type": "markdown",
   "metadata": {},
   "source": [
    "setting up constant parameters:"
   ]
  },
  {
   "cell_type": "code",
   "execution_count": 6,
   "metadata": {},
   "outputs": [],
   "source": [
    "# constant parameters\n",
    "dt = 0.0001\n",
    "dt_min = 1e-7\n",
    "dmul1 = 1.3\n",
    "dmul2 = 0.3\n",
    "daily_output = '1    0\\n'\n",
    "hourly_output = '0    1\\n'\n",
    "daily_intput = '1    0\\n'\n",
    "hourly_input = '0    1\\n'\n",
    "\n",
    "# adjustable parameters: time \n",
    "# 'start_date' & 'end_date' are already defined when creating init.txt\n",
    "\n",
    "# adjustable parameters: output format\n",
    "output_timestep = hourly_output\n",
    "weadata_timestep = hourly_input"
   ]
  },
  {
   "cell_type": "markdown",
   "metadata": {},
   "source": [
    "creating .txt file for each site-year:"
   ]
  },
  {
   "cell_type": "code",
   "execution_count": 7,
   "metadata": {},
   "outputs": [],
   "source": [
    "for i in directories:\n",
    "    # opening text file\n",
    "    time = open(i + '/time.txt', 'w')\n",
    "    \n",
    "    # customizing year and timing\n",
    "    year = i.split('/')[-1].split('_')[-1]\n",
    "    init_time = \"'\" + start_date + year + \"'\"\n",
    "    end_time = \"'\" + end_date + year + \"'\\n\"\n",
    "\n",
    "    # setting up text strings\n",
    "    str1 = '*** synchronizer information ***\\n'\n",
    "    str2 = tup_convert(['initial time', tab, 'dt', tab, 'dtmin', tab, 'dmul1', tab, 'dmul2', tab, 'tfin\\n'])\n",
    "    str3 = tup_convert([init_time, tab, '%.4f' %dt, tab, '%.7f' %dt_min, tab, '%.2f' %dmul1, tab, '%.2f' %dmul2, tab, end_time])\n",
    "    str4 = 'output variables, 1 if true    Daily    Hourly\\n'\n",
    "    str5 = output_timestep\n",
    "    str6 = 'weather data, 1 if true    Daily     Hourly\\n'\n",
    "    str7 = weadata_timestep\n",
    "\n",
    "    # compiling strings\n",
    "    strings = [str1, str2, str3, str4, str5, str6, str7]\n",
    "\n",
    "    # writing out .txt file and clsoing file\n",
    "    time.writelines(strings)\n",
    "    time.close()"
   ]
  },
  {
   "cell_type": "markdown",
   "metadata": {},
   "source": [
    "### 3. climate.txt"
   ]
  },
  {
   "cell_type": "markdown",
   "metadata": {},
   "source": [
    "setting up constant parameters:"
   ]
  },
  {
   "cell_type": "code",
   "execution_count": 8,
   "metadata": {},
   "outputs": [],
   "source": [
    "# constant parameters\n",
    "bsolar = 3600\n",
    "btemp = 1\n",
    "atemp = 0\n",
    "erain = 0.1\n",
    "bwind = 1\n",
    "bir = 1\n",
    "\n",
    "# climate data input\n",
    "climate_input = tup_convert(['0', tab, '0', tab, '0', tab, '0', tab, '0', tab, '1', tab, '1\\n'])\n",
    "\n",
    "# average values for site\n",
    "# 19118: I'm actually not sure how these values are calculated and how important they are?\n",
    "winda = 3\n",
    "irav = 1\n",
    "conc = 0\n",
    "co2 = 400"
   ]
  },
  {
   "cell_type": "markdown",
   "metadata": {},
   "source": [
    "creating .txt file for each site-year:"
   ]
  },
  {
   "cell_type": "code",
   "execution_count": 9,
   "metadata": {},
   "outputs": [],
   "source": [
    "for i in directories:\n",
    "    # opening text file\n",
    "    climate = open(i + '/climate.txt', 'w')\n",
    "    \n",
    "    # customizing latitude    \n",
    "    site = i.split('/')[-1].split('_')[-2]\n",
    "    lat = site_info[site_info.site == i.split('/')[-1].split('_')[-2]].lat\n",
    "    \n",
    "    # setting up text strings\n",
    "    str1 = '*** standard meteorological data ***\\n'\n",
    "    str2 = 'latitude\\n'\n",
    "    str3 = '%.2f\\n' %lat\n",
    "    str4 = 'daily bulb temp, daily wind, rain intensity, daily conc, furrow, relitive humidity, co2\\n'\n",
    "    str5 = climate_input\n",
    "    str6 = 'parameters for changing of units: BSOLAR BTEMP ATEMP ERAIN BWIND BIR\\n'\n",
    "    str7 = 'BSOLAR is 1e6/3600 to go from jm-2h-1 to wm-2\\n'\n",
    "    str8 = tup_convert(['%.0f' %bsolar, tab, '%.0f' %btemp, tab, '%.0f' %atemp, tab, '%.0f' %erain, tab, '%.0f' %bwind, tab, '%.0f\\n' %bir])\n",
    "    str9 = 'average values for the site\\n'\n",
    "    str10 = tup_convert(['WINDA', tab, 'IRAV', tab, 'Conc', tab, 'CO2\\n'])\n",
    "    str11 = tup_convert(['%.0f' %winda, tab, '%.0f' %conc])\n",
    "\n",
    "    # compiling text strings\n",
    "    strings = [str1, str2, str3, str4, str5, str6, str7, str8, str9, str10, str11]\n",
    "    \n",
    "    # writing out .txt file and clsoing file\n",
    "    climate.writelines(strings)\n",
    "    climate.close()"
   ]
  },
  {
   "cell_type": "markdown",
   "metadata": {},
   "source": [
    "### 4. management.txt"
   ]
  },
  {
   "cell_type": "markdown",
   "metadata": {},
   "source": [
    "setting up constant parameters:"
   ]
  },
  {
   "cell_type": "code",
   "execution_count": 10,
   "metadata": {},
   "outputs": [],
   "source": [
    "# constant parameters\n",
    "\n",
    "# adjustable parameters: N application\n",
    "appl_num = 2 # number of applications\n",
    "#appl_date_1 = '04/15/' # here are only 2 application dates, but will need to be adjusted if appl_num increases\n",
    "#appl_date_2 = '05/15/'\n",
    "appl_mg = 100\n",
    "appl_depth = 5 # (cm)\n",
    "residue_C = 0\n",
    "residue_N = 0"
   ]
  },
  {
   "cell_type": "markdown",
   "metadata": {},
   "source": [
    "creating .txt file for each site-year:"
   ]
  },
  {
   "cell_type": "code",
   "execution_count": 11,
   "metadata": {},
   "outputs": [],
   "source": [
    "for i in directories:\n",
    "    # opening text file\n",
    "    management = open(i + '/management.txt', 'w')\n",
    "    \n",
    "    # customizing N application date\n",
    "    year = i.split('/')[-1].split('_')[-1]\n",
    "    site = i.split('/')[-1].split('_')[-2]\n",
    "    \n",
    "    # setting up N application dates: 2 weeks & 1.5 months after planting\n",
    "    pdate = siteyears[(siteyears.site == site) & (siteyears.year == year)].iloc[0,3]\n",
    "    app1 = pd.to_datetime(pdate).dayofyear + 14\n",
    "    app2 = pd.to_datetime(pdate).dayofyear + 14 + 30\n",
    "#    app1 = pd.to_datetime(pdate[0]).dayofyear + 14\n",
    "#    app2 = pd.to_datetime(pdate[0]).dayofyear + 14 + 30\n",
    "    appl_date_1 = (datetime.datetime(int(year),1,1) + datetime.timedelta(app1 - 1)).strftime(\"%Y/%m/%d\")\n",
    "    appl_date_2 = (datetime.datetime(int(year),1,1) + datetime.timedelta(app2 - 1)).strftime(\"%Y/%m/%d\")\n",
    "    \n",
    "    # formatting date specifically for maizsim\n",
    "    date_1 = \"'\" + appl_date_1 + \"'\"\n",
    "    date_2 = \"'\" + appl_date_2 + \"'\"\n",
    "\n",
    "    #    date_1 = \"'\" + appl_date_1 + year + \"'\"\n",
    "    #    date_2 = \"'\" + appl_date_2 + year + \"'\"\n",
    "\n",
    "    # setting up strings\n",
    "    str1 = '*** script for chemical application module ***\\n'\n",
    "    str2 = 'number of fertilizer applications (max=25)\\n'\n",
    "    str3 = '%.0f\\n' %appl_num\n",
    "    str4 = 'appl_time(i)' + tab + 'appl_mg(i)' + tab + 'appl_depth(cm)' + tab + 'residue_C' + tab + 'residue_N\\n'\n",
    "    # N application unit: kg/ha \n",
    "    # total mg N applied to grid (1 kg/ha = 1 mg/m2/width of application) application divided by width of grid in cm is kg/ha\n",
    "    str5 = tup_convert([date_1, tab, '%.0f' %appl_mg, tab, '%.0f' %appl_depth, tab, '%.0f' %residue_C, tab, '%.0f\\n' %residue_N])\n",
    "    str6 = tup_convert([date_2, tab, '%.0f' %appl_mg, tab, '%.0f' %appl_depth, tab, '%.0f' %residue_C, tab, '%.0f\\n' %residue_N])\n",
    "    \n",
    "    # compiling strings\n",
    "    strings = [str1, str2, str3, str4, str5, str6]\n",
    "    \n",
    "    # writing out .txt file and clsoing file\n",
    "    management.writelines(strings)\n",
    "    management.close()"
   ]
  }
 ],
 "metadata": {
  "kernelspec": {
   "display_name": "Python [conda env:ideotype]",
   "language": "python",
   "name": "conda-env-ideotype-py"
  },
  "language_info": {
   "codemirror_mode": {
    "name": "ipython",
    "version": 3
   },
   "file_extension": ".py",
   "mimetype": "text/x-python",
   "name": "python",
   "nbconvert_exporter": "python",
   "pygments_lexer": "ipython3",
   "version": "3.8.5"
  }
 },
 "nbformat": 4,
 "nbformat_minor": 4
}
