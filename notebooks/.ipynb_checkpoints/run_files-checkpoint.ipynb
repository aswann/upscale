{
 "cells": [
  {
   "cell_type": "markdown",
   "metadata": {},
   "source": [
    "## Generating run.txt files for maizsim simulations"
   ]
  },
  {
   "cell_type": "markdown",
   "metadata": {},
   "source": [
    "Creating several bash files that provides direction for where to look for the initial files and where to place the model output files"
   ]
  },
  {
   "cell_type": "code",
   "execution_count": 2,
   "metadata": {},
   "outputs": [],
   "source": [
    "import numpy as np\n",
    "import pandas as pd\n",
    "import matplotlib.pyplot as plt\n",
    "import glob"
   ]
  },
  {
   "cell_type": "markdown",
   "metadata": {},
   "source": [
    "### 1. run.txt"
   ]
  },
  {
   "cell_type": "code",
   "execution_count": 14,
   "metadata": {},
   "outputs": [
    {
     "data": {
      "text/plain": [
       "'/home/disk/eos8/ach315/upscale/init_files/site_years/03103_1964'"
      ]
     },
     "execution_count": 14,
     "metadata": {},
     "output_type": "execute_result"
    }
   ],
   "source": [
    "directories[0]"
   ]
  },
  {
   "cell_type": "code",
   "execution_count": 15,
   "metadata": {},
   "outputs": [
    {
     "ename": "NameError",
     "evalue": "name 'init_dirct_' is not defined",
     "output_type": "error",
     "traceback": [
      "\u001b[0;31m---------------------------------------------------------------------------\u001b[0m",
      "\u001b[0;31mNameError\u001b[0m                                 Traceback (most recent call last)",
      "\u001b[0;32m<ipython-input-15-08b9eeff651b>\u001b[0m in \u001b[0;36m<module>\u001b[0;34m()\u001b[0m\n\u001b[1;32m     12\u001b[0m     \u001b[0;31m# strings in run file\u001b[0m\u001b[0;34m\u001b[0m\u001b[0;34m\u001b[0m\u001b[0;34m\u001b[0m\u001b[0m\n\u001b[1;32m     13\u001b[0m     \u001b[0mstr1\u001b[0m \u001b[0;34m=\u001b[0m \u001b[0minit_dirct_custom\u001b[0m \u001b[0;34m+\u001b[0m \u001b[0;34m'wea.txt'\u001b[0m\u001b[0;34m\u001b[0m\u001b[0;34m\u001b[0m\u001b[0m\n\u001b[0;32m---> 14\u001b[0;31m     \u001b[0mstr2\u001b[0m \u001b[0;34m=\u001b[0m \u001b[0minit_dirct_\u001b[0m \u001b[0;34m+\u001b[0m \u001b[0;34m'time.txt'\u001b[0m\u001b[0;34m\u001b[0m\u001b[0;34m\u001b[0m\u001b[0m\n\u001b[0m\u001b[1;32m     15\u001b[0m     \u001b[0mstr3\u001b[0m \u001b[0;34m=\u001b[0m \u001b[0minit_dirct_\u001b[0m \u001b[0;34m+\u001b[0m \u001b[0;34m'biology.txt'\u001b[0m\u001b[0;34m\u001b[0m\u001b[0;34m\u001b[0m\u001b[0m\n\u001b[1;32m     16\u001b[0m     \u001b[0mstr4\u001b[0m \u001b[0;34m=\u001b[0m \u001b[0minit_dirct_\u001b[0m \u001b[0;34m+\u001b[0m \u001b[0;34m'cliamte.txt'\u001b[0m\u001b[0;34m\u001b[0m\u001b[0;34m\u001b[0m\u001b[0m\n",
      "\u001b[0;31mNameError\u001b[0m: name 'init_dirct_' is not defined"
     ]
    }
   ],
   "source": [
    "directories = glob.glob('/home/disk/eos8/ach315/upscale/init_files/site_years/*')\n",
    "\n",
    "for i in directories:\n",
    "    year = i.split('/')[-1].split('_')[-1]\n",
    "    site = i.split('/')[-1].split('_')[-2]\n",
    "\n",
    "    # setting up directories\n",
    "    init_dirct_wea = '/home/disk/eos8/ach315/upscale/weafile/data/control/'\n",
    "    init_dirct_stand = '/home/disk/eos8/ach315/upscale/init_files/standard_inits/'\n",
    "    init_dirct_custom = '/home/disk/eos8/ach315/upscale/init_files/site_years' + site + '_' + year + '/'\n",
    "    output_dirct = '/home/disk/eos8/ach315/upscale/runs/' + site + '_' + year + '/'\n",
    "\n",
    "    # strings in run file\n",
    "    str1 = init_dirct_wea + site + year + '.txt'\n",
    "    str2 = init_dirct_custom + 'time.txt'\n",
    "    str3 = init_dirct_stand + 'biology.txt'\n",
    "    str4 = init_dirct_custom + 'cliamte.txt'\n",
    "    str5 = init_dirct_stand + 'nitrogen.txt'\n",
    "    str6 = init_dirct_stand + 'solute.txt'\n",
    "    str7 = init_dirct_stand + 'soil.txt'\n",
    "    str8 = init_dirct_custom + 'management.txt'\n",
    "    str9 = init_dirct_stand + 'water.txt'\n",
    "    str10 = init_dirct_stand + 'waterbound.txt'\n",
    "    str11 = init_dirct_custom + 'init.txt'\n",
    "    str12 = init_dirct_custom + 'cultivar.txt'\n",
    "    str13 = init_dirct_stand + 'grid.txt'\n",
    "    str14 = init_dirct_stand + 'nod.txt'\n",
    "    str15 = init_dirct_stand + 'element.txt'\n",
    "    str16 = init_dirct_stand + 'massbl.txt'\n",
    "    str17 = output_dirct + 'out1.txt'\n",
    "    str18 = output_dirct + 'out2.txt'\n",
    "    str19 = output_dirct + 'out3.txt'\n",
    "    str20 = output_dirct + 'out4.txt'\n",
    "    str21 = output_dirct + 'out5.txt'\n",
    "    str22 = output_dirct + 'out6.txt'\n",
    "    str23 = output_dirct + 'massbl.txt'\n",
    "\n",
    "    strings = [str1, str2, str3, str4, str5, str6, str7, str8, str9, str10, str11, str12, str13,\n",
    "               str14, str15, str16, str17, str18, str19, str20, str21, str22, str23]\n",
    "\n",
    "    # writing out run file\n",
    "    run = open(i + 'run_' + site + '_' + year + '.txt', 'w')\n",
    "    run.writelines(strings)\n",
    "    run.close()\n",
    "\n",
    "    # writing out .txt file and clsoing file\n",
    "    init.writelines(strings)\n",
    "    init.close()"
   ]
  },
  {
   "cell_type": "markdown",
   "metadata": {},
   "source": [
    "### 2. bash file that includes a batch of run.txt files"
   ]
  },
  {
   "cell_type": "markdown",
   "metadata": {},
   "source": [
    "I'm planning to write bash files that include sets of run.txt files that either represent: <br\\>\n",
    "- climate treatments: e.g. temp, vpd, co2, or\n",
    "- parameter simulations: e.g. planting date, juvenile leaf numbers"
   ]
  },
  {
   "cell_type": "code",
   "execution_count": 11,
   "metadata": {},
   "outputs": [],
   "source": [
    "site = ''\n",
    "year = ''\n",
    "run_file = 'run_' + site + '_' + year + '.txt'"
   ]
  },
  {
   "cell_type": "code",
   "execution_count": null,
   "metadata": {},
   "outputs": [],
   "source": []
  }
 ],
 "metadata": {
  "kernelspec": {
   "display_name": "Python 3",
   "language": "python",
   "name": "python3"
  },
  "language_info": {
   "codemirror_mode": {
    "name": "ipython",
    "version": 3
   },
   "file_extension": ".py",
   "mimetype": "text/x-python",
   "name": "python",
   "nbconvert_exporter": "python",
   "pygments_lexer": "ipython3",
   "version": "3.6.9"
  }
 },
 "nbformat": 4,
 "nbformat_minor": 2
}
