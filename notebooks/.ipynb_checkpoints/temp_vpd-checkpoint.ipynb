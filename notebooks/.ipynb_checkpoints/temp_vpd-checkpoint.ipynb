{
 "cells": [
  {
   "cell_type": "markdown",
   "metadata": {},
   "source": [
    "### Visualizing Temp & VPD Relation"
   ]
  },
  {
   "cell_type": "code",
   "execution_count": 9,
   "metadata": {},
   "outputs": [],
   "source": [
    "import numpy as np\n",
    "import pandas as pd\n",
    "import matplotlib.pyplot as plt\n",
    "import seaborn as sns\n",
    "import glob\n",
    "import xarray as xr\n",
    "from datetime import datetime\n",
    "import time "
   ]
  },
  {
   "cell_type": "code",
   "execution_count": null,
   "metadata": {},
   "outputs": [],
   "source": [
    "df_wea = pd.read_csv('/home/disk/eos8/ach315/upscale/weadata/weadata.csv', index_col= 0)"
   ]
  },
  {
   "cell_type": "code",
   "execution_count": 3,
   "metadata": {},
   "outputs": [
    {
     "data": {
      "text/html": [
       "<div>\n",
       "<style scoped>\n",
       "    .dataframe tbody tr th:only-of-type {\n",
       "        vertical-align: middle;\n",
       "    }\n",
       "\n",
       "    .dataframe tbody tr th {\n",
       "        vertical-align: top;\n",
       "    }\n",
       "\n",
       "    .dataframe thead th {\n",
       "        text-align: right;\n",
       "    }\n",
       "</style>\n",
       "<table border=\"1\" class=\"dataframe\">\n",
       "  <thead>\n",
       "    <tr style=\"text-align: right;\">\n",
       "      <th></th>\n",
       "      <th>sites</th>\n",
       "      <th>temp</th>\n",
       "      <th>precip</th>\n",
       "      <th>rh</th>\n",
       "      <th>solrad</th>\n",
       "    </tr>\n",
       "    <tr>\n",
       "      <th>date</th>\n",
       "      <th></th>\n",
       "      <th></th>\n",
       "      <th></th>\n",
       "      <th></th>\n",
       "      <th></th>\n",
       "    </tr>\n",
       "  </thead>\n",
       "  <tbody>\n",
       "    <tr>\n",
       "      <td>1964-05-01 00:00:00</td>\n",
       "      <td>3103</td>\n",
       "      <td>9.4</td>\n",
       "      <td>0.0</td>\n",
       "      <td>0.605071</td>\n",
       "      <td>0.0</td>\n",
       "    </tr>\n",
       "    <tr>\n",
       "      <td>1964-05-01 01:00:00</td>\n",
       "      <td>3103</td>\n",
       "      <td>5.6</td>\n",
       "      <td>15.0</td>\n",
       "      <td>0.850413</td>\n",
       "      <td>0.0</td>\n",
       "    </tr>\n",
       "    <tr>\n",
       "      <td>1964-05-01 02:00:00</td>\n",
       "      <td>3103</td>\n",
       "      <td>4.4</td>\n",
       "      <td>0.0</td>\n",
       "      <td>0.925122</td>\n",
       "      <td>0.0</td>\n",
       "    </tr>\n",
       "    <tr>\n",
       "      <td>1964-05-01 03:00:00</td>\n",
       "      <td>3103</td>\n",
       "      <td>3.3</td>\n",
       "      <td>0.0</td>\n",
       "      <td>0.924547</td>\n",
       "      <td>0.0</td>\n",
       "    </tr>\n",
       "    <tr>\n",
       "      <td>1964-05-01 04:00:00</td>\n",
       "      <td>3103</td>\n",
       "      <td>2.8</td>\n",
       "      <td>0.0</td>\n",
       "      <td>0.924283</td>\n",
       "      <td>0.0</td>\n",
       "    </tr>\n",
       "  </tbody>\n",
       "</table>\n",
       "</div>"
      ],
      "text/plain": [
       "                     sites  temp  precip        rh  solrad\n",
       "date                                                      \n",
       "1964-05-01 00:00:00   3103   9.4     0.0  0.605071     0.0\n",
       "1964-05-01 01:00:00   3103   5.6    15.0  0.850413     0.0\n",
       "1964-05-01 02:00:00   3103   4.4     0.0  0.925122     0.0\n",
       "1964-05-01 03:00:00   3103   3.3     0.0  0.924547     0.0\n",
       "1964-05-01 04:00:00   3103   2.8     0.0  0.924283     0.0"
      ]
     },
     "execution_count": 3,
     "metadata": {},
     "output_type": "execute_result"
    }
   ],
   "source": [
    "df_wea.head()"
   ]
  },
  {
   "cell_type": "code",
   "execution_count": 4,
   "metadata": {},
   "outputs": [],
   "source": [
    "sitemean_temp = df_wea.groupby('sites')['temp'].mean()\n",
    "sitemean_rh = df_wea.groupby('sites')['rh'].mean()"
   ]
  },
  {
   "cell_type": "code",
   "execution_count": 5,
   "metadata": {},
   "outputs": [
    {
     "data": {
      "text/plain": [
       "<matplotlib.collections.PathCollection at 0x7ffb4c297a90>"
      ]
     },
     "execution_count": 5,
     "metadata": {},
     "output_type": "execute_result"
    },
    {
     "data": {
      "image/png": "[encoded data removed]",
      "text/plain": [
       "<Figure size 432x288 with 1 Axes>"
      ]
     },
     "metadata": {},
     "output_type": "display_data"
    }
   ],
   "source": [
    "plt.scatter(df_wea['temp'], df_wea['rh'], alpha=0.5)\n",
    "# this plot will take some time to run - too many datapoints"
   ]
  },
  {
   "cell_type": "code",
   "execution_count": 6,
   "metadata": {},
   "outputs": [
    {
     "data": {
      "text/plain": [
       "<matplotlib.collections.PathCollection at 0x7ffb1b457828>"
      ]
     },
     "execution_count": 6,
     "metadata": {},
     "output_type": "execute_result"
    },
    {
     "data": {
      "image/png": "[encoded data removed]",
      "text/plain": [
       "<Figure size 432x288 with 1 Axes>"
      ]
     },
     "metadata": {},
     "output_type": "display_data"
    }
   ],
   "source": [
    "plt.scatter(sitemean_temp, sitemean_rh, alpha=0.5)"
   ]
  },
  {
   "cell_type": "code",
   "execution_count": 7,
   "metadata": {},
   "outputs": [],
   "source": [
    "# Clausius-Clapeyron Function\n",
    "# - calculates VPD with temperature & RH input\n",
    "\n",
    "def CC(temp, RH):\n",
    "    Es_TRef = 6.11 # Es at reference temperature = 6.11 (mb)\n",
    "    TRef    = 273.15 # reference temperature (K)\n",
    "    Lv      = 2.5e+06 # evaporization latent heat = 2.5*10e6 (J/kg)\n",
    "    Rv      = 461 # gas constant = 461 (J/K*kg)\n",
    "    \n",
    "    Es = Es_TRef*np.exp((Lv/Rv)*(1/TRef-1/(temp+TRef)))\n",
    "    E = (Es*RH)/100\n",
    "    VPD = Es-E # units mb\n",
    "    VPD = VPD/10 # converting mb into kPa (1mb = 0.1kPa)\n",
    "    \n",
    "    return(VPD)"
   ]
  },
  {
   "cell_type": "code",
   "execution_count": 8,
   "metadata": {},
   "outputs": [
    {
     "data": {
      "text/plain": [
       "<matplotlib.collections.PathCollection at 0x7f7815c5acc0>"
      ]
     },
     "execution_count": 8,
     "metadata": {},
     "output_type": "execute_result"
    },
    {
     "data": {
      "image/png": "[encoded data removed]",
      "text/plain": [
       "<Figure size 432x288 with 1 Axes>"
      ]
     },
     "metadata": {},
     "output_type": "display_data"
    }
   ],
   "source": [
    "sitemean_vpd = CC(sitemean_temp, sitemean_rh*100)\n",
    "plt.scatter(sitemean_temp, sitemean_vpd, alpha=0.5)"
   ]
  },
  {
   "cell_type": "code",
   "execution_count": 18,
   "metadata": {},
   "outputs": [
    {
     "data": {
      "text/plain": [
       "3.121887857609759"
      ]
     },
     "execution_count": 18,
     "metadata": {},
     "output_type": "execute_result"
    }
   ],
   "source": [
    "sitemean_vpd.max()"
   ]
  },
  {
   "cell_type": "code",
   "execution_count": 7,
   "metadata": {},
   "outputs": [
    {
     "ename": "NameError",
     "evalue": "name 'CC' is not defined",
     "output_type": "error",
     "traceback": [
      "\u001b[0;31m---------------------------------------------------------------------------\u001b[0m",
      "\u001b[0;31mNameError\u001b[0m                                 Traceback (most recent call last)",
      "\u001b[0;32m<ipython-input-7-5836fb21d902>\u001b[0m in \u001b[0;36m<module>\u001b[0;34m()\u001b[0m\n\u001b[1;32m      1\u001b[0m \u001b[0;32mfrom\u001b[0m \u001b[0mpalettable\u001b[0m\u001b[0;34m.\u001b[0m\u001b[0mcolorbrewer\u001b[0m\u001b[0;34m.\u001b[0m\u001b[0msequential\u001b[0m \u001b[0;32mimport\u001b[0m \u001b[0mRdPu_9\u001b[0m\u001b[0;34m\u001b[0m\u001b[0;34m\u001b[0m\u001b[0m\n\u001b[1;32m      2\u001b[0m \u001b[0;34m\u001b[0m\u001b[0m\n\u001b[0;32m----> 3\u001b[0;31m \u001b[0mvpd\u001b[0m \u001b[0;34m=\u001b[0m \u001b[0mCC\u001b[0m\u001b[0;34m(\u001b[0m\u001b[0mdf_wea\u001b[0m\u001b[0;34m.\u001b[0m\u001b[0mtemp\u001b[0m\u001b[0;34m,\u001b[0m \u001b[0mdf_wea\u001b[0m\u001b[0;34m.\u001b[0m\u001b[0mrh\u001b[0m\u001b[0;34m*\u001b[0m\u001b[0;36m100\u001b[0m\u001b[0;34m)\u001b[0m\u001b[0;34m\u001b[0m\u001b[0;34m\u001b[0m\u001b[0m\n\u001b[0m\u001b[1;32m      4\u001b[0m df_tvpd = pd.DataFrame({'temp': df_wea.temp,\n\u001b[1;32m      5\u001b[0m                         'vpd': vpd})\n",
      "\u001b[0;31mNameError\u001b[0m: name 'CC' is not defined"
     ]
    }
   ],
   "source": [
    "from palettable.colorbrewer.sequential import RdPu_9\n",
    "\n",
    "vpd = CC(df_wea.temp, df_wea.rh*100)\n",
    "df_tvpd = pd.DataFrame({'temp': df_wea.temp,\n",
    "                        'vpd': vpd})\n",
    "\n",
    "temps = np.arange(0, 35, 2)\n",
    "vpds = np.arange(3.5, 0, -0.2)\n",
    "mapmatrix = np.zeros((len(temps), len(vpds)))\n",
    "\n",
    "for i in np.arange(len(temps)-1):\n",
    "    # select temperature range first\n",
    "    df_t = df_tvpd[(df_tvpd.temp > temps[i]) & (df_tvpd.temp < temps[i+1])] \n",
    "    \n",
    "    for j in np.arange(len(vpds)-1):\n",
    "        # next select vpd range\n",
    "        df_v = df_t[(df_t.vpd < vpds[j]) & (df_t.vpd > vpds[j+1])]\n",
    "        # calcualte the number of sites that fall within this range and place into matrix\n",
    "        mapmatrix[j,i] = len(df_v)\n",
    "        \n",
    "fig, ax = plt.subplots()\n",
    "im = ax.imshow(mapmatrix, cmap=RdPu_9.mpl_colormap)\n",
    "\n",
    "ax.set_xticks(np.arange(0, len(temps), 3))\n",
    "ax.set_yticks(np.arange(0, len(vpds), 3))\n",
    "ax.set_xticklabels(temps[np.arange(0, len(temps), 3)])\n",
    "ax.set_yticklabels(np.round(vpds,2)[np.arange(0, len(vpds), 3)])\n",
    "ax.set_xlabel('temperature (˚C)')\n",
    "ax.set_ylabel('vpd (kPa)')\n",
    "\n",
    "plt.savefig('tempvpd.eps', format='eps', dpi=1000)"
   ]
  },
  {
   "cell_type": "code",
   "execution_count": 168,
   "metadata": {},
   "outputs": [
    {
     "data": {
      "text/plain": [
       "array([ 0,  2,  4,  6,  8, 10, 12, 14, 16, 18, 20, 22, 24, 26, 28, 30, 32,\n",
       "       34])"
      ]
     },
     "execution_count": 168,
     "metadata": {},
     "output_type": "execute_result"
    }
   ],
   "source": [
    "temps"
   ]
  },
  {
   "cell_type": "code",
   "execution_count": 170,
   "metadata": {},
   "outputs": [
    {
     "data": {
      "text/plain": [
       "18"
      ]
     },
     "execution_count": 170,
     "metadata": {},
     "output_type": "execute_result"
    }
   ],
   "source": [
    "len(temps)"
   ]
  },
  {
   "cell_type": "code",
   "execution_count": 183,
   "metadata": {},
   "outputs": [
    {
     "data": {
      "text/plain": [
       "[Text(0,0,'3.5'),\n",
       " Text(0,0,'2.9'),\n",
       " Text(0,0,'2.3'),\n",
       " Text(0,0,'1.7'),\n",
       " Text(0,0,'1.1'),\n",
       " Text(0,0,'0.5')]"
      ]
     },
     "execution_count": 183,
     "metadata": {},
     "output_type": "execute_result"
    },
    {
     "data": {
      "image/png": "[encoded data removed]",
      "text/plain": [
       "<Figure size 432x288 with 1 Axes>"
      ]
     },
     "metadata": {},
     "output_type": "display_data"
    }
   ],
   "source": [
    "df_tvpd = pd.DataFrame({'temp': sitemean_temp,\n",
    "                        'vpd': sitemean_vpd})\n",
    "\n",
    "temps = np.arange(0, 35, 2)\n",
    "vpds = np.arange(3.5, 0, -0.2)\n",
    "mapmatrix = np.zeros((len(temps), len(vpds)))\n",
    "\n",
    "for i in np.arange(len(temps)-1):\n",
    "    # select temperature range first\n",
    "    df_t = df_tvpd[(df_tvpd.temp > temps[i]) & (df_tvpd.temp < temps[i+1])] \n",
    "    \n",
    "    for j in np.arange(len(vpds)-1):\n",
    "        # next select vpd range\n",
    "        df_v = df_t[(df_t.vpd < vpds[j]) & (df_t.vpd > vpds[j+1])]\n",
    "        # calcualte the number of sites that fall within this range and place into matrix\n",
    "        mapmatrix[j,i] = len(df_v)\n",
    "        \n",
    "fig, ax = plt.subplots()\n",
    "im = ax.imshow(mapmatrix, cmap='YlOrBr')\n",
    "ax.set_xticks(np.arange(0, len(temps), 3))\n",
    "ax.set_yticks(np.arange(0, len(vpds), 3))\n",
    "ax.set_xticklabels(temps[np.arange(0, len(temps), 3)])\n",
    "ax.set_yticklabels(np.round(vpds,2)[np.arange(0, len(vpds), 3)])"
   ]
  },
  {
   "cell_type": "code",
   "execution_count": 166,
   "metadata": {},
   "outputs": [
    {
     "data": {
      "text/plain": [
       "array([ 0,  2,  4,  6,  8, 10, 12, 14, 16, 18, 20, 22, 24, 26, 28, 30, 32,\n",
       "       34])"
      ]
     },
     "execution_count": 166,
     "metadata": {},
     "output_type": "execute_result"
    }
   ],
   "source": [
    "temps"
   ]
  },
  {
   "cell_type": "code",
   "execution_count": 167,
   "metadata": {},
   "outputs": [
    {
     "data": {
      "text/plain": [
       "array([3.5, 3.3, 3.1, 2.9, 2.7, 2.5, 2.3, 2.1, 1.9, 1.7, 1.5, 1.3, 1.1,\n",
       "       0.9, 0.7, 0.5, 0.3, 0.1])"
      ]
     },
     "execution_count": 167,
     "metadata": {},
     "output_type": "execute_result"
    }
   ],
   "source": [
    "vpds"
   ]
  },
  {
   "cell_type": "code",
   "execution_count": 47,
   "metadata": {},
   "outputs": [
    {
     "data": {
      "text/plain": [
       "<matplotlib.collections.PathCollection at 0x7f70081a4278>"
      ]
     },
     "execution_count": 47,
     "metadata": {},
     "output_type": "execute_result"
    },
    {
     "data": {
      "image/png": "[encoded data removed]",
      "text/plain": [
       "<Figure size 432x288 with 1 Axes>"
      ]
     },
     "metadata": {},
     "output_type": "display_data"
    }
   ],
   "source": [
    "vpd = CC(df_wea['temp'], df_wea['rh']*100)\n",
    "plt.scatter(df_wea['temp'], vpd)"
   ]
  },
  {
   "cell_type": "code",
   "execution_count": null,
   "metadata": {},
   "outputs": [],
   "source": [
    "test = pd.DataFrame(df_wea.temp, vpd)"
   ]
  },
  {
   "cell_type": "code",
   "execution_count": null,
   "metadata": {},
   "outputs": [],
   "source": []
  },
  {
   "cell_type": "code",
   "execution_count": null,
   "metadata": {},
   "outputs": [],
   "source": []
  },
  {
   "cell_type": "code",
   "execution_count": 57,
   "metadata": {},
   "outputs": [
    {
     "name": "stdout",
     "output_type": "stream",
     "text": [
      "-48.2\n",
      "50.0\n"
     ]
    }
   ],
   "source": [
    "print(df_wea.temp.min())\n",
    "print(df_wea.temp.max())"
   ]
  },
  {
   "cell_type": "code",
   "execution_count": 48,
   "metadata": {},
   "outputs": [
    {
     "data": {
      "image/png": "[encoded data removed]",
      "text/plain": [
       "<Figure size 432x288 with 1 Axes>"
      ]
     },
     "metadata": {},
     "output_type": "display_data"
    }
   ],
   "source": [
    "harvest = np.array([[0.8, 2.4, 2.5, 3.9, 0.0, 4.0, 0.0],\n",
    "                    [2.4, 0.0, 4.0, 1.0, 2.7, 0.0, 0.0],\n",
    "                    [1.1, 2.4, 0.8, 4.3, 1.9, 4.4, 0.0],\n",
    "                    [0.6, 0.0, 0.3, 0.0, 3.1, 0.0, 0.0],\n",
    "                    [0.7, 1.7, 0.6, 2.6, 2.2, 6.2, 0.0],\n",
    "                    [1.3, 1.2, 0.0, 0.0, 0.0, 3.2, 5.1],\n",
    "                    [0.1, 2.0, 0.0, 1.4, 0.0, 1.9, 6.3]])\n",
    "\n",
    "\n",
    "fig, ax = plt.subplots()\n",
    "im = ax.imshow(harvest)"
   ]
  },
  {
   "cell_type": "code",
   "execution_count": null,
   "metadata": {},
   "outputs": [],
   "source": []
  },
  {
   "cell_type": "code",
   "execution_count": null,
   "metadata": {},
   "outputs": [],
   "source": []
  },
  {
   "cell_type": "code",
   "execution_count": null,
   "metadata": {},
   "outputs": [],
   "source": []
  },
  {
   "cell_type": "code",
   "execution_count": null,
   "metadata": {},
   "outputs": [],
   "source": []
  },
  {
   "cell_type": "code",
   "execution_count": null,
   "metadata": {},
   "outputs": [],
   "source": []
  }
 ],
 "metadata": {
  "kernelspec": {
   "display_name": "Python 3",
   "language": "python",
   "name": "python3"
  },
  "language_info": {
   "codemirror_mode": {
    "name": "ipython",
    "version": 3
   },
   "file_extension": ".py",
   "mimetype": "text/x-python",
   "name": "python",
   "nbconvert_exporter": "python",
   "pygments_lexer": "ipython3",
   "version": "3.6.9"
  }
 },
 "nbformat": 4,
 "nbformat_minor": 2
}
