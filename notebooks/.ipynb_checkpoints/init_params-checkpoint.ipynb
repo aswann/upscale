{
 "cells": [
  {
   "cell_type": "markdown",
   "metadata": {},
   "source": [
    "## Parameter sampling for ensemble simulations\n",
    "This is a refined/revised effort to what has been done in init_var, <br/>\n",
    "which uses a LHS approach - assuming no correlation between parameters. <br/>\n",
    "After stats consulting, decided that this might not be the correct method to go about."
   ]
  },
  {
   "cell_type": "code",
   "execution_count": 1,
   "metadata": {},
   "outputs": [],
   "source": [
    "import pandas as pd\n",
    "import numpy as np\n",
    "import matplotlib.pyplot as plt\n",
    "import seaborn as sns\n",
    "\n",
    "from funcs import unfold, tup_convert"
   ]
  },
  {
   "cell_type": "markdown",
   "metadata": {},
   "source": [
    "### Step 1. Parameter choice\n",
    "    - juv_leaves: 15-25 (Padilla and Otegui, 2005)\n",
    "    - **staygreen: 3-8*** (still looking for a literature-based value)\n",
    "    - rmax_ltir: 0.978 (leaves/day) (Kim et al., 2012)\n",
    "    - rmax_ltar: 0.53 (leaves/day) (Kim et al., 2012)\n",
    "        - check out (Padilla and Otegui, 2005) for value range\n",
    "        - I'm thinking to have LTAR vary based on LTIR (e.g. LTAR = 0.5*LTIR)\n",
    "- Morphology\n",
    "    - LAF: leaf angle factor (1.37) \n",
    "    - LM_min: length characteristic of genotype (90cm) (Fournier and Andrieu, 1998)\n",
    "- Physiology\n",
    "    - vcm25: 60 µmol/m2s (von Caemmerer, 2000, Table 2)\n",
    "    - vpm25: 120 µmol/m2s (von Caemmerer, 2000, Table 2), 60 µmol/m2s (Kim et al., 2007, Table 4, Soo says don't use this, caveats in measurements)\n",
    "    - g1: 10.055 (Yang et el., 2009); 3.06-3.23 (BB model), 6.502-9.482 (BBL model (Miner et al., 2017 Table 1 )\n",
    "    - ref_potential: water stress sensitivity\n",
    "    - Topt: temperature sensitivity"
   ]
  },
  {
   "cell_type": "code",
   "execution_count": null,
   "metadata": {},
   "outputs": [],
   "source": []
  }
 ],
 "metadata": {
  "kernelspec": {
   "display_name": "Python [conda env:ideotype]",
   "language": "python",
   "name": "conda-env-ideotype-py"
  },
  "language_info": {
   "codemirror_mode": {
    "name": "ipython",
    "version": 3
   },
   "file_extension": ".py",
   "mimetype": "text/x-python",
   "name": "python",
   "nbconvert_exporter": "python",
   "pygments_lexer": "ipython3",
   "version": "3.8.5"
  }
 },
 "nbformat": 4,
 "nbformat_minor": 4
}
