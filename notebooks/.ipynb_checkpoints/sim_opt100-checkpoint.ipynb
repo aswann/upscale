{
 "cells": [
  {
   "cell_type": "markdown",
   "metadata": {},
   "source": [
    "## Analyzing outputs of 100 parameter sets ensemble simulaitons"
   ]
  },
  {
   "cell_type": "markdown",
   "metadata": {},
   "source": [
    "Analyzing the first batch of ensemble simulations. <br/>\n",
    "Simulation outputs stored: /home/disk/eos8/ach315/upscale/sims/opt"
   ]
  },
  {
   "cell_type": "code",
   "execution_count": 323,
   "metadata": {},
   "outputs": [],
   "source": [
    "import os\n",
    "import numpy as np\n",
    "import pandas as pd\n",
    "import matplotlib.path as mpath\n",
    "import matplotlib.pyplot as plt\n",
    "import glob\n",
    "import cartopy.crs as ccrs\n",
    "import cartopy.feature as cfeature\n",
    "import cartopy.io.shapereader as shpreader\n",
    "import xarray as xr\n",
    "import datetime\n",
    "import seaborn as sns"
   ]
  },
  {
   "cell_type": "markdown",
   "metadata": {},
   "source": [
    "### 1. Loading in parameter information"
   ]
  },
  {
   "cell_type": "code",
   "execution_count": 3,
   "metadata": {},
   "outputs": [
    {
     "data": {
      "text/html": [
       "<div>\n",
       "<style scoped>\n",
       "    .dataframe tbody tr th:only-of-type {\n",
       "        vertical-align: middle;\n",
       "    }\n",
       "\n",
       "    .dataframe tbody tr th {\n",
       "        vertical-align: top;\n",
       "    }\n",
       "\n",
       "    .dataframe thead th {\n",
       "        text-align: right;\n",
       "    }\n",
       "</style>\n",
       "<table border=\"1\" class=\"dataframe\">\n",
       "  <thead>\n",
       "    <tr style=\"text-align: right;\">\n",
       "      <th></th>\n",
       "      <th>staygreen</th>\n",
       "      <th>rmax_lir</th>\n",
       "      <th>rmax_ltar</th>\n",
       "      <th>juv_leaves</th>\n",
       "      <th>leaf_wid</th>\n",
       "      <th>WLRATIO</th>\n",
       "      <th>A_LW</th>\n",
       "      <th>LAF</th>\n",
       "      <th>f</th>\n",
       "      <th>scatt</th>\n",
       "      <th>vcm_25</th>\n",
       "      <th>vpm_25</th>\n",
       "      <th>g0</th>\n",
       "      <th>g1</th>\n",
       "      <th>t_opt</th>\n",
       "      <th>psi_threshold</th>\n",
       "    </tr>\n",
       "  </thead>\n",
       "  <tbody>\n",
       "    <tr>\n",
       "      <th>0</th>\n",
       "      <td>4.192327</td>\n",
       "      <td>0.170936</td>\n",
       "      <td>1.116221</td>\n",
       "      <td>19</td>\n",
       "      <td>0.060117</td>\n",
       "      <td>1.578166</td>\n",
       "      <td>0.578437</td>\n",
       "      <td>1.082704</td>\n",
       "      <td>0.374039</td>\n",
       "      <td>0.799075</td>\n",
       "      <td>41.453395</td>\n",
       "      <td>63.020343</td>\n",
       "      <td>0.050014</td>\n",
       "      <td>4.262101</td>\n",
       "      <td>23.156285</td>\n",
       "      <td>-3.209627</td>\n",
       "    </tr>\n",
       "    <tr>\n",
       "      <th>1</th>\n",
       "      <td>5.085099</td>\n",
       "      <td>0.458642</td>\n",
       "      <td>0.532489</td>\n",
       "      <td>13</td>\n",
       "      <td>0.053712</td>\n",
       "      <td>1.593230</td>\n",
       "      <td>0.944650</td>\n",
       "      <td>2.500608</td>\n",
       "      <td>0.084047</td>\n",
       "      <td>0.638286</td>\n",
       "      <td>55.254491</td>\n",
       "      <td>76.360963</td>\n",
       "      <td>0.045041</td>\n",
       "      <td>9.476365</td>\n",
       "      <td>21.452484</td>\n",
       "      <td>-4.528151</td>\n",
       "    </tr>\n",
       "    <tr>\n",
       "      <th>2</th>\n",
       "      <td>5.462802</td>\n",
       "      <td>0.409265</td>\n",
       "      <td>1.126607</td>\n",
       "      <td>19</td>\n",
       "      <td>0.055231</td>\n",
       "      <td>1.452949</td>\n",
       "      <td>0.615309</td>\n",
       "      <td>1.305084</td>\n",
       "      <td>0.209307</td>\n",
       "      <td>0.547004</td>\n",
       "      <td>40.314858</td>\n",
       "      <td>68.638982</td>\n",
       "      <td>0.071773</td>\n",
       "      <td>3.290494</td>\n",
       "      <td>25.081642</td>\n",
       "      <td>-1.387541</td>\n",
       "    </tr>\n",
       "    <tr>\n",
       "      <th>3</th>\n",
       "      <td>2.468920</td>\n",
       "      <td>0.159873</td>\n",
       "      <td>0.209975</td>\n",
       "      <td>14</td>\n",
       "      <td>0.021548</td>\n",
       "      <td>1.951003</td>\n",
       "      <td>0.603160</td>\n",
       "      <td>1.430029</td>\n",
       "      <td>0.198690</td>\n",
       "      <td>0.216546</td>\n",
       "      <td>53.057031</td>\n",
       "      <td>71.797256</td>\n",
       "      <td>0.102321</td>\n",
       "      <td>3.169339</td>\n",
       "      <td>26.865773</td>\n",
       "      <td>-3.101738</td>\n",
       "    </tr>\n",
       "    <tr>\n",
       "      <th>4</th>\n",
       "      <td>2.217561</td>\n",
       "      <td>0.478633</td>\n",
       "      <td>0.463970</td>\n",
       "      <td>16</td>\n",
       "      <td>0.045654</td>\n",
       "      <td>1.027741</td>\n",
       "      <td>0.790700</td>\n",
       "      <td>1.147568</td>\n",
       "      <td>0.793187</td>\n",
       "      <td>0.582211</td>\n",
       "      <td>50.710891</td>\n",
       "      <td>78.179130</td>\n",
       "      <td>0.099021</td>\n",
       "      <td>6.539257</td>\n",
       "      <td>27.086055</td>\n",
       "      <td>-1.328671</td>\n",
       "    </tr>\n",
       "  </tbody>\n",
       "</table>\n",
       "</div>"
      ],
      "text/plain": [
       "   staygreen  rmax_lir  rmax_ltar  juv_leaves  leaf_wid   WLRATIO      A_LW  \\\n",
       "0   4.192327  0.170936   1.116221          19  0.060117  1.578166  0.578437   \n",
       "1   5.085099  0.458642   0.532489          13  0.053712  1.593230  0.944650   \n",
       "2   5.462802  0.409265   1.126607          19  0.055231  1.452949  0.615309   \n",
       "3   2.468920  0.159873   0.209975          14  0.021548  1.951003  0.603160   \n",
       "4   2.217561  0.478633   0.463970          16  0.045654  1.027741  0.790700   \n",
       "\n",
       "        LAF         f     scatt     vcm_25     vpm_25        g0        g1  \\\n",
       "0  1.082704  0.374039  0.799075  41.453395  63.020343  0.050014  4.262101   \n",
       "1  2.500608  0.084047  0.638286  55.254491  76.360963  0.045041  9.476365   \n",
       "2  1.305084  0.209307  0.547004  40.314858  68.638982  0.071773  3.290494   \n",
       "3  1.430029  0.198690  0.216546  53.057031  71.797256  0.102321  3.169339   \n",
       "4  1.147568  0.793187  0.582211  50.710891  78.179130  0.099021  6.539257   \n",
       "\n",
       "       t_opt  psi_threshold  \n",
       "0  23.156285      -3.209627  \n",
       "1  21.452484      -4.528151  \n",
       "2  25.081642      -1.387541  \n",
       "3  26.865773      -3.101738  \n",
       "4  27.086055      -1.328671  "
      ]
     },
     "execution_count": 3,
     "metadata": {},
     "output_type": "execute_result"
    }
   ],
   "source": [
    "params = pd.read_csv('/home/disk/eos8/ach315/upscale/inits/param_100.csv')\n",
    "params.head()"
   ]
  },
  {
   "cell_type": "markdown",
   "metadata": {},
   "source": [
    "### 2. Setting up xarray infrastructure to hold data"
   ]
  },
  {
   "cell_type": "code",
   "execution_count": 6,
   "metadata": {},
   "outputs": [
    {
     "data": {
      "text/html": [
       "<div>\n",
       "<style scoped>\n",
       "    .dataframe tbody tr th:only-of-type {\n",
       "        vertical-align: middle;\n",
       "    }\n",
       "\n",
       "    .dataframe tbody tr th {\n",
       "        vertical-align: top;\n",
       "    }\n",
       "\n",
       "    .dataframe thead th {\n",
       "        text-align: right;\n",
       "    }\n",
       "</style>\n",
       "<table border=\"1\" class=\"dataframe\">\n",
       "  <thead>\n",
       "    <tr style=\"text-align: right;\">\n",
       "      <th></th>\n",
       "      <th>site</th>\n",
       "      <th>city</th>\n",
       "      <th>state</th>\n",
       "      <th>lat</th>\n",
       "      <th>lon</th>\n",
       "    </tr>\n",
       "  </thead>\n",
       "  <tbody>\n",
       "    <tr>\n",
       "      <th>0</th>\n",
       "      <td>03103</td>\n",
       "      <td>FLAGSTAFF</td>\n",
       "      <td>AZ</td>\n",
       "      <td>35.08</td>\n",
       "      <td>111.4</td>\n",
       "    </tr>\n",
       "    <tr>\n",
       "      <th>1</th>\n",
       "      <td>03812</td>\n",
       "      <td>ASHEVILLE</td>\n",
       "      <td>NC</td>\n",
       "      <td>35.26</td>\n",
       "      <td>82.32</td>\n",
       "    </tr>\n",
       "    <tr>\n",
       "      <th>2</th>\n",
       "      <td>03813</td>\n",
       "      <td>MACON</td>\n",
       "      <td>GA</td>\n",
       "      <td>32.42</td>\n",
       "      <td>83.39</td>\n",
       "    </tr>\n",
       "    <tr>\n",
       "      <th>3</th>\n",
       "      <td>03820</td>\n",
       "      <td>AUGUSTA</td>\n",
       "      <td>GA</td>\n",
       "      <td>33.22</td>\n",
       "      <td>81.58</td>\n",
       "    </tr>\n",
       "    <tr>\n",
       "      <th>4</th>\n",
       "      <td>03822</td>\n",
       "      <td>SAVANNAH</td>\n",
       "      <td>GA</td>\n",
       "      <td>32.08</td>\n",
       "      <td>81.12</td>\n",
       "    </tr>\n",
       "  </tbody>\n",
       "</table>\n",
       "</div>"
      ],
      "text/plain": [
       "    site                    city state    lat    lon\n",
       "0  03103  FLAGSTAFF                 AZ  35.08  111.4\n",
       "1  03812  ASHEVILLE                 NC  35.26  82.32\n",
       "2  03813  MACON                     GA  32.42  83.39\n",
       "3  03820  AUGUSTA                   GA  33.22  81.58\n",
       "4  03822  SAVANNAH                  GA  32.08  81.12"
      ]
     },
     "execution_count": 6,
     "metadata": {},
     "output_type": "execute_result"
    }
   ],
   "source": [
    "df_siteinfo = pd.read_csv(\"/home/disk/eos8/ach315/upscale/weadata/site_info.csv\", index_col=0, dtype=str)\n",
    "df_siteinfo.head()"
   ]
  },
  {
   "cell_type": "code",
   "execution_count": 11,
   "metadata": {},
   "outputs": [],
   "source": [
    "sites = df_siteinfo.site\n",
    "lat = df_siteinfo.lat\n",
    "lon = df_siteinfo.lon\n",
    "years = np.arange(1961,1991)\n",
    "cultivars = np.arange(1,101)"
   ]
  },
  {
   "cell_type": "code",
   "execution_count": null,
   "metadata": {},
   "outputs": [],
   "source": [
    "ds = xr.Dataset()"
   ]
  },
  {
   "cell_type": "markdown",
   "metadata": {},
   "source": [
    "### 3. Reading in simulation outputs"
   ]
  },
  {
   "cell_type": "markdown",
   "metadata": {},
   "source": [
    "Thoughts: <br/>\n",
    "Maybe I can create several pandas files that have sites as columns and time as rows. <br/>\n",
    "I'll create 100 of these for all the cultivars. <br/>\n",
    "I'll then use 'numpy.dstack' to stack all these 2d dataframes into a 3d matrix. <br/>\n",
    "I'll then use this 3d matrix as the data input for xarray."
   ]
  },
  {
   "cell_type": "code",
   "execution_count": 53,
   "metadata": {},
   "outputs": [],
   "source": [
    "def get_filelist(path):\n",
    "    '''\n",
    "    For the given path, get the List of all files in the directory tree\n",
    "    including those in subdirectories\n",
    "    '''\n",
    "    # create a list of file and sub directories names in the given directory \n",
    "    filelist = os.scandir(path)\n",
    "    allfiles = list()\n",
    "    # iterate over all the entries\n",
    "    for entry in filelist:\n",
    "        # create full path\n",
    "        fullpath = os.path.join(path, entry)\n",
    "        # if entry is a directory then get the list of files in this directory \n",
    "        if os.path.isdir(fullpath):\n",
    "            allfiles = allfiles + get_filelist(fullpath)\n",
    "        else:\n",
    "            allfiles.append(fullpath)\n",
    "    return allfiles"
   ]
  },
  {
   "cell_type": "code",
   "execution_count": 62,
   "metadata": {},
   "outputs": [
    {
     "name": "stdout",
     "output_type": "stream",
     "text": [
      "CPU times: user 4.35 s, sys: 9.43 s, total: 13.8 s\n",
      "Wall time: 25.5 s\n"
     ]
    }
   ],
   "source": [
    "%%time\n",
    "filelist = get_filelist('/home/disk/eos8/ach315/upscale/sims/opt/')"
   ]
  },
  {
   "cell_type": "code",
   "execution_count": 63,
   "metadata": {},
   "outputs": [
    {
     "data": {
      "text/plain": [
       "212132"
      ]
     },
     "execution_count": 63,
     "metadata": {},
     "output_type": "execute_result"
    }
   ],
   "source": [
    "len(filelist)"
   ]
  },
  {
   "cell_type": "code",
   "execution_count": 56,
   "metadata": {},
   "outputs": [
    {
     "name": "stdout",
     "output_type": "stream",
     "text": [
      "08/08/1961, 22501,       5,   19.91,      19,      12,  1781.77,  2862.58,    1.78,   93.31, -1.5000,    0.00,    0.00,   22.46,   21.10,    -nan,      -nan,     0.110, -0.0316,  0.0000,  0.0378,  0.0000,       0.000,       1.782,        0.00,        0.00,     -1.6427,     -1.6427,      0.0000,      0.0000,        -nan,        -nan,    0.167,    0.4418,    0.8909,    1.2202,    0.0486,    0.0000,  51.112,   7.005,    0.00,    4.87,    4.48,    2.14,  44.106,  44.214,     0.0,       0.000,    0.04,           \"Matured\"\n",
      "\n"
     ]
    }
   ],
   "source": [
    "f = open('/home/disk/eos8/ach315/upscale/sims/opt/1961/var_0/out1_03813_1961_var_0.txt')\n",
    "flines = f.readlines()\n",
    "print(flines[-1])"
   ]
  },
  {
   "cell_type": "code",
   "execution_count": 57,
   "metadata": {},
   "outputs": [],
   "source": [
    "test = pd.read_csv('/home/disk/eos8/ach315/upscale/sims/opt/1961/var_0/out1_03813_1961_var_0.txt')"
   ]
  },
  {
   "cell_type": "code",
   "execution_count": 178,
   "metadata": {},
   "outputs": [],
   "source": [
    "test = [value.strip() for value in flines[-1].split(',')]"
   ]
  },
  {
   "cell_type": "code",
   "execution_count": 64,
   "metadata": {},
   "outputs": [],
   "source": [
    "# manual update of maizsim output column name\n",
    "cols = ['jday', 'time', 'leaves', 'mature_lvs', 'drop_lvs', 'LA', 'LA_dead', 'LAI', 'RH', \n",
    "        'leaf_WP', 'PFD', 'solrad', 'temp_soil', 'temp_air', 'temp_can', 'ET_dmd', 'ET_suply',\n",
    "        'Pn', 'Pg', 'resp', 'av_gs', 'LAI_sunlit', 'LAI_shaded', 'PFD_sunlit', 'PFD_shaded', \n",
    "        'An_sunlit', 'An_shaded', 'Ag_sunlit', 'Ag_shaded', 'gs_sunlit', 'gs_shaded', 'VPD',\n",
    "        'N', 'N_dmd', 'N_upt', 'N_leaf', 'PCRL', 'dm_total', 'dm_shoot', 'dm_ear', 'dm_totleaf', 'dm_dropleaf', \n",
    "        'df_stem', 'df_root', 'roil_rt', 'mx_rootdept', 'available_water', 'soluble_c', 'note']"
   ]
  },
  {
   "cell_type": "code",
   "execution_count": 397,
   "metadata": {},
   "outputs": [
    {
     "name": "stdout",
     "output_type": "stream",
     "text": [
      "/home/disk/eos8/ach315/upscale/sims/opt/1985/var_97/out1_24156_1985_var_97.txt\n",
      "CPU times: user 36.5 s, sys: 20.5 s, total: 57 s\n",
      "Wall time: 10min 57s\n"
     ]
    }
   ],
   "source": [
    "%%time\n",
    "\n",
    "years = []\n",
    "cvars = []\n",
    "sites = []\n",
    "biomass = []\n",
    "ears = []\n",
    "devstage = []\n",
    "\n",
    "files = filelist[:]\n",
    "\n",
    "for file in files:\n",
    "    # extrating basic file info\n",
    "    year = file.split('/')[-3]\n",
    "    site = file.split('/')[-1].split('_')[1]\n",
    "    var = file.split('/')[-1].split('_')[-1].split('.')[0]\n",
    "    \n",
    "    # reading in file and setting up structure\n",
    "    try:\n",
    "        with open(file, 'r') as f:\n",
    "            f.seek(0, os.SEEK_END)\n",
    "            f.seek(f.tell() - 3000, os.SEEK_SET) # reading in the last few lines\n",
    "            for line in f:\n",
    "                f_content = f.readlines()\n",
    "                \n",
    "        stage = f_content[-1].split(',')[-1].strip() # selecting last line - end point of simulation\n",
    "        ear = float(f_content[-1].split(',')[-10]) # ear\n",
    "        mass = float(f_content[-1].split(',')[-12]) # total biomass\n",
    "    \n",
    "        # compiling info\n",
    "        years.append(year)\n",
    "        cvars.append(var)\n",
    "        sites.append(site)\n",
    "        biomass.append(mass)\n",
    "        ears.append(ear)\n",
    "        devstage.append(stage)\n",
    "        \n",
    "    except:\n",
    "        print(file)"
   ]
  },
  {
   "cell_type": "code",
   "execution_count": 401,
   "metadata": {},
   "outputs": [],
   "source": [
    "sims_6190 = pd.DataFrame({'year': years,\n",
    "                          'cultivar': cvars,\n",
    "                          'site': sites,\n",
    "                          'biomass': biomass,\n",
    "                          'ear': ears,\n",
    "                          'devstage': devstage})\n",
    "sims_6190.to_csv('/home/disk/eos8/ach315/upscale/test/sims_6190.txt')"
   ]
  },
  {
   "cell_type": "code",
   "execution_count": 404,
   "metadata": {},
   "outputs": [
    {
     "data": {
      "text/html": [
       "<div>\n",
       "<style scoped>\n",
       "    .dataframe tbody tr th:only-of-type {\n",
       "        vertical-align: middle;\n",
       "    }\n",
       "\n",
       "    .dataframe tbody tr th {\n",
       "        vertical-align: top;\n",
       "    }\n",
       "\n",
       "    .dataframe thead th {\n",
       "        text-align: right;\n",
       "    }\n",
       "</style>\n",
       "<table border=\"1\" class=\"dataframe\">\n",
       "  <thead>\n",
       "    <tr style=\"text-align: right;\">\n",
       "      <th></th>\n",
       "      <th>year</th>\n",
       "      <th>cultivar</th>\n",
       "      <th>site</th>\n",
       "      <th>biomass</th>\n",
       "      <th>ear</th>\n",
       "      <th>devstage</th>\n",
       "    </tr>\n",
       "  </thead>\n",
       "  <tbody>\n",
       "    <tr>\n",
       "      <th>0</th>\n",
       "      <td>1961</td>\n",
       "      <td>0</td>\n",
       "      <td>3813</td>\n",
       "      <td>51.112</td>\n",
       "      <td>0.0</td>\n",
       "      <td>\"Matured\"</td>\n",
       "    </tr>\n",
       "    <tr>\n",
       "      <th>1</th>\n",
       "      <td>1961</td>\n",
       "      <td>0</td>\n",
       "      <td>3820</td>\n",
       "      <td>47.734</td>\n",
       "      <td>0.0</td>\n",
       "      <td>\"Matured\"</td>\n",
       "    </tr>\n",
       "    <tr>\n",
       "      <th>2</th>\n",
       "      <td>1961</td>\n",
       "      <td>0</td>\n",
       "      <td>3822</td>\n",
       "      <td>50.049</td>\n",
       "      <td>0.0</td>\n",
       "      <td>\"Matured\"</td>\n",
       "    </tr>\n",
       "    <tr>\n",
       "      <th>3</th>\n",
       "      <td>1961</td>\n",
       "      <td>0</td>\n",
       "      <td>3856</td>\n",
       "      <td>47.845</td>\n",
       "      <td>0.0</td>\n",
       "      <td>\"Emerged\"</td>\n",
       "    </tr>\n",
       "    <tr>\n",
       "      <th>4</th>\n",
       "      <td>1961</td>\n",
       "      <td>0</td>\n",
       "      <td>3928</td>\n",
       "      <td>50.218</td>\n",
       "      <td>0.0</td>\n",
       "      <td>\"Emerged\"</td>\n",
       "    </tr>\n",
       "  </tbody>\n",
       "</table>\n",
       "</div>"
      ],
      "text/plain": [
       "   year  cultivar  site  biomass  ear   devstage\n",
       "0  1961         0  3813   51.112  0.0  \"Matured\"\n",
       "1  1961         0  3820   47.734  0.0  \"Matured\"\n",
       "2  1961         0  3822   50.049  0.0  \"Matured\"\n",
       "3  1961         0  3856   47.845  0.0  \"Emerged\"\n",
       "4  1961         0  3928   50.218  0.0  \"Emerged\""
      ]
     },
     "execution_count": 404,
     "metadata": {},
     "output_type": "execute_result"
    }
   ],
   "source": [
    "test = pd.read_csv('/home/disk/eos8/ach315/upscale/test/sims_6190.txt', index_col=0)\n",
    "test.head()"
   ]
  },
  {
   "cell_type": "code",
   "execution_count": 474,
   "metadata": {},
   "outputs": [
    {
     "data": {
      "text/plain": [
       "[<matplotlib.lines.Line2D at 0x7f28711de2b0>]"
      ]
     },
     "execution_count": 474,
     "metadata": {},
     "output_type": "execute_result"
    },
    {
     "data": {
      "image/png": "[encoded data removed]",
      "text/plain": [
       "<Figure size 432x288 with 1 Axes>"
      ]
     },
     "metadata": {
      "needs_background": "light"
     },
     "output_type": "display_data"
    }
   ],
   "source": [
    "mean_biomass = []\n",
    "for i in np.arange(0,100):\n",
    "    biomass = test[(test.cultivar == i) & (test.devstage == '\"Matured\"')].biomass.mean()\n",
    "    mean_biomass.append(biomass)\n",
    "\n",
    "plt.plot(mean_biomass)"
   ]
  },
  {
   "cell_type": "code",
   "execution_count": null,
   "metadata": {},
   "outputs": [],
   "source": [
    "mean_biomss.head()"
   ]
  },
  {
   "cell_type": "code",
   "execution_count": 475,
   "metadata": {},
   "outputs": [
    {
     "data": {
      "text/plain": [
       "[<matplotlib.lines.Line2D at 0x7f28711b7fd0>]"
      ]
     },
     "execution_count": 475,
     "metadata": {},
     "output_type": "execute_result"
    },
    {
     "data": {
      "image/png": "[encoded data removed]",
      "text/plain": [
       "<Figure size 432x288 with 1 Axes>"
      ]
     },
     "metadata": {
      "needs_background": "light"
     },
     "output_type": "display_data"
    }
   ],
   "source": [
    "mean_ear = []\n",
    "for i in np.arange(0,100):\n",
    "    ear = test[(test.cultivar == i) & (test.devstage == '\"Matured\"')].ear.mean()\n",
    "    mean_ear.append(ear)\n",
    "\n",
    "plt.plot(mean_ear)"
   ]
  },
  {
   "cell_type": "code",
   "execution_count": 483,
   "metadata": {},
   "outputs": [
    {
     "data": {
      "text/plain": [
       "0.35899043515563495"
      ]
     },
     "execution_count": 483,
     "metadata": {},
     "output_type": "execute_result"
    }
   ],
   "source": [
    "test[test.devstage=='\"Matured\"'].shape[0]/test.shape[0]"
   ]
  },
  {
   "cell_type": "code",
   "execution_count": 481,
   "metadata": {},
   "outputs": [
    {
     "data": {
      "text/plain": [
       "76153"
      ]
     },
     "execution_count": 481,
     "metadata": {},
     "output_type": "execute_result"
    }
   ],
   "source": []
  },
  {
   "cell_type": "code",
   "execution_count": null,
   "metadata": {},
   "outputs": [],
   "source": []
  },
  {
   "cell_type": "code",
   "execution_count": null,
   "metadata": {},
   "outputs": [],
   "source": []
  },
  {
   "cell_type": "code",
   "execution_count": 419,
   "metadata": {},
   "outputs": [
    {
     "data": {
      "text/plain": [
       "[<matplotlib.lines.Line2D at 0x7f28794dec50>]"
      ]
     },
     "execution_count": 419,
     "metadata": {},
     "output_type": "execute_result"
    },
    {
     "data": {
      "image/png": "[encoded data removed]",
      "text/plain": [
       "<Figure size 432x288 with 1 Axes>"
      ]
     },
     "metadata": {
      "needs_background": "light"
     },
     "output_type": "display_data"
    }
   ],
   "source": [
    "plt.plot(test[taest.biomass < 10000].biomass)"
   ]
  },
  {
   "cell_type": "code",
   "execution_count": 407,
   "metadata": {},
   "outputs": [
    {
     "data": {
      "text/plain": [
       "[<matplotlib.lines.Line2D at 0x7f2874970128>]"
      ]
     },
     "execution_count": 407,
     "metadata": {},
     "output_type": "execute_result"
    },
    {
     "data": {
      "image/png": "[encoded data removed]",
      "text/plain": [
       "<Figure size 432x288 with 1 Axes>"
      ]
     },
     "metadata": {
      "needs_background": "light"
     },
     "output_type": "display_data"
    }
   ],
   "source": [
    "test.biomass"
   ]
  },
  {
   "cell_type": "code",
   "execution_count": null,
   "metadata": {},
   "outputs": [],
   "source": []
  },
  {
   "cell_type": "code",
   "execution_count": 365,
   "metadata": {},
   "outputs": [],
   "source": [
    "# in order to read in file as text file, must use a bit more lines of code\n",
    "file_to_read = '/home/disk/eos8/ach315/upscale/sims/opt/1965/var_90/out1_13722_1965_var_90.txt'\n",
    "with open(file_to_read, 'r') as f:\n",
    "    f.seek(0, os.SEEK_END)\n",
    "    f.seek(f.tell() - 3000, os.SEEK_SET) # reading in the last few lines\n",
    "    for line in f:\n",
    "        f_content = f.readlines()\n",
    "\n",
    "sim_end = f_content[-1] # selecting last line - end point of simulation"
   ]
  },
  {
   "cell_type": "code",
   "execution_count": 378,
   "metadata": {},
   "outputs": [
    {
     "name": "stdout",
     "output_type": "stream",
     "text": [
      "15.28\n",
      "197.197\n",
      "\"Matured\"\n"
     ]
    }
   ],
   "source": [
    "print(float(sim_end.split(',')[-10])) # ear\n",
    "print(float(sim_end.split(',')[-12])) # total biomass\n",
    "print(sim_end.split(',')[-1].strip()) # total biomass"
   ]
  },
  {
   "cell_type": "code",
   "execution_count": null,
   "metadata": {},
   "outputs": [],
   "source": []
  },
  {
   "cell_type": "code",
   "execution_count": null,
   "metadata": {},
   "outputs": [],
   "source": []
  },
  {
   "cell_type": "code",
   "execution_count": 121,
   "metadata": {},
   "outputs": [
    {
     "data": {
      "text/plain": [
       "[<matplotlib.lines.Line2D at 0x7f28874482e8>]"
      ]
     },
     "execution_count": 121,
     "metadata": {},
     "output_type": "execute_result"
    },
    {
     "data": {
      "image/png": "[encoded data removed]",
      "text/plain": [
       "<Figure size 432x288 with 1 Axes>"
      ]
     },
     "metadata": {
      "needs_background": "light"
     },
     "output_type": "display_data"
    }
   ],
   "source": [
    "plt.plot(test.ear)"
   ]
  },
  {
   "cell_type": "code",
   "execution_count": null,
   "metadata": {},
   "outputs": [],
   "source": []
  },
  {
   "cell_type": "code",
   "execution_count": null,
   "metadata": {},
   "outputs": [],
   "source": []
  }
 ],
 "metadata": {
  "kernelspec": {
   "display_name": "Python 3",
   "language": "python",
   "name": "python3"
  },
  "language_info": {
   "codemirror_mode": {
    "name": "ipython",
    "version": 3
   },
   "file_extension": ".py",
   "mimetype": "text/x-python",
   "name": "python",
   "nbconvert_exporter": "python",
   "pygments_lexer": "ipython3",
   "version": "3.6.10"
  }
 },
 "nbformat": 4,
 "nbformat_minor": 4
}
