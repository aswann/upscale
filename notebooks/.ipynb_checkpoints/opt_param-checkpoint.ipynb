{
 "cells": [
  {
   "cell_type": "markdown",
   "metadata": {},
   "source": [
    "## Workflow to generate ensemble parameter combinations"
   ]
  },
  {
   "cell_type": "markdown",
   "metadata": {},
   "source": [
    "This is specifically for the cultivar file"
   ]
  },
  {
   "cell_type": "code",
   "execution_count": null,
   "metadata": {},
   "outputs": [],
   "source": [
    "# this loads previoulsy stored environment\n",
    "import dill\n",
    "dill.load_session('opt_param_env.db')"
   ]
  },
  {
   "cell_type": "code",
   "execution_count": 37,
   "metadata": {},
   "outputs": [],
   "source": [
    "# Load in necessary packages\n",
    "import os\n",
    "import pandas as pd\n",
    "import numpy as np\n",
    "import glob as glob\n",
    "import datetime\n",
    "import matplotlib.pyplot as plt\n",
    "import seaborn as sns\n",
    "\n",
    "from pyDOE import *\n",
    "\n",
    "# personal functions\n",
    "from funcs import unfold, tup_convert"
   ]
  },
  {
   "cell_type": "markdown",
   "metadata": {},
   "source": [
    "### 1. Create dataframe with all parameters"
   ]
  },
  {
   "cell_type": "markdown",
   "metadata": {},
   "source": [
    "* phenology\n",
    "    - staygreen *\n",
    "    - juv_leaves *\n",
    "    - maxElongRate: max elongation rate at optimal temperature (12 cm/day)\n",
    "    - rmax_lir: max leaf initation rate (leaves/day) *\n",
    "    - rmax_ltar: max leaf tip appearance rate (leaves/day) *\n",
    "* morphology\n",
    "    - LAF: leaf angle factor for corn leaves (1.37)\n",
    "    - f: spectral correction (0.15) *\n",
    "    - scatt: leaf reflectance and transmittance (0.15) *\n",
    "    - leaf_wid: leaf width (0.05 m) *\n",
    "    - WLRARIO: leaf width to length ratio (0.106)\n",
    "    - A_LW: leaf area coefficient with respect to LxW (0.75)\n",
    "* physiology\n",
    "    - vcm25: *\n",
    "    - vpm25: *\n",
    "    - g0: *\n",
    "    - g1: *\n",
    "    - t_opt: \n",
    "* water stress\n",
    "    - psi_threshold: "
   ]
  },
  {
   "cell_type": "code",
   "execution_count": 38,
   "metadata": {},
   "outputs": [],
   "source": [
    "# genetic parameter list\n",
    "params = ['g0', 'g1', 'shootPart', 'rootPart', 'Vpmax', 'T_opt', 'psi_threshold', # physiology          \n",
    "          'stayGreen', 'max_ElongRate', 'rmax_ltar', 'juv_leaves', # phenology\n",
    "          'LAF', 'leaf_width', 'A_LW', 'LM_min'] # morphology\n"
   ]
  },
  {
   "cell_type": "markdown",
   "metadata": {},
   "source": [
    "#### ensemble paramter range"
   ]
  },
  {
   "cell_type": "code",
   "execution_count": 4,
   "metadata": {},
   "outputs": [],
   "source": [
    "# 200228: range of these parameters still need to be checked/updated\n",
    "param_range = {'staygreen':[1,6],\n",
    "               'rmax_lir': [0.1, 0.5],\n",
    "               'rmax_ltar': [0.1, 1.5],\n",
    "               'juv_leaves': [12, 20],\n",
    "               'leaf_wid': [0.02, 0.08],\n",
    "               'WLRATIO': [1, 2],\n",
    "               'A_LW': [0.5, 1],\n",
    "               'LAF': [1, 3],\n",
    "               'f': [0, 1],\n",
    "               'scatt': [0, 1],\n",
    "               'vcm_25': [40, 60],\n",
    "               'vpm_25': [60, 80],\n",
    "               'g0': [0.02, 0.16], # loosely based these ranges on \n",
    "               'g1': [1, 10],      # Miner et al., 2017\n",
    "               't_opt': [20, 28],\n",
    "               'psi_threshold': [-5, -1]}"
   ]
  },
  {
   "cell_type": "markdown",
   "metadata": {},
   "source": [
    "### 2. Use Latin hypercube to find parameter combinations"
   ]
  },
  {
   "cell_type": "markdown",
   "metadata": {},
   "source": [
    "info on this method here: https://pythonhosted.org/pyDOE/randomized.html"
   ]
  },
  {
   "cell_type": "code",
   "execution_count": 35,
   "metadata": {},
   "outputs": [],
   "source": [
    "# only execute this cell once\n",
    "# if the above cell is executed again, everything will be randomized again\n",
    "\n",
    "#sample = lhs(len(params), samples=100)\n",
    "#df_params = pd.DataFrame(sample, columns=params)\n",
    "\n",
    "#df_parameters = pd.DataFrame()\n",
    "#for i in params: \n",
    "#    df_parameters[i] = unfold(df_params[i], param_range[i][0], param_range[i][1])\n",
    "#df_parameters.juv_leaves = [round(x) for x in df_parameters.juv_leaves]\n",
    "#df_parameters.to_csv('/home/disk/eos8/ach315/upscale/inits/param_100.csv', index=False)"
   ]
  },
  {
   "cell_type": "code",
   "execution_count": 49,
   "metadata": {},
   "outputs": [
    {
     "data": {
      "text/html": [
       "<div>\n",
       "<style scoped>\n",
       "    .dataframe tbody tr th:only-of-type {\n",
       "        vertical-align: middle;\n",
       "    }\n",
       "\n",
       "    .dataframe tbody tr th {\n",
       "        vertical-align: top;\n",
       "    }\n",
       "\n",
       "    .dataframe thead th {\n",
       "        text-align: right;\n",
       "    }\n",
       "</style>\n",
       "<table border=\"1\" class=\"dataframe\">\n",
       "  <thead>\n",
       "    <tr style=\"text-align: right;\">\n",
       "      <th></th>\n",
       "      <th>staygreen</th>\n",
       "      <th>rmax_lir</th>\n",
       "      <th>rmax_ltar</th>\n",
       "      <th>juv_leaves</th>\n",
       "      <th>leaf_wid</th>\n",
       "      <th>WLRATIO</th>\n",
       "      <th>A_LW</th>\n",
       "      <th>LAF</th>\n",
       "      <th>f</th>\n",
       "      <th>scatt</th>\n",
       "      <th>vcm_25</th>\n",
       "      <th>vpm_25</th>\n",
       "      <th>g0</th>\n",
       "      <th>g1</th>\n",
       "      <th>t_opt</th>\n",
       "      <th>psi_threshold</th>\n",
       "    </tr>\n",
       "  </thead>\n",
       "  <tbody>\n",
       "    <tr>\n",
       "      <td>0</td>\n",
       "      <td>4.192327</td>\n",
       "      <td>0.170936</td>\n",
       "      <td>1.116221</td>\n",
       "      <td>19</td>\n",
       "      <td>0.060117</td>\n",
       "      <td>1.578166</td>\n",
       "      <td>0.578437</td>\n",
       "      <td>1.082704</td>\n",
       "      <td>0.374039</td>\n",
       "      <td>0.799075</td>\n",
       "      <td>41.453395</td>\n",
       "      <td>63.020343</td>\n",
       "      <td>0.050014</td>\n",
       "      <td>4.262101</td>\n",
       "      <td>23.156285</td>\n",
       "      <td>-3.209627</td>\n",
       "    </tr>\n",
       "    <tr>\n",
       "      <td>1</td>\n",
       "      <td>5.085099</td>\n",
       "      <td>0.458642</td>\n",
       "      <td>0.532489</td>\n",
       "      <td>13</td>\n",
       "      <td>0.053712</td>\n",
       "      <td>1.593230</td>\n",
       "      <td>0.944650</td>\n",
       "      <td>2.500608</td>\n",
       "      <td>0.084047</td>\n",
       "      <td>0.638286</td>\n",
       "      <td>55.254491</td>\n",
       "      <td>76.360963</td>\n",
       "      <td>0.045041</td>\n",
       "      <td>9.476365</td>\n",
       "      <td>21.452484</td>\n",
       "      <td>-4.528151</td>\n",
       "    </tr>\n",
       "    <tr>\n",
       "      <td>2</td>\n",
       "      <td>5.462802</td>\n",
       "      <td>0.409265</td>\n",
       "      <td>1.126607</td>\n",
       "      <td>19</td>\n",
       "      <td>0.055231</td>\n",
       "      <td>1.452949</td>\n",
       "      <td>0.615309</td>\n",
       "      <td>1.305084</td>\n",
       "      <td>0.209307</td>\n",
       "      <td>0.547004</td>\n",
       "      <td>40.314858</td>\n",
       "      <td>68.638982</td>\n",
       "      <td>0.071773</td>\n",
       "      <td>3.290494</td>\n",
       "      <td>25.081642</td>\n",
       "      <td>-1.387541</td>\n",
       "    </tr>\n",
       "    <tr>\n",
       "      <td>3</td>\n",
       "      <td>2.468920</td>\n",
       "      <td>0.159873</td>\n",
       "      <td>0.209975</td>\n",
       "      <td>14</td>\n",
       "      <td>0.021548</td>\n",
       "      <td>1.951003</td>\n",
       "      <td>0.603160</td>\n",
       "      <td>1.430029</td>\n",
       "      <td>0.198690</td>\n",
       "      <td>0.216546</td>\n",
       "      <td>53.057031</td>\n",
       "      <td>71.797256</td>\n",
       "      <td>0.102321</td>\n",
       "      <td>3.169339</td>\n",
       "      <td>26.865773</td>\n",
       "      <td>-3.101738</td>\n",
       "    </tr>\n",
       "    <tr>\n",
       "      <td>4</td>\n",
       "      <td>2.217561</td>\n",
       "      <td>0.478633</td>\n",
       "      <td>0.463970</td>\n",
       "      <td>16</td>\n",
       "      <td>0.045654</td>\n",
       "      <td>1.027741</td>\n",
       "      <td>0.790700</td>\n",
       "      <td>1.147568</td>\n",
       "      <td>0.793187</td>\n",
       "      <td>0.582211</td>\n",
       "      <td>50.710891</td>\n",
       "      <td>78.179130</td>\n",
       "      <td>0.099021</td>\n",
       "      <td>6.539257</td>\n",
       "      <td>27.086055</td>\n",
       "      <td>-1.328671</td>\n",
       "    </tr>\n",
       "  </tbody>\n",
       "</table>\n",
       "</div>"
      ],
      "text/plain": [
       "   staygreen  rmax_lir  rmax_ltar  juv_leaves  leaf_wid   WLRATIO      A_LW  \\\n",
       "0   4.192327  0.170936   1.116221          19  0.060117  1.578166  0.578437   \n",
       "1   5.085099  0.458642   0.532489          13  0.053712  1.593230  0.944650   \n",
       "2   5.462802  0.409265   1.126607          19  0.055231  1.452949  0.615309   \n",
       "3   2.468920  0.159873   0.209975          14  0.021548  1.951003  0.603160   \n",
       "4   2.217561  0.478633   0.463970          16  0.045654  1.027741  0.790700   \n",
       "\n",
       "        LAF         f     scatt     vcm_25     vpm_25        g0        g1  \\\n",
       "0  1.082704  0.374039  0.799075  41.453395  63.020343  0.050014  4.262101   \n",
       "1  2.500608  0.084047  0.638286  55.254491  76.360963  0.045041  9.476365   \n",
       "2  1.305084  0.209307  0.547004  40.314858  68.638982  0.071773  3.290494   \n",
       "3  1.430029  0.198690  0.216546  53.057031  71.797256  0.102321  3.169339   \n",
       "4  1.147568  0.793187  0.582211  50.710891  78.179130  0.099021  6.539257   \n",
       "\n",
       "       t_opt  psi_threshold  \n",
       "0  23.156285      -3.209627  \n",
       "1  21.452484      -4.528151  \n",
       "2  25.081642      -1.387541  \n",
       "3  26.865773      -3.101738  \n",
       "4  27.086055      -1.328671  "
      ]
     },
     "execution_count": 49,
     "metadata": {},
     "output_type": "execute_result"
    }
   ],
   "source": [
    "df_parameters.head()"
   ]
  },
  {
   "cell_type": "markdown",
   "metadata": {},
   "source": [
    "Visualizing parameter spread:"
   ]
  },
  {
   "cell_type": "code",
   "execution_count": 62,
   "metadata": {},
   "outputs": [
    {
     "data": {
      "image/png": "[encoded data removed]",
      "text/plain": [
       "<Figure size 720x1440 with 2 Axes>"
      ]
     },
     "metadata": {},
     "output_type": "display_data"
    }
   ],
   "source": [
    "fig, ax = plt.subplots(figsize=(10,20))\n",
    "ax = sns.heatmap(df_params)\n",
    "plt.xticks(\n",
    "    fontweight='light',\n",
    "    fontsize='large')\n",
    "plt.yticks(\n",
    "    rotation=0,\n",
    "    fontweight='light',\n",
    "    fontsize='large')\n",
    "fig.subplots_adjust(bottom=0.1)\n",
    "\n",
    "#plt.savefig('/home/disk/eos8/ach315/upscale/figs/params_100.png', format='png', dpi=800)"
   ]
  },
  {
   "cell_type": "code",
   "execution_count": 49,
   "metadata": {},
   "outputs": [
    {
     "ename": "AttributeError",
     "evalue": "module 'matplotlib.pyplot' has no attribute 'cbar'",
     "output_type": "error",
     "traceback": [
      "\u001b[0;31m---------------------------------------------------------------------------\u001b[0m",
      "\u001b[0;31mAttributeError\u001b[0m                            Traceback (most recent call last)",
      "\u001b[0;32m<ipython-input-49-55dc21e22b88>\u001b[0m in \u001b[0;36m<module>\u001b[0;34m\u001b[0m\n\u001b[1;32m     13\u001b[0m     fontweight='light')\n\u001b[1;32m     14\u001b[0m \u001b[0;34m\u001b[0m\u001b[0m\n\u001b[0;32m---> 15\u001b[0;31m plt.cbar(\n\u001b[0m\u001b[1;32m     16\u001b[0m     fontweight='light')\n\u001b[1;32m     17\u001b[0m \u001b[0;34m\u001b[0m\u001b[0m\n",
      "\u001b[0;31mAttributeError\u001b[0m: module 'matplotlib.pyplot' has no attribute 'cbar'"
     ]
    },
    {
     "data": {
      "image/png": "[encoded data removed]",
      "text/plain": [
       "<Figure size 288x216 with 2 Axes>"
      ]
     },
     "metadata": {
      "needs_background": "light"
     },
     "output_type": "display_data"
    }
   ],
   "source": [
    "sample = lhs(len(params), samples=5) # trying with 5 cultivar combinations for now\n",
    "df_test = pd.DataFrame(sample, columns=params)\n",
    "df_test.index = ['cultivar 1','cultivar 2','cultivar 3','cultivar 4','cultivar 5']\n",
    "\n",
    "fig, ax = plt.subplots(figsize=(4,3))\n",
    "ax = sns.heatmap(df_test)\n",
    "\n",
    "plt.xticks(\n",
    "    fontweight='light')\n",
    "\n",
    "plt.yticks(\n",
    "    rotation=0,\n",
    "    fontweight='light')\n",
    "\n",
    "# adjusting color bar specifics\n",
    "cbar = ax.collections[0].colorbar\n",
    "cbar.ax.tick_params(labelsize=7)\n",
    "\n",
    "fig.subplots_adjust(left=0.2, bottom=0.45)\n",
    "\n",
    "plt.savefig('/home/disk/eos8/ach315/upscale/figs/params.png', format='png', dpi=800)"
   ]
  },
  {
   "cell_type": "markdown",
   "metadata": {},
   "source": [
    "### 3. Setting up planting dates"
   ]
  },
  {
   "cell_type": "code",
   "execution_count": 14,
   "metadata": {},
   "outputs": [],
   "source": [
    "# planting date range\n",
    "season_start = datetime.datetime(1990,3,1)\n",
    "season_end = datetime.datetime(1990,5,31)\n",
    "dates = np.arange(season_start, season_end, datetime.timedelta(3))\n",
    "\n",
    "pdates = []\n",
    "for i in dates:\n",
    "    pdates.append((str(i)[4:10]))"
   ]
  },
  {
   "cell_type": "markdown",
   "metadata": {},
   "source": [
    "### 4. Creating cultivar init file template"
   ]
  },
  {
   "cell_type": "markdown",
   "metadata": {},
   "source": [
    "#### constant parameters:"
   ]
  },
  {
   "cell_type": "code",
   "execution_count": 41,
   "metadata": {},
   "outputs": [],
   "source": [
    "# cultivar traits\n",
    "(gdd_mature, daylen_sen, LA_min, phyllo) = (1600, 0, 100, 3)\n",
    "\n",
    "# soil water\n",
    "(rrrm, rrry, rvrl) = (166.7, 31.3, 0.73)\n",
    "(alpm, alpy, rtwl, rtminwtperunitarea) = (0.35, 0.04, 1.059e-004, 2.0000e-004)\n",
    "(epsi, lupw, courmax) = (1, 1, 1)\n",
    "(diffgeo1, diffgeo2, diffgoe3) = (2.4, 2.9, 0)\n",
    "(wl, wa, wr, wb) = (1, 1, 2, 10)\n",
    "\n",
    "# soil nitrogen\n",
    "(isink, rroot) = (0, 0.017)\n",
    "(consti_1, constk_1, cmin0_1) = (35.0, 0.5, 0.01)\n",
    "(consti_2, constk_2, cmin0_2) = (17.2, 0.75, 0.30)\n",
    "\n",
    "# photosynthesis\n",
    "(eavp, eavc, eaj, hj, sj, jm_25, rd_25, ear) = (75100, 55900, 32800, 220000, 702.6, 300, 2, 39800)\n",
    "(Kc_25, Ko_25, Kp_25, gbs, gi, gamma1) = (650, 450, 80, 0.003, 1, 0.193)\n",
    "(gamma_gsw, sf, ref_potential, stoma_ratio, widfct) = (10.0, 2.3, -1.2, 1.0, 0.72)\n",
    "(cica_ratio, SC_param, BLC_param) = (0.7, 1.57, 1.36)"
   ]
  },
  {
   "cell_type": "code",
   "execution_count": 42,
   "metadata": {},
   "outputs": [],
   "source": [
    "# setting up strings\n",
    "def strings(): \n",
    "    tab = '    '\n",
    "    str1 = '*** Corn growth simulation for US maize simualtion\\n'\n",
    "    str2 = 'cultivar: Romario\\n'\n",
    "    str3 = ('gdd_mature' + tab + 'juv_leaf' + tab + 'daylen_sen' + tab + 'staygreen' + tab + \n",
    "            'LA_min' + tab + 'Rmax_LTAR' + tab + 'Rmax_LTIR' + tab + 'phyllo\\n')\n",
    "    str4 = '\\n'\n",
    "    str5 = tup_convert(['%.0f' %gdd_mature, tab, '%.0f' %juv_leaves, tab, '%.0f' %daylen_sen, tab, \n",
    "                        '%.f' %staygreen, tab, '%.f' %LA_min, tab, \n",
    "                        '%.2f' %rmax_ltar, tab, '%.2f' %rmax_lir, tab, '%.0f\\n' %phyllo])\n",
    "\n",
    "    str6 = '[SoilRoot]\\n'\n",
    "    str7 = '*** water uptake parameter information ***\\n'\n",
    "    str8 = 'RRRM' + tab + 'RRRY' + tab + 'RVRL\\n'\n",
    "    str9 = tup_convert(['%.2f' %rrrm, tab, '%.2f' %rrry, tab, '%.2f\\n' %rvrl])\n",
    "    str10 = 'ALPM' + tab + 'ALPY' + tab + 'RTWL' + tab + 'RtMinWtPerUnitArea\\n'\n",
    "    str11 = tup_convert(['%.2f' %alpm, tab, '%.2f' %alpy, tab, '%.7f' %rtwl, tab, '%.4f\\n' %rtminwtperunitarea])\n",
    "\n",
    "    str12 = '[RootDiff]\\n'\n",
    "    str13 = '*** root mover parameter information\\n'\n",
    "    str14 = 'EPSI' + tab + 'lUpW' + tab + 'CourMax\\n'\n",
    "    str15 = tup_convert(['%.f' %epsi, tab, '%.f' %lupw, tab, '%.f\\n' %courmax])\n",
    "    str16 = 'Diffusivity and geotrophic velocity\\n'\n",
    "    str17 = tup_convert(['%.1f' %diffgeo1, tab, '%.1f' %diffgeo2, tab, '%.1f\\n' %diffgoe3])\n",
    "\n",
    "    str18 = '[SoilNitrogen]\\n'\n",
    "    str19 = '*** nitrogen root uptake parameter infromation ***\\n'\n",
    "    str20 = 'ISINK' + tab + 'Rroot\\n'\n",
    "    str21 = tup_convert(['%.0f' %isink, tab, '%.2f\\n' %rroot])\n",
    "    str22 = 'ConstI' + tab + 'Constk' + tab + 'Cmin0\\n'\n",
    "    str23 = tup_convert(['%.1f' %consti_1, tab, '%.1f' %constk_1, tab, '%.2f\\n' %cmin0_1])\n",
    "    str24 = tup_convert(['%.1f' %consti_2, tab, '%.2f' %constk_2, tab, '%.2f\\n' %cmin0_2])\n",
    "\n",
    "    str25 = '[Gas_Exchange Species Parameters]\\n'\n",
    "    str26 = '*** for photosynthesis calculations ***\\n'\n",
    "    str27 = ('EaVP' + tab + 'EaVc' + tab + 'Eaj' + tab + 'Hj' + tab + 'Sj' + tab + 'Vpm25' +\n",
    "             tab + 'Vcm25' + tab + 'Jm25' + tab + 'Rd25' + tab + 'Ear' + tab + 'g0' + tab + 'g1\\n')\n",
    "    str28 = tup_convert(['%.f' %eavp, tab, '%.f' %eavc, tab, '%.f' %eaj, tab, '%.f' %hj, tab, '%.f' %sj, tab, \n",
    "                         '%.f' %vpm_25, tab, '%.f' %vcm_25, tab, '%.f' %jm_25, tab, '%.f' %rd_25, tab,\n",
    "                         '%.f' %ear, tab, '%.2f' %g0, tab, '%.2f\\n' %g1])\n",
    "\n",
    "    str29 = '*** second set of parameters for photosynthesis ***\\n'\n",
    "    str30 = 'f' + tab + 'scatt' + tab + 'Kc_25' + tab + 'Ko_25' + tab + 'Kp_25' + tab + 'gbs' + tab + 'gi' + tab + 'gamma1\\n'\n",
    "    str31 = tup_convert(['%.2f' %f, tab, '%.2f' %scatt, tab, '%.2f' %Kc_25, tab, '%.2f' %Ko_25, tab, \n",
    "                         '%.2f' %Kp_25, tab, '%.3f' %gbs, tab, '%.2f' %gi, tab, '%.2f\\n' %gamma1])\n",
    "    \n",
    "    str32 = '*** third set of photosynthesis parameters ***\\n'\n",
    "    str33 = ('gamma_gsw' + tab + 'sensitivity (sf)' + tab + 'ref_potential (phyla, bars)' + tab + \n",
    "            'stoma_ratio' + tab + 'widfct' + tab + 'leaf_wid (m)\\n')\n",
    "    str34 = tup_convert(['%.1f' %gamma_gsw, tab, '%.1f' %sf, tab, '%.1f' %ref_potential, tab, \n",
    "                       '%.1f' %stoma_ratio, tab, '%.1f' %widfct, tab, '%.3f\\n' %leaf_wid])\n",
    "    str35 = '**** seconday parameters for miscelanioius equations ****\\n'\n",
    "    str36 = 'Ci/Ca' + tab + 'SC_param' + tab + 'BLC_param\\n'\n",
    "    str37 = tup_convert(['%.1f' %cica_ratio, tab, '%.2f' %SC_param, tab, '%.2f\\n' %BLC_param])\n",
    "    str38 = '[Leaf Parameters]\\n'\n",
    "\n",
    "    # combining strings\n",
    "    strs = [str1, str2, str3, str4, str5, str6, str7, str8, str9, str10, \n",
    "            str11, str12, str13, str14, str15, str16, str17, str18, str19, str20, \n",
    "            str21, str22, str23, str24, str25, str26, str27, str28, str29, str30, \n",
    "            str31, str32, str33, str34, str35, str36, str37, str38]\n",
    "    \n",
    "    return(strs)"
   ]
  },
  {
   "cell_type": "code",
   "execution_count": 43,
   "metadata": {},
   "outputs": [
    {
     "data": {
      "text/plain": [
       "['*** Corn growth simulation for US maize simualtion\\n',\n",
       " 'cultivar: Romario\\n',\n",
       " 'gdd_mature    juv_leaf    daylen_sen    staygreen    LA_min    Rmax_LTAR    Rmax_LTIR    phyllo\\n',\n",
       " '\\n',\n",
       " '1600    13    0    5    100    0.47    0.38    3\\n',\n",
       " '[SoilRoot]\\n',\n",
       " '*** water uptake parameter information ***\\n',\n",
       " 'RRRM    RRRY    RVRL\\n',\n",
       " '166.70    31.30    0.73\\n',\n",
       " 'ALPM    ALPY    RTWL    RtMinWtPerUnitArea\\n',\n",
       " '0.35    0.04    0.0001059    0.0002\\n',\n",
       " '[RootDiff]\\n',\n",
       " '*** root mover parameter information\\n',\n",
       " 'EPSI    lUpW    CourMax\\n',\n",
       " '1    1    1\\n',\n",
       " 'Diffusivity and geotrophic velocity\\n',\n",
       " '2.4    2.9    0.0\\n',\n",
       " '[SoilNitrogen]\\n',\n",
       " '*** nitrogen root uptake parameter infromation ***\\n',\n",
       " 'ISINK    Rroot\\n',\n",
       " '0    0.02\\n',\n",
       " 'ConstI    Constk    Cmin0\\n',\n",
       " '35.0    0.5    0.01\\n',\n",
       " '17.2    0.75    0.30\\n',\n",
       " '[Gas_Exchange Species Parameters]\\n',\n",
       " '*** for photosynthesis calculations ***\\n',\n",
       " 'EaVP    EaVc    Eaj    Hj    Sj    Vpm25    Vcm25    Jm25    Rd25    Ear    g0    g1\\n',\n",
       " '75100    55900    32800    220000    703    69    40    300    2    39800    0.03    3.33\\n',\n",
       " '*** second set of parameters for photosynthesis ***\\n',\n",
       " 'f    scatt    Kc_25    Ko_25    Kp_25    gbs    gi    gamma1\\n',\n",
       " '0.95    0.40    650.00    450.00    80.00    0.003    1.00    0.19\\n',\n",
       " '*** third set of photosynthesis parameters ***\\n',\n",
       " 'gamma_gsw    sensitivity (sf)    ref_potential (phyla, bars)    stoma_ratio    widfct    leaf_wid (m)\\n',\n",
       " '10.0    2.3    -1.2    1.0    0.7    0.050\\n',\n",
       " '**** seconday parameters for miscelanioius equations ****\\n',\n",
       " 'Ci/Ca    SC_param    BLC_param\\n',\n",
       " '0.7    1.57    1.36\\n',\n",
       " '[Leaf Parameters]\\n']"
      ]
     },
     "execution_count": 43,
     "metadata": {},
     "output_type": "execute_result"
    }
   ],
   "source": [
    "strings()"
   ]
  },
  {
   "cell_type": "markdown",
   "metadata": {},
   "source": [
    "#### parameter perturbation:"
   ]
  },
  {
   "cell_type": "code",
   "execution_count": 48,
   "metadata": {},
   "outputs": [],
   "source": [
    "for i in np.arange(df_parameters.shape[0]):\n",
    "    [staygreen, rmax_lir, rmax_ltar, juv_leaves, leaf_wid, WLRATIO, \n",
    "     A_LW, LAF, f, scatt, vcm_25, vpm_25, g0, g1, t_opt, psi_threshold] = df_parameters.iloc[i,:]\n",
    "    strs = strings()\n",
    "    var = open('/home/disk/eos8/ach315/upscale/inits/var/var_' + str(i) + '.txt', 'w')\n",
    "    var.writelines(strs)\n",
    "    var.close()"
   ]
  },
  {
   "cell_type": "code",
   "execution_count": 47,
   "metadata": {},
   "outputs": [],
   "source": [
    "dill.dump_session('opt_param_env.db')"
   ]
  },
  {
   "cell_type": "code",
   "execution_count": null,
   "metadata": {},
   "outputs": [],
   "source": []
  }
 ],
 "metadata": {
  "kernelspec": {
   "display_name": "Python 3",
   "language": "python",
   "name": "python3"
  },
  "language_info": {
   "codemirror_mode": {
    "name": "ipython",
    "version": 3
   },
   "file_extension": ".py",
   "mimetype": "text/x-python",
   "name": "python",
   "nbconvert_exporter": "python",
   "pygments_lexer": "ipython3",
   "version": "3.6.10"
  }
 },
 "nbformat": 4,
 "nbformat_minor": 4
}
