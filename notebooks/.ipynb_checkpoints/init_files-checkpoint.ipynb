{
 "cells": [
  {
   "cell_type": "markdown",
   "metadata": {},
   "source": [
    "## Generating initial text files for maizsim simulations"
   ]
  },
  {
   "cell_type": "markdown",
   "metadata": {},
   "source": [
    "Maizsim has a total of X intput files. The files listed here are only ones that require: <br/>\n",
    "1. customization for individual site-years, or\n",
    "2. multiple sets for parametetr sensitivity testing"
   ]
  },
  {
   "cell_type": "code",
   "execution_count": 282,
   "metadata": {},
   "outputs": [],
   "source": [
    "# Load in necessary packages\n",
    "import os\n",
    "import pandas as pd\n",
    "import numpy as np\n",
    "import glob as glob"
   ]
  },
  {
   "cell_type": "code",
   "execution_count": 246,
   "metadata": {},
   "outputs": [],
   "source": [
    "# simple function that converts tuple into stirng\n",
    "def tup_convert(tup):\n",
    "    str = ''.join(tup)\n",
    "    return str"
   ]
  },
  {
   "cell_type": "markdown",
   "metadata": {},
   "source": [
    "### 0.0 Identifying parameters to test for:\n",
    "- planting date (4/1 - 6/30, weekly interval: 12)\n",
    "- juvenile leaf number (10-20, single leaf interval: 10)"
   ]
  },
  {
   "cell_type": "code",
   "execution_count": 276,
   "metadata": {},
   "outputs": [],
   "source": [
    "# 191011: still need to think more about this\n",
    "#         having emsemble of simulations will be quite tricky to manage everything\n",
    "#         at the moment, maybe it's best to work on carrying out a single geo-spatial wide simulation across the sites I have\n",
    "#         and add in the emsemble element once I get that going"
   ]
  },
  {
   "cell_type": "markdown",
   "metadata": {},
   "source": [
    "### 0.1 Making directories to hold initial files & simulation outputs\n",
    "Repository structure: <br\\>\n",
    "- init_files/\n",
    "    - specific siteyears/ \n",
    "        - parameter combinations/ (191011: holding off this part at the moment)"
   ]
  },
  {
   "cell_type": "code",
   "execution_count": 345,
   "metadata": {},
   "outputs": [],
   "source": [
    "# This cell only needs to be executed once because after that the folders will be created\n",
    "# if you try executing this code block after the folders exist it won't execute and will throw an error\n",
    "siteyears = pd.read_csv('/home/disk/eos8/ach315/upscale/weadata/site_year_crithr1.csv', dtype=str, index_col=0)\n",
    "for i in np.arange(0,len(siteyears)):\n",
    "    os.mkdir('/home/disk/eos8/ach315/upscale/init_files/site_years/' + str(siteyears.iloc[i,0]) + '_' + str(siteyears.iloc[i,1]))\n",
    "    \n",
    "for i in np.arange(0,len(siteyears)):\n",
    "    os.mkdir('/home/disk/eos8/ach315/upscale/runs/' + str(siteyears.iloc[i,0]) + '_' + str(siteyears.iloc[i,1]))"
   ]
  },
  {
   "cell_type": "markdown",
   "metadata": {},
   "source": [
    "### 0.2 Identifying initial files that need to customized for each site-year due to time & date\n",
    "1. init.txt\n",
    "2. time.txt\n",
    "3. climate.txt\n",
    "4. management.txt"
   ]
  },
  {
   "cell_type": "markdown",
   "metadata": {},
   "source": [
    "### 0.3 Specifying some general input variables"
   ]
  },
  {
   "cell_type": "code",
   "execution_count": 419,
   "metadata": {},
   "outputs": [],
   "source": [
    "directories = glob.glob('/home/disk/eos8/ach315/upscale/init_files/site_years/*')\n",
    "site_info = pd.read_csv('/home/disk/eos8/ach315/upscale/weadata/site_info.csv', dtype=str, index_col=0)\n",
    "year = i.split('/')[-1].split('_')[-1]\n",
    "site = i.split('/')[-1].split('_')[-2]\n",
    "lat = site_info[site_info.site == i.split('/')[-1].split('_')[-2]].lat\n",
    "lon = site_info[site_info.site == i.split('/')[-1].split('_')[-2]].lon\n",
    "tab = '    '"
   ]
  },
  {
   "cell_type": "markdown",
   "metadata": {},
   "source": [
    "### 0.4 Create a function that generates initial files for maizsim"
   ]
  },
  {
   "cell_type": "code",
   "execution_count": null,
   "metadata": {},
   "outputs": [],
   "source": [
    "# 191018 JH: still working on this\n",
    "def write_txt(file_name, file_extension, file_mode, strings, directory):\n",
    "    for i in directory: \n",
    "        # opening empty files in preparation for writing\n",
    "        file_name = open(i + '/' + file_name + '.', file_extension, str(file_mode))\n",
    "        # putting strings together\n",
    "        file_name.writelines(strings)\n",
    "        # closing file\n",
    "        file_name.close()\n",
    "    "
   ]
  },
  {
   "cell_type": "code",
   "execution_count": 421,
   "metadata": {},
   "outputs": [],
   "source": [
    "strings = [str1, str2, str3, str4, str5, str6, str7, str8, str9, str10, str11, str12]"
   ]
  },
  {
   "cell_type": "code",
   "execution_count": 422,
   "metadata": {},
   "outputs": [
    {
     "data": {
      "text/plain": [
       "['***Standard Meteorological Data\\n',\n",
       " 'latitude\\n',\n",
       " '42.33\\n',\n",
       " 'daily bulb temp, daily wind, rain intensity, daily conc, furrow, relitive humidity, co2\\n',\n",
       " '0    0    0    0    0    1    1\\n',\n",
       " 'parameters for changing of units: BSOLAR BTEMP ATEMP ERAIN BWIND BIR\\n',\n",
       " 'BSOLAR is 1e6/3600 to go from jm-2h-1 to wm-2\\n',\n",
       " '3600    1    0    0    1    1\\n',\n",
       " 'average values for the site\\n',\n",
       " 'WINDA    IRAV    Conc    CO2\\n',\n",
       " '3    6    0    400\\n',\n",
       " '0    1']"
      ]
     },
     "execution_count": 422,
     "metadata": {},
     "output_type": "execute_result"
    }
   ],
   "source": [
    "strings"
   ]
  },
  {
   "cell_type": "markdown",
   "metadata": {},
   "source": [
    "### 1. init.txt\n",
    "iniital file for general setup"
   ]
  },
  {
   "cell_type": "code",
   "execution_count": 298,
   "metadata": {},
   "outputs": [],
   "source": [
    "### --- constant parameters ---\n",
    "\n",
    "# management\n",
    "poprow = 7.5 # plants/row\n",
    "rowsp = 75 \n",
    "plant_density = 10 # plant density (___)\n",
    "rowang = 0\n",
    "x_seed = 0\n",
    "y_seed = 195\n",
    "cec = 0.65\n",
    "eomult = 0.5\n",
    "co2 = -1\n",
    "\n",
    "# output soil file or not\n",
    "soil_yes = ('0', tab, '1')\n",
    "soil_no = ('1', tab, '0')\n",
    "\n",
    "# timing\n",
    "timestep = 60"
   ]
  },
  {
   "cell_type": "code",
   "execution_count": null,
   "metadata": {},
   "outputs": [],
   "source": [
    "### --- text strings ---\n",
    "\n",
    "str1 = '***Initialization data\\n'\n",
    "str2 = tup_convert(['poprow', tab, 'rowsp', tab, 'rowsp', tab, 'plant_density', tab, \n",
    "                    'rowang', tab, 'x_seed', tab, 'y_see', tab, 'eomult', tab, 'co2\\n'])\n",
    "str3 = tup_convert(['%.1f' %poprow, tab, '%.1f' %rowsp, tab, '%.1f' %plant_density, tab,\n",
    "                    '%.1f' %rowang, tab, '%.1f' %x_seed, tab, '%.1f' %y_seed, tab, '%.2f' %cec, tab,\n",
    "                    '%.2f' %eomult, tab, '%.0f\\n' %co2])\n",
    "str4 = tup_convert(['latitude', tab, 'longitude', tab, 'altitude\\n'])\n",
    "str5 = tup_convert(['%.2f' %lat, tab, '%.2f' %lon, tab, '%.2f\\n' %alt])\n",
    "str6 = 'autoirrigate\\n'\n",
    "str7 = '%.0f\\n' %irrigate\n",
    "str8 = tup_convert(['begin', tab, 'sowing', tab, 'end', tab, 'timestep (mins)\\n'])\n",
    "str9 = tup_convert([start, tab, sowing, tab, end, tab, '%.0f\\n' %timestep])\n",
    "str10 = 'output soils data (g03, g04, g05, and g06 files) 1 if true\\n'\n",
    "str11 = tup_convert(['no soil files', tab, 'outputsoil files\\n'])\n",
    "str12 = tup_convert(soil_yes)\n",
    "\n",
    "strings = [str1, str2, str3, str4, str5, str6, str7, str8, str9, str10, str11, str12]"
   ]
  },
  {
   "cell_type": "code",
   "execution_count": 376,
   "metadata": {},
   "outputs": [],
   "source": [
    "### --- creating an init.txt file for each site-year ---\n",
    "\n",
    "for i in directories:\n",
    "    init = open(i + '/init.txt', 'w')\n",
    "    year = i.split('/')[-1].split('_')[-1]\n",
    "    site = i.split('/')[-1].split('_')[-2]\n",
    "    \n",
    "    # customized parameters: location\n",
    "    lat = site_info[site_info.site == i.split('/')[-1].split('_')[-2]].lat\n",
    "    lon = site_info[site_info.site == i.split('/')[-1].split('_')[-2]].lon\n",
    "    alt = 0 # we actually don't have altitude information, but I'm also not sure how it affects the model\n",
    "    # customized parameters: timing\n",
    "    start = \"'04/01/\" + year + \"'\"\n",
    "    sowing = \"'04/01/\" + year + \"'\"\n",
    "    end = \"'10/31/\" + year + \"'\"\n",
    "    \n",
    "    # writing out text strings for each line in init.txt\n",
    "    str1 = '***Initialization data\\n'\n",
    "    str2 = tup_convert(['poprow', tab, 'rowsp', tab, 'rowsp', tab, 'plant_density', tab, \n",
    "                       'rowang', tab, 'x_seed', tab, 'y_see', tab, 'eomult', tab, 'co2\\n'])\n",
    "    str3 = tup_convert(['%.1f' %poprow, tab, '%.1f' %rowsp, tab, '%.1f' %plant_density, tab,\n",
    "                        '%.1f' %rowang, tab, '%.1f' %x_seed, tab, '%.1f' %y_seed, tab, '%.2f' %cec, tab,\n",
    "                        '%.2f' %eomult, tab, '%.0f\\n' %co2])\n",
    "    str4 = tup_convert(['latitude', tab, 'longitude', tab, 'altitude\\n'])\n",
    "    str5 = tup_convert(['%.2f' %lat, tab, '%.2f' %lon, tab, '%.2f\\n' %alt])\n",
    "    str6 = 'autoirrigate\\n'\n",
    "    str7 = '%.0f\\n' %irrigate\n",
    "    str8 = tup_convert(['begin', tab, 'sowing', tab, 'end', tab, 'timestep (mins)\\n'])\n",
    "    str9 = tup_convert([start, tab, sowing, tab, end, tab, '%.0f\\n' %timestep])\n",
    "    str10 = 'output soils data (g03, g04, g05, and g06 files) 1 if true\\n'\n",
    "    str11 = tup_convert(['no soil files', tab, 'outputsoil files\\n'])\n",
    "    str12 = tup_convert(soil_yes)\n",
    "\n",
    "    # putting all strings together\n",
    "    L = [str1, str2, str3, str4, str5, str6, str7, str8, str9, str10, str11, str12]\n",
    "    \n",
    "    # writing out lines in init.txt and clsoing file\n",
    "    init.writelines(L)\n",
    "    init.close()"
   ]
  },
  {
   "cell_type": "markdown",
   "metadata": {},
   "source": [
    "### 2. time.txt"
   ]
  },
  {
   "cell_type": "code",
   "execution_count": 405,
   "metadata": {},
   "outputs": [],
   "source": [
    "#--- constant parameters\n",
    "dt = 0.0001\n",
    "dt_min = 1e-7\n",
    "dmul1 = 1.3\n",
    "dmul2 = 0.3\n",
    "daily_output = '1    0\\n'\n",
    "hourly_output = '0    1\\n'\n",
    "daily_intput = '1    0\\n'\n",
    "hourly_input = '0    1\\n'\n",
    "\n",
    "#--- adjustable parameters: time\n",
    "start = '04/01/'\n",
    "end = '10/31/'\n",
    "\n",
    "#--- adjustable parameters: output format\n",
    "output_timestep = hourly_output\n",
    "weadata_timestep = hourly_input"
   ]
  },
  {
   "cell_type": "code",
   "execution_count": 406,
   "metadata": {},
   "outputs": [],
   "source": [
    "# finding where all the time.txt files should go for individual site-years\n",
    "directories = glob.glob('/home/disk/eos8/ach315/upscale/init_files/site_years/*')\n",
    "\n",
    "# creating an init.txt file for each site-year\n",
    "for i in directories:\n",
    "    time = open(i + '/time.txt', 'w')\n",
    "    year = i.split('/')[-1].split('_')[-1]\n",
    "    \n",
    "    # customized parameters: timing\n",
    "    init_time = \"'\" + start + year + \"'\"\n",
    "    end_time = \"'\" + end + year + \"'\\n\"\n",
    "    \n",
    "    # text strings\n",
    "    str1 = '***Synchronizer Information\\n'\n",
    "    str2 = tup_convert(['initial time', tab, 'dt', tab, 'dtmin', tab, 'dmul1', tab, 'dmul2', tab, 'tfin\\n'])\n",
    "    str3 = tup_convert([init_time, tab, '%.4f' %dt, tab, '%.7f' %dt_min, tab, '%.2f' %dmul1, tab, '%.2f' %dmul2, tab, end_time])\n",
    "    str4 = 'output variables, 1 if true    Daily    Hourly\\n'\n",
    "    str5 = output_timestep\n",
    "    str6 = 'weather data, 1 if true    Daily     Hourly\\n'\n",
    "    str7 = weadata_timestep\n",
    "    \n",
    "    # putting text strings together\n",
    "    L = [str1, str2, str3, str4, str5, str6, str7]\n",
    "    \n",
    "    # writing out lines in init.txt and clsoing file\n",
    "    time.writelines(L)\n",
    "    time.close()"
   ]
  },
  {
   "cell_type": "markdown",
   "metadata": {},
   "source": [
    "### 3. climate.txt\n",
    "inital file for basic climate info"
   ]
  },
  {
   "cell_type": "code",
   "execution_count": 417,
   "metadata": {},
   "outputs": [],
   "source": [
    "#--- constant parameters\n",
    "bsolar = 3600\n",
    "btemp = 1\n",
    "atemp = 0\n",
    "erain = 0.1\n",
    "bwind = 1\n",
    "bir = 1\n",
    "\n",
    "# climate data input\n",
    "climate_input = tup_convert(['0', tab, '0', tab, '0', tab, '0', tab, '0', tab, '1', tab, '1\\n'])\n",
    "\n",
    "# average values for site\n",
    "# 19118: I'm actually not sure how these values are calculated and how important they are?\n",
    "winda = 3\n",
    "irav = 6\n",
    "conc = 0\n",
    "co2 = 400"
   ]
  },
  {
   "cell_type": "code",
   "execution_count": 418,
   "metadata": {},
   "outputs": [],
   "source": [
    "# finding where all the climate.txt files should go for individual site-years\n",
    "\n",
    "\n",
    "\n",
    "\n",
    "# creating an init.txt file for each site-year\n",
    "for i in directories:\n",
    "    climate = open(i + '/climate.txt', 'w')\n",
    "    site = i.split('/')[-1].split('_')[-2]\n",
    "    site_info = pd.read_csv('/home/disk/eos8/ach315/upscale/weadata/site_info.csv', dtype=str, index_col=0)\n",
    "    lat = site_info[site_info.site == i.split('/')[-1].split('_')[-2]].lat\n",
    "\n",
    "    # text strings\n",
    "    str1 = '***Standard Meteorological Data\\n'\n",
    "    str2 = 'latitude\\n'\n",
    "    str3 = '%.2f\\n' %lat\n",
    "    str4 = 'daily bulb temp, daily wind, rain intensity, daily conc, furrow, relitive humidity, co2\\n'\n",
    "    str5 = climate_input\n",
    "    str6 = 'parameters for changing of units: BSOLAR BTEMP ATEMP ERAIN BWIND BIR\\n'\n",
    "    str7 = 'BSOLAR is 1e6/3600 to go from jm-2h-1 to wm-2\\n'\n",
    "    str8 = tup_convert(['%.0f' %bsolar, tab, '%.0f' %btemp, tab, '%.0f' %atemp, tab, '%.0f' %erain, tab, '%.0f' %bwind, tab, '%.0f\\n' %bir])\n",
    "    str9 = 'average values for the site\\n'\n",
    "    str10 = tup_convert(['WINDA', tab, 'IRAV', tab, 'Conc', tab, 'CO2\\n'])\n",
    "    str11 = tup_convert(['%.0f' %winda, tab, '%.0f' %irav, tab, '%.0f' %conc, tab, '%.0f\\n' %co2])\n",
    "    \n",
    "    # putting strings together\n",
    "    L = [str1, str2, str3, str4, str5, str6, str7, str8, str9, str10, str11]\n",
    "    \n",
    "    # writing out lines in init.txt and clsoing file\n",
    "    climate.writelines(L)\n",
    "    climate.close()"
   ]
  },
  {
   "cell_type": "markdown",
   "metadata": {},
   "source": [
    "### 4. management.txt"
   ]
  },
  {
   "cell_type": "code",
   "execution_count": null,
   "metadata": {},
   "outputs": [],
   "source": []
  },
  {
   "cell_type": "code",
   "execution_count": null,
   "metadata": {},
   "outputs": [],
   "source": []
  },
  {
   "cell_type": "code",
   "execution_count": null,
   "metadata": {},
   "outputs": [],
   "source": []
  },
  {
   "cell_type": "markdown",
   "metadata": {},
   "source": [
    "### 5. cultivar.txt\n",
    "initial file for cultivar and soil traits"
   ]
  },
  {
   "cell_type": "code",
   "execution_count": null,
   "metadata": {},
   "outputs": [],
   "source": [
    "cultivar = open('/home/disk/eos8/ach315/upscale/init_files/cultivar.txt', 'w')"
   ]
  },
  {
   "cell_type": "code",
   "execution_count": 231,
   "metadata": {},
   "outputs": [],
   "source": [
    "# parameters: cultivar traits\n",
    "gdd_mature = 1600\n",
    "juv_leaves = 15\n",
    "deylength_sensitivity = 0\n",
    "rmax_ltar = 0.53 # maximum leaf tip appearance rate (leaves/day)\n",
    "rmax_ltir = 0.978 # maximum leaf tip iniitation rate (leaves/day)\n",
    "phyllochron = 3\n",
    "\n",
    "# paramters: soil water\n",
    "(rrm, rrry, rvrl) = (166.7, 31.3, 0.73)\n",
    "(alpm, alpy, rtwl, rtminwtperunitarea) = (0.35, 0.04, 1.059e-004, 2.0000e-004)\n",
    "(wl, wa, wr, wb) = (1, 1, 2, 10)\n",
    "\n",
    "# parameter: soil nitrogen\n",
    "(isink, rroot) = (0, 0.017)\n",
    "(consti, constk, cmin0) = (35.0, 0.5, 0.01)"
   ]
  },
  {
   "cell_type": "code",
   "execution_count": null,
   "metadata": {},
   "outputs": [],
   "source": [
    "# putting text strings together\n",
    "str1 = 'corn growth simulation for '\n",
    "str2 = 'cultivar: _____'\n",
    "str3 = 'GDD'\n",
    "str4 = 'maturity'\n",
    "str5 = \n"
   ]
  },
  {
   "cell_type": "code",
   "execution_count": null,
   "metadata": {},
   "outputs": [],
   "source": [
    "cultivar.writelines(L)\n",
    "cultivar.close()"
   ]
  },
  {
   "cell_type": "markdown",
   "metadata": {},
   "source": [
    "### 4. management.txt\n",
    "iniital file for management"
   ]
  },
  {
   "cell_type": "code",
   "execution_count": null,
   "metadata": {},
   "outputs": [],
   "source": [
    "management = open('/home/disk/eos8/ach315/upscale/init_files/management.txt', 'w')"
   ]
  },
  {
   "cell_type": "code",
   "execution_count": null,
   "metadata": {},
   "outputs": [],
   "source": []
  },
  {
   "cell_type": "code",
   "execution_count": null,
   "metadata": {},
   "outputs": [],
   "source": [
    "management.writelines(L)\n",
    "management.close()"
   ]
  },
  {
   "cell_type": "markdown",
   "metadata": {},
   "source": [
    "### 5. time.txt"
   ]
  },
  {
   "cell_type": "code",
   "execution_count": 237,
   "metadata": {},
   "outputs": [],
   "source": [
    "names = ['test', 'test1', 'test2']"
   ]
  },
  {
   "cell_type": "code",
   "execution_count": 239,
   "metadata": {},
   "outputs": [],
   "source": [
    "mkdir test"
   ]
  },
  {
   "cell_type": "code",
   "execution_count": null,
   "metadata": {},
   "outputs": [],
   "source": []
  },
  {
   "cell_type": "code",
   "execution_count": null,
   "metadata": {},
   "outputs": [],
   "source": []
  },
  {
   "cell_type": "code",
   "execution_count": null,
   "metadata": {},
   "outputs": [],
   "source": []
  },
  {
   "cell_type": "code",
   "execution_count": null,
   "metadata": {},
   "outputs": [],
   "source": []
  }
 ],
 "metadata": {
  "kernelspec": {
   "display_name": "Python 3",
   "language": "python",
   "name": "python3"
  },
  "language_info": {
   "codemirror_mode": {
    "name": "ipython",
    "version": 3
   },
   "file_extension": ".py",
   "mimetype": "text/x-python",
   "name": "python",
   "nbconvert_exporter": "python",
   "pygments_lexer": "ipython3",
   "version": "3.6.9"
  }
 },
 "nbformat": 4,
 "nbformat_minor": 2
}
