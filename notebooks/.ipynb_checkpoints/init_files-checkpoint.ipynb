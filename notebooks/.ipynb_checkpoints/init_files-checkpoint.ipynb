{
 "cells": [
  {
   "cell_type": "markdown",
   "metadata": {},
   "source": [
    "### 1. init.txt"
   ]
  },
  {
   "cell_type": "markdown",
   "metadata": {},
   "source": [
    "inital file for management"
   ]
  },
  {
   "cell_type": "code",
   "execution_count": 125,
   "metadata": {},
   "outputs": [],
   "source": [
    "# simple function that converts tuple into stirng\n",
    "def tup_convert(tup):\n",
    "    str = ''.join(tup)\n",
    "    return str"
   ]
  },
  {
   "cell_type": "code",
   "execution_count": 162,
   "metadata": {},
   "outputs": [],
   "source": [
    "testfile = open('/home/disk/eos8/ach315/upscale/init_files/test.txt', 'w')"
   ]
  },
  {
   "cell_type": "code",
   "execution_count": 163,
   "metadata": {},
   "outputs": [],
   "source": [
    "# management parameters\n",
    "poprow = 7.5 # plants/row\n",
    "rowsp = 75 \n",
    "plant_density = 10 # plant density (___)\n",
    "rowang = 0\n",
    "x_seed = 0\n",
    "y_seed = 195\n",
    "cec = 0.65\n",
    "eomult = 0.5\n",
    "co2 = -1\n",
    "\n",
    "# location parameters\n",
    "\n",
    "# specifying tab space\n",
    "tab = '    '"
   ]
  },
  {
   "cell_type": "code",
   "execution_count": 165,
   "metadata": {},
   "outputs": [],
   "source": [
    "str1 = '***Initialization data\\n'\n",
    "str2 = tup_convert(['poprow', tab, 'rowsp', tab, 'rowsp', tab, 'plant_density', tab, \n",
    "                   'rowang', tab, 'x_seed', tab, 'y_see', tab, 'eomult', tab, 'co2\\n'])\n",
    "str3 = tup_convert(['%.1f' %poprow, tab, '%.1f' %rowsp, tab, '%.1f' %plant_density, tab,\n",
    "                    '%.1f' %rowang, tab, '%.1f' %x_seed, tab, '%.1f' %y_seed, tab, '%.2f' %cec, tab,\n",
    "                    '%.2f' %eomult, tab, '%.0f\\n' %co2])\n",
    "str4 = tup_convert(['latitude', tab, 'longitude', tab, 'altitude\\n'])"
   ]
  },
  {
   "cell_type": "code",
   "execution_count": 166,
   "metadata": {},
   "outputs": [],
   "source": [
    "L = [str1, str2, str3, str4]"
   ]
  },
  {
   "cell_type": "code",
   "execution_count": 167,
   "metadata": {},
   "outputs": [],
   "source": [
    "testfile.writelines(L)"
   ]
  },
  {
   "cell_type": "code",
   "execution_count": 168,
   "metadata": {},
   "outputs": [],
   "source": [
    "testfile.close()"
   ]
  },
  {
   "cell_type": "code",
   "execution_count": null,
   "metadata": {},
   "outputs": [],
   "source": [
    "str1 = '***Initialization data'\n",
    "str2 = 'POPROW  ROWSP  Plant_Density  ROWANG  xSeed  ySeed  CEC   EOMult  Co2'\n",
    "7.5     75.0   10             0       0      195    0.65  0.5     -1\n",
    "str3 = 'Latitude longitude altitude'\n",
    "41.165   96.476    361.0\n",
    "str4 = 'AutoIrrigate'\n",
    "0\n",
    "str5 = 'begin         Sowing       end              Timestep (minutes)'\n",
    "'04/01/1961'  '04/01/1961' '10/31/1961'     60\n",
    "str6 = 'output soils data (g03, g04, g05 and g06 files) 1 if true'\n",
    "                                   no soil files        output soil files\n",
    "                                      0                     1\n"
   ]
  }
 ],
 "metadata": {
  "kernelspec": {
   "display_name": "Python 3",
   "language": "python",
   "name": "python3"
  },
  "language_info": {
   "codemirror_mode": {
    "name": "ipython",
    "version": 3
   },
   "file_extension": ".py",
   "mimetype": "text/x-python",
   "name": "python",
   "nbconvert_exporter": "python",
   "pygments_lexer": "ipython3",
   "version": "3.6.9"
  }
 },
 "nbformat": 4,
 "nbformat_minor": 2
}
