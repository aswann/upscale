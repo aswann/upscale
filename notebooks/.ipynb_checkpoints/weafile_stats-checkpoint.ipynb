{
 "cells": [
  {
   "cell_type": "markdown",
   "metadata": {},
   "source": [
    "# Weather Data Stats"
   ]
  },
  {
   "cell_type": "markdown",
   "metadata": {},
   "source": [
    "Load in required packages:"
   ]
  },
  {
   "cell_type": "code",
   "execution_count": 8,
   "metadata": {},
   "outputs": [],
   "source": [
    "import numpy as np\n",
    "import pandas as pd\n",
    "import matplotlib.pyplot as plt\n",
    "import seaborn as sns\n",
    "from datetime import datetime\n",
    "%matplotlib inline"
   ]
  },
  {
   "cell_type": "markdown",
   "metadata": {},
   "source": [
    "Read in required files:"
   ]
  },
  {
   "cell_type": "code",
   "execution_count": 701,
   "metadata": {},
   "outputs": [],
   "source": [
    "siteyear = pd.read_csv(\"/home/disk/eos8/ach315/upscale/weadata/site_year_crithr3.csv\", dtype={\"site\": \"str\"})\n",
    "siteyear = siteyear.drop(siteyear.columns[0], axis=1)"
   ]
  },
  {
   "cell_type": "code",
   "execution_count": 702,
   "metadata": {},
   "outputs": [
    {
     "name": "stdout",
     "output_type": "stream",
     "text": [
      "<class 'pandas.core.frame.DataFrame'>\n",
      "RangeIndex: 15531072 entries, 0 to 15531071\n",
      "Data columns (total 6 columns):\n",
      "date      datetime64[ns]\n",
      "sites     object\n",
      "temp      float64\n",
      "precip    float64\n",
      "rh        float64\n",
      "solrad    float64\n",
      "dtypes: datetime64[ns](1), float64(4), object(1)\n",
      "memory usage: 711.0+ MB\n"
     ]
    }
   ],
   "source": [
    "df = pd.read_csv(\"/home/disk/eos8/ach315/upscale/weadata/weadata.csv\", dtype={\"sites\": \"str\"})\n",
    "df.date = pd.to_datetime(df.date)\n",
    "df.info()"
   ]
  },
  {
   "cell_type": "code",
   "execution_count": 703,
   "metadata": {},
   "outputs": [
    {
     "name": "stdout",
     "output_type": "stream",
     "text": [
      "(15531072, 6)\n"
     ]
    },
    {
     "data": {
      "text/html": [
       "<div>\n",
       "<style scoped>\n",
       "    .dataframe tbody tr th:only-of-type {\n",
       "        vertical-align: middle;\n",
       "    }\n",
       "\n",
       "    .dataframe tbody tr th {\n",
       "        vertical-align: top;\n",
       "    }\n",
       "\n",
       "    .dataframe thead th {\n",
       "        text-align: right;\n",
       "    }\n",
       "</style>\n",
       "<table border=\"1\" class=\"dataframe\">\n",
       "  <thead>\n",
       "    <tr style=\"text-align: right;\">\n",
       "      <th></th>\n",
       "      <th>date</th>\n",
       "      <th>sites</th>\n",
       "      <th>temp</th>\n",
       "      <th>precip</th>\n",
       "      <th>rh</th>\n",
       "      <th>solrad</th>\n",
       "    </tr>\n",
       "  </thead>\n",
       "  <tbody>\n",
       "    <tr>\n",
       "      <th>0</th>\n",
       "      <td>1964-05-01 00:00:00</td>\n",
       "      <td>03103</td>\n",
       "      <td>9.4</td>\n",
       "      <td>0.0</td>\n",
       "      <td>0.605071</td>\n",
       "      <td>0.0</td>\n",
       "    </tr>\n",
       "    <tr>\n",
       "      <th>1</th>\n",
       "      <td>1964-05-01 01:00:00</td>\n",
       "      <td>03103</td>\n",
       "      <td>5.6</td>\n",
       "      <td>15.0</td>\n",
       "      <td>0.850413</td>\n",
       "      <td>0.0</td>\n",
       "    </tr>\n",
       "    <tr>\n",
       "      <th>2</th>\n",
       "      <td>1964-05-01 02:00:00</td>\n",
       "      <td>03103</td>\n",
       "      <td>4.4</td>\n",
       "      <td>0.0</td>\n",
       "      <td>0.925122</td>\n",
       "      <td>0.0</td>\n",
       "    </tr>\n",
       "    <tr>\n",
       "      <th>3</th>\n",
       "      <td>1964-05-01 03:00:00</td>\n",
       "      <td>03103</td>\n",
       "      <td>3.3</td>\n",
       "      <td>0.0</td>\n",
       "      <td>0.924547</td>\n",
       "      <td>0.0</td>\n",
       "    </tr>\n",
       "    <tr>\n",
       "      <th>4</th>\n",
       "      <td>1964-05-01 04:00:00</td>\n",
       "      <td>03103</td>\n",
       "      <td>2.8</td>\n",
       "      <td>0.0</td>\n",
       "      <td>0.924283</td>\n",
       "      <td>0.0</td>\n",
       "    </tr>\n",
       "  </tbody>\n",
       "</table>\n",
       "</div>"
      ],
      "text/plain": [
       "                 date  sites  temp  precip        rh  solrad\n",
       "0 1964-05-01 00:00:00  03103   9.4     0.0  0.605071     0.0\n",
       "1 1964-05-01 01:00:00  03103   5.6    15.0  0.850413     0.0\n",
       "2 1964-05-01 02:00:00  03103   4.4     0.0  0.925122     0.0\n",
       "3 1964-05-01 03:00:00  03103   3.3     0.0  0.924547     0.0\n",
       "4 1964-05-01 04:00:00  03103   2.8     0.0  0.924283     0.0"
      ]
     },
     "execution_count": 703,
     "metadata": {},
     "output_type": "execute_result"
    }
   ],
   "source": [
    "print(df.shape)\n",
    "df.head()"
   ]
  },
  {
   "cell_type": "markdown",
   "metadata": {},
   "source": [
    "### Quick look at raw weather data:"
   ]
  },
  {
   "cell_type": "code",
   "execution_count": 642,
   "metadata": {},
   "outputs": [
    {
     "data": {
      "text/plain": [
       "(array([2.000000e+00, 3.400000e+01, 4.990000e+02, 4.725000e+03,\n",
       "        1.407490e+05, 1.706460e+06, 4.693256e+06, 5.769421e+06,\n",
       "        9.851060e+05, 1.049000e+04]),\n",
       " array([-48.2 , -38.38, -28.56, -18.74,  -8.92,   0.9 ,  10.72,  20.54,\n",
       "         30.36,  40.18,  50.  ]),\n",
       " <a list of 10 Patch objects>)"
      ]
     },
     "execution_count": 642,
     "metadata": {},
     "output_type": "execute_result"
    },
    {
     "data": {
      "image/png": "[encoded data removed]",
      "text/plain": [
       "<Figure size 432x288 with 1 Axes>"
      ]
     },
     "metadata": {},
     "output_type": "display_data"
    }
   ],
   "source": [
    "temp = df.temp[~df.temp.isnull()] # need to get rid of nan before can plot histogram\n",
    "plt.hist(temp, alpha=0.5)"
   ]
  },
  {
   "cell_type": "code",
   "execution_count": 670,
   "metadata": {},
   "outputs": [
    {
     "data": {
      "text/plain": [
       "(array([  59740.,  340356.,  625407.,  982752., 1354180., 1660220.,\n",
       "        1829874., 2075960., 2476928., 1806720.]),\n",
       " array([0.01025103, 0.10922592, 0.20820082, 0.30717572, 0.40615062,\n",
       "        0.50512551, 0.60410041, 0.70307531, 0.80205021, 0.9010251 ,\n",
       "        1.        ]),\n",
       " <a list of 10 Patch objects>)"
      ]
     },
     "execution_count": 670,
     "metadata": {},
     "output_type": "execute_result"
    },
    {
     "data": {
      "image/png": "[encoded data removed]",
      "text/plain": [
       "<Figure size 432x288 with 1 Axes>"
      ]
     },
     "metadata": {},
     "output_type": "display_data"
    }
   ],
   "source": [
    "rh = df.rh[(~df.rh.isnull())]\n",
    "plt.hist(rh, alpha=0.5)"
   ]
  },
  {
   "cell_type": "code",
   "execution_count": 669,
   "metadata": {},
   "outputs": [
    {
     "data": {
      "text/plain": [
       "(array([3.36954e+05, 1.30287e+05, 5.92660e+04, 3.39320e+04, 2.00710e+04,\n",
       "        1.48690e+04, 1.01460e+04, 7.59000e+03, 5.82800e+03, 4.08000e+03,\n",
       "        3.80100e+03, 2.89000e+03, 2.12000e+03, 1.99800e+03, 1.90900e+03,\n",
       "        1.58300e+03, 1.35000e+03, 1.19100e+03, 9.62000e+02, 9.28000e+02,\n",
       "        7.63000e+02, 6.61000e+02, 6.12000e+02, 4.87000e+02, 4.41000e+02,\n",
       "        4.39000e+02, 3.64000e+02, 2.96000e+02, 2.01000e+02, 2.59000e+02,\n",
       "        2.43000e+02, 2.18000e+02, 1.52000e+02, 1.91000e+02, 1.49000e+02,\n",
       "        1.32000e+02, 1.25000e+02, 8.40000e+01, 1.01000e+02, 8.80000e+01,\n",
       "        6.50000e+01, 5.80000e+01, 4.70000e+01, 4.30000e+01, 4.00000e+01,\n",
       "        5.80000e+01, 4.40000e+01, 3.10000e+01, 3.20000e+01]),\n",
       " array([  0,  10,  20,  30,  40,  50,  60,  70,  80,  90, 100, 110, 120,\n",
       "        130, 140, 150, 160, 170, 180, 190, 200, 210, 220, 230, 240, 250,\n",
       "        260, 270, 280, 290, 300, 310, 320, 330, 340, 350, 360, 370, 380,\n",
       "        390, 400, 410, 420, 430, 440, 450, 460, 470, 480, 490]),\n",
       " <a list of 49 Patch objects>)"
      ]
     },
     "execution_count": 669,
     "metadata": {},
     "output_type": "execute_result"
    },
    {
     "data": {
      "image/png": "[encoded data removed]",
      "text/plain": [
       "<Figure size 432x288 with 1 Axes>"
      ]
     },
     "metadata": {},
     "output_type": "display_data"
    }
   ],
   "source": [
    "test = [x for x in precip if x != int(0)]\n",
    "plt.hist(test, bins=[i for i in range(0,500,10)], alpha=0.5)"
   ]
  },
  {
   "cell_type": "markdown",
   "metadata": {},
   "source": [
    "### Analyzing general growing season stats"
   ]
  },
  {
   "cell_type": "code",
   "execution_count": 693,
   "metadata": {},
   "outputs": [
    {
     "data": {
      "text/html": [
       "<div>\n",
       "<style scoped>\n",
       "    .dataframe tbody tr th:only-of-type {\n",
       "        vertical-align: middle;\n",
       "    }\n",
       "\n",
       "    .dataframe tbody tr th {\n",
       "        vertical-align: top;\n",
       "    }\n",
       "\n",
       "    .dataframe thead th {\n",
       "        text-align: right;\n",
       "    }\n",
       "</style>\n",
       "<table border=\"1\" class=\"dataframe\">\n",
       "  <thead>\n",
       "    <tr style=\"text-align: right;\">\n",
       "      <th></th>\n",
       "      <th>date</th>\n",
       "      <th>sites</th>\n",
       "      <th>temp</th>\n",
       "      <th>precip</th>\n",
       "      <th>rh</th>\n",
       "      <th>solrad</th>\n",
       "    </tr>\n",
       "  </thead>\n",
       "  <tbody>\n",
       "    <tr>\n",
       "      <th>0</th>\n",
       "      <td>1964-05-01 00:00:00</td>\n",
       "      <td>03103</td>\n",
       "      <td>9.4</td>\n",
       "      <td>0.0</td>\n",
       "      <td>0.605071</td>\n",
       "      <td>0.0</td>\n",
       "    </tr>\n",
       "    <tr>\n",
       "      <th>1</th>\n",
       "      <td>1964-05-01 01:00:00</td>\n",
       "      <td>03103</td>\n",
       "      <td>5.6</td>\n",
       "      <td>15.0</td>\n",
       "      <td>0.850413</td>\n",
       "      <td>0.0</td>\n",
       "    </tr>\n",
       "    <tr>\n",
       "      <th>2</th>\n",
       "      <td>1964-05-01 02:00:00</td>\n",
       "      <td>03103</td>\n",
       "      <td>4.4</td>\n",
       "      <td>0.0</td>\n",
       "      <td>0.925122</td>\n",
       "      <td>0.0</td>\n",
       "    </tr>\n",
       "    <tr>\n",
       "      <th>3</th>\n",
       "      <td>1964-05-01 03:00:00</td>\n",
       "      <td>03103</td>\n",
       "      <td>3.3</td>\n",
       "      <td>0.0</td>\n",
       "      <td>0.924547</td>\n",
       "      <td>0.0</td>\n",
       "    </tr>\n",
       "    <tr>\n",
       "      <th>4</th>\n",
       "      <td>1964-05-01 04:00:00</td>\n",
       "      <td>03103</td>\n",
       "      <td>2.8</td>\n",
       "      <td>0.0</td>\n",
       "      <td>0.924283</td>\n",
       "      <td>0.0</td>\n",
       "    </tr>\n",
       "  </tbody>\n",
       "</table>\n",
       "</div>"
      ],
      "text/plain": [
       "                 date  sites  temp  precip        rh  solrad\n",
       "0 1964-05-01 00:00:00  03103   9.4     0.0  0.605071     0.0\n",
       "1 1964-05-01 01:00:00  03103   5.6    15.0  0.850413     0.0\n",
       "2 1964-05-01 02:00:00  03103   4.4     0.0  0.925122     0.0\n",
       "3 1964-05-01 03:00:00  03103   3.3     0.0  0.924547     0.0\n",
       "4 1964-05-01 04:00:00  03103   2.8     0.0  0.924283     0.0"
      ]
     },
     "execution_count": 693,
     "metadata": {},
     "output_type": "execute_result"
    }
   ],
   "source": [
    "df.head()"
   ]
  },
  {
   "cell_type": "code",
   "execution_count": 692,
   "metadata": {},
   "outputs": [
    {
     "data": {
      "text/html": [
       "<div>\n",
       "<style scoped>\n",
       "    .dataframe tbody tr th:only-of-type {\n",
       "        vertical-align: middle;\n",
       "    }\n",
       "\n",
       "    .dataframe tbody tr th {\n",
       "        vertical-align: top;\n",
       "    }\n",
       "\n",
       "    .dataframe thead th {\n",
       "        text-align: right;\n",
       "    }\n",
       "</style>\n",
       "<table border=\"1\" class=\"dataframe\">\n",
       "  <thead>\n",
       "    <tr style=\"text-align: right;\">\n",
       "      <th></th>\n",
       "      <th>site</th>\n",
       "      <th>year</th>\n",
       "    </tr>\n",
       "  </thead>\n",
       "  <tbody>\n",
       "    <tr>\n",
       "      <th>0</th>\n",
       "      <td>03103</td>\n",
       "      <td>1964</td>\n",
       "    </tr>\n",
       "    <tr>\n",
       "      <th>1</th>\n",
       "      <td>03103</td>\n",
       "      <td>1966</td>\n",
       "    </tr>\n",
       "    <tr>\n",
       "      <th>2</th>\n",
       "      <td>03103</td>\n",
       "      <td>1967</td>\n",
       "    </tr>\n",
       "    <tr>\n",
       "      <th>3</th>\n",
       "      <td>03103</td>\n",
       "      <td>1969</td>\n",
       "    </tr>\n",
       "    <tr>\n",
       "      <th>4</th>\n",
       "      <td>03103</td>\n",
       "      <td>1970</td>\n",
       "    </tr>\n",
       "  </tbody>\n",
       "</table>\n",
       "</div>"
      ],
      "text/plain": [
       "    site  year\n",
       "0  03103  1964\n",
       "1  03103  1966\n",
       "2  03103  1967\n",
       "3  03103  1969\n",
       "4  03103  1970"
      ]
     },
     "execution_count": 692,
     "metadata": {},
     "output_type": "execute_result"
    }
   ],
   "source": [
    "valid_siteyears = siteyear.shape[0]\n",
    "siteyear.head()"
   ]
  },
  {
   "cell_type": "code",
   "execution_count": null,
   "metadata": {},
   "outputs": [],
   "source": [
    "btemp = 8\n",
    "temp_mean = list()\n",
    "gdh = list()\n",
    "rh_mean = list()\n",
    "precip_sum = list()\n",
    "\n",
    "for i in range(valid_siteyears):\n",
    "    dfi = df[df.date.dt.year == siteyear.year[i]] \n",
    "    dfi = dfi[dfi.sites == siteyear.site[i]]\n",
    "\n",
    "    tempi_mean = np.mean(dfi.temp) # mean growing season temp\n",
    "    temp_mean.append(tempi_mean)\n",
    "\n",
    "    temps = [x for x in dfi.temp if x >= 8] # growing season growing degree hours\n",
    "    gdhi = np.sum([x - btemp for x in temps])\n",
    "    gdh.append(gdhi)\n",
    "\n",
    "    rhi_mean = np.mean(dfi.rh) # mean growing season rh\n",
    "    rh_mean.append(rhi_mean)\n",
    "\n",
    "    precipi_sum = np.sum(dfi.precip) # total growing season precip\n",
    "    precip_sum.append(precipi_sum)\n",
    "    \n",
    "#    print(i)"
   ]
  },
  {
   "cell_type": "code",
   "execution_count": 731,
   "metadata": {},
   "outputs": [
    {
     "data": {
      "text/html": [
       "<div>\n",
       "<style scoped>\n",
       "    .dataframe tbody tr th:only-of-type {\n",
       "        vertical-align: middle;\n",
       "    }\n",
       "\n",
       "    .dataframe tbody tr th {\n",
       "        vertical-align: top;\n",
       "    }\n",
       "\n",
       "    .dataframe thead th {\n",
       "        text-align: right;\n",
       "    }\n",
       "</style>\n",
       "<table border=\"1\" class=\"dataframe\">\n",
       "  <thead>\n",
       "    <tr style=\"text-align: right;\">\n",
       "      <th></th>\n",
       "      <th>site</th>\n",
       "      <th>year</th>\n",
       "    </tr>\n",
       "  </thead>\n",
       "  <tbody>\n",
       "    <tr>\n",
       "      <th>0</th>\n",
       "      <td>03103</td>\n",
       "      <td>1964</td>\n",
       "    </tr>\n",
       "    <tr>\n",
       "      <th>1</th>\n",
       "      <td>03103</td>\n",
       "      <td>1966</td>\n",
       "    </tr>\n",
       "    <tr>\n",
       "      <th>2</th>\n",
       "      <td>03103</td>\n",
       "      <td>1967</td>\n",
       "    </tr>\n",
       "    <tr>\n",
       "      <th>3</th>\n",
       "      <td>03103</td>\n",
       "      <td>1969</td>\n",
       "    </tr>\n",
       "    <tr>\n",
       "      <th>4</th>\n",
       "      <td>03103</td>\n",
       "      <td>1970</td>\n",
       "    </tr>\n",
       "  </tbody>\n",
       "</table>\n",
       "</div>"
      ],
      "text/plain": [
       "    site  year\n",
       "0  03103  1964\n",
       "1  03103  1966\n",
       "2  03103  1967\n",
       "3  03103  1969\n",
       "4  03103  1970"
      ]
     },
     "execution_count": 731,
     "metadata": {},
     "output_type": "execute_result"
    }
   ],
   "source": [
    "siteyear.head()"
   ]
  },
  {
   "cell_type": "code",
   "execution_count": 739,
   "metadata": {},
   "outputs": [],
   "source": [
    "df_season = pd.DataFrame({\"year\": siteyear.year, \"site\": siteyear.site, \n",
    "                          \"temp_mean\": temp_mean, \"gdh\": gdh, \"rh_mean\": rh_mean, \"precip_sum\": precip_sum},\n",
    "                         columns=[\"year\", \"site\", \"temp_mean\", \"gdh\", \"rh_mean\", \"precip_sum\"])"
   ]
  },
  {
   "cell_type": "code",
   "execution_count": 762,
   "metadata": {},
   "outputs": [],
   "source": [
    "df_season.to_csv(\"/home/disk/eos8/ach315/upscale/weadata/weadata_season.csv\")"
   ]
  },
  {
   "cell_type": "code",
   "execution_count": 740,
   "metadata": {},
   "outputs": [
    {
     "data": {
      "text/html": [
       "<div>\n",
       "<style scoped>\n",
       "    .dataframe tbody tr th:only-of-type {\n",
       "        vertical-align: middle;\n",
       "    }\n",
       "\n",
       "    .dataframe tbody tr th {\n",
       "        vertical-align: top;\n",
       "    }\n",
       "\n",
       "    .dataframe thead th {\n",
       "        text-align: right;\n",
       "    }\n",
       "</style>\n",
       "<table border=\"1\" class=\"dataframe\">\n",
       "  <thead>\n",
       "    <tr style=\"text-align: right;\">\n",
       "      <th></th>\n",
       "      <th>year</th>\n",
       "      <th>site</th>\n",
       "      <th>temp_mean</th>\n",
       "      <th>gdh</th>\n",
       "      <th>rh_mean</th>\n",
       "      <th>precip_sum</th>\n",
       "    </tr>\n",
       "  </thead>\n",
       "  <tbody>\n",
       "    <tr>\n",
       "      <th>0</th>\n",
       "      <td>1964</td>\n",
       "      <td>03103</td>\n",
       "      <td>14.280639</td>\n",
       "      <td>31830.2</td>\n",
       "      <td>0.485070</td>\n",
       "      <td>2207.0</td>\n",
       "    </tr>\n",
       "    <tr>\n",
       "      <th>1</th>\n",
       "      <td>1966</td>\n",
       "      <td>03103</td>\n",
       "      <td>14.703397</td>\n",
       "      <td>10996.6</td>\n",
       "      <td>0.521153</td>\n",
       "      <td>843.0</td>\n",
       "    </tr>\n",
       "    <tr>\n",
       "      <th>2</th>\n",
       "      <td>1967</td>\n",
       "      <td>03103</td>\n",
       "      <td>13.812092</td>\n",
       "      <td>9869.4</td>\n",
       "      <td>0.538665</td>\n",
       "      <td>1164.0</td>\n",
       "    </tr>\n",
       "    <tr>\n",
       "      <th>3</th>\n",
       "      <td>1969</td>\n",
       "      <td>03103</td>\n",
       "      <td>13.825272</td>\n",
       "      <td>10329.3</td>\n",
       "      <td>0.469296</td>\n",
       "      <td>510.0</td>\n",
       "    </tr>\n",
       "    <tr>\n",
       "      <th>4</th>\n",
       "      <td>1970</td>\n",
       "      <td>03103</td>\n",
       "      <td>14.284375</td>\n",
       "      <td>10829.1</td>\n",
       "      <td>0.467291</td>\n",
       "      <td>885.0</td>\n",
       "    </tr>\n",
       "  </tbody>\n",
       "</table>\n",
       "</div>"
      ],
      "text/plain": [
       "   year   site  temp_mean      gdh   rh_mean  precip_sum\n",
       "0  1964  03103  14.280639  31830.2  0.485070      2207.0\n",
       "1  1966  03103  14.703397  10996.6  0.521153       843.0\n",
       "2  1967  03103  13.812092   9869.4  0.538665      1164.0\n",
       "3  1969  03103  13.825272  10329.3  0.469296       510.0\n",
       "4  1970  03103  14.284375  10829.1  0.467291       885.0"
      ]
     },
     "execution_count": 740,
     "metadata": {},
     "output_type": "execute_result"
    }
   ],
   "source": [
    "df_season.head()"
   ]
  },
  {
   "cell_type": "code",
   "execution_count": 759,
   "metadata": {},
   "outputs": [
    {
     "data": {
      "text/plain": [
       "Text(0.5,0,'mean growing season temperature')"
      ]
     },
     "execution_count": 759,
     "metadata": {},
     "output_type": "execute_result"
    },
    {
     "data": {
      "image/png": "[encoded data removed]",
      "text/plain": [
       "<Figure size 432x288 with 1 Axes>"
      ]
     },
     "metadata": {},
     "output_type": "display_data"
    }
   ],
   "source": [
    "plt.hist(df_season.temp_mean, alpha=0.5)\n",
    "plt.xlabel(\"mean growing season temperature\")"
   ]
  },
  {
   "cell_type": "code",
   "execution_count": 760,
   "metadata": {},
   "outputs": [
    {
     "data": {
      "text/plain": [
       "Text(0.5,0,'growing season precipitatoin')"
      ]
     },
     "execution_count": 760,
     "metadata": {},
     "output_type": "execute_result"
    },
    {
     "data": {
      "image/png": "[encoded data removed]",
      "text/plain": [
       "<Figure size 432x288 with 1 Axes>"
      ]
     },
     "metadata": {},
     "output_type": "display_data"
    }
   ],
   "source": [
    "plt.hist(df_season.precip_sum, alpha=0.5)\n",
    "plt.xlabel(\"growing season precipitatoin\")"
   ]
  },
  {
   "cell_type": "code",
   "execution_count": 758,
   "metadata": {},
   "outputs": [
    {
     "data": {
      "text/plain": [
       "Text(0.5,0,'growing degree hours over season')"
      ]
     },
     "execution_count": 758,
     "metadata": {},
     "output_type": "execute_result"
    },
    {
     "data": {
      "image/png": "[encoded data removed]",
      "text/plain": [
       "<Figure size 432x288 with 1 Axes>"
      ]
     },
     "metadata": {},
     "output_type": "display_data"
    }
   ],
   "source": [
    "plt.hist(df_season.gdh, alpha=0.5)\n",
    "plt.xlabel(\"growing degree hours over season\")"
   ]
  },
  {
   "cell_type": "code",
   "execution_count": 757,
   "metadata": {},
   "outputs": [
    {
     "data": {
      "text/plain": [
       "Text(0.5,0,'mean growing season relative humidity')"
      ]
     },
     "execution_count": 757,
     "metadata": {},
     "output_type": "execute_result"
    },
    {
     "data": {
      "image/png": "[encoded data removed]",
      "text/plain": [
       "<Figure size 432x288 with 1 Axes>"
      ]
     },
     "metadata": {},
     "output_type": "display_data"
    }
   ],
   "source": [
    "plt.hist(df_season.rh_mean, alpha=0.5)\n",
    "plt.xlabel(\"mean growing season relative humidity\")"
   ]
  }
 ],
 "metadata": {
  "kernelspec": {
   "display_name": "Python 3",
   "language": "python",
   "name": "python3"
  },
  "language_info": {
   "codemirror_mode": {
    "name": "ipython",
    "version": 3
   },
   "file_extension": ".py",
   "mimetype": "text/x-python",
   "name": "python",
   "nbconvert_exporter": "python",
   "pygments_lexer": "ipython3",
   "version": "3.6.9"
  }
 },
 "nbformat": 4,
 "nbformat_minor": 2
}
