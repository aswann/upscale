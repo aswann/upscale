{
 "cells": [
  {
   "cell_type": "markdown",
   "metadata": {},
   "source": [
    "## Workflow to setup and run ensemble simulations"
   ]
  },
  {
   "cell_type": "markdown",
   "metadata": {},
   "source": [
    "Creating several bash files that provides direction for where to look for the initial files and where to place the model output files"
   ]
  },
  {
   "cell_type": "code",
   "execution_count": 1,
   "metadata": {},
   "outputs": [],
   "source": [
    "import os\n",
    "import numpy as np\n",
    "import pandas as pd\n",
    "import matplotlib.pyplot as plt\n",
    "import glob"
   ]
  },
  {
   "cell_type": "markdown",
   "metadata": {},
   "source": [
    "### Step 0: Setup directories"
   ]
  },
  {
   "cell_type": "markdown",
   "metadata": {},
   "source": [
    "#### 0.1 Create directories to hold run files & simulation outputs\n",
    "Repository structure:\n",
    "- /home/disk/eos8/ach315/upscale/sims/opt/\n",
    "- /home/disk/eos8/ach315/upscale/runs/opt/\n",
    "    - years/ \n",
    "        - cultivars/\n",
    "            - all sites\n",
    "\n",
    "Code block only needs to be executed once - will throw error otherwise"
   ]
  },
  {
   "cell_type": "code",
   "execution_count": null,
   "metadata": {},
   "outputs": [],
   "source": [
    "folder_name = 'opt_pdate/'\n",
    "folder = 'runs/'\n",
    "#folder = 'sims/'\n",
    "\n",
    "\"\"\"\n",
    "for i in np.arange(1961,2006):\n",
    "    os.mkdir('/home/disk/eos8/ach315/upscale/' + folder + folder_name + str(i))\n",
    "\n",
    "cultivars = list()\n",
    "for i in np.arange(0,100): \n",
    "    cultivar = 'var_' + str(i)\n",
    "    cultivars.append(cultivar)\n",
    "    \n",
    "for i in np.arange(1961,2006):\n",
    "    for j in cultivars:\n",
    "        os.mkdir('/home/disk/eos8/ach315/upscale/' + folder + folder_name + str(i) + '/' + str(j))\n",
    "\"\"\""
   ]
  },
  {
   "cell_type": "markdown",
   "metadata": {},
   "source": [
    "#### 0.2 Create directories to hold job scripts\n",
    "Repository location:\n",
    "- /home/disk/eos8/ach315/upscale/jobs/opt/\n",
    "\n",
    "All the job scripts are in one place and not subdivided by folders to make things easier to automate."
   ]
  },
  {
   "cell_type": "markdown",
   "metadata": {},
   "source": [
    "### Step 1. Create run.txt files"
   ]
  },
  {
   "cell_type": "markdown",
   "metadata": {},
   "source": [
    "**siteyears_filtered.csv** <br/>\n",
    "site-years filtered based on:\n",
    "- planting area & percent irrigated\n",
    "- planting date later than March 1st"
   ]
  },
  {
   "cell_type": "code",
   "execution_count": 2,
   "metadata": {},
   "outputs": [
    {
     "data": {
      "text/html": [
       "<div>\n",
       "<style scoped>\n",
       "    .dataframe tbody tr th:only-of-type {\n",
       "        vertical-align: middle;\n",
       "    }\n",
       "\n",
       "    .dataframe tbody tr th {\n",
       "        vertical-align: top;\n",
       "    }\n",
       "\n",
       "    .dataframe thead th {\n",
       "        text-align: right;\n",
       "    }\n",
       "</style>\n",
       "<table border=\"1\" class=\"dataframe\">\n",
       "  <thead>\n",
       "    <tr style=\"text-align: right;\">\n",
       "      <th></th>\n",
       "      <th>site</th>\n",
       "      <th>year</th>\n",
       "      <th>doy</th>\n",
       "      <th>pdate</th>\n",
       "    </tr>\n",
       "  </thead>\n",
       "  <tbody>\n",
       "    <tr>\n",
       "      <th>0</th>\n",
       "      <td>722070</td>\n",
       "      <td>1970</td>\n",
       "      <td>61</td>\n",
       "      <td>1970-03-02</td>\n",
       "    </tr>\n",
       "    <tr>\n",
       "      <th>1</th>\n",
       "      <td>722070</td>\n",
       "      <td>1972</td>\n",
       "      <td>61</td>\n",
       "      <td>1972-03-01</td>\n",
       "    </tr>\n",
       "    <tr>\n",
       "      <th>2</th>\n",
       "      <td>722070</td>\n",
       "      <td>1977</td>\n",
       "      <td>61</td>\n",
       "      <td>1977-03-02</td>\n",
       "    </tr>\n",
       "    <tr>\n",
       "      <th>3</th>\n",
       "      <td>722070</td>\n",
       "      <td>1978</td>\n",
       "      <td>75</td>\n",
       "      <td>1978-03-16</td>\n",
       "    </tr>\n",
       "    <tr>\n",
       "      <th>4</th>\n",
       "      <td>722070</td>\n",
       "      <td>1979</td>\n",
       "      <td>61</td>\n",
       "      <td>1979-03-02</td>\n",
       "    </tr>\n",
       "  </tbody>\n",
       "</table>\n",
       "</div>"
      ],
      "text/plain": [
       "     site  year  doy       pdate\n",
       "0  722070  1970   61  1970-03-02\n",
       "1  722070  1972   61  1972-03-01\n",
       "2  722070  1977   61  1977-03-02\n",
       "3  722070  1978   75  1978-03-16\n",
       "4  722070  1979   61  1979-03-02"
      ]
     },
     "execution_count": 2,
     "metadata": {},
     "output_type": "execute_result"
    }
   ],
   "source": [
    "siteyears = pd.read_csv('/home/disk/eos8/ach315/upscale/weadata/siteyears_filtered.csv', \n",
    "                        dtype={'site':str}, index_col=0)\n",
    "siteyears.head()"
   ]
  },
  {
   "cell_type": "code",
   "execution_count": 3,
   "metadata": {},
   "outputs": [],
   "source": [
    "for i in np.arange(siteyears.shape[0]):\n",
    "    site = siteyears.iloc[i,0]\n",
    "    year = siteyears.iloc[i,1]\n",
    "\n",
    "    # setting up directories\n",
    "    init_dirct_wea = '/home/disk/eos8/ach315/upscale/weadata/data/control/'\n",
    "    init_dirct_stand = '/home/disk/eos8/ach315/upscale/inits/standard_test/'\n",
    "    init_dirct_custom = '/home/disk/eos8/ach315/upscale/inits/custom/' + site + '_' + year + '/'\n",
    "\n",
    "    # strings in run file\n",
    "    cultivars = glob.glob('/home/disk/eos8/ach315/upscale/inits/var/*')\n",
    "    for j in cultivars:\n",
    "        var = j.split('/')[-1].split('.')[-2]\n",
    "        output_dirct = '/home/disk/eos8/ach315/upscale/sims/opt_drysoil/' + year + '/' + var + '/'\n",
    "\n",
    "        str1 = init_dirct_wea + site + '_' + year + '.txt\\n'\n",
    "        str2 = init_dirct_custom + 'time.txt\\n'\n",
    "        str3 = init_dirct_stand + 'biology.txt\\n'\n",
    "        str4 = init_dirct_custom + 'climate.txt\\n'\n",
    "        str5 = init_dirct_stand + 'nitrogen.txt\\n'\n",
    "        str6 = init_dirct_stand + 'solute.txt\\n'\n",
    "        str7 = init_dirct_stand + 'soil.txt\\n'\n",
    "        str8 = init_dirct_custom + 'management.txt\\n'\n",
    "        str9 = init_dirct_stand + 'drip.txt\\n'\n",
    "        str10 = init_dirct_stand + 'water.txt\\n'\n",
    "        str11 = init_dirct_stand + 'waterbound.txt\\n'\n",
    "        str12 = init_dirct_custom + 'init.txt\\n'\n",
    "        str13 = j + '\\n' # looping through different cultivar files\n",
    "        str14 = init_dirct_stand + 'grid.txt\\n'\n",
    "        str15 = init_dirct_stand + 'nod.txt\\n'\n",
    "        str16 = init_dirct_stand + 'massbl.txt\\n'\n",
    "        str17 = output_dirct + 'out1_' + site + '_' + year + '_' + var + '.txt\\n'\n",
    "        str18 = output_dirct + 'out2_' + site + '_' + year + '_' + var + '.txt\\n'\n",
    "        str19 = output_dirct + 'out3.txt\\n'\n",
    "        str20 = output_dirct + 'out4.txt\\n'\n",
    "        str21 = output_dirct + 'out5.txt\\n'\n",
    "        str22 = output_dirct + 'out6.txt\\n'\n",
    "        str23 = output_dirct + 'massbl.txt\\n'\n",
    "        str24 = output_dirct + 'runoff.txt\\n'\n",
    "        \n",
    "        # combining strings1\n",
    "        strings = [str1, str2, str3, str4, str5, str6, str7, str8, str9, str10, str11, str12, str13,\n",
    "                   str14, str15, str16, str17, str18, str19, str20, str21, str22, str23, str24]\n",
    "\n",
    "        # writing out run.txt file\n",
    "        run = open('/home/disk/eos8/ach315/upscale/runs/opt_drysoil/' + year + '/' + var + \n",
    "                   '/run_' + site + '_' + year + '_' + var + '.txt', 'w')\n",
    "        run.writelines(strings)\n",
    "        run.close()"
   ]
  },
  {
   "cell_type": "markdown",
   "metadata": {},
   "source": [
    "### Step 2. Create job files that execute a batch of run files"
   ]
  },
  {
   "cell_type": "code",
   "execution_count": 6,
   "metadata": {},
   "outputs": [],
   "source": [
    "dirct = '/home/disk/eos8/ach315/upscale/jobs/opt/'\n",
    "cultivars = glob.glob('/home/disk/eos8/ach315/upscale/inits/var/*')\n",
    "treatment = 'cont'\n",
    "\n",
    "for i in np.arange(1961,2006):\n",
    "    for j in cultivars:\n",
    "        var = j.split('/')[-1].split('.')[-2]\n",
    "        str1 = '#!/bin/bash\\n'\n",
    "        str2 = '#PBS -l nodes=1:ppn=1\\n'\n",
    "        str3 = '#PBS -l walltime=08:00:00\\n'\n",
    "        str4 = '#PBS -m a\\n'\n",
    "        str5 = '#PBS -M ach315@uw.edu\\n'\n",
    "        str6 = '#PBS -N ' + treatment + '_' + str(i) + '_' + str(var) + '\\n'\n",
    "        str7 = '\\n'\n",
    "        str8 = 'FILES=/home/disk/eos8/ach315/upscale/runs/opt/' + str(i)+ '/' + str(var) + '/*\\n'\n",
    "        str9 = '\\n'\n",
    "        str10 = 'for file in $FILES\\n'\n",
    "        str11 = 'do\\n'\n",
    "        str12 = '    cd /home/disk/eos8/ach315/MAIZSIM\\n'\n",
    "        str13 = '    timeout 15m maizsim $file\\n'\n",
    "        str14 = 'done\\n'\n",
    "\n",
    "        strings = [str1, str2, str3, str4, str5, str6, str7, str8, str9, str10, str11, str12, str13, str14]\n",
    "\n",
    "#        jobs = open(dirct + '/' + str(i) + '_' + str(var) + '.job', 'w')\n",
    "#        jobs.writelines(strings)\n",
    "#        jobs.close()"
   ]
  },
  {
   "cell_type": "code",
   "execution_count": 9,
   "metadata": {},
   "outputs": [],
   "source": [
    "# script for opt_soils\n",
    "dirct = '/home/disk/eos8/ach315/upscale/jobs/opt_soil1/'\n",
    "cultivars = glob.glob('/home/disk/eos8/ach315/upscale/inits/var/*')\n",
    "treatment = 's1'\n",
    "\n",
    "for i in np.arange(1961,2006):\n",
    "    for j in cultivars:\n",
    "        var = j.split('/')[-1].split('.')[-2]\n",
    "        str1 = '#!/bin/bash\\n'\n",
    "        str2 = '#PBS -l nodes=1:ppn=1\\n'\n",
    "        str3 = '#PBS -l walltime=08:00:00\\n'\n",
    "        str4 = '#PBS -m a\\n'\n",
    "        str5 = '#PBS -M ach315@uw.edu\\n'\n",
    "        str6 = '#PBS -N ' + treatment + '_' + str(i) + '_' + str(var) + '\\n'\n",
    "        str7 = '\\n'\n",
    "        str8 = 'FILES=/home/disk/eos8/ach315/upscale/runs/opt_soil1/' + str(i)+ '/' + str(var) + '/*\\n'\n",
    "        str9 = '\\n'\n",
    "        str10 = 'for file in $FILES\\n'\n",
    "        str11 = 'do\\n'\n",
    "        str12 = '    cd /home/disk/eos8/ach315/MAIZSIM\\n'\n",
    "        str13 = '    timeout 15m maizsim $file\\n'\n",
    "        str14 = 'done\\n'\n",
    "\n",
    "        strings = [str1, str2, str3, str4, str5, str6, str7, str8, str9, str10, str11, str12, str13, str14]\n",
    "\n",
    "        jobs = open(dirct + '/' + str(i) + '_' + str(var) + '.job', 'w')\n",
    "        jobs.writelines(strings)\n",
    "        jobs.close()"
   ]
  },
  {
   "cell_type": "markdown",
   "metadata": {},
   "source": [
    "### Step 3. Create script that automates qsub jobs"
   ]
  },
  {
   "cell_type": "markdown",
   "metadata": {},
   "source": [
    "I wrote the batch job script directly on the server. <br/>\n",
    "See subjobs.job at '/home/disk/eos8/ach315/upscale/jobs' <br/>"
   ]
  },
  {
   "cell_type": "code",
   "execution_count": null,
   "metadata": {},
   "outputs": [],
   "source": []
  },
  {
   "cell_type": "code",
   "execution_count": null,
   "metadata": {},
   "outputs": [],
   "source": []
  },
  {
   "cell_type": "code",
   "execution_count": null,
   "metadata": {},
   "outputs": [],
   "source": []
  },
  {
   "cell_type": "code",
   "execution_count": null,
   "metadata": {},
   "outputs": [],
   "source": []
  },
  {
   "cell_type": "markdown",
   "metadata": {},
   "source": [
    "## 210106 script for opt_pdate\n",
    "*** still need to figure out what soil files to use and create soil files"
   ]
  },
  {
   "cell_type": "code",
   "execution_count": null,
   "metadata": {},
   "outputs": [],
   "source": [
    "siteyears = pd.read_csv('/home/disk/eos8/ach315/upscale/weadata/siteyears_filtered.csv', dtype=str, index_col=0)\n",
    "\n",
    "for i in np.arange(siteyears.shape[0]):\n",
    "    site = siteyears.iloc[i,0]\n",
    "    year = siteyears.iloc[i,1]\n",
    "\n",
    "    # setting up directories\n",
    "    init_dirct_wea = '/home/disk/eos8/ach315/upscale/weadata/data/control/'\n",
    "    init_dirct_stand = '/home/disk/eos8/ach315/upscale/inits/standard/'\n",
    "    init_dirct_custom = '/home/disk/eos8/ach315/upscale/inits/custom_pdate/' + site + '_' + year + '/'\n",
    "    init_dirct_soil = '/home/disk/eos8/ach315/upscale/inits/soils/soils_1/'\n",
    "    stash_dirct = '/home/disk/eos8/ach315/upscale/sims/stash/'\n",
    "\n",
    "    # strings in run file\n",
    "    cultivars = glob.glob('/home/disk/eos8/ach315/upscale/inits/var/*')\n",
    "    for j in cultivars:\n",
    "        var = j.split('/')[-1].split('.')[-2]\n",
    "        output_dirct = '/home/disk/eos8/ach315/upscale/sims/opt_pdate/' + year + '/' + var + '/'\n",
    "\n",
    "        str1 = init_dirct_wea + site + '_' + year + '.txt\\n'\n",
    "        str2 = init_dirct_custom + 'time.txt\\n'\n",
    "        str3 = init_dirct_stand + 'biology.txt\\n'\n",
    "        str4 = init_dirct_custom + 'climate.txt\\n'\n",
    "        str5 = init_dirct_stand + 'nitrogen.txt\\n'\n",
    "        str6 = init_dirct_soil + 'solute.txt\\n'\n",
    "        str7 = init_dirct_soil + 'soil.txt\\n'\n",
    "        str8 = init_dirct_custom + 'management.txt\\n'\n",
    "        str9 = init_dirct_stand + 'drip.txt\\n'\n",
    "        str10 = init_dirct_stand + 'water.txt\\n'\n",
    "        str11 = init_dirct_stand + 'waterbound.txt\\n'\n",
    "        str12 = init_dirct_custom + 'init.txt\\n'\n",
    "        str13 = j + '\\n' # looping through different cultivar files\n",
    "        str14 = init_dirct_soil + 'grid.txt\\n'\n",
    "        str15 = init_dirct_soil + 'nod.txt\\n'\n",
    "        str16 = init_dirct_stand + 'massbl.txt\\n'\n",
    "        str17 = output_dirct + 'out1_' + site + '_' + year + '_' + var + '.txt\\n'\n",
    "        str18 = stash_dirct + 'out2_' + site + '_' + year + '_' + var + '.txt\\n'\n",
    "        str19 = stash_dirct + 'out3.txt\\n'\n",
    "        str20 = stash_dirct + 'out4.txt\\n'\n",
    "        str21 = stash_dirct + 'out5.txt\\n'\n",
    "        str22 = stash_dirct + 'out6.txt\\n'\n",
    "        str23 = stash_dirct + 'massbl_' + site + '_' + year + '_' + var + '.txt\\n'\n",
    "        str24 = stash_dirct + 'runoff.txt\\n'\n",
    "        \n",
    "        # combining strings1\n",
    "        strings = [str1, str2, str3, str4, str5, str6, str7, str8, str9, str10, str11, str12, str13,\n",
    "                   str14, str15, str16, str17, str18, str19, str20, str21, str22, str23, str24]\n",
    "\n",
    "        # writing out run.txt file\n",
    "        run = open('/home/disk/eos8/ach315/upscale/runs/opt_pdate/' + year + '/' + var + \n",
    "                   '/run_' + site + '_' + year + '_' + var + '.txt', 'w')\n",
    "        run.writelines(strings)\n",
    "        run.close()"
   ]
  }
 ],
 "metadata": {
  "kernelspec": {
   "display_name": "Python [conda env:ideotype]",
   "language": "python",
   "name": "conda-env-ideotype-py"
  },
  "language_info": {
   "codemirror_mode": {
    "name": "ipython",
    "version": 3
   },
   "file_extension": ".py",
   "mimetype": "text/x-python",
   "name": "python",
   "nbconvert_exporter": "python",
   "pygments_lexer": "ipython3",
   "version": "3.8.5"
  }
 },
 "nbformat": 4,
 "nbformat_minor": 4
}
