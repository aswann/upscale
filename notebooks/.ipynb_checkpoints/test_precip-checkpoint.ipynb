{
 "cells": [
  {
   "cell_type": "code",
   "execution_count": 217,
   "metadata": {},
   "outputs": [],
   "source": [
    "import numpy as np\n",
    "import pandas as pd\n",
    "import matplotlib.pyplot as plt\n",
    "import seaborn as sns\n",
    "import glob\n",
    "import time \n",
    "import datetime"
   ]
  },
  {
   "cell_type": "code",
   "execution_count": 249,
   "metadata": {},
   "outputs": [],
   "source": [
    "# preset time variables\n",
    "season_start, season_end = '03-01-', '11-30-'\n",
    "year = 2008\n",
    "dateparse = lambda dates: [datetime.datetime.strptime(d, \"%Y%m%d%H\") for d in dates] # dateparsing method to be used in pd.read_fwf\n",
    "season_start, season_end = '03-01-', '11-30-' # setting a pretty borad range for growing season\n",
    "\n",
    "# setting up np.read_fwf arguments\n",
    "colnames = ['time', 'temp', 'dew_temp', 'precip', 'precip_time', 'precip_depth', 'precip_condition', 'precip_quality', 'rh']\n",
    "colspecs = [(15,25), (87,92), (93,98), (105,8193)]\n",
    "\n",
    "# reading in file\n",
    "name = '/home/disk/eos8/ach315/data/ISH/2008/722010-12836-2008'\n",
    "df = pd.read_fwf(name, names=colnames, colspecs=colspecs, header=None, index_col='time',\n",
    "                 encoding='latin_1', dtype={'temp':int, 'precip':str}, \n",
    "                 parse_dates=True, date_parser=dateparse)\n",
    "\n",
    "# remove duplicated hours, keeping only the first measurement per hour\n",
    "df = df[df.index.duplicated(keep='first') == False]\n",
    "\n",
    "# add in missing time values (corrects for leap years) and keeps only growing season\n",
    "times = pd.date_range(season_start + str(year), season_end + str(year), freq='1H')\n",
    "df = df.reindex(times, fill_value=np.nan)"
   ]
  },
  {
   "cell_type": "code",
   "execution_count": 250,
   "metadata": {},
   "outputs": [
    {
     "data": {
      "text/html": [
       "<div>\n",
       "<style scoped>\n",
       "    .dataframe tbody tr th:only-of-type {\n",
       "        vertical-align: middle;\n",
       "    }\n",
       "\n",
       "    .dataframe tbody tr th {\n",
       "        vertical-align: top;\n",
       "    }\n",
       "\n",
       "    .dataframe thead th {\n",
       "        text-align: right;\n",
       "    }\n",
       "</style>\n",
       "<table border=\"1\" class=\"dataframe\">\n",
       "  <thead>\n",
       "    <tr style=\"text-align: right;\">\n",
       "      <th></th>\n",
       "      <th>temp</th>\n",
       "      <th>dew_temp</th>\n",
       "      <th>precip</th>\n",
       "      <th>precip_time</th>\n",
       "      <th>precip_depth</th>\n",
       "      <th>precip_condition</th>\n",
       "      <th>precip_quality</th>\n",
       "      <th>rh</th>\n",
       "    </tr>\n",
       "  </thead>\n",
       "  <tbody>\n",
       "    <tr>\n",
       "      <th>2008-03-01 00:00:00</th>\n",
       "      <td>211</td>\n",
       "      <td>139</td>\n",
       "      <td>ADDGA1001+999999999GF100991001001999999001001K...</td>\n",
       "      <td>NaN</td>\n",
       "      <td>NaN</td>\n",
       "      <td>NaN</td>\n",
       "      <td>NaN</td>\n",
       "      <td>NaN</td>\n",
       "    </tr>\n",
       "    <tr>\n",
       "      <th>2008-03-01 01:00:00</th>\n",
       "      <td>206</td>\n",
       "      <td>144</td>\n",
       "      <td>ADDAA101000095GF100991999999999999999999MA1102...</td>\n",
       "      <td>NaN</td>\n",
       "      <td>NaN</td>\n",
       "      <td>NaN</td>\n",
       "      <td>NaN</td>\n",
       "      <td>NaN</td>\n",
       "    </tr>\n",
       "    <tr>\n",
       "      <th>2008-03-01 02:00:00</th>\n",
       "      <td>206</td>\n",
       "      <td>144</td>\n",
       "      <td>ADDAA101000095GF100991999999999999999999MA1102...</td>\n",
       "      <td>NaN</td>\n",
       "      <td>NaN</td>\n",
       "      <td>NaN</td>\n",
       "      <td>NaN</td>\n",
       "      <td>NaN</td>\n",
       "    </tr>\n",
       "    <tr>\n",
       "      <th>2008-03-01 03:00:00</th>\n",
       "      <td>206</td>\n",
       "      <td>144</td>\n",
       "      <td>ADDGA1001+999999999GF100991001001999999001001M...</td>\n",
       "      <td>NaN</td>\n",
       "      <td>NaN</td>\n",
       "      <td>NaN</td>\n",
       "      <td>NaN</td>\n",
       "      <td>NaN</td>\n",
       "    </tr>\n",
       "    <tr>\n",
       "      <th>2008-03-01 04:00:00</th>\n",
       "      <td>200</td>\n",
       "      <td>150</td>\n",
       "      <td>ADDAA101000095GF100991999999999999999999MA1102...</td>\n",
       "      <td>NaN</td>\n",
       "      <td>NaN</td>\n",
       "      <td>NaN</td>\n",
       "      <td>NaN</td>\n",
       "      <td>NaN</td>\n",
       "    </tr>\n",
       "  </tbody>\n",
       "</table>\n",
       "</div>"
      ],
      "text/plain": [
       "                     temp  dew_temp  \\\n",
       "2008-03-01 00:00:00   211       139   \n",
       "2008-03-01 01:00:00   206       144   \n",
       "2008-03-01 02:00:00   206       144   \n",
       "2008-03-01 03:00:00   206       144   \n",
       "2008-03-01 04:00:00   200       150   \n",
       "\n",
       "                                                                precip  \\\n",
       "2008-03-01 00:00:00  ADDGA1001+999999999GF100991001001999999001001K...   \n",
       "2008-03-01 01:00:00  ADDAA101000095GF100991999999999999999999MA1102...   \n",
       "2008-03-01 02:00:00  ADDAA101000095GF100991999999999999999999MA1102...   \n",
       "2008-03-01 03:00:00  ADDGA1001+999999999GF100991001001999999001001M...   \n",
       "2008-03-01 04:00:00  ADDAA101000095GF100991999999999999999999MA1102...   \n",
       "\n",
       "                     precip_time  precip_depth  precip_condition  \\\n",
       "2008-03-01 00:00:00          NaN           NaN               NaN   \n",
       "2008-03-01 01:00:00          NaN           NaN               NaN   \n",
       "2008-03-01 02:00:00          NaN           NaN               NaN   \n",
       "2008-03-01 03:00:00          NaN           NaN               NaN   \n",
       "2008-03-01 04:00:00          NaN           NaN               NaN   \n",
       "\n",
       "                     precip_quality  rh  \n",
       "2008-03-01 00:00:00             NaN NaN  \n",
       "2008-03-01 01:00:00             NaN NaN  \n",
       "2008-03-01 02:00:00             NaN NaN  \n",
       "2008-03-01 03:00:00             NaN NaN  \n",
       "2008-03-01 04:00:00             NaN NaN  "
      ]
     },
     "execution_count": 250,
     "metadata": {},
     "output_type": "execute_result"
    }
   ],
   "source": [
    "df.head()"
   ]
  },
  {
   "cell_type": "code",
   "execution_count": 261,
   "metadata": {},
   "outputs": [],
   "source": [
    "#df.precip_time = df[df['precip'].str.find('ADDAA1')!=-1]['precip'].str.split('ADDAA1').str.get(1).str.slice(0,2).astype(float)\n",
    "#df.precip_depth = df[df['precip'].str.find('ADDAA1')!=-1]['precip'].str.split('ADDAA1').str.get(1).str.slice(2, 6).astype(float)\n",
    "#df.precip_condition = df[df['precip'].str.find('ADDAA1')!=-1]['precip'].str.split('ADDAA1').str.get(1).str.slice(6,7)\n",
    "df.precip_quality = df[df['precip'].str.find('ADDAA1')!=-1]['precip'].str.split('ADDAA1').str.get(1).str.slice(7,8)"
   ]
  },
  {
   "cell_type": "code",
   "execution_count": 258,
   "metadata": {},
   "outputs": [],
   "source": [
    "df.precip_quality = df[df['precip'].str.find('ADDAA1')!=-1]['precip'].str.split('ADDAA1').str.get(1).str.slice(7,8)\n"
   ]
  },
  {
   "cell_type": "code",
   "execution_count": 260,
   "metadata": {},
   "outputs": [
    {
     "data": {
      "text/plain": [
       "{'1', '2', '5', '6', '9', 'P', nan}"
      ]
     },
     "execution_count": 260,
     "metadata": {},
     "output_type": "execute_result"
    }
   ],
   "source": [
    "set(df.precip_quality)"
   ]
  },
  {
   "cell_type": "code",
   "execution_count": 247,
   "metadata": {},
   "outputs": [
    {
     "data": {
      "text/plain": [
       "1991-03-01 00:00:00    ADDAA106000091AG10000GD12015+0300019GD22015+06...\n",
       "1991-03-01 03:00:00    ADDAA199000091AG10000GD12015+0300019GF10199599...\n",
       "1991-03-01 06:00:00    ADDAA106000091AG10000GF10099599999999999999999...\n",
       "1991-03-01 09:00:00    ADDAA199000091AG10000GF10099599999999999999999...\n",
       "1991-03-01 12:00:00    ADDAA106000091AG10000GD13991+0750013GF10699599...\n",
       "                                             ...                        \n",
       "1991-11-29 12:00:00    ADDAA106000091AG10000GD12991+0150019GD23991+02...\n",
       "1991-11-29 15:00:00    ADDAA199000091AG10000GD12991+0210019GD23991+06...\n",
       "1991-11-29 18:00:00    ADDAA106000091AG14000GD14991+0750019GF10899599...\n",
       "1991-11-29 21:00:00    ADDAA199000091AG10000GD13991+0750013GF10599599...\n",
       "1991-11-30 00:00:00    ADDAA106000091AG14000GD13991+0750019GF10599599...\n",
       "Name: precip, Length: 2086, dtype: object"
      ]
     },
     "execution_count": 247,
     "metadata": {},
     "output_type": "execute_result"
    }
   ],
   "source": [
    "df[df['precip'].str.find('ADDAA1')!=-1]['precip']"
   ]
  },
  {
   "cell_type": "code",
   "execution_count": 240,
   "metadata": {},
   "outputs": [
    {
     "data": {
      "text/plain": [
       "1991-03-01 00:00:00    ADDAA106000091AG10000GD12015+0300019GD22015+06...\n",
       "1991-03-01 03:00:00    ADDAA199000091AG10000GD12015+0300019GF10199599...\n",
       "1991-03-01 06:00:00    ADDAA106000091AG10000GF10099599999999999999999...\n",
       "1991-03-01 09:00:00    ADDAA199000091AG10000GF10099599999999999999999...\n",
       "1991-03-01 12:00:00    ADDAA106000091AG10000GD13991+0750013GF10699599...\n",
       "                                             ...                        \n",
       "1991-11-29 12:00:00    ADDAA106000091AG10000GD12991+0150019GD23991+02...\n",
       "1991-11-29 15:00:00    ADDAA199000091AG10000GD12991+0210019GD23991+06...\n",
       "1991-11-29 18:00:00    ADDAA106000091AG14000GD14991+0750019GF10899599...\n",
       "1991-11-29 21:00:00    ADDAA199000091AG10000GD13991+0750013GF10599599...\n",
       "1991-11-30 00:00:00    ADDAA106000091AG14000GD13991+0750019GF10599599...\n",
       "Name: precip, Length: 2086, dtype: object"
      ]
     },
     "execution_count": 240,
     "metadata": {},
     "output_type": "execute_result"
    }
   ],
   "source": [
    "df[df['precip'].str.find('ADDAA1')!=-1]['precip']"
   ]
  },
  {
   "cell_type": "code",
   "execution_count": 213,
   "metadata": {},
   "outputs": [
    {
     "data": {
      "text/plain": [
       "Series([], Freq: H, Name: precip_depth, dtype: float64)"
      ]
     },
     "execution_count": 213,
     "metadata": {},
     "output_type": "execute_result"
    }
   ],
   "source": [
    "flag = (df.precip_quality > 1) & (df.precip_quality < 9)\n",
    "df.precip_depth[flag]"
   ]
  }
 ],
 "metadata": {
  "kernelspec": {
   "display_name": "Python 3",
   "language": "python",
   "name": "python3"
  },
  "language_info": {
   "codemirror_mode": {
    "name": "ipython",
    "version": 3
   },
   "file_extension": ".py",
   "mimetype": "text/x-python",
   "name": "python",
   "nbconvert_exporter": "python",
   "pygments_lexer": "ipython3",
   "version": "3.6.10"
  }
 },
 "nbformat": 4,
 "nbformat_minor": 4
}
