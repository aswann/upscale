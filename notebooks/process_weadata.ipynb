{
 "cells": [
  {
   "cell_type": "code",
   "execution_count": 1,
   "metadata": {},
   "outputs": [],
   "source": [
    "import os\n",
    "import pandas as pd\n",
    "from ideotype.weafile_process import (read_wea,\n",
    "                                      wea_combine,\n",
    "                                      wea_preprocess,\n",
    "                                      make_weafile)\n",
    "from ideotype import DATA_PATH"
   ]
  },
  {
   "cell_type": "markdown",
   "metadata": {},
   "source": [
    "### Step 1: process weather files\n"
   ]
  },
  {
   "cell_type": "code",
   "execution_count": null,
   "metadata": {},
   "outputs": [],
   "source": [
    "read_wea(1961, 2010, 2050)"
   ]
  },
  {
   "cell_type": "markdown",
   "metadata": {},
   "source": [
    "### Step 2: Combine weather data"
   ]
  },
  {
   "cell_type": "code",
   "execution_count": null,
   "metadata": {},
   "outputs": [],
   "source": [
    "wea_folder = str(2050)\n",
    "basepath = '/home/disk/eos8/ach315/upscale/weadata/process_' + wea_folder\n",
    "wea_combine(basepath)"
   ]
  },
  {
   "cell_type": "markdown",
   "metadata": {},
   "source": [
    "### Step 3: write out weather files"
   ]
  },
  {
   "cell_type": "code",
   "execution_count": 4,
   "metadata": {},
   "outputs": [
    {
     "name": "stdout",
     "output_type": "stream",
     "text": [
      "CPU times: user 31.7 s, sys: 6.96 s, total: 38.7 s\n",
      "Wall time: 38.7 s\n"
     ]
    }
   ],
   "source": [
    "%%time\n",
    "wea_folder = str(2050)\n",
    "basepath = '/home/disk/eos8/ach315/upscale/weadata/process_' + wea_folder\n",
    "df_temp, df_rh, df_precip, df_solrad = wea_preprocess(basepath)"
   ]
  },
  {
   "cell_type": "code",
   "execution_count": 6,
   "metadata": {},
   "outputs": [
    {
     "name": "stdout",
     "output_type": "stream",
     "text": [
      "CPU times: user 12min 31s, sys: 7.7 s, total: 12min 38s\n",
      "Wall time: 12min 39s\n"
     ]
    }
   ],
   "source": [
    "%%time\n",
    "basepath_siteyears = os.path.join(DATA_PATH, 'siteyears')\n",
    "run_name = 'control_fixpd'\n",
    "siteyears_filtered = pd.read_csv(\n",
    "    os.path.join(basepath_siteyears, f'siteyears_{run_name}.csv'), dtype=str)\n",
    "\n",
    "wea_folder = str(2050)\n",
    "outpath = os.path.join(\n",
    "    '/home/disk/eos8/ach315/upscale/weadata/data', wea_folder)\n",
    "make_weafile(\n",
    "    siteyears_filtered, df_temp, df_rh, df_precip, df_solrad, outpath, climate_treatment=2050)"
   ]
  },
  {
   "cell_type": "code",
   "execution_count": null,
   "metadata": {},
   "outputs": [],
   "source": []
  },
  {
   "cell_type": "code",
   "execution_count": null,
   "metadata": {},
   "outputs": [],
   "source": []
  }
 ],
 "metadata": {
  "kernelspec": {
   "display_name": "Python [conda env:ideotype]",
   "language": "python",
   "name": "conda-env-ideotype-py"
  },
  "language_info": {
   "codemirror_mode": {
    "name": "ipython",
    "version": 3
   },
   "file_extension": ".py",
   "mimetype": "text/x-python",
   "name": "python",
   "nbconvert_exporter": "python",
   "pygments_lexer": "ipython3",
   "version": "3.9.4"
  }
 },
 "nbformat": 4,
 "nbformat_minor": 4
}
