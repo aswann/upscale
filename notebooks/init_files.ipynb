{
 "cells": [
  {
   "cell_type": "markdown",
   "metadata": {},
   "source": [
    "## Generating initial text files for maizsim simulations"
   ]
  },
  {
   "cell_type": "markdown",
   "metadata": {},
   "source": [
    "Maizsim has a total of X intput files. The files listed here are only ones that require: <br/>\n",
    "1. customization for individual site-years, or\n",
    "2. multiple sets for parametetr sensitivity testing"
   ]
  },
  {
   "cell_type": "code",
   "execution_count": 6,
   "metadata": {},
   "outputs": [],
   "source": [
    "# Load in necessary packages\n",
    "import os\n",
    "import pandas as pd\n",
    "import numpy as np\n",
    "import glob as glob"
   ]
  },
  {
   "cell_type": "code",
   "execution_count": 7,
   "metadata": {},
   "outputs": [],
   "source": [
    "# simple function that converts tuple into stirng\n",
    "def tup_convert(tup):\n",
    "    str = ''.join(tup)\n",
    "    return str"
   ]
  },
  {
   "cell_type": "markdown",
   "metadata": {},
   "source": [
    "### 0.0 Identifying parameters to test for:\n",
    "- planting date (4/1 - 6/30, weekly interval: 12)\n",
    "- juvenile leaf number (10-20, single leaf interval: 10)"
   ]
  },
  {
   "cell_type": "code",
   "execution_count": 15,
   "metadata": {},
   "outputs": [],
   "source": [
    "# 191011: still need to think more about this\n",
    "#         having emsemble of simulations will be quite tricky to manage everything\n",
    "#         at the moment, maybe it's best to work on carrying out a single geo-spatial wide simulation across the sites I have\n",
    "#         and add in the emsemble element once I get that going"
   ]
  },
  {
   "cell_type": "markdown",
   "metadata": {},
   "source": [
    "### 0.1 Making directories to hold initial files & simulation outputs\n",
    "Repository structure: <br\\>\n",
    "- init_files/\n",
    "    - specific siteyears/ \n",
    "        - parameter combinations/ (191011: holding off this part at the moment)"
   ]
  },
  {
   "cell_type": "code",
   "execution_count": 48,
   "metadata": {},
   "outputs": [],
   "source": [
    "# This cell only needs to be executed once because after that the folders will be created\n",
    "# if you try executing this code block after the folders exist it won't execute and will throw an error\n",
    "siteyears = pd.read_csv('/home/disk/eos8/ach315/upscale/weadata/site_year_crithr1.csv', dtype=str, index_col=0)\n",
    "for i in np.arange(0,len(siteyears)):\n",
    "    os.mkdir('/home/disk/eos8/ach315/upscale/inits/con/' + str(siteyears.iloc[i,0]) + '_' + str(siteyears.iloc[i,1]))\n",
    "    \n",
    "for i in np.arange(0,len(siteyears)):\n",
    "    os.mkdir('/home/disk/eos8/ach315/upscale/sims/con/' + str(siteyears.iloc[i,0]) + '_' + str(siteyears.iloc[i,1]))"
   ]
  },
  {
   "cell_type": "markdown",
   "metadata": {},
   "source": [
    "### 0.2 Identifying initial files that need to customized for each site-year due to time & date\n",
    "Other than weather file, init files that need to be customized include:\n",
    "1. init.txt\n",
    "2. time.txt\n",
    "3. climate.txt\n",
    "4. management.txt\n",
    "5. run.txt"
   ]
  },
  {
   "cell_type": "markdown",
   "metadata": {},
   "source": [
    "### 0.3 Specifying some general input variables"
   ]
  },
  {
   "cell_type": "code",
   "execution_count": 8,
   "metadata": {},
   "outputs": [],
   "source": [
    "directories = glob.glob('/home/disk/eos8/ach315/upscale/inits/con/*')\n",
    "site_info = pd.read_csv('/home/disk/eos8/ach315/upscale/weadata/site_info.csv', dtype=str, index_col=0)\n",
    "tab = '    '"
   ]
  },
  {
   "cell_type": "markdown",
   "metadata": {},
   "source": [
    "### 1. init.txt\n",
    "iniital file for general setup"
   ]
  },
  {
   "cell_type": "code",
   "execution_count": 51,
   "metadata": {},
   "outputs": [],
   "source": [
    "### --- constant parameters ---\n",
    "\n",
    "# management\n",
    "poprow = 7.5 # plants/row\n",
    "rowsp = 75 \n",
    "plant_density = 10 # plant density (___)\n",
    "rowang = 0\n",
    "x_seed = 0\n",
    "y_seed = 195\n",
    "cec = 0.65\n",
    "eomult = 0.5\n",
    "co2 = -1\n",
    "\n",
    "# output soil file or not\n",
    "soil_yes = ('0', tab, '1')\n",
    "soil_no = ('1', tab, '0')\n",
    "\n",
    "# adjustable parameters: time\n",
    "start_date = '04/01/'\n",
    "sowing_date = '04/01/'\n",
    "end_date = '10/31/'\n",
    "timestep = 60\n",
    "\n",
    "# location\n",
    "alt = 0\n",
    "\n",
    "# irrigation \n",
    "irrigate = 0"
   ]
  },
  {
   "cell_type": "code",
   "execution_count": 52,
   "metadata": {},
   "outputs": [],
   "source": [
    "### --- creating .txt file for each site-year ---\n",
    "\n",
    "for i in directories:\n",
    "    init = open(i + '/init.txt', 'w')\n",
    "    year = i.split('/')[-1].split('_')[-1]\n",
    "    site = i.split('/')[-1].split('_')[-2]\n",
    "    \n",
    "    # customized parameters: location\n",
    "    lat = site_info[site_info.site == i.split('/')[-1].split('_')[-2]].lat\n",
    "    lon = site_info[site_info.site == i.split('/')[-1].split('_')[-2]].lon\n",
    "    alt = 0 # we actually don't have altitude information, but I'm also not sure how it affects the model\n",
    "    \n",
    "    # customized parameters: timing\n",
    "    start = \"'\" + start_date + year + \"'\"\n",
    "    sowing = \"'\" + sowing_date + year + \"'\"\n",
    "    end = \"'\" + end_date + year + \"'\"\n",
    "    \n",
    "    # setting up text strings\n",
    "    str1 = '*** initialization data ***\\n'\n",
    "    str2 = tup_convert(['poprow', tab, 'rowsp', tab, 'rowsp', tab, 'plant_density', tab, \n",
    "                        'rowang', tab, 'x_seed', tab, 'y_see', tab, 'eomult', tab, 'co2\\n'])\n",
    "    str3 = tup_convert(['%.1f' %poprow, tab, '%.1f' %rowsp, tab, '%.1f' %plant_density, tab,\n",
    "                        '%.1f' %rowang, tab, '%.1f' %x_seed, tab, '%.1f' %y_seed, tab, '%.2f' %cec, tab,\n",
    "                        '%.2f' %eomult, tab, '%.0f\\n' %co2])\n",
    "    str4 = tup_convert(['latitude', tab, 'longitude', tab, 'altitude\\n'])\n",
    "    str5 = tup_convert(['%.2f' %lat, tab, '%.2f' %lon, tab, '%.2f\\n' %alt])\n",
    "    str6 = 'autoirrigate\\n'\n",
    "    str7 = '%.0f\\n' %irrigate\n",
    "    str8 = tup_convert(['begin', tab, 'sowing', tab, 'end', tab, 'timestep (mins)\\n'])\n",
    "    str9 = tup_convert([start, tab, sowing, tab, end, tab, '%.0f\\n' %timestep])\n",
    "    str10 = 'output soils data (g03, g04, g05, and g06 files) 1 if true\\n'\n",
    "    str11 = tup_convert(['no soil files', tab, 'outputsoil files\\n'])\n",
    "    str12 = tup_convert(soil_no)\n",
    "    \n",
    "    # compiling all strings\n",
    "    strings = [str1, str2, str3, str4, str5, str6, str7, str8, str9, str10, str11, str12]\n",
    "       \n",
    "    # writing out .txt file and clsoing file\n",
    "    init.writelines(strings)\n",
    "    init.close()"
   ]
  },
  {
   "cell_type": "markdown",
   "metadata": {},
   "source": [
    "### 2. time.txt"
   ]
  },
  {
   "cell_type": "code",
   "execution_count": 53,
   "metadata": {},
   "outputs": [],
   "source": [
    "### --- parameters ---\n",
    "\n",
    "# constant parameters\n",
    "dt = 0.0001\n",
    "dt_min = 1e-7\n",
    "dmul1 = 1.3\n",
    "dmul2 = 0.3\n",
    "daily_output = '1    0\\n'\n",
    "hourly_output = '0    1\\n'\n",
    "daily_intput = '1    0\\n'\n",
    "hourly_input = '0    1\\n'\n",
    "\n",
    "# adjustable parameters: time \n",
    "# 'start_date' & 'end_date' are already defined when creating init.txt\n",
    "\n",
    "# adjustable parameters: output format\n",
    "output_timestep = hourly_output\n",
    "weadata_timestep = hourly_input"
   ]
  },
  {
   "cell_type": "code",
   "execution_count": 54,
   "metadata": {},
   "outputs": [],
   "source": [
    "### --- creating .txt file for each site-year ---\n",
    "\n",
    "for i in directories:\n",
    "    # opening text file\n",
    "    time = open(i + '/time.txt', 'w')\n",
    "    \n",
    "    # customizing year and timing\n",
    "    year = i.split('/')[-1].split('_')[-1]\n",
    "    init_time = \"'\" + start_date + year + \"'\"\n",
    "    end_time = \"'\" + end_date + year + \"'\\n\"\n",
    "\n",
    "    # setting up text strings\n",
    "    str1 = '*** synchronizer information ***\\n'\n",
    "    str2 = tup_convert(['initial time', tab, 'dt', tab, 'dtmin', tab, 'dmul1', tab, 'dmul2', tab, 'tfin\\n'])\n",
    "    str3 = tup_convert([init_time, tab, '%.4f' %dt, tab, '%.7f' %dt_min, tab, '%.2f' %dmul1, tab, '%.2f' %dmul2, tab, end_time])\n",
    "    str4 = 'output variables, 1 if true    Daily    Hourly\\n'\n",
    "    str5 = output_timestep\n",
    "    str6 = 'weather data, 1 if true    Daily     Hourly\\n'\n",
    "    str7 = weadata_timestep\n",
    "\n",
    "    # compiling strings\n",
    "    strings = [str1, str2, str3, str4, str5, str6, str7]\n",
    "\n",
    "    # writing out .txt file and clsoing file\n",
    "    time.writelines(strings)\n",
    "    time.close()"
   ]
  },
  {
   "cell_type": "markdown",
   "metadata": {},
   "source": [
    "### 3. climate.txt\n",
    "inital file for basic climate info"
   ]
  },
  {
   "cell_type": "code",
   "execution_count": 55,
   "metadata": {},
   "outputs": [],
   "source": [
    "### --- parameters ---\n",
    "\n",
    "# constant parameters\n",
    "bsolar = 3600\n",
    "btemp = 1\n",
    "atemp = 0\n",
    "erain = 0.1\n",
    "bwind = 1\n",
    "bir = 1\n",
    "\n",
    "# climate data input\n",
    "climate_input = tup_convert(['0', tab, '0', tab, '0', tab, '0', tab, '0', tab, '1', tab, '1\\n'])\n",
    "\n",
    "# average values for site\n",
    "# 19118: I'm actually not sure how these values are calculated and how important they are?\n",
    "winda = 3\n",
    "irav = 6\n",
    "conc = 0\n",
    "co2 = 400"
   ]
  },
  {
   "cell_type": "code",
   "execution_count": 56,
   "metadata": {},
   "outputs": [],
   "source": [
    "### --- creating .txt file for each site-year ---\n",
    "\n",
    "for i in directories:\n",
    "    # opening text file\n",
    "    climate = open(i + '/climate.txt', 'w')\n",
    "    \n",
    "    # customizing latitude\n",
    "    site = i.split('/')[-1].split('_')[-2]\n",
    "    site_info = pd.read_csv('/home/disk/eos8/ach315/upscale/weadata/site_info.csv', dtype=str, index_col=0)\n",
    "    lat = site_info[site_info.site == i.split('/')[-1].split('_')[-2]].lat\n",
    "    \n",
    "    # setting up text strings\n",
    "    str1 = '*** standard meteorological data ***\\n'\n",
    "    str2 = 'latitude\\n'\n",
    "    str3 = '%.2f\\n' %lat\n",
    "    str4 = 'daily bulb temp, daily wind, rain intensity, daily conc, furrow, relitive humidity, co2\\n'\n",
    "    str5 = climate_input\n",
    "    str6 = 'parameters for changing of units: BSOLAR BTEMP ATEMP ERAIN BWIND BIR\\n'\n",
    "    str7 = 'BSOLAR is 1e6/3600 to go from jm-2h-1 to wm-2\\n'\n",
    "    str8 = tup_convert(['%.0f' %bsolar, tab, '%.0f' %btemp, tab, '%.0f' %atemp, tab, '%.0f' %erain, tab, '%.0f' %bwind, tab, '%.0f\\n' %bir])\n",
    "    str9 = 'average values for the site\\n'\n",
    "    str10 = tup_convert(['WINDA', tab, 'IRAV', tab, 'Conc', tab, 'CO2\\n'])\n",
    "    str11 = tup_convert(['%.0f' %winda, tab, '%.0f' %irav, tab, '%.0f' %conc, tab, '%.0f\\n' %co2])\n",
    "\n",
    "    # compiling text strings\n",
    "    strings = [str1, str2, str3, str4, str5, str6, str7, str8, str9, str10, str11]\n",
    "    \n",
    "    # writing out .txt file and clsoing file\n",
    "    climate.writelines(strings)\n",
    "    climate.close()"
   ]
  },
  {
   "cell_type": "markdown",
   "metadata": {},
   "source": [
    "### 4. management.txt\n",
    "iniital file for management"
   ]
  },
  {
   "cell_type": "code",
   "execution_count": 57,
   "metadata": {},
   "outputs": [],
   "source": [
    "### --- parameters ---\n",
    "\n",
    "# constant parameters\n",
    "\n",
    "# adjustable parameters: N application\n",
    "appl_num = 2 # number of applications\n",
    "appl_date_1 = '04/15/' # here are only 2 application dates, but will need to be adjusted if appl_num increases\n",
    "appl_date_2 = '05/15/'\n",
    "appl_mg = 100\n",
    "place_holder1 = 0 # ***JH: not sure what these are for at the momnet but they need to be there\n",
    "place_holder2 = 0\n",
    "num_nodes = 13\n",
    "\n",
    "# nodes for N application\n",
    "nodes = '1 2 3 4 5 6 7 8 9 10 11 12 13\\n' "
   ]
  },
  {
   "cell_type": "code",
   "execution_count": 58,
   "metadata": {},
   "outputs": [],
   "source": [
    "### --- creating .txt file for each site-year ---\n",
    "\n",
    "for i in directories:\n",
    "    # opening text file\n",
    "    management = open(i + '/management.txt', 'w')\n",
    "    \n",
    "    # customizing N application date\n",
    "    year = i.split('/')[-1].split('_')[-1]\n",
    "    date_1 = \"'\" + appl_date_1 + year + \"'\"\n",
    "    date_2 = \"'\" + appl_date_2 + year + \"'\"\n",
    "\n",
    "    # setting up strings\n",
    "    str1 = '*** script for chemical application module ***\\n'\n",
    "    str2 = 'number of fertilizer applications (max=25) mappl is in total mg N applied to grid (1 kg/ha = 1 mg/m2/width of application) application divided by width of grid in cm is kg/ha\\n'\n",
    "    str3 = '%.0f\\n' %appl_num\n",
    "    str4 = 'appl_time(i)' + tab + 'appl_mg(i)' + tab + 'num_nodes(i)' + tab + '(repeat following 3 lines for each N application)\\n'\n",
    "    str5 = tup_convert([date_1, tab, '%.0f' %appl_mg, tab, '%.0f' %place_holder1, tab, '%.0f' %place_holder2, tab, '%.0f\\n' %num_nodes])\n",
    "    str6 = 'nodes for the application\\n'\n",
    "    str7 = nodes\n",
    "    str8 = tup_convert([date_2, tab, '%.0f' %appl_mg, tab, '%.0f' %place_holder1, tab, '%.0f' %place_holder2, tab, '%.0f\\n' %num_nodes])\n",
    "    str9 = 'nodes for the application\\n'\n",
    "    str10 = nodes\n",
    "    \n",
    "    # compiling strings\n",
    "    strings = [str1, str2, str3, str4, str5, str6, str7, str8, str9, str10]\n",
    "    \n",
    "    # writing out .txt file and clsoing file\n",
    "    management.writelines(strings)\n",
    "    management.close()"
   ]
  },
  {
   "cell_type": "markdown",
   "metadata": {},
   "source": [
    "### 6. run.txt"
   ]
  },
  {
   "cell_type": "code",
   "execution_count": 61,
   "metadata": {},
   "outputs": [],
   "source": [
    "for i in directories:\n",
    "    year = i.split('/')[-1].split('_')[-1]\n",
    "    site = i.split('/')[-1].split('_')[-2]\n",
    "\n",
    "    # setting up directories\n",
    "    init_dirct_wea = '/home/disk/eos8/ach315/upscale/weadata/data/control/'\n",
    "    init_dirct_stand = '/home/disk/eos8/ach315/upscale/inits/standard/'\n",
    "    init_dirct_custom = '/home/disk/eos8/ach315/upscale/inits/con/' + site + '_' + year + '/'\n",
    "    output_dirct = '/home/disk/eos8/ach315/upscale/sims/con/'\n",
    "\n",
    "    # strings in run file\n",
    "    str1 = init_dirct_wea + site + '_' + year + '.txt\\n'\n",
    "    str2 = init_dirct_custom + 'time.txt\\n'\n",
    "    str3 = init_dirct_stand + 'biology.txt\\n'\n",
    "    str4 = init_dirct_custom + 'climate.txt\\n'\n",
    "    str5 = init_dirct_stand + 'nitrogen.txt\\n'\n",
    "    str6 = init_dirct_stand + 'solute.txt\\n'\n",
    "    str7 = init_dirct_stand + 'soil.txt\\n'\n",
    "    str8 = init_dirct_custom + 'management.txt\\n'\n",
    "    str9 = init_dirct_stand + 'drip.txt\\n'\n",
    "    str10 = init_dirct_stand + 'water.txt\\n'\n",
    "    str11 = init_dirct_stand + 'waterbound.txt\\n'\n",
    "    str12 = init_dirct_custom + 'init.txt\\n'\n",
    "    str13 = init_dirct_stand + 'cultivar.txt\\n'\n",
    "    str14 = init_dirct_stand + 'grid.txt\\n'\n",
    "    str15 = init_dirct_stand + 'nod.txt\\n'\n",
    "    str16 = init_dirct_stand + 'massbl.txt\\n'\n",
    "    str17 = output_dirct + 'out1_' + site + '_' + year + '.txt\\n'\n",
    "    str18 = output_dirct + 'out2_' + site + '_' + year + '.txt\\n'\n",
    "    str19 = output_dirct + 'out3.txt\\n'\n",
    "    str20 = output_dirct + 'out4.txt\\n'\n",
    "    str21 = output_dirct + 'out5.txt\\n'\n",
    "    str22 = output_dirct + 'out6.txt\\n'\n",
    "    str23 = output_dirct + 'massbl.txt\\n'\n",
    "\n",
    "    strings = [str1, str2, str3, str4, str5, str6, str7, str8, str9, str10, str11, str12, str13,\n",
    "               str14, str15, str16, str17, str18, str19, str20, str21, str22, str23]\n",
    "\n",
    "    # writing out run.txt file\n",
    "    run = open('/home/disk/eos8/ach315/upscale/runs/con/run_' + site + '_' + year + '.txt', 'w')\n",
    "    run.writelines(strings)\n",
    "    run.close()"
   ]
  }
 ],
 "metadata": {
  "kernelspec": {
   "display_name": "Python 3",
   "language": "python",
   "name": "python3"
  },
  "language_info": {
   "codemirror_mode": {
    "name": "ipython",
    "version": 3
   },
   "file_extension": ".py",
   "mimetype": "text/x-python",
   "name": "python",
   "nbconvert_exporter": "python",
   "pygments_lexer": "ipython3",
   "version": "3.6.9"
  }
 },
 "nbformat": 4,
 "nbformat_minor": 2
}
