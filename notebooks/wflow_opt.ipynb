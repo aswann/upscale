{
 "cells": [
  {
   "cell_type": "markdown",
   "metadata": {},
   "source": [
    "## Workflow to setup and run ensemble simulations"
   ]
  },
  {
   "cell_type": "markdown",
   "metadata": {},
   "source": [
    "Creating several bash files that provides direction for where to look for the initial files and where to place the model output files"
   ]
  },
  {
   "cell_type": "code",
   "execution_count": 1,
   "metadata": {},
   "outputs": [],
   "source": [
    "import os\n",
    "import numpy as np\n",
    "import pandas as pd\n",
    "import matplotlib.pyplot as plt\n",
    "import glob"
   ]
  },
  {
   "cell_type": "markdown",
   "metadata": {},
   "source": [
    "### Step 0: Setup directories"
   ]
  },
  {
   "cell_type": "markdown",
   "metadata": {},
   "source": [
    "#### 0.1 Create directories to hold run files & simulation outputs\n",
    "Repository structure: <br\\>\n",
    "- /home/disk/eos8/ach315/upscale/sims/opt/\n",
    "- /home/disk/eos8/ach315/upscale/runs/opt/\n",
    "    - years/ \n",
    "        - cultivars/\n",
    "            - all sites\n",
    "\n",
    "Code block only needs to be executed once - will throw error otherwise"
   ]
  },
  {
   "cell_type": "code",
   "execution_count": 2,
   "metadata": {},
   "outputs": [],
   "source": [
    "folder = 'runs/'\n",
    "#folder = 'sims/'\n",
    "\n",
    "for i in np.arange(1961,2011):\n",
    "    os.mkdir('/home/disk/eos8/ach315/upscale/' + folder + 'opt/' + str(i))\n",
    "\n",
    "cultivars = list()\n",
    "for i in np.arange(0,100): \n",
    "    cultivar = 'var_' + str(i)\n",
    "    cultivars.append(cultivar)\n",
    "    \n",
    "for i in np.arange(1961,2011):\n",
    "    for j in cultivars:\n",
    "        os.mkdir('/home/disk/eos8/ach315/upscale/' + folder + 'opt/' + str(i) + '/' + str(j))    "
   ]
  },
  {
   "cell_type": "markdown",
   "metadata": {},
   "source": [
    "#### 0.2 Create directories to hold job scripts\n",
    "Repository structure:\n",
    "- /home/disk/eos8/ach315/upscale/jobs/opt/\n",
    "\n",
    "All the job scripts are in one place and not subdivided by folders to make things easier to automate."
   ]
  },
  {
   "cell_type": "markdown",
   "metadata": {},
   "source": [
    "### Step 1. Create run.txt files"
   ]
  },
  {
   "cell_type": "code",
   "execution_count": 36,
   "metadata": {},
   "outputs": [],
   "source": [
    "#directories = glob.glob('/home/disk/eos8/ach315/upscale/runs/opt/*')\n",
    "directories = glob.glob('/home/disk/eos8/ach315/upscale/inits/con/*')\n",
    "siteyears = pd.read_csv('/home/disk/eos8/ach315/upscale/weadata/site_year_crithr1.csv', dtype=str, index_col=0)\n",
    "site_info = pd.read_csv('/home/disk/eos8/ach315/upscale/weadata/site_info.csv', dtype=str, index_col=0)"
   ]
  },
  {
   "cell_type": "code",
   "execution_count": 38,
   "metadata": {},
   "outputs": [],
   "source": [
    "for i in directories:\n",
    "    year = i.split('/')[-1].split('_')[-1]\n",
    "    site = i.split('/')[-1].split('_')[-2]\n",
    "\n",
    "    # setting up directories\n",
    "    init_dirct_wea = '/home/disk/eos8/ach315/upscale/weadata/data/control/'\n",
    "    init_dirct_stand = '/home/disk/eos8/ach315/upscale/inits/standard/'\n",
    "    init_dirct_custom = '/home/disk/eos8/ach315/upscale/inits/con/' + site + '_' + year + '/'\n",
    "\n",
    "    # strings in run file\n",
    "    cultivars = glob.glob('/home/disk/eos8/ach315/upscale/inits/var/*')\n",
    "    for j in cultivars:\n",
    "        var = j.split('/')[-1].split('.')[-2]\n",
    "        output_dirct = '/home/disk/eos8/ach315/upscale/sims/opt/' + year + '/' + var + '/'\n",
    "\n",
    "        str1 = init_dirct_wea + site + '_' + year + '.txt\\n'\n",
    "        str2 = init_dirct_custom + 'time.txt\\n'\n",
    "        str3 = init_dirct_stand + 'biology.txt\\n'\n",
    "        str4 = init_dirct_custom + 'climate.txt\\n'\n",
    "        str5 = init_dirct_stand + 'nitrogen.txt\\n'\n",
    "        str6 = init_dirct_stand + 'solute.txt\\n'\n",
    "        str7 = init_dirct_stand + 'soil.txt\\n'\n",
    "        str8 = init_dirct_custom + 'management.txt\\n'\n",
    "        str9 = init_dirct_stand + 'drip.txt\\n'\n",
    "        str10 = init_dirct_stand + 'water.txt\\n'\n",
    "        str11 = init_dirct_stand + 'waterbound.txt\\n'\n",
    "        str12 = init_dirct_custom + 'init.txt\\n'\n",
    "        str13 = j + '\\n' # looping through different cultivar files\n",
    "        str14 = init_dirct_stand + 'grid.txt\\n'\n",
    "        str15 = init_dirct_stand + 'nod.txt\\n'\n",
    "        str16 = init_dirct_stand + 'massbl.txt\\n'\n",
    "        str17 = output_dirct + 'out1_' + site + '_' + year + '_' + var + '.txt\\n'\n",
    "        str18 = output_dirct + 'out2_' + site + '_' + year + '_' + var + '.txt\\n'\n",
    "        str19 = output_dirct + 'out3.txt\\n'\n",
    "        str20 = output_dirct + 'out4.txt\\n'\n",
    "        str21 = output_dirct + 'out5.txt\\n'\n",
    "        str22 = output_dirct + 'out6.txt\\n'\n",
    "        str23 = output_dirct + 'massbl.txt\\n'\n",
    "        \n",
    "        # combining strings1\n",
    "        strings = [str1, str2, str3, str4, str5, str6, str7, str8, str9, str10, str11, str12, str13,\n",
    "                   str14, str15, str16, str17, str18, str19, str20, str21, str22, str23]\n",
    "\n",
    "        # writing out run.txt file\n",
    "        run = open('/home/disk/eos8/ach315/upscale/runs/opt/' + year + '/' + var + \n",
    "                   '/run_' + site + '_' + year + '_' + var + '.txt', 'w')\n",
    "        run.writelines(strings)\n",
    "        run.close()"
   ]
  },
  {
   "cell_type": "markdown",
   "metadata": {},
   "source": [
    "### Step 2. Create job files that execute a batch of run files"
   ]
  },
  {
   "cell_type": "code",
   "execution_count": 39,
   "metadata": {},
   "outputs": [],
   "source": [
    "dirct = '/home/disk/eos8/ach315/upscale/jobs/opt/'\n",
    "cultivars = glob.glob('/home/disk/eos8/ach315/upscale/inits/var/*')\n",
    "treatment = 'cont'\n",
    "\n",
    "for i in np.arange(1961,1991):\n",
    "    for j in cultivars:\n",
    "        var = j.split('/')[-1].split('.')[-2]\n",
    "        str1 = '#!/bin/bash\\n'\n",
    "        str2 = '#PBS -l nodes=1:ppn=1\\n'\n",
    "        str3 = '#PBS -l walltime=08:00:00\\n'\n",
    "        str4 = '#PBS -m a\\n'\n",
    "        str5 = '#PBS -M ach315@uw.edu\\n'\n",
    "        str6 = '#PBS -N ' + treatment + '_' + str(i) + '_' + str(var) + '\\n'\n",
    "        str7 = '\\n'\n",
    "        str8 = 'FILES=/home/disk/eos8/ach315/upscale/runs/opt/' + str(i)+ '/' + str(var) + '/*\\n'\n",
    "        str9 = '\\n'\n",
    "        str10 = 'for file in $FILES\\n'\n",
    "        str11 = 'do\\n'\n",
    "        str12 = '    cd /home/disk/eos8/ach315/MAIZSIM\\n'\n",
    "        str13 = '    timeout 3m maizsim $file\\n'\n",
    "        str14 = 'done\\n'\n",
    "\n",
    "        strings = [str1, str2, str3, str4, str5, str6, str7, str8, str9, str10, str11, str12, str13, str14]\n",
    "\n",
    "        jobs = open(dirct + '/' + str(i) + '_' + str(var) + '.job', 'w')\n",
    "        jobs.writelines(strings)\n",
    "        jobs.close()"
   ]
  },
  {
   "cell_type": "markdown",
   "metadata": {},
   "source": [
    "### Step 3. Create script that automates qsub jobs"
   ]
  },
  {
   "cell_type": "markdown",
   "metadata": {},
   "source": [
    "I directly wrote these files out on the server direclty. <br/>\n",
    "See subjobs.job at '/home/disk/eos8/ach315/upscale/jobs' <br/>"
   ]
  }
 ],
 "metadata": {
  "kernelspec": {
   "display_name": "Python 3",
   "language": "python",
   "name": "python3"
  },
  "language_info": {
   "codemirror_mode": {
    "name": "ipython",
    "version": 3
   },
   "file_extension": ".py",
   "mimetype": "text/x-python",
   "name": "python",
   "nbconvert_exporter": "python",
   "pygments_lexer": "ipython3",
   "version": "3.6.10"
  }
 },
 "nbformat": 4,
 "nbformat_minor": 4
}
