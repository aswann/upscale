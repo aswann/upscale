{
 "cells": [
  {
   "cell_type": "markdown",
   "metadata": {},
   "source": [
    "## Latin Hypercube Sampling & Partial Rank Correlation Coefficients  <br/> *~ a method for analyzing model sensitivity to parameters ~*"
   ]
  },
  {
   "cell_type": "code",
   "execution_count": 1,
   "metadata": {},
   "outputs": [],
   "source": [
    "import numpy as np\n",
    "import random\n",
    "import pandas as pd\n",
    "import matplotlib.pyplot as plt\n",
    "\n",
    "from scipy import special\n",
    "from ipywidgets import interact, interactive, fixed, interact_manual\n",
    "import ipywidgets as widgets\n",
    "from IPython.display import display"
   ]
  },
  {
   "cell_type": "code",
   "execution_count": 2,
   "metadata": {},
   "outputs": [],
   "source": [
    "# Number of parameters to sample \n",
    "parameterCount = 9;\n",
    "\n",
    "# Number of samples to draw for each parameter\n",
    "sampleCount = 100; "
   ]
  },
  {
   "cell_type": "code",
   "execution_count": 5,
   "metadata": {},
   "outputs": [
    {
     "data": {
      "text/html": [
       "<div>\n",
       "<style scoped>\n",
       "    .dataframe tbody tr th:only-of-type {\n",
       "        vertical-align: middle;\n",
       "    }\n",
       "\n",
       "    .dataframe tbody tr th {\n",
       "        vertical-align: top;\n",
       "    }\n",
       "\n",
       "    .dataframe thead th {\n",
       "        text-align: right;\n",
       "    }\n",
       "</style>\n",
       "<table border=\"1\" class=\"dataframe\">\n",
       "  <thead>\n",
       "    <tr style=\"text-align: right;\">\n",
       "      <th></th>\n",
       "      <th>juv_leaves</th>\n",
       "      <th>stayGreen</th>\n",
       "      <th>rmax_ltir</th>\n",
       "      <th>phyllo</th>\n",
       "      <th>LM_min</th>\n",
       "      <th>Vcmax</th>\n",
       "      <th>Vpmax</th>\n",
       "      <th>g1</th>\n",
       "      <th>ref_potential</th>\n",
       "      <th>rmax_ltar</th>\n",
       "    </tr>\n",
       "  </thead>\n",
       "  <tbody>\n",
       "    <tr>\n",
       "      <th>0</th>\n",
       "      <td>23</td>\n",
       "      <td>4.44</td>\n",
       "      <td>1.24</td>\n",
       "      <td>3.31</td>\n",
       "      <td>98.77</td>\n",
       "      <td>77.29</td>\n",
       "      <td>92.57</td>\n",
       "      <td>9.86</td>\n",
       "      <td>-3.38</td>\n",
       "      <td>0.62</td>\n",
       "    </tr>\n",
       "    <tr>\n",
       "      <th>1</th>\n",
       "      <td>16</td>\n",
       "      <td>7.13</td>\n",
       "      <td>0.55</td>\n",
       "      <td>3.98</td>\n",
       "      <td>89.85</td>\n",
       "      <td>67.10</td>\n",
       "      <td>87.81</td>\n",
       "      <td>1.37</td>\n",
       "      <td>-2.83</td>\n",
       "      <td>0.28</td>\n",
       "    </tr>\n",
       "    <tr>\n",
       "      <th>2</th>\n",
       "      <td>21</td>\n",
       "      <td>6.51</td>\n",
       "      <td>1.00</td>\n",
       "      <td>3.04</td>\n",
       "      <td>81.24</td>\n",
       "      <td>66.65</td>\n",
       "      <td>81.56</td>\n",
       "      <td>3.88</td>\n",
       "      <td>-2.63</td>\n",
       "      <td>0.50</td>\n",
       "    </tr>\n",
       "    <tr>\n",
       "      <th>3</th>\n",
       "      <td>24</td>\n",
       "      <td>4.67</td>\n",
       "      <td>0.68</td>\n",
       "      <td>3.24</td>\n",
       "      <td>97.70</td>\n",
       "      <td>69.56</td>\n",
       "      <td>69.67</td>\n",
       "      <td>4.86</td>\n",
       "      <td>-3.63</td>\n",
       "      <td>0.34</td>\n",
       "    </tr>\n",
       "    <tr>\n",
       "      <th>4</th>\n",
       "      <td>20</td>\n",
       "      <td>4.32</td>\n",
       "      <td>0.82</td>\n",
       "      <td>3.13</td>\n",
       "      <td>115.08</td>\n",
       "      <td>64.44</td>\n",
       "      <td>101.27</td>\n",
       "      <td>6.31</td>\n",
       "      <td>-3.40</td>\n",
       "      <td>0.41</td>\n",
       "    </tr>\n",
       "  </tbody>\n",
       "</table>\n",
       "</div>"
      ],
      "text/plain": [
       "   juv_leaves  stayGreen  rmax_ltir  phyllo  LM_min  Vcmax   Vpmax    g1  \\\n",
       "0          23       4.44       1.24    3.31   98.77  77.29   92.57  9.86   \n",
       "1          16       7.13       0.55    3.98   89.85  67.10   87.81  1.37   \n",
       "2          21       6.51       1.00    3.04   81.24  66.65   81.56  3.88   \n",
       "3          24       4.67       0.68    3.24   97.70  69.56   69.67  4.86   \n",
       "4          20       4.32       0.82    3.13  115.08  64.44  101.27  6.31   \n",
       "\n",
       "   ref_potential  rmax_ltar  \n",
       "0          -3.38       0.62  \n",
       "1          -2.83       0.28  \n",
       "2          -2.63       0.50  \n",
       "3          -3.63       0.34  \n",
       "4          -3.40       0.41  "
      ]
     },
     "execution_count": 5,
     "metadata": {},
     "output_type": "execute_result"
    }
   ],
   "source": [
    "df_params = pd.read_csv('/home/disk/eos8/ach315/upscale/inits/param_100.csv')\n",
    "df_params.head()"
   ]
  },
  {
   "cell_type": "code",
   "execution_count": null,
   "metadata": {},
   "outputs": [],
   "source": []
  }
 ],
 "metadata": {
  "kernelspec": {
   "display_name": "Python 3",
   "language": "python",
   "name": "python3"
  },
  "language_info": {
   "codemirror_mode": {
    "name": "ipython",
    "version": 3
   },
   "file_extension": ".py",
   "mimetype": "text/x-python",
   "name": "python",
   "nbconvert_exporter": "python",
   "pygments_lexer": "ipython3",
   "version": "3.6.10"
  }
 },
 "nbformat": 4,
 "nbformat_minor": 4
}
