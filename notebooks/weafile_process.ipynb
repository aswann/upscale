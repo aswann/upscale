{
 "cells": [
  {
   "cell_type": "markdown",
   "metadata": {},
   "source": [
    "# Weather file - gap filling and formatting\n",
    "- Main tasks: \n",
    "    1. gap fill weather file\n",
    "    2. combine met and solrad info into single files for each site-year\n",
    "    3. address timezone issue\n",
    "    4. format weather file into MAIZSIM-readable format\n",
    "- Data source: \n",
    "    1. weadata/**temp_all.csv**\n",
    "    2. weadata/**rh_all.csv**\n",
    "    3. weadata/**precip_all.csv**\n",
    "    4. weadata/**solrad_all.csv**\n",
    "- Main output: \n",
    "    - weadata/data/control/**site_year.txt** - weather file for all site-years"
   ]
  },
  {
   "cell_type": "code",
   "execution_count": 112,
   "metadata": {},
   "outputs": [],
   "source": [
    "import numpy as np\n",
    "import pandas as pd\n",
    "import matplotlib.pyplot as plt\n",
    "import seaborn as sns\n",
    "import glob\n",
    "import xarray as xr\n",
    "import datetime\n",
    "import time \n",
    "from timezonefinder import TimezoneFinder\n",
    "import pytz\n",
    "import cartopy.crs as ccrs\n",
    "import cartopy.feature as cfeature\n",
    "import cartopy.io.shapereader as shpreader\n",
    "\n",
    "from palettable.colorbrewer.sequential import OrRd_6\n",
    "from palettable.colorbrewer.sequential import YlGn_9\n",
    "from palettable.colorbrewer.sequential import YlGnBu_8\n",
    "from palettable.colorbrewer.sequential import RdPu_5"
   ]
  },
  {
   "cell_type": "markdown",
   "metadata": {},
   "source": [
    "### Step 0: Reading in temperature, precip, RH & solar radiation data:\n",
    "- Main input:\n",
    "    - /weadata/**temp_all.csv**\n",
    "    - /weadata/**rh_all.csv**\n",
    "    - /weadata/**precip_all.csv**\n",
    "    - /weadata/**solrad_all.csv**\n",
    "- Main output: \n",
    "    - **df_temp, df_rh, df_precip, df_solrad**"
   ]
  },
  {
   "cell_type": "markdown",
   "metadata": {},
   "source": [
    "#### Read in weather data 1961-1990"
   ]
  },
  {
   "cell_type": "code",
   "execution_count": 43,
   "metadata": {},
   "outputs": [
    {
     "name": "stdout",
     "output_type": "stream",
     "text": [
      "(197310, 237)\n",
      "(197310, 237)\n",
      "(197310, 237)\n",
      "(197310, 237)\n"
     ]
    }
   ],
   "source": [
    "# read in individual weather data\n",
    "df_temp_6190 = pd.read_csv('/home/disk/eos8/ach315/upscale/weadata/temp_6190.csv', index_col=0)\n",
    "df_rh_6190 = pd.read_csv('/home/disk/eos8/ach315/upscale/weadata/rh_6190.csv', index_col=0)\n",
    "df_precip_6190 = pd.read_csv('/home/disk/eos8/ach315/upscale/weadata/precip_6190.csv', index_col=0)\n",
    "df_solrad_6190 = pd.read_csv('/home/disk/eos8/ach315/upscale/weadata/solrad_6190.csv', index_col=0)\n",
    "\n",
    "# re-index solar radiation data to only include growing season\n",
    "df_solrad_6190 = df_solrad_6190.reindex(df_temp_6190.index)\n",
    "\n",
    "# check that all met elements aligned - dataframe shape should match\n",
    "print(df_temp_6190.shape)\n",
    "print(df_rh_6190.shape)\n",
    "print(df_precip_6190.shape)\n",
    "print(df_solrad_6190.shape)\n",
    "\n",
    "# convert station ID header from WBAN to USAF (in order to make continuous with 1991-2010)\n",
    "df_stations = pd.read_csv('/home/disk/eos8/ach315/data/ISH_NSRD/stations_wban_usaf.csv', header=None, dtype='str')\n",
    "df_stations.columns = ['WBAN', 'USAF']\n",
    "sites_wban = list(df_temp_6190.columns)\n",
    "sites_usaf = df_stations[df_stations['WBAN'].isin(sites_wban)]['USAF']\n",
    "\n",
    "# assign new USAF headers\n",
    "df_temp_6190.columns = sites_usaf; df_temp_6190 = df_temp_6190.sort_index(axis=1)\n",
    "df_rh_6190.columns = sites_usaf; df_rh_6190 = df_rh_6190.sort_index(axis=1)\n",
    "df_precip_6190.columns = sites_usaf; df_precip_6190 = df_precip_6190.sort_index(axis=1)\n",
    "df_solrad_6190.columns = sites_usaf; df_solrad_6190 = df_solrad_6190.sort_index(axis=1)"
   ]
  },
  {
   "cell_type": "markdown",
   "metadata": {},
   "source": [
    "#### Read in weather data 1991-2010"
   ]
  },
  {
   "cell_type": "code",
   "execution_count": 6,
   "metadata": {},
   "outputs": [
    {
     "name": "stdout",
     "output_type": "stream",
     "text": [
      "(131540, 241)\n",
      "(131540, 241)\n",
      "(131540, 241)\n",
      "(131540, 242)\n"
     ]
    }
   ],
   "source": [
    "# read in individual weather data\n",
    "df_temp_9110 = pd.read_csv( '/home/disk/eos8/ach315/upscale/weadata/temp_9110_class1.csv', index_col=0)\n",
    "df_rh_9110 = pd.read_csv( '/home/disk/eos8/ach315/upscale/weadata/rh_9110_class1.csv', index_col=0)\n",
    "df_precip_9110 = pd.read_csv( '/home/disk/eos8/ach315/upscale/weadata/precip_9110_class1.csv', index_col=0)\n",
    "df_solrad_9110 = pd.read_csv( '/home/disk/eos8/ach315/upscale/weadata/solrad_9110_class1.csv', index_col=0)\n",
    "\n",
    "# re-index solar radiation data to only include growing season\n",
    "df_solrad_9110 = df_solrad_9110.reindex(df_temp_9110.index)\n",
    "\n",
    "# check that all met elements aligned - dataframe shape should match\n",
    "print(df_temp_9110.shape)\n",
    "print(df_rh_9110.shape)\n",
    "print(df_precip_9110.shape)\n",
    "print(df_solrad_9110.shape) #####*** check - stations number don't match - does that matter though?"
   ]
  },
  {
   "cell_type": "markdown",
   "metadata": {},
   "source": [
    "#### Stitch together weather data"
   ]
  },
  {
   "cell_type": "code",
   "execution_count": 7,
   "metadata": {},
   "outputs": [
    {
     "name": "stdout",
     "output_type": "stream",
     "text": [
      "(328850, 274)\n",
      "(328850, 274)\n",
      "(328850, 274)\n",
      "(328850, 274)\n"
     ]
    }
   ],
   "source": [
    "df_temp = pd.concat([df_temp_6190, df_temp_9110], axis=0, join='outer'); df_temp = df_temp.sort_index(axis=1)\n",
    "df_rh = pd.concat([df_rh_6190, df_rh_9110], axis=0, join='outer'); df_rh = df_rh.sort_index(axis=1)\n",
    "df_precip = pd.concat([df_precip_6190, df_precip_9110], axis=0, join='outer'); df_precip = df_precip.sort_index(axis=1)\n",
    "df_solrad = pd.concat([df_solrad_6190, df_solrad_9110], axis=0, join='outer'); df_solrad = df_solrad.sort_index(axis=1)\n",
    "\n",
    "print(df_temp.shape)\n",
    "print(df_rh.shape)\n",
    "print(df_precip.shape)\n",
    "print(df_solrad.shape)"
   ]
  },
  {
   "cell_type": "markdown",
   "metadata": {},
   "source": [
    "### Step 1. Figure out valid site-years that can be gap-filled\n",
    "Selecting for site-years based on **crit_hrs** - consecutive missing hours of datapoints within raw data\n",
    "- Main input: **df_temp, df_precip, df_solrad**\n",
    "- Main output: **finalist**"
   ]
  },
  {
   "cell_type": "code",
   "execution_count": 100,
   "metadata": {},
   "outputs": [],
   "source": [
    "# input variables for loop\n",
    "datasets = list([df_temp, df_precip, df_solrad]) # weather datasets to process\n",
    "                                                 # df_rh is based off df_temp, so no need to evaluate \n",
    "\n",
    "finalist = list([[], [], []]) # final lists to store processed output\n",
    "                              # order: [0]-temp, [1]-precip, [2]-solrad\n",
    "\n",
    "years = np.arange(1961, 2011) # years\n",
    "growseason_start = '-03-01 00:00:00'\n",
    "growseason_end = '-11-30 23:00:00' \n",
    "\n",
    "crit_hrs = 1 # critical hrs of missing data\n",
    "\n",
    "# loop through temp, precip & solrad dataset to pick out usable site-years\n",
    "for i in np.arange(len(datasets)):\n",
    "    dataset = datasets[i]\n",
    "    siteyears_all = list()\n",
    "    sites = dataset.columns\n",
    "    \n",
    "    for j in years:\n",
    "        start_time = str(j) + growseason_start\n",
    "        end_time = str(j) + growseason_end\n",
    "        siteyears = list()\n",
    "        \n",
    "        for k in sites:\n",
    "            df = dataset.loc[start_time:end_time, k] \n",
    "            df = pd.DataFrame(df)\n",
    "            df['group'] = df.notnull().astype(int) # df.notnull() returns TRUE or FALSE, \n",
    "                                                   # .astype(int) turns TRUE into 1, and FALSE into 0\n",
    "            df['group'] = df.group.cumsum() # calculating cumulative sum \n",
    "            df = df[df.iloc[:,0].isnull()] # selecting out individual timesteps that have missing data\n",
    "            df['count'] = df.groupby('group')['group'].transform('size') # counts the number of consecutive NANs \n",
    "            df = df.drop_duplicates('group')\n",
    "            \n",
    "            if df[df['count'] > crit_hrs].shape[0] == 0:\n",
    "                use_siteyear = str(j) + '_' + str(k)\n",
    "                siteyears.append(use_siteyear) # only record site-years that have fewer consecutive NANs than the critical value set\n",
    "        \n",
    "        siteyears_all.extend(siteyears)\n",
    "    \n",
    "    finalist[i] = siteyears_all"
   ]
  },
  {
   "cell_type": "markdown",
   "metadata": {},
   "source": [
    "### Step 2. Compare usable site-years for temp  & precip and find the common year-sites\n",
    "- Main intput: **finalist**\n",
    "- Main output: **siteyears**"
   ]
  },
  {
   "cell_type": "code",
   "execution_count": 102,
   "metadata": {},
   "outputs": [
    {
     "name": "stdout",
     "output_type": "stream",
     "text": [
      "temp: 4299\n",
      "precip: 6946\n",
      "solrad: 11837\n",
      "overlapping siteyears: 3508\n"
     ]
    }
   ],
   "source": [
    "# assign output to individual siteyears\n",
    "siteyears_temp = finalist[0]\n",
    "siteyears_precip = finalist[1]\n",
    "siteyears_solrad = finalist[2]\n",
    "print('temp:', len(siteyears_temp))\n",
    "print('precip:', len(siteyears_precip))\n",
    "print('solrad:', len(siteyears_solrad))\n",
    "\n",
    "# identify overlapping siteyears\n",
    "siteyears = list(set(siteyears_temp) & set(siteyears_precip))\n",
    "siteyears = list(set(siteyears) & set(siteyears_solrad))\n",
    "siteyears.sort()\n",
    "\n",
    "# change depending on critical hours\n",
    "siteyears_crithr1 = siteyears\n",
    "\n",
    "print('overlapping siteyears:', len(siteyears))"
   ]
  },
  {
   "cell_type": "markdown",
   "metadata": {},
   "source": [
    "### Step 3. Visualization - available site-years vs. consecutive missing data hours"
   ]
  },
  {
   "cell_type": "code",
   "execution_count": 68,
   "metadata": {},
   "outputs": [
    {
     "data": {
      "text/plain": [
       "<BarContainer object of 4 artists>"
      ]
     },
     "execution_count": 68,
     "metadata": {},
     "output_type": "execute_result"
    },
    {
     "data": {
      "image/png": "[encoded data removed]",
      "text/plain": [
       "<Figure size 432x288 with 1 Axes>"
      ]
     },
     "metadata": {
      "needs_background": "light"
     },
     "output_type": "display_data"
    }
   ],
   "source": [
    "# calculate available site-years\n",
    "crithrs_0 = len(siteyears_crithr0)\n",
    "crithrs_1 = len(siteyears_crithr1)\n",
    "crithrs_2 = len(siteyears_crithr2)\n",
    "crithrs_3 = len(siteyears_crithr3)\n",
    "\n",
    "# visualization\n",
    "x = [0,1,2,3]\n",
    "width =  [crithrs_0, crithrs_1, crithrs_2, crithrs_3]\n",
    "plt.bar(x, width, alpha=0.5)"
   ]
  },
  {
   "cell_type": "markdown",
   "metadata": {},
   "source": [
    "### Step 4. Store basic info of valid site-years\n",
    "- Main input: **siteyears_crithr1**\n",
    "- Main output: \n",
    "    - weadata/**siteyears_crithr1.csv** - site-year info for data filtered with crithr = 1\n",
    "    - weadata/**site_nyears_crithr1.csv** - info on how many years of wea data each site has"
   ]
  },
  {
   "cell_type": "code",
   "execution_count": 112,
   "metadata": {},
   "outputs": [],
   "source": [
    "siteyears = siteyears_crithr1\n",
    "\n",
    "# what are the valid site-years?\n",
    "years = list()\n",
    "sites = list()\n",
    "\n",
    "for i in range(len(siteyears)):\n",
    "    year = siteyears[i][0:4]\n",
    "    years.append(year)\n",
    "    site = siteyears[i][5:11] \n",
    "    sites.append(site)\n",
    "\n",
    "df_siteyears = pd.DataFrame({'site': sites, 'year': years}, \n",
    "                            columns=['site', 'year'])\n",
    "df_siteyears = df_siteyears.sort_values(['site', 'year'])\n",
    "final_sites = list(set(df_siteyears.site))\n",
    "#df_siteyears.to_csv('../weadata/siteyears_crithr1.csv')"
   ]
  },
  {
   "cell_type": "code",
   "execution_count": 117,
   "metadata": {},
   "outputs": [],
   "source": [
    "# how many years of data do each site have?\n",
    "site_nyears = list()\n",
    "\n",
    "for i in final_sites:\n",
    "    years = len(df_siteyears[df_siteyears[\"site\"] == i])\n",
    "    site_nyears.append(years)\n",
    "    \n",
    "df_site_nyears = pd.DataFrame({\"site\": final_sites, \"years\": site_nyears})\n",
    "df_site_nyears = df_site_nyears.sort_values([\"site\"])\n",
    "df_site_nyears = df_site_nyears.reset_index().iloc[:, 1:3]\n",
    "#df_site_nyears.to_csv(\"../weadata/site_nyears_crithr1.csv\")"
   ]
  },
  {
   "cell_type": "markdown",
   "metadata": {},
   "source": [
    "### Step 5: Filter sites based on planting area & irrigation"
   ]
  },
  {
   "cell_type": "markdown",
   "metadata": {},
   "source": [
    "#### Select sites with valid weather data"
   ]
  },
  {
   "cell_type": "code",
   "execution_count": 213,
   "metadata": {},
   "outputs": [
    {
     "data": {
      "text/html": [
       "<div>\n",
       "<style scoped>\n",
       "    .dataframe tbody tr th:only-of-type {\n",
       "        vertical-align: middle;\n",
       "    }\n",
       "\n",
       "    .dataframe tbody tr th {\n",
       "        vertical-align: top;\n",
       "    }\n",
       "\n",
       "    .dataframe thead th {\n",
       "        text-align: right;\n",
       "    }\n",
       "</style>\n",
       "<table border=\"1\" class=\"dataframe\">\n",
       "  <thead>\n",
       "    <tr style=\"text-align: right;\">\n",
       "      <th></th>\n",
       "      <th>site</th>\n",
       "      <th>class</th>\n",
       "      <th>station</th>\n",
       "      <th>state</th>\n",
       "      <th>tzone</th>\n",
       "      <th>lat</th>\n",
       "      <th>lon</th>\n",
       "      <th>years</th>\n",
       "    </tr>\n",
       "  </thead>\n",
       "  <tbody>\n",
       "    <tr>\n",
       "      <th>0</th>\n",
       "      <td>722010</td>\n",
       "      <td>1</td>\n",
       "      <td>KEY WEST INTL ARPT</td>\n",
       "      <td>FL</td>\n",
       "      <td>-5</td>\n",
       "      <td>24.550</td>\n",
       "      <td>-81.750</td>\n",
       "      <td>13</td>\n",
       "    </tr>\n",
       "    <tr>\n",
       "      <th>1</th>\n",
       "      <td>722020</td>\n",
       "      <td>1</td>\n",
       "      <td>MIAMI INTL AP</td>\n",
       "      <td>FL</td>\n",
       "      <td>-5</td>\n",
       "      <td>25.817</td>\n",
       "      <td>-80.300</td>\n",
       "      <td>29</td>\n",
       "    </tr>\n",
       "    <tr>\n",
       "      <th>2</th>\n",
       "      <td>722030</td>\n",
       "      <td>1</td>\n",
       "      <td>WEST PALM BEACH INTL ARPT</td>\n",
       "      <td>FL</td>\n",
       "      <td>-5</td>\n",
       "      <td>26.683</td>\n",
       "      <td>-80.100</td>\n",
       "      <td>14</td>\n",
       "    </tr>\n",
       "    <tr>\n",
       "      <th>3</th>\n",
       "      <td>722050</td>\n",
       "      <td>1</td>\n",
       "      <td>ORLANDO INTL ARPT</td>\n",
       "      <td>FL</td>\n",
       "      <td>-5</td>\n",
       "      <td>28.433</td>\n",
       "      <td>-81.333</td>\n",
       "      <td>19</td>\n",
       "    </tr>\n",
       "    <tr>\n",
       "      <th>4</th>\n",
       "      <td>722056</td>\n",
       "      <td>1</td>\n",
       "      <td>DAYTONA BEACH INTL AP</td>\n",
       "      <td>FL</td>\n",
       "      <td>-5</td>\n",
       "      <td>29.183</td>\n",
       "      <td>-81.067</td>\n",
       "      <td>14</td>\n",
       "    </tr>\n",
       "  </tbody>\n",
       "</table>\n",
       "</div>"
      ],
      "text/plain": [
       "     site  class                    station state  tzone     lat     lon  \\\n",
       "0  722010      1         KEY WEST INTL ARPT    FL     -5  24.550 -81.750   \n",
       "1  722020      1              MIAMI INTL AP    FL     -5  25.817 -80.300   \n",
       "2  722030      1  WEST PALM BEACH INTL ARPT    FL     -5  26.683 -80.100   \n",
       "3  722050      1          ORLANDO INTL ARPT    FL     -5  28.433 -81.333   \n",
       "4  722056      1      DAYTONA BEACH INTL AP    FL     -5  29.183 -81.067   \n",
       "\n",
       "   years  \n",
       "0     13  \n",
       "1     29  \n",
       "2     14  \n",
       "3     19  \n",
       "4     14  "
      ]
     },
     "execution_count": 213,
     "metadata": {},
     "output_type": "execute_result"
    }
   ],
   "source": [
    "# read in station & site-year info\n",
    "df_site_nyears = pd.read_csv('/home/disk/eos8/ach315/upscale/weadata/site_nyears_crithr1.csv', index_col=0)\n",
    "df_stations_9110 = pd.read_csv('/home/disk/eos8/ach315/upscale/weadata/stations_info_9110.csv', usecols=[0,1,3,4,8,9,10])\n",
    "df_sites_info = df_stations_9110[df_stations_9110.USAF.isin(df_site_nyears.site)]\n",
    "df_sites_info.columns = ['site', 'class', 'station', 'state', 'tzone', 'lat', 'lon']\n",
    "\n",
    "# merge site info & site-years info\n",
    "df_sites_info = pd.merge(df_sites_info, df_site_nyears, on='site')\n",
    "\n",
    "# drop stations from Alaska, Guam, Hawaii & Puerto Rico\n",
    "df_sites_info = df_sites_info[(df_sites_info.state != 'AK') & (df_sites_info.state != 'GU') & \n",
    "                              (df_sites_info.state != 'HI')& (df_sites_info.state != 'PR')]\n",
    "\n",
    "# final station list\n",
    "df_sites_info.reset_index(inplace=True, drop=True)\n",
    "df_sites_info.head()"
   ]
  },
  {
   "cell_type": "code",
   "execution_count": 205,
   "metadata": {},
   "outputs": [
    {
     "data": {
      "image/png": "[encoded data removed]",
      "text/plain": [
       "<Figure size 360x288 with 1 Axes>"
      ]
     },
     "metadata": {
      "needs_background": "light"
     },
     "output_type": "display_data"
    }
   ],
   "source": [
    "# create map with weather station sites only\n",
    "from palettable.colorbrewer.sequential import Purples_9\n",
    "\n",
    "fig = plt.figure(figsize=(5,4))\n",
    "ax = fig.add_subplot(1,1,1, projection=ccrs.AlbersEqualArea(\n",
    "                         central_latitude=39.5, central_longitude=-98.35))\n",
    "ax.set_extent([-123, -72, 19, 53])\n",
    "ax.scatter(df_sites_info['lon'], df_sites_info['lat'], \n",
    "           transform=ccrs.PlateCarree(), \n",
    "           c=df_sites_info.years.astype(float), cmap=Purples_9.mpl_colormap,\n",
    "           s=50, marker='^', alpha=0.7)\n",
    "\n",
    "ax.add_feature(cfeature.BORDERS, edgecolor='grey')\n",
    "ax.add_feature(cfeature.COASTLINE, edgecolor='grey')\n",
    "ax.add_feature(cfeature.STATES, edgecolor='grey', linewidth=0.5)\n",
    "ax.set_title('Hourly weather station data', fontweight='light', fontsize=15)\n",
    "fig.subplots_adjust(left=0.05, bottom=0, right=0.95, top=1)"
   ]
  },
  {
   "cell_type": "markdown",
   "metadata": {},
   "source": [
    "#### Include planting area & irrigation info"
   ]
  },
  {
   "cell_type": "code",
   "execution_count": 364,
   "metadata": {},
   "outputs": [
    {
     "data": {
      "text/html": [
       "<div>\n",
       "<style scoped>\n",
       "    .dataframe tbody tr th:only-of-type {\n",
       "        vertical-align: middle;\n",
       "    }\n",
       "\n",
       "    .dataframe tbody tr th {\n",
       "        vertical-align: top;\n",
       "    }\n",
       "\n",
       "    .dataframe thead th {\n",
       "        text-align: right;\n",
       "    }\n",
       "</style>\n",
       "<table border=\"1\" class=\"dataframe\">\n",
       "  <thead>\n",
       "    <tr style=\"text-align: right;\">\n",
       "      <th></th>\n",
       "      <th>state</th>\n",
       "      <th>county</th>\n",
       "      <th>lat</th>\n",
       "      <th>lon</th>\n",
       "      <th>irri_area</th>\n",
       "      <th>crop_area</th>\n",
       "      <th>perct_irri</th>\n",
       "    </tr>\n",
       "  </thead>\n",
       "  <tbody>\n",
       "    <tr>\n",
       "      <th>0</th>\n",
       "      <td>1.0</td>\n",
       "      <td>1.0</td>\n",
       "      <td>32.430976</td>\n",
       "      <td>-86.714727</td>\n",
       "      <td>973.500000</td>\n",
       "      <td>46089.75</td>\n",
       "      <td>2.112183</td>\n",
       "    </tr>\n",
       "    <tr>\n",
       "      <th>1</th>\n",
       "      <td>1.0</td>\n",
       "      <td>3.0</td>\n",
       "      <td>30.569698</td>\n",
       "      <td>-87.688916</td>\n",
       "      <td>9337.750000</td>\n",
       "      <td>109721.50</td>\n",
       "      <td>8.510410</td>\n",
       "    </tr>\n",
       "    <tr>\n",
       "      <th>2</th>\n",
       "      <td>1.0</td>\n",
       "      <td>5.0</td>\n",
       "      <td>31.907512</td>\n",
       "      <td>-85.306271</td>\n",
       "      <td>2850.000000</td>\n",
       "      <td>57627.75</td>\n",
       "      <td>4.945534</td>\n",
       "    </tr>\n",
       "    <tr>\n",
       "      <th>3</th>\n",
       "      <td>1.0</td>\n",
       "      <td>7.0</td>\n",
       "      <td>33.069184</td>\n",
       "      <td>-87.075724</td>\n",
       "      <td>83.333333</td>\n",
       "      <td>13352.25</td>\n",
       "      <td>0.624115</td>\n",
       "    </tr>\n",
       "    <tr>\n",
       "      <th>4</th>\n",
       "      <td>1.0</td>\n",
       "      <td>9.0</td>\n",
       "      <td>34.021667</td>\n",
       "      <td>-86.653387</td>\n",
       "      <td>532.750000</td>\n",
       "      <td>56643.25</td>\n",
       "      <td>0.940536</td>\n",
       "    </tr>\n",
       "  </tbody>\n",
       "</table>\n",
       "</div>"
      ],
      "text/plain": [
       "   state  county        lat        lon    irri_area  crop_area  perct_irri\n",
       "0    1.0     1.0  32.430976 -86.714727   973.500000   46089.75    2.112183\n",
       "1    1.0     3.0  30.569698 -87.688916  9337.750000  109721.50    8.510410\n",
       "2    1.0     5.0  31.907512 -85.306271  2850.000000   57627.75    4.945534\n",
       "3    1.0     7.0  33.069184 -87.075724    83.333333   13352.25    0.624115\n",
       "4    1.0     9.0  34.021667 -86.653387   532.750000   56643.25    0.940536"
      ]
     },
     "execution_count": 364,
     "metadata": {},
     "output_type": "execute_result"
    }
   ],
   "source": [
    "state = pd.read_csv('/home/disk/eos3/aswann/Shared/Data/irrigated_area/stateID.txt', header=None, sep='\\s+')\n",
    "county = pd.read_csv('/home/disk/eos3/aswann/Shared/Data/irrigated_area/countyID.txt', header=None, sep='\\s+')\n",
    "lat = pd.read_csv('/home/disk/eos3/aswann/Shared/Data/irrigated_area/lat_county.txt', header=None, sep='\\s+')\n",
    "lon = pd.read_csv('/home/disk/eos3/aswann/Shared/Data/irrigated_area/lon_county.txt', header=None, sep='\\s+')\n",
    "irri = pd.read_csv('/home/disk/eos3/aswann/Shared/Data/irrigated_area/irr_area_acres.txt', header=None, sep='\\s+')\n",
    "area = pd.read_csv('/home/disk/eos3/aswann/Shared/Data/irrigated_area/crop_area_acres.txt', header=None, sep='\\s+')\n",
    "state = state.iloc[0,:]\n",
    "county = county.iloc[0,:]\n",
    "lat = lat.iloc[0,:]\n",
    "lon = lon.iloc[0,:]\n",
    "\n",
    "# raw data includes data from 4 censuses that show data of 1997, 2002, 2007 & 2012\n",
    "# we average data from all 4 censuses \n",
    "irri = irri.mean(axis=1)\n",
    "area = area.mean(axis=1)\n",
    "df_obs = pd.DataFrame({'state': state, 'county': county, 'lat': lat, 'lon': lon, \n",
    "                       'irri_area': irri, 'crop_area': area, 'perct_irri': irri/area*100})\n",
    "df_obs.head()"
   ]
  },
  {
   "cell_type": "code",
   "execution_count": 365,
   "metadata": {},
   "outputs": [],
   "source": [
    "sites = df_sites_info.site\n",
    "areas = []\n",
    "perct_irris = []\n",
    "\n",
    "for site in sites:\n",
    "    lat = float(df_sites_info[df_sites_info.site == site].lat)\n",
    "    lon = float(df_sites_info[df_sites_info.site == site].lon)\n",
    "    dist = list(enumerate(np.sqrt((lat - df_obs.lat)**2 + (lon - (df_obs.lon))**2)))\n",
    "    df_dist = pd.DataFrame(dist, columns=['rownum', 'distance'])\n",
    "    row = list(df_dist.nsmallest(5, 'distance').rownum) # select the five nearest locations and average for\n",
    "                                                        # cropping area & irrigation percentage\n",
    "    area = df_obs.iloc[row].crop_area.mean()\n",
    "    perct_irri = df_obs.iloc[row].perct_irri.mean()\n",
    "    areas.append(area)\n",
    "    perct_irris.append(perct_irri)\n",
    "\n",
    "# add planting area & irrigation info for filtering purposes\n",
    "df_filter = pd.DataFrame({'area': areas, 'perct_irri': perct_irris})\n",
    "df_summary = pd.concat([df_sites_info, df_filter], axis=1)"
   ]
  },
  {
   "cell_type": "markdown",
   "metadata": {},
   "source": [
    "#### Filter out sites with low planting and/or high irrigation"
   ]
  },
  {
   "cell_type": "code",
   "execution_count": 370,
   "metadata": {},
   "outputs": [
    {
     "name": "stdout",
     "output_type": "stream",
     "text": [
      "prior: 3405\n",
      "after filtering: 1340\n"
     ]
    }
   ],
   "source": [
    "# filter\n",
    "df_filtered = df_summary[(df_summary.area > 50000) & (df_summary.perct_irri < 10)]\n",
    "# Mueller & Butler (2018) - 'counties with >10% of their harvested areas irrigated according to the four 1997-2012 census\n",
    "# are removed from the anlaysis, as they are known to be significantly less sensitive to temperature.'\n",
    "\n",
    "# how many site-years left?\n",
    "print('prior:', sum(df_summary.years.astype(int)))\n",
    "print('after filtering:', sum(df_filtered.years.astype(int)))\n",
    "\n",
    "# store final filtered site info\n",
    "#df_filtered.to_csv('/home/disk/eos8/ach315/upscale/weadata/sites_filtered_crithr1.csv')"
   ]
  },
  {
   "cell_type": "code",
   "execution_count": 371,
   "metadata": {},
   "outputs": [
    {
     "data": {
      "text/html": [
       "<div>\n",
       "<style scoped>\n",
       "    .dataframe tbody tr th:only-of-type {\n",
       "        vertical-align: middle;\n",
       "    }\n",
       "\n",
       "    .dataframe tbody tr th {\n",
       "        vertical-align: top;\n",
       "    }\n",
       "\n",
       "    .dataframe thead th {\n",
       "        text-align: right;\n",
       "    }\n",
       "</style>\n",
       "<table border=\"1\" class=\"dataframe\">\n",
       "  <thead>\n",
       "    <tr style=\"text-align: right;\">\n",
       "      <th></th>\n",
       "      <th>site</th>\n",
       "      <th>class</th>\n",
       "      <th>station</th>\n",
       "      <th>state</th>\n",
       "      <th>tzone</th>\n",
       "      <th>lat</th>\n",
       "      <th>lon</th>\n",
       "      <th>years</th>\n",
       "      <th>area</th>\n",
       "      <th>perct_irri</th>\n",
       "    </tr>\n",
       "  </thead>\n",
       "  <tbody>\n",
       "    <tr>\n",
       "      <th>14</th>\n",
       "      <td>722260</td>\n",
       "      <td>1</td>\n",
       "      <td>MONTGOMERY DANNELLY FIELD</td>\n",
       "      <td>AL</td>\n",
       "      <td>-6</td>\n",
       "      <td>32.300</td>\n",
       "      <td>-86.400</td>\n",
       "      <td>18</td>\n",
       "      <td>51171.050000</td>\n",
       "      <td>3.842579</td>\n",
       "    </tr>\n",
       "    <tr>\n",
       "      <th>19</th>\n",
       "      <td>722350</td>\n",
       "      <td>1</td>\n",
       "      <td>JACKSON INTERNATIONAL AP</td>\n",
       "      <td>MS</td>\n",
       "      <td>-6</td>\n",
       "      <td>32.317</td>\n",
       "      <td>-90.083</td>\n",
       "      <td>19</td>\n",
       "      <td>56413.100000</td>\n",
       "      <td>0.799531</td>\n",
       "    </tr>\n",
       "    <tr>\n",
       "      <th>22</th>\n",
       "      <td>722430</td>\n",
       "      <td>1</td>\n",
       "      <td>HOUSTON BUSH INTERCONTINENTAL</td>\n",
       "      <td>TX</td>\n",
       "      <td>-6</td>\n",
       "      <td>30.000</td>\n",
       "      <td>-95.367</td>\n",
       "      <td>17</td>\n",
       "      <td>84770.050000</td>\n",
       "      <td>6.818347</td>\n",
       "    </tr>\n",
       "    <tr>\n",
       "      <th>24</th>\n",
       "      <td>722480</td>\n",
       "      <td>1</td>\n",
       "      <td>SHREVEPORT REGIONAL ARPT</td>\n",
       "      <td>LA</td>\n",
       "      <td>-6</td>\n",
       "      <td>32.450</td>\n",
       "      <td>-93.817</td>\n",
       "      <td>27</td>\n",
       "      <td>50774.950000</td>\n",
       "      <td>2.675218</td>\n",
       "    </tr>\n",
       "    <tr>\n",
       "      <th>26</th>\n",
       "      <td>722510</td>\n",
       "      <td>1</td>\n",
       "      <td>CORPUS CHRISTI INTL ARPT [UT]</td>\n",
       "      <td>TX</td>\n",
       "      <td>-6</td>\n",
       "      <td>27.767</td>\n",
       "      <td>-97.517</td>\n",
       "      <td>20</td>\n",
       "      <td>181126.083333</td>\n",
       "      <td>1.253455</td>\n",
       "    </tr>\n",
       "  </tbody>\n",
       "</table>\n",
       "</div>"
      ],
      "text/plain": [
       "      site  class                        station state  tzone     lat     lon  \\\n",
       "14  722260      1      MONTGOMERY DANNELLY FIELD    AL     -6  32.300 -86.400   \n",
       "19  722350      1       JACKSON INTERNATIONAL AP    MS     -6  32.317 -90.083   \n",
       "22  722430      1  HOUSTON BUSH INTERCONTINENTAL    TX     -6  30.000 -95.367   \n",
       "24  722480      1       SHREVEPORT REGIONAL ARPT    LA     -6  32.450 -93.817   \n",
       "26  722510      1  CORPUS CHRISTI INTL ARPT [UT]    TX     -6  27.767 -97.517   \n",
       "\n",
       "    years           area  perct_irri  \n",
       "14     18   51171.050000    3.842579  \n",
       "19     19   56413.100000    0.799531  \n",
       "22     17   84770.050000    6.818347  \n",
       "24     27   50774.950000    2.675218  \n",
       "26     20  181126.083333    1.253455  "
      ]
     },
     "execution_count": 371,
     "metadata": {},
     "output_type": "execute_result"
    }
   ],
   "source": [
    "df_filtered.head()"
   ]
  },
  {
   "cell_type": "code",
   "execution_count": 367,
   "metadata": {},
   "outputs": [
    {
     "data": {
      "image/png": "[encoded data removed]",
      "text/plain": [
       "<Figure size 720x360 with 2 Axes>"
      ]
     },
     "metadata": {
      "needs_background": "light"
     },
     "output_type": "display_data"
    }
   ],
   "source": [
    "# creating map with weather station sites only\n",
    "from palettable.colorbrewer.sequential import Purples_9\n",
    "\n",
    "# sites not filtered\n",
    "fig = plt.figure(figsize=(10, 5))\n",
    "ax1 = fig.add_subplot(1,2,1, \n",
    "                      projection=ccrs.AlbersEqualArea(\n",
    "                          central_latitude=39.5, central_longitude=-98.35))\n",
    "ax1.set_extent([-123, -72, 19, 53])\n",
    "ax1.scatter(df_summary.lon.astype(float), df_summary.lat.astype(float), \n",
    "            transform=ccrs.PlateCarree(), s=50, marker='^', \n",
    "            c=df_summary.years.astype(float), cmap=Purples_9.mpl_colormap, alpha=0.8)\n",
    "ax1.add_feature(cfeature.BORDERS, edgecolor='grey')\n",
    "ax1.add_feature(cfeature.COASTLINE, edgecolor='grey')\n",
    "ax1.add_feature(cfeature.STATES, edgecolor='grey', linewidth=0.5)\n",
    "ax1.set_title('Non-filtered weather station data', fontweight='light', fontsize=15)\n",
    "\n",
    "\n",
    "# sites filtered\n",
    "ax2 = fig.add_subplot(1,2,2,\n",
    "                      projection=ccrs.AlbersEqualArea(\n",
    "                          central_latitude=39.5, central_longitude=-98.35))\n",
    "ax2.set_extent([-123, -72, 19, 53])\n",
    "ax2.scatter(df_filtered.lon.astype(float), df_filtered.lat.astype(float), \n",
    "            transform=ccrs.PlateCarree(), s=50, marker='^', \n",
    "            c=df_filtered.years.astype(float), cmap=Purples_9.mpl_colormap, alpha=0.8)\n",
    "\n",
    "ax2.add_feature(cfeature.BORDERS, edgecolor='grey')\n",
    "ax2.add_feature(cfeature.COASTLINE, edgecolor='grey')\n",
    "ax2.add_feature(cfeature.STATES, edgecolor='grey', linewidth=0.5)\n",
    "ax2.set_title('Filtered weather station data', fontweight='light', fontsize=15)\n",
    "\n",
    "fig.subplots_adjust(left=0.05, bottom=0, right=0.95, top=1)"
   ]
  },
  {
   "cell_type": "markdown",
   "metadata": {},
   "source": [
    "### Step 6: Compile and gap-fill usable site-years data into individual weather data files\n",
    "- Main tasks:\n",
    "    - figure out time zone for individual site and convet wea data from UTC into local time\n",
    "    - gap-fill wea data by linearly interpolating with data from hour before and after\n",
    "- Main input:\n",
    "    - /weadata/**stations_info.csv** - city, state, lat, lon info for each site\n",
    "    - /weadata/**siteyears_crithr1.csv** - site-year info for data filtered with crithr = 1\n",
    "    - df_temp, df_rh, df_precip, df_solrad\n",
    "- Main output:\n",
    "    - /weadata/data/control/**site_year.txt** - MAIZSIM weather file for every site-year\n",
    "- Functions:\n",
    "    - find_zone(site)\n",
    "    - utc_to_local(times, zone)"
   ]
  },
  {
   "cell_type": "code",
   "execution_count": 372,
   "metadata": {},
   "outputs": [],
   "source": [
    "# time zone finder\n",
    "def find_zone(site):\n",
    "    \"\"\"\n",
    "    find time zone for specific sites\n",
    "    \"\"\"\n",
    "    lat = float(siteinfo[siteinfo.site == site].lat)\n",
    "    lon = float(siteinfo[siteinfo.site == site].lon)\n",
    "    tf = TimezoneFinder()    \n",
    "    zone = tf.timezone_at(lng=lon, lat=lat)\n",
    "    return zone"
   ]
  },
  {
   "cell_type": "code",
   "execution_count": 373,
   "metadata": {},
   "outputs": [],
   "source": [
    "# utc conversion to local time\n",
    "def utc_to_local(times, zone):\n",
    "    \"\"\"\n",
    "    convert list of utc timestamps into local time\n",
    "    \"\"\"\n",
    "    times = times.to_pydatetime() # convert from pd.DatetimeIndex into python datetime format\n",
    "    utc = pytz.timezone('UTC') # setting up the UTC timezone, requires package 'pytz'\n",
    "    local_datetime = list()\n",
    "    \n",
    "    for time in times:\n",
    "        utctime = utc.localize(time) # adding UTC timezone to datetime\n",
    "        localtime = utctime.astimezone(pytz.timezone(zone)) \n",
    "        datetime = pd.to_datetime(localtime)\n",
    "        local_datetime.append(datetime)\n",
    "        \n",
    "    return local_datetime"
   ]
  },
  {
   "cell_type": "code",
   "execution_count": null,
   "metadata": {},
   "outputs": [],
   "source": [
    "# 200706 - updating code - testing\n",
    "\n",
    "### setting up growing season period\n",
    "season_start, season_end = '03-02', '11-30'\n",
    "\n",
    "### reading in required files\n",
    "siteinfo = pd.read_csv('/home/disk/eos8/ach315/upscale/weadata/sites_filtered_crithr1.csv', \n",
    "                       dtype={'site': object}, usecols=[1,4,5,6,7])\n",
    "siteyear = pd.read_csv('/home/disk/eos8/ach315/upscale/weadata/siteyears_crithr1.csv', \n",
    "                       dtype={'site':object}, usecols=[1,2])\n",
    "siteyear = siteyear[siteyear.site.isin(siteinfo.site)]\n",
    "siteyear.reset_index(inplace=True, drop=True)"
   ]
  },
  {
   "cell_type": "code",
   "execution_count": null,
   "metadata": {},
   "outputs": [],
   "source": []
  },
  {
   "cell_type": "code",
   "execution_count": null,
   "metadata": {},
   "outputs": [],
   "source": []
  },
  {
   "cell_type": "code",
   "execution_count": 412,
   "metadata": {},
   "outputs": [
    {
     "data": {
      "text/plain": [
       "DatetimeIndex(['1962-03-02 00:00:00', '1962-03-02 01:00:00',\n",
       "               '1962-03-02 02:00:00', '1962-03-02 03:00:00',\n",
       "               '1962-03-02 04:00:00', '1962-03-02 05:00:00',\n",
       "               '1962-03-02 06:00:00', '1962-03-02 07:00:00',\n",
       "               '1962-03-02 08:00:00', '1962-03-02 09:00:00',\n",
       "               ...\n",
       "               '1962-11-30 14:00:00', '1962-11-30 15:00:00',\n",
       "               '1962-11-30 16:00:00', '1962-11-30 17:00:00',\n",
       "               '1962-11-30 18:00:00', '1962-11-30 19:00:00',\n",
       "               '1962-11-30 20:00:00', '1962-11-30 21:00:00',\n",
       "               '1962-11-30 22:00:00', '1962-11-30 23:00:00'],\n",
       "              dtype='datetime64[ns]', length=6576, freq='H')"
      ]
     },
     "execution_count": 412,
     "metadata": {},
     "output_type": "execute_result"
    }
   ],
   "source": [
    "times"
   ]
  },
  {
   "cell_type": "code",
   "execution_count": 413,
   "metadata": {},
   "outputs": [
    {
     "data": {
      "text/plain": [
       "'1962-03-02 00:00:00'"
      ]
     },
     "execution_count": 413,
     "metadata": {},
     "output_type": "execute_result"
    }
   ],
   "source": [
    "utc_start"
   ]
  },
  {
   "cell_type": "code",
   "execution_count": 414,
   "metadata": {},
   "outputs": [
    {
     "data": {
      "text/plain": [
       "'1962-11-30 23:00:00'"
      ]
     },
     "execution_count": 414,
     "metadata": {},
     "output_type": "execute_result"
    }
   ],
   "source": [
    "utc_end"
   ]
  },
  {
   "cell_type": "code",
   "execution_count": 432,
   "metadata": {},
   "outputs": [
    {
     "data": {
      "text/plain": [
       "DatetimeIndex(['1962-03-02 00:00:00', '1962-03-02 01:00:00',\n",
       "               '1962-03-02 02:00:00', '1962-03-02 03:00:00',\n",
       "               '1962-03-02 04:00:00', '1962-03-02 05:00:00',\n",
       "               '1962-03-02 06:00:00', '1962-03-02 07:00:00',\n",
       "               '1962-03-02 08:00:00', '1962-03-02 09:00:00',\n",
       "               ...\n",
       "               '1962-11-29 15:00:00', '1962-11-29 16:00:00',\n",
       "               '1962-11-29 17:00:00', '1962-11-29 18:00:00',\n",
       "               '1962-11-29 19:00:00', '1962-11-29 20:00:00',\n",
       "               '1962-11-29 21:00:00', '1962-11-29 22:00:00',\n",
       "               '1962-11-29 23:00:00', '1962-11-30 00:00:00'],\n",
       "              dtype='datetime64[ns]', length=6553, freq='H')"
      ]
     },
     "execution_count": 432,
     "metadata": {},
     "output_type": "execute_result"
    }
   ],
   "source": [
    "times = pd.date_range(season_start + '-' + str(year), \n",
    "                      season_end + '-' + str(year), freq='1H') # utc time\n",
    "times"
   ]
  },
  {
   "cell_type": "code",
   "execution_count": 415,
   "metadata": {},
   "outputs": [
    {
     "data": {
      "text/plain": [
       "1962-03-02 00:00:00     8.3\n",
       "1962-03-02 01:00:00     8.3\n",
       "1962-03-02 02:00:00     8.3\n",
       "1962-03-02 03:00:00     8.3\n",
       "1962-03-02 04:00:00     8.3\n",
       "                       ... \n",
       "1962-11-29 20:00:00    13.3\n",
       "1962-11-29 21:00:00    13.3\n",
       "1962-11-29 22:00:00    13.3\n",
       "1962-11-29 23:00:00    13.3\n",
       "1962-11-30 00:00:00    13.3\n",
       "Name: 722260, Length: 6553, dtype: float64"
      ]
     },
     "execution_count": 415,
     "metadata": {},
     "output_type": "execute_result"
    }
   ],
   "source": [
    "df_temp[utc_start:utc_end][site]"
   ]
  },
  {
   "cell_type": "code",
   "execution_count": 444,
   "metadata": {},
   "outputs": [
    {
     "data": {
      "text/plain": [
       "(328850, 274)"
      ]
     },
     "execution_count": 444,
     "metadata": {},
     "output_type": "execute_result"
    }
   ],
   "source": [
    "df_solrad.shape"
   ]
  },
  {
   "cell_type": "code",
   "execution_count": 450,
   "metadata": {},
   "outputs": [
    {
     "data": {
      "text/plain": [
       "1962-03-01 18:00:00    0.0\n",
       "1962-03-01 19:00:00    0.0\n",
       "1962-03-01 20:00:00    0.0\n",
       "1962-03-01 21:00:00    0.0\n",
       "1962-03-01 22:00:00    0.0\n",
       "                      ... \n",
       "1962-11-29 20:00:00    0.0\n",
       "1962-11-29 21:00:00    0.0\n",
       "1962-11-29 22:00:00    0.0\n",
       "1962-11-29 23:00:00    0.0\n",
       "1962-11-30 00:00:00    0.0\n",
       "Name: 722260, Length: 6559, dtype: float64"
      ]
     },
     "execution_count": 450,
     "metadata": {},
     "output_type": "execute_result"
    }
   ],
   "source": [
    "df_solrad[local_start:local_end][site]"
   ]
  },
  {
   "cell_type": "code",
   "execution_count": null,
   "metadata": {},
   "outputs": [],
   "source": []
  },
  {
   "cell_type": "code",
   "execution_count": null,
   "metadata": {},
   "outputs": [],
   "source": []
  },
  {
   "cell_type": "code",
   "execution_count": null,
   "metadata": {},
   "outputs": [],
   "source": []
  },
  {
   "cell_type": "code",
   "execution_count": null,
   "metadata": {},
   "outputs": [],
   "source": []
  },
  {
   "cell_type": "code",
   "execution_count": 383,
   "metadata": {},
   "outputs": [
    {
     "name": "stdout",
     "output_type": "stream",
     "text": [
      "722260 1962\n"
     ]
    },
    {
     "ename": "ValueError",
     "evalue": "Length of values does not match length of index",
     "output_type": "error",
     "traceback": [
      "\u001b[0;31m---------------------------------------------------------------------------\u001b[0m",
      "\u001b[0;31mValueError\u001b[0m                                Traceback (most recent call last)",
      "\u001b[0;32m<ipython-input-383-e20da1b9e5c2>\u001b[0m in \u001b[0;36m<module>\u001b[0;34m\u001b[0m\n\u001b[1;32m     44\u001b[0m     \u001b[0mlocal_start\u001b[0m \u001b[0;34m=\u001b[0m \u001b[0mstr\u001b[0m\u001b[0;34m(\u001b[0m\u001b[0mlocal_datetime\u001b[0m\u001b[0;34m[\u001b[0m\u001b[0;36m0\u001b[0m\u001b[0;34m]\u001b[0m\u001b[0;34m)\u001b[0m\u001b[0;34m[\u001b[0m\u001b[0;34m:\u001b[0m\u001b[0;36m19\u001b[0m\u001b[0;34m]\u001b[0m\u001b[0;34m\u001b[0m\u001b[0;34m\u001b[0m\u001b[0m\n\u001b[1;32m     45\u001b[0m     \u001b[0mlocal_end\u001b[0m \u001b[0;34m=\u001b[0m \u001b[0mstr\u001b[0m\u001b[0;34m(\u001b[0m\u001b[0mpd\u001b[0m\u001b[0;34m.\u001b[0m\u001b[0mto_datetime\u001b[0m\u001b[0;34m(\u001b[0m\u001b[0mlocal_start\u001b[0m\u001b[0;34m)\u001b[0m\u001b[0;34m.\u001b[0m\u001b[0mto_pydatetime\u001b[0m\u001b[0;34m(\u001b[0m\u001b[0;34m)\u001b[0m \u001b[0;34m+\u001b[0m \u001b[0mtdiff\u001b[0m\u001b[0;34m)\u001b[0m\u001b[0;34m[\u001b[0m\u001b[0;34m:\u001b[0m\u001b[0;36m19\u001b[0m\u001b[0;34m]\u001b[0m\u001b[0;34m\u001b[0m\u001b[0;34m\u001b[0m\u001b[0m\n\u001b[0;32m---> 46\u001b[0;31m     \u001b[0mdf_wea\u001b[0m\u001b[0;34m.\u001b[0m\u001b[0msolrad\u001b[0m \u001b[0;34m=\u001b[0m \u001b[0mlist\u001b[0m\u001b[0;34m(\u001b[0m\u001b[0mdf_solrad\u001b[0m\u001b[0;34m[\u001b[0m\u001b[0mlocal_start\u001b[0m\u001b[0;34m:\u001b[0m\u001b[0mlocal_end\u001b[0m\u001b[0;34m]\u001b[0m\u001b[0;34m[\u001b[0m\u001b[0msite\u001b[0m\u001b[0;34m]\u001b[0m\u001b[0;34m)\u001b[0m\u001b[0;34m\u001b[0m\u001b[0;34m\u001b[0m\u001b[0m\n\u001b[0m\u001b[1;32m     47\u001b[0m \u001b[0;34m\u001b[0m\u001b[0m\n\u001b[1;32m     48\u001b[0m     \u001b[0;31m# adding time-relating info to data frame\u001b[0m\u001b[0;34m\u001b[0m\u001b[0;34m\u001b[0m\u001b[0;34m\u001b[0m\u001b[0m\n",
      "\u001b[0;32m~/anaconda3/lib/python3.6/site-packages/pandas/core/generic.py\u001b[0m in \u001b[0;36m__setattr__\u001b[0;34m(self, name, value)\u001b[0m\n\u001b[1;32m   5301\u001b[0m                     \u001b[0mobject\u001b[0m\u001b[0;34m.\u001b[0m\u001b[0m__setattr__\u001b[0m\u001b[0;34m(\u001b[0m\u001b[0mself\u001b[0m\u001b[0;34m,\u001b[0m \u001b[0mname\u001b[0m\u001b[0;34m,\u001b[0m \u001b[0mvalue\u001b[0m\u001b[0;34m)\u001b[0m\u001b[0;34m\u001b[0m\u001b[0;34m\u001b[0m\u001b[0m\n\u001b[1;32m   5302\u001b[0m                 \u001b[0;32melif\u001b[0m \u001b[0mname\u001b[0m \u001b[0;32min\u001b[0m \u001b[0mself\u001b[0m\u001b[0;34m.\u001b[0m\u001b[0m_info_axis\u001b[0m\u001b[0;34m:\u001b[0m\u001b[0;34m\u001b[0m\u001b[0;34m\u001b[0m\u001b[0m\n\u001b[0;32m-> 5303\u001b[0;31m                     \u001b[0mself\u001b[0m\u001b[0;34m[\u001b[0m\u001b[0mname\u001b[0m\u001b[0;34m]\u001b[0m \u001b[0;34m=\u001b[0m \u001b[0mvalue\u001b[0m\u001b[0;34m\u001b[0m\u001b[0;34m\u001b[0m\u001b[0m\n\u001b[0m\u001b[1;32m   5304\u001b[0m                 \u001b[0;32melse\u001b[0m\u001b[0;34m:\u001b[0m\u001b[0;34m\u001b[0m\u001b[0;34m\u001b[0m\u001b[0m\n\u001b[1;32m   5305\u001b[0m                     \u001b[0mobject\u001b[0m\u001b[0;34m.\u001b[0m\u001b[0m__setattr__\u001b[0m\u001b[0;34m(\u001b[0m\u001b[0mself\u001b[0m\u001b[0;34m,\u001b[0m \u001b[0mname\u001b[0m\u001b[0;34m,\u001b[0m \u001b[0mvalue\u001b[0m\u001b[0;34m)\u001b[0m\u001b[0;34m\u001b[0m\u001b[0;34m\u001b[0m\u001b[0m\n",
      "\u001b[0;32m~/anaconda3/lib/python3.6/site-packages/pandas/core/frame.py\u001b[0m in \u001b[0;36m__setitem__\u001b[0;34m(self, key, value)\u001b[0m\n\u001b[1;32m   2936\u001b[0m         \u001b[0;32melse\u001b[0m\u001b[0;34m:\u001b[0m\u001b[0;34m\u001b[0m\u001b[0;34m\u001b[0m\u001b[0m\n\u001b[1;32m   2937\u001b[0m             \u001b[0;31m# set column\u001b[0m\u001b[0;34m\u001b[0m\u001b[0;34m\u001b[0m\u001b[0;34m\u001b[0m\u001b[0m\n\u001b[0;32m-> 2938\u001b[0;31m             \u001b[0mself\u001b[0m\u001b[0;34m.\u001b[0m\u001b[0m_set_item\u001b[0m\u001b[0;34m(\u001b[0m\u001b[0mkey\u001b[0m\u001b[0;34m,\u001b[0m \u001b[0mvalue\u001b[0m\u001b[0;34m)\u001b[0m\u001b[0;34m\u001b[0m\u001b[0;34m\u001b[0m\u001b[0m\n\u001b[0m\u001b[1;32m   2939\u001b[0m \u001b[0;34m\u001b[0m\u001b[0m\n\u001b[1;32m   2940\u001b[0m     \u001b[0;32mdef\u001b[0m \u001b[0m_setitem_slice\u001b[0m\u001b[0;34m(\u001b[0m\u001b[0mself\u001b[0m\u001b[0;34m,\u001b[0m \u001b[0mkey\u001b[0m\u001b[0;34m,\u001b[0m \u001b[0mvalue\u001b[0m\u001b[0;34m)\u001b[0m\u001b[0;34m:\u001b[0m\u001b[0;34m\u001b[0m\u001b[0;34m\u001b[0m\u001b[0m\n",
      "\u001b[0;32m~/anaconda3/lib/python3.6/site-packages/pandas/core/frame.py\u001b[0m in \u001b[0;36m_set_item\u001b[0;34m(self, key, value)\u001b[0m\n\u001b[1;32m   2998\u001b[0m \u001b[0;34m\u001b[0m\u001b[0m\n\u001b[1;32m   2999\u001b[0m         \u001b[0mself\u001b[0m\u001b[0;34m.\u001b[0m\u001b[0m_ensure_valid_index\u001b[0m\u001b[0;34m(\u001b[0m\u001b[0mvalue\u001b[0m\u001b[0;34m)\u001b[0m\u001b[0;34m\u001b[0m\u001b[0;34m\u001b[0m\u001b[0m\n\u001b[0;32m-> 3000\u001b[0;31m         \u001b[0mvalue\u001b[0m \u001b[0;34m=\u001b[0m \u001b[0mself\u001b[0m\u001b[0;34m.\u001b[0m\u001b[0m_sanitize_column\u001b[0m\u001b[0;34m(\u001b[0m\u001b[0mkey\u001b[0m\u001b[0;34m,\u001b[0m \u001b[0mvalue\u001b[0m\u001b[0;34m)\u001b[0m\u001b[0;34m\u001b[0m\u001b[0;34m\u001b[0m\u001b[0m\n\u001b[0m\u001b[1;32m   3001\u001b[0m         \u001b[0mNDFrame\u001b[0m\u001b[0;34m.\u001b[0m\u001b[0m_set_item\u001b[0m\u001b[0;34m(\u001b[0m\u001b[0mself\u001b[0m\u001b[0;34m,\u001b[0m \u001b[0mkey\u001b[0m\u001b[0;34m,\u001b[0m \u001b[0mvalue\u001b[0m\u001b[0;34m)\u001b[0m\u001b[0;34m\u001b[0m\u001b[0;34m\u001b[0m\u001b[0m\n\u001b[1;32m   3002\u001b[0m \u001b[0;34m\u001b[0m\u001b[0m\n",
      "\u001b[0;32m~/anaconda3/lib/python3.6/site-packages/pandas/core/frame.py\u001b[0m in \u001b[0;36m_sanitize_column\u001b[0;34m(self, key, value, broadcast)\u001b[0m\n\u001b[1;32m   3634\u001b[0m \u001b[0;34m\u001b[0m\u001b[0m\n\u001b[1;32m   3635\u001b[0m             \u001b[0;31m# turn me into an ndarray\u001b[0m\u001b[0;34m\u001b[0m\u001b[0;34m\u001b[0m\u001b[0;34m\u001b[0m\u001b[0m\n\u001b[0;32m-> 3636\u001b[0;31m             \u001b[0mvalue\u001b[0m \u001b[0;34m=\u001b[0m \u001b[0msanitize_index\u001b[0m\u001b[0;34m(\u001b[0m\u001b[0mvalue\u001b[0m\u001b[0;34m,\u001b[0m \u001b[0mself\u001b[0m\u001b[0;34m.\u001b[0m\u001b[0mindex\u001b[0m\u001b[0;34m,\u001b[0m \u001b[0mcopy\u001b[0m\u001b[0;34m=\u001b[0m\u001b[0;32mFalse\u001b[0m\u001b[0;34m)\u001b[0m\u001b[0;34m\u001b[0m\u001b[0;34m\u001b[0m\u001b[0m\n\u001b[0m\u001b[1;32m   3637\u001b[0m             \u001b[0;32mif\u001b[0m \u001b[0;32mnot\u001b[0m \u001b[0misinstance\u001b[0m\u001b[0;34m(\u001b[0m\u001b[0mvalue\u001b[0m\u001b[0;34m,\u001b[0m \u001b[0;34m(\u001b[0m\u001b[0mnp\u001b[0m\u001b[0;34m.\u001b[0m\u001b[0mndarray\u001b[0m\u001b[0;34m,\u001b[0m \u001b[0mIndex\u001b[0m\u001b[0;34m)\u001b[0m\u001b[0;34m)\u001b[0m\u001b[0;34m:\u001b[0m\u001b[0;34m\u001b[0m\u001b[0;34m\u001b[0m\u001b[0m\n\u001b[1;32m   3638\u001b[0m                 \u001b[0;32mif\u001b[0m \u001b[0misinstance\u001b[0m\u001b[0;34m(\u001b[0m\u001b[0mvalue\u001b[0m\u001b[0;34m,\u001b[0m \u001b[0mlist\u001b[0m\u001b[0;34m)\u001b[0m \u001b[0;32mand\u001b[0m \u001b[0mlen\u001b[0m\u001b[0;34m(\u001b[0m\u001b[0mvalue\u001b[0m\u001b[0;34m)\u001b[0m \u001b[0;34m>\u001b[0m \u001b[0;36m0\u001b[0m\u001b[0;34m:\u001b[0m\u001b[0;34m\u001b[0m\u001b[0;34m\u001b[0m\u001b[0m\n",
      "\u001b[0;32m~/anaconda3/lib/python3.6/site-packages/pandas/core/internals/construction.py\u001b[0m in \u001b[0;36msanitize_index\u001b[0;34m(data, index, copy)\u001b[0m\n\u001b[1;32m    609\u001b[0m \u001b[0;34m\u001b[0m\u001b[0m\n\u001b[1;32m    610\u001b[0m     \u001b[0;32mif\u001b[0m \u001b[0mlen\u001b[0m\u001b[0;34m(\u001b[0m\u001b[0mdata\u001b[0m\u001b[0;34m)\u001b[0m \u001b[0;34m!=\u001b[0m \u001b[0mlen\u001b[0m\u001b[0;34m(\u001b[0m\u001b[0mindex\u001b[0m\u001b[0;34m)\u001b[0m\u001b[0;34m:\u001b[0m\u001b[0;34m\u001b[0m\u001b[0;34m\u001b[0m\u001b[0m\n\u001b[0;32m--> 611\u001b[0;31m         \u001b[0;32mraise\u001b[0m \u001b[0mValueError\u001b[0m\u001b[0;34m(\u001b[0m\u001b[0;34m\"Length of values does not match length of index\"\u001b[0m\u001b[0;34m)\u001b[0m\u001b[0;34m\u001b[0m\u001b[0;34m\u001b[0m\u001b[0m\n\u001b[0m\u001b[1;32m    612\u001b[0m \u001b[0;34m\u001b[0m\u001b[0m\n\u001b[1;32m    613\u001b[0m     \u001b[0;32mif\u001b[0m \u001b[0misinstance\u001b[0m\u001b[0;34m(\u001b[0m\u001b[0mdata\u001b[0m\u001b[0;34m,\u001b[0m \u001b[0mABCIndexClass\u001b[0m\u001b[0;34m)\u001b[0m \u001b[0;32mand\u001b[0m \u001b[0;32mnot\u001b[0m \u001b[0mcopy\u001b[0m\u001b[0;34m:\u001b[0m\u001b[0;34m\u001b[0m\u001b[0;34m\u001b[0m\u001b[0m\n",
      "\u001b[0;31mValueError\u001b[0m: Length of values does not match length of index"
     ]
    }
   ],
   "source": [
    "# 200706 - updating code - testing\n",
    "siteyear = siteyear.iloc[:10,:] # test with few cases first\n",
    "\n",
    "for i in np.arange(siteyear.shape[0]):\n",
    "    # selecting site-year combinations\n",
    "    site = siteyear.iloc[i,0]\n",
    "    year = siteyear.iloc[i,1]\n",
    "    print(site, year)\n",
    "    \n",
    "    # constructing dataframe that will hold all weather data\n",
    "    col = ['jday','date','hour','solrad','temp','precip','rh', 'co2']\n",
    "    df_wea = pd.DataFrame(columns=col)\n",
    "\n",
    "    # setting up for time-relating entries\n",
    "    times = pd.date_range(season_start + '-' + str(year), \n",
    "                          season_end + '-' + str(year)+ ' 23:00:00', freq='1H') # utc time\n",
    "    zone = find_zone(site)\n",
    "    local_datetime = utc_to_local(times, zone)\n",
    "\n",
    "    # selecting weather data\n",
    "    utc_start, utc_end = str(times[0]), str(times[-1])\n",
    "    df_wea.temp = list(df_temp[utc_start:utc_end][site])\n",
    "    df_wea.rh = list(np.round((df_rh[utc_start:utc_end][site])*100, 2))\n",
    "    df_wea.precip = list(df_precip[utc_start:utc_end][site])\n",
    "    df_wea.co2 = 400    \n",
    "\n",
    "    # selecting solar radiation \n",
    "    t1 = pd.to_datetime(utc_start).to_pydatetime()\n",
    "    t2 = pd.to_datetime(utc_end).to_pydatetime()\n",
    "    tdiff = t2-t1\n",
    "    local_start = str(local_datetime[0])[:19] \n",
    "    local_end = str(pd.to_datetime(local_start).to_pydatetime() + tdiff)[:19]\n",
    "    df_wea.solrad = list(df_solrad[local_start:local_end][site])\n",
    "    \n",
    "    # adding time-relating info to data frame\n",
    "    local = pd.date_range(local_start, local_end, freq='H')\n",
    "    df_wea.jday = local.dayofyear\n",
    "    df_wea.date = local.strftime(\"'%m/%d/%Y'\")\n",
    "    df_wea.hour = local.hour    \n",
    "    \n",
    "    df_wea.head()"
   ]
  },
  {
   "cell_type": "code",
   "execution_count": null,
   "metadata": {},
   "outputs": [],
   "source": [
    "%%time # code block run time ~52 mins\n",
    "\n",
    "### setting up growing season period\n",
    "season_start, season_end = '03-01', '11-30'\n",
    "\n",
    "### reading in required files\n",
    "siteinfo = pd.read_csv('/home/disk/eos8/ach315/upscale/weadata/site_info.csv', dtype='str', usecols=[1,2,3,4,5])\n",
    "siteyear = pd.read_csv('/home/disk/eos8/ach315/upscale/weadata/siteyears_crithr1.csv', dtype='str', usecols=[1,2])\n",
    "\n",
    "### starting the loop to process each site-year\n",
    "for i in np.arange(siteyear.shape[0]): \n",
    "    # selecting site-year combinations\n",
    "    site = siteyear.iloc[i,0]\n",
    "    year = siteyear.iloc[i,1]\n",
    "    print(site, year)\n",
    "    \n",
    "    # constructing dataframe that will hold all weather data\n",
    "    col = ['jday','date','hour','solrad','temp','precip','rh', 'co2']\n",
    "    df_wea = pd.DataFrame(columns=col)\n",
    "\n",
    "    # setting up for time-relating entries\n",
    "    times = pd.date_range(season_start + '-' + str(year), \n",
    "                          season_end + '-' + str(year)+ ' 23:00:00', freq='1H') # utc time\n",
    "    zone = find_zone(site)\n",
    "    local_datetime = utc_to_local(times, zone)\n",
    "            \n",
    "    # selecting weather data\n",
    "    utc_start, utc_end = str(times[0]), str(times[-1])\n",
    "    df_wea.temp = list(df_temp[utc_start:utc_end][site])\n",
    "    df_wea.rh = list(np.round((df_rh[utc_start:utc_end][site])*100, 2))\n",
    "    df_wea.precip = list(df_precip[utc_start:utc_end][site]/10) #*** this is a temporary fix for precip scaling bug\n",
    "    df_wea.co2 = 400    \n",
    "\n",
    "    # selecting solar radiation \n",
    "    t1 = pd.to_datetime(utc_start).to_pydatetime()\n",
    "    t2 = pd.to_datetime(utc_end).to_pydatetime()\n",
    "    tdiff = t2-t1\n",
    "    local_start = str(local_datetime[0])[:19] \n",
    "    local_end = str(pd.to_datetime(local_start).to_pydatetime() + tdiff)[:19]\n",
    "    df_wea.solrad = list(df_solrad[local_start:local_end][site])\n",
    "\n",
    "    # adding time-relating info to data frame\n",
    "    local = pd.date_range(local_start, local_end, freq='H')\n",
    "    df_wea.jday = local.dayofyear\n",
    "    df_wea.date = local.strftime(\"'%m/%d/%Y'\")\n",
    "    df_wea.hour = local.hour    \n",
    "    \n",
    "    # gap-filling weather data\n",
    "    if df_wea.isna().sum().sum() > 0:\n",
    "        # creating a log file that documents the number of missing data for each site-year\n",
    "        f = open('/home/disk/eos8/ach315/upscale/weadata/data/log.txt', 'a+')\n",
    "        f.write('site: %s' %siteyear.iloc[i,:][0])\n",
    "        f.write(', year: %s' %siteyear.iloc[i,:][1])\n",
    "        f.write(', gap-filled: %s\\r\\n' %df_wea.isna().sum().sum())\n",
    "        f.close()\n",
    "        \n",
    "        # gap-filling data by linearly interpolating with data from hour before and after\n",
    "        df_wea = df_wea.interpolate() \n",
    "        \n",
    "    # saving individual site-year weather file into .csv \n",
    "#    df_wea.to_csv('/home/disk/eos8/ach315/upscale/weadata/data/control/' + site + '_' + year + '.txt', sep='\\t', index=False)\n",
    "    "
   ]
  },
  {
   "cell_type": "markdown",
   "metadata": {},
   "source": [
    "### Step 7: Final step of gap-filling if needed"
   ]
  },
  {
   "cell_type": "markdown",
   "metadata": {},
   "source": [
    "Since pd.interpolate() cannot gap-fill missing data if the missing data is located at the very beginning of the data (nan in first row), the code checks whether there are site-years with that situation, and if so assigns the missing data in the first row a default number."
   ]
  },
  {
   "cell_type": "code",
   "execution_count": 1354,
   "metadata": {},
   "outputs": [],
   "source": [
    "fnames = glob.glob('/home/disk/eos8/ach315/upscale/weadata/data/control/*')\n",
    "\n",
    "for name in fnames: \n",
    "    df_wea = pd.read_csv(name)\n",
    "    df_wea = df_wea.drop(df_wea.columns[0], axis=1)\n",
    "    if df_wea.isna().sum().sum() > 0:\n",
    "        print(name.split('/')[-1], df_wea.isna().sum().sum())\n",
    "\n",
    "# no files required additional gap-filling"
   ]
  },
  {
   "cell_type": "markdown",
   "metadata": {},
   "source": [
    "### Step 8: reading in a final compiled weather file to check output"
   ]
  },
  {
   "cell_type": "code",
   "execution_count": 25,
   "metadata": {},
   "outputs": [
    {
     "data": {
      "text/html": [
       "<div>\n",
       "<style scoped>\n",
       "    .dataframe tbody tr th:only-of-type {\n",
       "        vertical-align: middle;\n",
       "    }\n",
       "\n",
       "    .dataframe tbody tr th {\n",
       "        vertical-align: top;\n",
       "    }\n",
       "\n",
       "    .dataframe thead th {\n",
       "        text-align: right;\n",
       "    }\n",
       "</style>\n",
       "<table border=\"1\" class=\"dataframe\">\n",
       "  <thead>\n",
       "    <tr style=\"text-align: right;\">\n",
       "      <th></th>\n",
       "      <th>jday</th>\n",
       "      <th>date</th>\n",
       "      <th>hour</th>\n",
       "      <th>solrad</th>\n",
       "      <th>temp</th>\n",
       "      <th>precip</th>\n",
       "      <th>rh</th>\n",
       "      <th>co2</th>\n",
       "    </tr>\n",
       "  </thead>\n",
       "  <tbody>\n",
       "    <tr>\n",
       "      <th>0</th>\n",
       "      <td>90</td>\n",
       "      <td>'03/31/1989'</td>\n",
       "      <td>17</td>\n",
       "      <td>29.0</td>\n",
       "      <td>7.8</td>\n",
       "      <td>0.0</td>\n",
       "      <td>76.18</td>\n",
       "      <td>400</td>\n",
       "    </tr>\n",
       "    <tr>\n",
       "      <th>1</th>\n",
       "      <td>90</td>\n",
       "      <td>'03/31/1989'</td>\n",
       "      <td>18</td>\n",
       "      <td>4.0</td>\n",
       "      <td>5.6</td>\n",
       "      <td>1.3</td>\n",
       "      <td>85.04</td>\n",
       "      <td>400</td>\n",
       "    </tr>\n",
       "    <tr>\n",
       "      <th>2</th>\n",
       "      <td>90</td>\n",
       "      <td>'03/31/1989'</td>\n",
       "      <td>19</td>\n",
       "      <td>0.0</td>\n",
       "      <td>6.1</td>\n",
       "      <td>2.5</td>\n",
       "      <td>88.77</td>\n",
       "      <td>400</td>\n",
       "    </tr>\n",
       "    <tr>\n",
       "      <th>3</th>\n",
       "      <td>90</td>\n",
       "      <td>'03/31/1989'</td>\n",
       "      <td>20</td>\n",
       "      <td>0.0</td>\n",
       "      <td>6.1</td>\n",
       "      <td>0.0</td>\n",
       "      <td>85.69</td>\n",
       "      <td>400</td>\n",
       "    </tr>\n",
       "    <tr>\n",
       "      <th>4</th>\n",
       "      <td>90</td>\n",
       "      <td>'03/31/1989'</td>\n",
       "      <td>21</td>\n",
       "      <td>0.0</td>\n",
       "      <td>6.1</td>\n",
       "      <td>0.0</td>\n",
       "      <td>82.13</td>\n",
       "      <td>400</td>\n",
       "    </tr>\n",
       "  </tbody>\n",
       "</table>\n",
       "</div>"
      ],
      "text/plain": [
       "   jday          date  hour  solrad  temp  precip     rh  co2\n",
       "0    90  '03/31/1989'    17    29.0   7.8     0.0  76.18  400\n",
       "1    90  '03/31/1989'    18     4.0   5.6     1.3  85.04  400\n",
       "2    90  '03/31/1989'    19     0.0   6.1     2.5  88.77  400\n",
       "3    90  '03/31/1989'    20     0.0   6.1     0.0  85.69  400\n",
       "4    90  '03/31/1989'    21     0.0   6.1     0.0  82.13  400"
      ]
     },
     "execution_count": 25,
     "metadata": {},
     "output_type": "execute_result"
    }
   ],
   "source": [
    "test = pd.read_csv('/home/disk/eos8/ach315/upscale/weadata/data/control/24127_1989.txt', sep='\\t')\n",
    "test.head()"
   ]
  },
  {
   "cell_type": "code",
   "execution_count": null,
   "metadata": {},
   "outputs": [],
   "source": []
  },
  {
   "cell_type": "code",
   "execution_count": null,
   "metadata": {},
   "outputs": [],
   "source": []
  },
  {
   "cell_type": "code",
   "execution_count": null,
   "metadata": {},
   "outputs": [],
   "source": []
  },
  {
   "cell_type": "code",
   "execution_count": null,
   "metadata": {},
   "outputs": [],
   "source": []
  },
  {
   "cell_type": "code",
   "execution_count": null,
   "metadata": {},
   "outputs": [],
   "source": []
  },
  {
   "cell_type": "code",
   "execution_count": null,
   "metadata": {},
   "outputs": [],
   "source": []
  },
  {
   "cell_type": "code",
   "execution_count": null,
   "metadata": {},
   "outputs": [],
   "source": []
  },
  {
   "cell_type": "code",
   "execution_count": null,
   "metadata": {},
   "outputs": [],
   "source": []
  },
  {
   "cell_type": "code",
   "execution_count": null,
   "metadata": {},
   "outputs": [],
   "source": []
  },
  {
   "cell_type": "code",
   "execution_count": null,
   "metadata": {},
   "outputs": [],
   "source": []
  },
  {
   "cell_type": "code",
   "execution_count": null,
   "metadata": {},
   "outputs": [],
   "source": []
  },
  {
   "cell_type": "code",
   "execution_count": null,
   "metadata": {},
   "outputs": [],
   "source": []
  },
  {
   "cell_type": "markdown",
   "metadata": {},
   "source": [
    "### Step *. Select for subset dataset to include only valid (can be gap-filled) weather data\n",
    "**** JH 200506- thinking about whehter to keep this or not ****\n",
    "- Main task:\n",
    "- Main input: \n",
    "    - /weadata/**site_year_crithr1.csv**\n",
    "    - /weadata/**temp_all.csv**\n",
    "    - /weadata/**precip_all.csv**\n",
    "    - /weadata/**rh_all.csv**\n",
    "    - /weadata/**solrad_all.csv**\n",
    "- Main output: **/weadata/weadata.csv** - "
   ]
  },
  {
   "cell_type": "code",
   "execution_count": 34,
   "metadata": {},
   "outputs": [
    {
     "name": "stdout",
     "output_type": "stream",
     "text": [
      "total site-years: 2125\n"
     ]
    }
   ],
   "source": [
    "# reading in data\n",
    "siteyear = pd.read_csv('/home/disk/eos8/ach315/upscale/weadata/site_year_crithr1.csv', dtype=\"str\")\n",
    "siteyear = siteyear.drop(siteyear.columns[0], axis=1)\n",
    "print('total site-years:', siteyear.shape[0])"
   ]
  },
  {
   "cell_type": "code",
   "execution_count": null,
   "metadata": {},
   "outputs": [],
   "source": [
    "# 190923: still thinking whether the code below in this step 5 section is necessary now\n",
    "# Read in individual weather data files and merge them into long form data frame:\n",
    "\n",
    "filelist = ['temp_all.csv', 'precip_all.csv', 'rh_all.csv', 'solrad_all.csv']\n",
    "weavars = ['temp', 'precip', 'rh', 'solrad']\n",
    "filenums = len(filelist)\n",
    "dfs = [[],[],[],[]]\n",
    "sites = sorted(list(set(siteyear.site)))\n",
    "grow_months = [5,6,7,8,9,10]\n",
    "\n",
    "for i in range(filenums):\n",
    "    dfs[i] = pd.read_csv('/home/disk/eos8/ach315/upscale/weadata/' + filelist[i], index_col=0)\n",
    "    dfs[i].index = pd.to_datetime(dfs[i].index) # converting index timepoint into datetimeindex\n",
    "    dfs[i] = dfs[i][dfs[i].index.month.isin(grow_months)] # selecting only the growing season timepoints\n",
    "    dfs[i] = dfs[i].filter(items=sites, axis=1) # selcting only the valid sites\n",
    "    dfs[i][\"date\"] = dfs[i].index # creating another column that stores datetimeindex info, for melting purpose\n",
    "    dfs[i] = pd.melt(dfs[i], id_vars=\"date\", var_name=\"sites\", value_name=weavars[i])\n",
    "\n",
    "df = pd.merge(dfs[0], dfs[1])\n",
    "df = pd.merge(df, dfs[2])\n",
    "df = pd.merge(df, dfs[3])    \n",
    "\n",
    "df.index = pd.to_datetime(df.date)\n",
    "df = df.iloc[:, 1:]\n",
    "df.head()"
   ]
  },
  {
   "cell_type": "code",
   "execution_count": null,
   "metadata": {},
   "outputs": [],
   "source": [
    "# selecting for valid site-years\n",
    "valid_siteyears = siteyear.shape[0]\n",
    "frames = []\n",
    "\n",
    "for i in range(valid_siteyears):\n",
    "    dfi = df[df.index.year == int(siteyear.year[i])]\n",
    "    dfi = dfi[dfi.sites == siteyear.site[i]]\n",
    "    frames.append(dfi)\n",
    "#    print(len(frames)) # since this code takes time to run, \n",
    "                       # this helps to see where in the process it is\n",
    "\n",
    "df_valid = pd.concat(frames)\n",
    "# saving all valid weather dataframe into .csv\n",
    "#df_valid.to_csv(\"/home/disk/eos8/ach315/upscale/weadata/weadata.csv\")"
   ]
  },
  {
   "cell_type": "code",
   "execution_count": 36,
   "metadata": {},
   "outputs": [
    {
     "data": {
      "text/html": [
       "<div>\n",
       "<style scoped>\n",
       "    .dataframe tbody tr th:only-of-type {\n",
       "        vertical-align: middle;\n",
       "    }\n",
       "\n",
       "    .dataframe tbody tr th {\n",
       "        vertical-align: top;\n",
       "    }\n",
       "\n",
       "    .dataframe thead th {\n",
       "        text-align: right;\n",
       "    }\n",
       "</style>\n",
       "<table border=\"1\" class=\"dataframe\">\n",
       "  <thead>\n",
       "    <tr style=\"text-align: right;\">\n",
       "      <th></th>\n",
       "      <th>sites</th>\n",
       "      <th>temp</th>\n",
       "      <th>precip</th>\n",
       "      <th>rh</th>\n",
       "      <th>solrad</th>\n",
       "    </tr>\n",
       "    <tr>\n",
       "      <th>date</th>\n",
       "      <th></th>\n",
       "      <th></th>\n",
       "      <th></th>\n",
       "      <th></th>\n",
       "      <th></th>\n",
       "    </tr>\n",
       "  </thead>\n",
       "  <tbody>\n",
       "    <tr>\n",
       "      <th>1964-05-01 00:00:00</th>\n",
       "      <td>3103</td>\n",
       "      <td>9.4</td>\n",
       "      <td>0.0</td>\n",
       "      <td>0.605071</td>\n",
       "      <td>0.0</td>\n",
       "    </tr>\n",
       "    <tr>\n",
       "      <th>1964-05-01 01:00:00</th>\n",
       "      <td>3103</td>\n",
       "      <td>5.6</td>\n",
       "      <td>15.0</td>\n",
       "      <td>0.850413</td>\n",
       "      <td>0.0</td>\n",
       "    </tr>\n",
       "    <tr>\n",
       "      <th>1964-05-01 02:00:00</th>\n",
       "      <td>3103</td>\n",
       "      <td>4.4</td>\n",
       "      <td>0.0</td>\n",
       "      <td>0.925122</td>\n",
       "      <td>0.0</td>\n",
       "    </tr>\n",
       "    <tr>\n",
       "      <th>1964-05-01 03:00:00</th>\n",
       "      <td>3103</td>\n",
       "      <td>3.3</td>\n",
       "      <td>0.0</td>\n",
       "      <td>0.924547</td>\n",
       "      <td>0.0</td>\n",
       "    </tr>\n",
       "    <tr>\n",
       "      <th>1964-05-01 04:00:00</th>\n",
       "      <td>3103</td>\n",
       "      <td>2.8</td>\n",
       "      <td>0.0</td>\n",
       "      <td>0.924283</td>\n",
       "      <td>0.0</td>\n",
       "    </tr>\n",
       "  </tbody>\n",
       "</table>\n",
       "</div>"
      ],
      "text/plain": [
       "                     sites  temp  precip        rh  solrad\n",
       "date                                                      \n",
       "1964-05-01 00:00:00   3103   9.4     0.0  0.605071     0.0\n",
       "1964-05-01 01:00:00   3103   5.6    15.0  0.850413     0.0\n",
       "1964-05-01 02:00:00   3103   4.4     0.0  0.925122     0.0\n",
       "1964-05-01 03:00:00   3103   3.3     0.0  0.924547     0.0\n",
       "1964-05-01 04:00:00   3103   2.8     0.0  0.924283     0.0"
      ]
     },
     "execution_count": 36,
     "metadata": {},
     "output_type": "execute_result"
    }
   ],
   "source": [
    "test = pd.read_csv('/home/disk/eos8/ach315/upscale/weadata/weadata.csv', index_col=0)\n",
    "test.head()"
   ]
  },
  {
   "cell_type": "code",
   "execution_count": null,
   "metadata": {},
   "outputs": [],
   "source": []
  }
 ],
 "metadata": {
  "kernelspec": {
   "display_name": "Python 3",
   "language": "python",
   "name": "python3"
  },
  "language_info": {
   "codemirror_mode": {
    "name": "ipython",
    "version": 3
   },
   "file_extension": ".py",
   "mimetype": "text/x-python",
   "name": "python",
   "nbconvert_exporter": "python",
   "pygments_lexer": "ipython3",
   "version": "3.6.10"
  }
 },
 "nbformat": 4,
 "nbformat_minor": 4
}
