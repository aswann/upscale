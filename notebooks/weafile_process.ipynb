{
 "cells": [
  {
   "cell_type": "markdown",
   "metadata": {},
   "source": [
    "# Identifying & Quantifying Missing Weather Data"
   ]
  },
  {
   "cell_type": "markdown",
   "metadata": {},
   "source": [
    "Load in required packages:"
   ]
  },
  {
   "cell_type": "code",
   "execution_count": 347,
   "metadata": {},
   "outputs": [],
   "source": [
    "import numpy as np\n",
    "import pandas as pd\n",
    "import matplotlib.pyplot as plt\n",
    "import seaborn as sns\n",
    "import glob\n",
    "import xarray as xr\n",
    "from datetime import datetime\n",
    "import time "
   ]
  },
  {
   "cell_type": "markdown",
   "metadata": {},
   "source": [
    "Read in temperature, precip, RH & solar radiation data:"
   ]
  },
  {
   "cell_type": "code",
   "execution_count": 125,
   "metadata": {},
   "outputs": [
    {
     "name": "stdout",
     "output_type": "stream",
     "text": [
      "(154110, 237)\n",
      "(154110, 237)\n",
      "(154110, 237)\n",
      "(154110, 237)\n"
     ]
    }
   ],
   "source": [
    "# these are loading the updated files generated through a more streamlined process\n",
    "df_temp = pd.read_csv('/home/disk/eos8/ach315/upscale/weadata/temp_all.csv', index_col= 0)\n",
    "df_rh = pd.read_csv('/home/disk/eos8/ach315/upscale/weadata/rh_all.csv', index_col= 0)\n",
    "df_precip = pd.read_csv('/home/disk/eos8/ach315/upscale/weadata/precip_all.csv', index_col= 0)\n",
    "df_solrad = pd.read_csv('/home/disk/eos8/ach315/upscale/weadata/backup/solrad_all.csv', index_col= 0)\n",
    "\n",
    "# processing solar radiation data to only include growing season\n",
    "df_solrad = df_solrad.reindex(df_temp.index)\n",
    "print(df_temp.shape)\n",
    "print(df_rh.shape)\n",
    "print(df_precip.shape)\n",
    "print(df_solrad.shape)"
   ]
  },
  {
   "cell_type": "code",
   "execution_count": 126,
   "metadata": {},
   "outputs": [],
   "source": [
    "# saving the updated solar radiation data\n",
    "df_solrad.to_csv('/home/disk/eos8/ach315/upscale/weadata/solrad_all.csv')"
   ]
  },
  {
   "cell_type": "markdown",
   "metadata": {},
   "source": [
    "Putting all the weather data into xarray"
   ]
  },
  {
   "cell_type": "code",
   "execution_count": 127,
   "metadata": {},
   "outputs": [
    {
     "data": {
      "text/plain": [
       "<xarray.Dataset>\n",
       "Dimensions:        (loc: 237, time: 154110)\n",
       "Coordinates:\n",
       "  * time           (time) datetime64[ns] 1961-04-01 1961-04-01T01:00:00 ...\n",
       "  * loc            (loc) object '03103' '03812' '03813' '03820' '03822' ...\n",
       "Data variables:\n",
       "    temperature    (time, loc) float64 nan 8.9 17.2 15.0 18.9 14.4 nan nan ...\n",
       "    precipitation  (time, loc) float64 nan nan 5.0 15.0 0.0 30.0 nan nan nan ...\n",
       "    relhumidity    (time, loc) float64 nan 92.74 86.7 100.0 93.21 93.01 nan ...\n",
       "    solrad         (time, loc) float64 nan 0.0 0.0 0.0 0.0 0.0 0.0 0.0 0.0 ..."
      ]
     },
     "execution_count": 127,
     "metadata": {},
     "output_type": "execute_result"
    }
   ],
   "source": [
    "timepoints = pd.to_datetime(df_temp.index)\n",
    "sites = df_temp.columns\n",
    "\n",
    "ds_weadata = xr.Dataset({\"temperature\": ([\"time\", \"loc\"], df_temp),\n",
    "                         \"precipitation\": ([\"time\", \"loc\"], df_precip),\n",
    "                         \"relhumidity\": ([\"time\", \"loc\"], df_rh),\n",
    "                         \"solrad\": ([\"time\", \"loc\"], df_solrad)},\n",
    "                        coords= {\"time\": timepoints,\n",
    "                                 \"loc\": sites})\n",
    "\n",
    "ds_weadata"
   ]
  },
  {
   "cell_type": "code",
   "execution_count": 5,
   "metadata": {},
   "outputs": [],
   "source": [
    "# 190910: Depricated Code\n",
    "# these are loading the old weather files that are now in backup\n",
    "df_temp = pd.read_csv(\"/home/disk/eos8/ach315/upscale/weadata/backup/temp_all.csv\", index_col= 0)\n",
    "df_precip = pd.read_csv(\"/home/disk/eos8/ach315/upscale/weadata/backup/precip_all.csv\", index_col= 0)\n",
    "df_rh = pd.read_csv(\"/home/disk/eos8/ach315/upscale/weadata/backup/rh_all.csv\", index_col= 0)\n",
    "df_solrad = pd.read_csv(\"/home/disk/eos8/ach315/upscale/weadata/backup/solrad_all.csv\", index_col= 0)"
   ]
  },
  {
   "cell_type": "markdown",
   "metadata": {},
   "source": [
    "### Step 1. Figure out site-years that can be gap-filled"
   ]
  },
  {
   "cell_type": "code",
   "execution_count": 599,
   "metadata": {},
   "outputs": [],
   "source": [
    "#--- Setting up variables\n",
    "# variable input for loop\n",
    "\n",
    "# weather datasets to process\n",
    "datasets = list([df_temp, df_rh, df_precip, df_solrad]) # df_rh is based off df_temp, so no need to evaluate \n",
    "\n",
    "# final lists to store processed output\n",
    "finalist = list([[], [], [], []]) # order: [0]-temp, [1]-precip, [2]-solrad\n",
    "\n",
    "# years\n",
    "years = np.arange(1961, 1991)\n",
    "\n",
    "# growing season\n",
    "growseason_start = '-04-01 00:00:00'\n",
    "growseason_end = '-10-31 23:00:00'\n",
    "\n",
    "# critical hrs of missing data\n",
    "crit_hrs = 1"
   ]
  },
  {
   "cell_type": "code",
   "execution_count": 600,
   "metadata": {},
   "outputs": [],
   "source": [
    "#--- Loop\n",
    "# looking through the temp, precip & solrad dataset to pick out usable site-years\n",
    "\n",
    "for i in np.arange(len(datasets)):\n",
    "    dataset = datasets[i]\n",
    "    siteyears_all = list()\n",
    "    sites = dataset.columns\n",
    "    \n",
    "    for j in years:\n",
    "        start_time = str(j) + growseason_start\n",
    "        end_time = str(j) + growseason_end\n",
    "        siteyears = list()\n",
    "        \n",
    "        for k in sites:\n",
    "            df = dataset.loc[start_time:end_time, k] \n",
    "            df = pd.DataFrame(df)\n",
    "            df['group'] = df.notnull().astype(int) # df.notnull() returns TRUE or FALSE, \n",
    "                                                   # .astype(int) turns TRUE into 1, and FALSE into 0\n",
    "            df['group'] = df.group.cumsum() # calculating cumulative sum \n",
    "            df = df[df.iloc[:,0].isnull()] # selecting out individual timesteps that have missing data\n",
    "            df['count'] = df.groupby('group')['group'].transform('size') # counts the number of consecutive NANs \n",
    "            df = df.drop_duplicates('group')\n",
    "            \n",
    "            if df[df['count'] > crit_hrs].shape[0] == 0:\n",
    "                use_siteyear = str(j) + '_' + str(k)\n",
    "                siteyears.append(use_siteyear) # only record site-years that have fewer consecutive NANs than the critical value set\n",
    "        \n",
    "        siteyears_all.extend(siteyears)\n",
    "    \n",
    "    finalist[i] = siteyears_all\n"
   ]
  },
  {
   "cell_type": "markdown",
   "metadata": {},
   "source": [
    "### Step 2. Compare usable site-years for temp  & precip and find the common year-sites"
   ]
  },
  {
   "cell_type": "code",
   "execution_count": 601,
   "metadata": {},
   "outputs": [
    {
     "name": "stdout",
     "output_type": "stream",
     "text": [
      "temp: 2838\n",
      "precip: 2254\n",
      "solrad: 7097\n",
      "overlapping siteyears: 2125\n"
     ]
    }
   ],
   "source": [
    "yearsites_temp = finalist[0]\n",
    "yearsites_rh = finalist[1]\n",
    "yearsites_precip = finalist[2]\n",
    "yearsites_solrad = finalist[3]\n",
    "\n",
    "print('temp:', len(yearsites_temp))\n",
    "print('precip:', len(yearsites_precip))\n",
    "print('solrad:', len(yearsites_solrad))\n",
    "\n",
    "yearsites = list(set(yearsites_temp) & set(yearsites_rh))\n",
    "yearsites = list(set(yearsites) & set(yearsites_precip))\n",
    "yearsites = list(set(yearsites) & set(yearsites_solrad))\n",
    "\n",
    "yearsites.sort()\n",
    "\n",
    "print('overlapping siteyears:', len(yearsites))"
   ]
  },
  {
   "cell_type": "code",
   "execution_count": 561,
   "metadata": {},
   "outputs": [],
   "source": [
    "#crithrs_0 = len(yearsites)\n",
    "#crithrs_1 = len(yearsites)\n",
    "#crithrs_2 = len(yearsites)\n",
    "#crithrs_3 = len(yearsites)"
   ]
  },
  {
   "cell_type": "markdown",
   "metadata": {},
   "source": [
    "### Step 3. Visualize output"
   ]
  },
  {
   "cell_type": "code",
   "execution_count": 562,
   "metadata": {},
   "outputs": [
    {
     "data": {
      "text/plain": [
       "<BarContainer object of 4 artists>"
      ]
     },
     "execution_count": 562,
     "metadata": {},
     "output_type": "execute_result"
    },
    {
     "data": {
      "image/png": "[encoded data removed]",
      "text/plain": [
       "<Figure size 432x288 with 1 Axes>"
      ]
     },
     "metadata": {},
     "output_type": "display_data"
    }
   ],
   "source": [
    "x = [0,1,2,3]\n",
    "width =  [crithrs_0, crithrs_1, crithrs_2, crithrs_3]\n",
    "plt.bar(x, width, alpha=0.5)"
   ]
  },
  {
   "cell_type": "markdown",
   "metadata": {},
   "source": [
    "### Step 4. Parse out the year-sites into a dataframe that has usable year as a column & site as a column "
   ]
  },
  {
   "cell_type": "code",
   "execution_count": 603,
   "metadata": {},
   "outputs": [],
   "source": [
    "years = list()\n",
    "sites = list()\n",
    "\n",
    "for i in range(len(yearsites)):\n",
    "    year = yearsites[i][0:4]\n",
    "    years.append(year)\n",
    "    site = yearsites[i][5:10]\n",
    "    sites.append(site)\n",
    "\n",
    "df_yearsites = pd.DataFrame({'site': sites, 'year': years}, \n",
    "                            columns=['site', 'year'])\n",
    "df_yearsites = df_yearsites.sort_values(['site', 'year'])\n",
    "final_sites = list(set(df_yearsites.site))"
   ]
  },
  {
   "cell_type": "code",
   "execution_count": 604,
   "metadata": {},
   "outputs": [],
   "source": [
    "#df_yearsites.to_csv('../weadata/site_year_crithr1.csv')"
   ]
  },
  {
   "cell_type": "code",
   "execution_count": 299,
   "metadata": {},
   "outputs": [],
   "source": [
    "numofyears = list()\n",
    "\n",
    "for i in final_sites:\n",
    "    years = len(df_yearsites[df_yearsites[\"site\"] == i])\n",
    "    numofyears.append(years)\n",
    "    \n",
    "df_numofyears = pd.DataFrame({\"site\": final_sites,\n",
    "                              \"years\": numofyears})\n",
    "df_numofyears = df_numofyears.sort_values([\"site\"])\n",
    "df_numofyears = df_numofyears.reset_index().iloc[:, 1:3]"
   ]
  },
  {
   "cell_type": "code",
   "execution_count": 139,
   "metadata": {},
   "outputs": [],
   "source": [
    "#df_numofyears.to_csv(\"../weadata/site_years.csv\")"
   ]
  },
  {
   "cell_type": "markdown",
   "metadata": {},
   "source": [
    "### Step 5. Select for subset dataset to include only valid (can be gap-filled) weather data"
   ]
  },
  {
   "cell_type": "markdown",
   "metadata": {},
   "source": [
    "Read in required files:"
   ]
  },
  {
   "cell_type": "code",
   "execution_count": null,
   "metadata": {},
   "outputs": [],
   "source": [
    "siteyear = pd.read_csv('/home/disk/eos8/ach315/upscale/weadata/site_year_crithr1.csv', dtype=\"str\")\n",
    "siteyear = siteyear.drop(siteyear.columns[0], axis=1)\n",
    "print(siteyear.shape)\n",
    "siteyear.head()"
   ]
  },
  {
   "cell_type": "markdown",
   "metadata": {},
   "source": [
    "Read in individual weather data files and merge them into long form data frame:"
   ]
  },
  {
   "cell_type": "code",
   "execution_count": 50,
   "metadata": {},
   "outputs": [
    {
     "data": {
      "text/html": [
       "<div>\n",
       "<style scoped>\n",
       "    .dataframe tbody tr th:only-of-type {\n",
       "        vertical-align: middle;\n",
       "    }\n",
       "\n",
       "    .dataframe tbody tr th {\n",
       "        vertical-align: top;\n",
       "    }\n",
       "\n",
       "    .dataframe thead th {\n",
       "        text-align: right;\n",
       "    }\n",
       "</style>\n",
       "<table border=\"1\" class=\"dataframe\">\n",
       "  <thead>\n",
       "    <tr style=\"text-align: right;\">\n",
       "      <th></th>\n",
       "      <th>sites</th>\n",
       "      <th>temp</th>\n",
       "      <th>precip</th>\n",
       "      <th>rh</th>\n",
       "      <th>solrad</th>\n",
       "    </tr>\n",
       "    <tr>\n",
       "      <th>date</th>\n",
       "      <th></th>\n",
       "      <th></th>\n",
       "      <th></th>\n",
       "      <th></th>\n",
       "      <th></th>\n",
       "    </tr>\n",
       "  </thead>\n",
       "  <tbody>\n",
       "    <tr>\n",
       "      <th>1961-05-01 00:00:00</th>\n",
       "      <td>03103</td>\n",
       "      <td>NaN</td>\n",
       "      <td>NaN</td>\n",
       "      <td>NaN</td>\n",
       "      <td>NaN</td>\n",
       "    </tr>\n",
       "    <tr>\n",
       "      <th>1961-05-01 01:00:00</th>\n",
       "      <td>03103</td>\n",
       "      <td>NaN</td>\n",
       "      <td>NaN</td>\n",
       "      <td>NaN</td>\n",
       "      <td>NaN</td>\n",
       "    </tr>\n",
       "    <tr>\n",
       "      <th>1961-05-01 02:00:00</th>\n",
       "      <td>03103</td>\n",
       "      <td>NaN</td>\n",
       "      <td>NaN</td>\n",
       "      <td>NaN</td>\n",
       "      <td>NaN</td>\n",
       "    </tr>\n",
       "    <tr>\n",
       "      <th>1961-05-01 03:00:00</th>\n",
       "      <td>03103</td>\n",
       "      <td>NaN</td>\n",
       "      <td>NaN</td>\n",
       "      <td>NaN</td>\n",
       "      <td>NaN</td>\n",
       "    </tr>\n",
       "    <tr>\n",
       "      <th>1961-05-01 04:00:00</th>\n",
       "      <td>03103</td>\n",
       "      <td>NaN</td>\n",
       "      <td>NaN</td>\n",
       "      <td>NaN</td>\n",
       "      <td>NaN</td>\n",
       "    </tr>\n",
       "  </tbody>\n",
       "</table>\n",
       "</div>"
      ],
      "text/plain": [
       "                     sites  temp  precip  rh  solrad\n",
       "date                                                \n",
       "1961-05-01 00:00:00  03103   NaN     NaN NaN     NaN\n",
       "1961-05-01 01:00:00  03103   NaN     NaN NaN     NaN\n",
       "1961-05-01 02:00:00  03103   NaN     NaN NaN     NaN\n",
       "1961-05-01 03:00:00  03103   NaN     NaN NaN     NaN\n",
       "1961-05-01 04:00:00  03103   NaN     NaN NaN     NaN"
      ]
     },
     "execution_count": 50,
     "metadata": {},
     "output_type": "execute_result"
    }
   ],
   "source": [
    "# 190923: still thinking whether the code below in this step 5 section is necessary now\n",
    "\n",
    "filelist = ['temp_all.csv', 'precip_all.csv', 'rh_all.csv', 'solrad_all.csv']\n",
    "weavars = ['temp', 'precip', 'rh', 'solrad']\n",
    "filenums = len(filelist)\n",
    "dfs = [[],[],[],[]]\n",
    "sites = sorted(list(set(siteyear.site)))\n",
    "grow_months = [5,6,7,8,9,10]\n",
    "\n",
    "\n",
    "for i in range(filenums):\n",
    "    dfs[i] = pd.read_csv('/home/disk/eos8/ach315/upscale/weadata/' + filelist[i], index_col=0)\n",
    "    dfs[i].index = pd.to_datetime(dfs[i].index) # converting index timepoint into datetimeindex\n",
    "    dfs[i] = dfs[i][dfs[i].index.month.isin(grow_months)] # selecting only the growing season timepoints\n",
    "    dfs[i] = dfs[i].filter(items=sites, axis=1) # selcting only the valid sites\n",
    "    dfs[i][\"date\"] = dfs[i].index # creating another column that stores datetimeindex info, for melting purpose\n",
    "    dfs[i] = pd.melt(dfs[i], id_vars=\"date\", var_name=\"sites\", value_name=weavars[i])\n",
    "\n",
    "df = pd.merge(dfs[0], dfs[1])\n",
    "df = pd.merge(df, dfs[2])\n",
    "df = pd.merge(df, dfs[3])    \n",
    "\n",
    "df.index = pd.to_datetime(df.date)\n",
    "df = df.iloc[:, 1:]\n",
    "df.head()"
   ]
  },
  {
   "cell_type": "markdown",
   "metadata": {},
   "source": [
    "Selecting for valid site & years:"
   ]
  },
  {
   "cell_type": "code",
   "execution_count": null,
   "metadata": {},
   "outputs": [],
   "source": [
    "valid_siteyears = siteyear.shape[0]\n",
    "frames = []\n",
    "\n",
    "for i in range(valid_siteyears):\n",
    "    dfi = df[df.index.year == int(siteyear.year[i])]\n",
    "    dfi = dfi[dfi.sites == siteyear.site[i]]\n",
    "    frames.append(dfi)\n",
    "#    print(len(frames)) # since this code takes time to run, \n",
    "                       # this helps to see where in the process it is\n",
    "\n",
    "df_valid = pd.concat(frames)"
   ]
  },
  {
   "cell_type": "markdown",
   "metadata": {},
   "source": [
    "Saving valid weather data frame into .csv:"
   ]
  },
  {
   "cell_type": "code",
   "execution_count": 52,
   "metadata": {},
   "outputs": [
    {
     "name": "stdout",
     "output_type": "stream",
     "text": [
      "                     sites  temp  precip        rh  solrad\n",
      "date                                                      \n",
      "1964-05-01 00:00:00  03103   9.4     0.0  0.605071     0.0\n",
      "1964-05-01 01:00:00  03103   5.6    15.0  0.850413     0.0\n",
      "1964-05-01 02:00:00  03103   4.4     0.0  0.925122     0.0\n",
      "1964-05-01 03:00:00  03103   3.3     0.0  0.924547     0.0\n",
      "1964-05-01 04:00:00  03103   2.8     0.0  0.924283     0.0\n",
      "                     sites  temp  precip        rh  solrad\n",
      "date                                                      \n",
      "1990-10-31 19:00:00  94910  21.1     0.0  0.543996     0.0\n",
      "1990-10-31 20:00:00  94910  22.8     0.0  0.470004     0.0\n",
      "1990-10-31 21:00:00  94910  23.3     0.0  0.440605     0.0\n",
      "1990-10-31 22:00:00  94910  22.8     0.0  0.454449     0.0\n",
      "1990-10-31 23:00:00  94910  19.4     0.0  0.562429     0.0\n"
     ]
    }
   ],
   "source": [
    "print(df_valid.head())\n",
    "print(df_valid.tail())\n",
    "df_valid.to_csv(\"/home/disk/eos8/ach315/upscale/weadata/weadata.csv\")"
   ]
  },
  {
   "cell_type": "markdown",
   "metadata": {},
   "source": [
    "### Step 6: Compile usable site-years data into individual weather data files"
   ]
  },
  {
   "cell_type": "markdown",
   "metadata": {},
   "source": [
    "Code is only for 'control' maizeim weather input at the moment"
   ]
  },
  {
   "cell_type": "code",
   "execution_count": 605,
   "metadata": {},
   "outputs": [],
   "source": [
    "siteyear = pd.read_csv('/home/disk/eos8/ach315/upscale/weadata/site_year_crithr2.csv', dtype=\"str\")\n",
    "siteyear = siteyear.drop(siteyear.columns[0], axis=1)\n",
    "\n",
    "for i in np.arange(siteyear.shape[0]): \n",
    "    # selecting site-year combinations\n",
    "    site = siteyear.iloc[i,0]\n",
    "    year = siteyear.iloc[i,1]\n",
    "    \n",
    "    # constructing dataframe that will hold all weather data\n",
    "    col = ['jday','date','hour','solrad','temp','precip','rh', 'co2']\n",
    "    df_wea = pd.DataFrame(columns=col)\n",
    "\n",
    "    # setting up for time-relating entries\n",
    "    season_start, season_end = '04-01-', '10-31-'\n",
    "    times = pd.date_range(season_start+str(year), season_end+str(year)+' 23:00:00', freq='1H')\n",
    "    dates = pd.to_datetime({'year': times.year, 'month': times.month, 'day': times.day})\n",
    "    # converting dates into string format that matches maizsim input\n",
    "    dates = '\"' + dates.apply(str).str.split(' ').str.get(0) + '\"'\n",
    "    \n",
    "    # setting up julian days\n",
    "    jdays = np.arange(91, 305)\n",
    "    jdays = np.repeat(jdays, 24)\n",
    "    \n",
    "    # setting up hours\n",
    "    days = pd.date_range(season_start+year, season_end+year+' 23:00:00', freq='1D')\n",
    "    hours = np.arange(0,24)\n",
    "    hours = list(hours)*len(days)\n",
    "    \n",
    "    # adding time-relating info to data frame\n",
    "    df_wea.jday = jdays\n",
    "    df_wea.date = dates\n",
    "    df_wea.hour = hours\n",
    "\n",
    "    # setting growing season period\n",
    "    datestart = year + '-04-01 00:00:00'\n",
    "    datend = year + '-10-31 23:00:00'\n",
    "    # selecting weather data\n",
    "    df_wea.temp = list(df_temp[datestart:datend][site])\n",
    "    df_wea.rh = list(np.round(df_rh[datestart:datend][site],2))\n",
    "    df_wea.precip = list(df_precip[datestart:datend][site])\n",
    "    df_wea.solrad = list(df_solrad[datestart:datend][site])\n",
    "    df_wea.co2 = 400    \n",
    "\n",
    "    # saving individual site-year weather file into .csv \n",
    "    df_wea.to_csv('/home/disk/eos8/ach315/upscale/weadata/data/control_2hr/' + site + '_' + year + '.csv')\n"
   ]
  },
  {
   "cell_type": "markdown",
   "metadata": {},
   "source": [
    "### Looking into gap-filling data"
   ]
  },
  {
   "cell_type": "code",
   "execution_count": 615,
   "metadata": {},
   "outputs": [
    {
     "name": "stdout",
     "output_type": "stream",
     "text": [
      "03856_1981.csv 215\n",
      "13967_1981.csv 128\n",
      "14735_1976.csv 327\n",
      "14740_1989.csv 108\n",
      "14768_1989.csv 120\n",
      "14771_1974.csv 120\n",
      "14771_1975.csv 111\n",
      "14777_1989.csv 137\n",
      "14820_1989.csv 103\n",
      "14898_1975.csv 146\n",
      "23042_1979.csv 196\n",
      "24033_1979.csv 239\n",
      "41415_1985.csv 194\n",
      "93721_1974.csv 135\n",
      "93730_1974.csv 126\n"
     ]
    }
   ],
   "source": [
    "# outputs with critical hour = 1\n",
    "fnames = glob.glob('/home/disk/eos8/ach315/upscale/weadata/data/control_1hr/*')\n",
    "\n",
    "for name in fnames: \n",
    "    test = pd.read_csv(name)\n",
    "    test = test.drop(test.columns[0], axis=1)\n",
    "    if test.isna().sum().sum() > 100:\n",
    "        print(name.split('/')[-1], test.isna().sum().sum())"
   ]
  },
  {
   "cell_type": "code",
   "execution_count": 617,
   "metadata": {},
   "outputs": [],
   "source": [
    "test = pd.read_csv('/home/disk/eos8/ach315/upscale/weadata/data/control_1hr/03856_1981.csv')\n",
    "test = test.drop(test.columns[0], axis=1)"
   ]
  },
  {
   "cell_type": "code",
   "execution_count": 618,
   "metadata": {},
   "outputs": [
    {
     "data": {
      "text/html": [
       "<div>\n",
       "<style scoped>\n",
       "    .dataframe tbody tr th:only-of-type {\n",
       "        vertical-align: middle;\n",
       "    }\n",
       "\n",
       "    .dataframe tbody tr th {\n",
       "        vertical-align: top;\n",
       "    }\n",
       "\n",
       "    .dataframe thead th {\n",
       "        text-align: right;\n",
       "    }\n",
       "</style>\n",
       "<table border=\"1\" class=\"dataframe\">\n",
       "  <thead>\n",
       "    <tr style=\"text-align: right;\">\n",
       "      <th></th>\n",
       "      <th>jday</th>\n",
       "      <th>date</th>\n",
       "      <th>hour</th>\n",
       "      <th>solrad</th>\n",
       "      <th>temp</th>\n",
       "      <th>precip</th>\n",
       "      <th>rh</th>\n",
       "      <th>co2</th>\n",
       "    </tr>\n",
       "  </thead>\n",
       "  <tbody>\n",
       "    <tr>\n",
       "      <th>0</th>\n",
       "      <td>91</td>\n",
       "      <td>\"1981-04-01\"</td>\n",
       "      <td>0</td>\n",
       "      <td>0.0</td>\n",
       "      <td>22.2</td>\n",
       "      <td>0.0</td>\n",
       "      <td>42.03</td>\n",
       "      <td>400</td>\n",
       "    </tr>\n",
       "    <tr>\n",
       "      <th>1</th>\n",
       "      <td>91</td>\n",
       "      <td>\"1981-04-01\"</td>\n",
       "      <td>1</td>\n",
       "      <td>0.0</td>\n",
       "      <td>21.7</td>\n",
       "      <td>0.0</td>\n",
       "      <td>40.22</td>\n",
       "      <td>400</td>\n",
       "    </tr>\n",
       "    <tr>\n",
       "      <th>2</th>\n",
       "      <td>91</td>\n",
       "      <td>\"1981-04-01\"</td>\n",
       "      <td>2</td>\n",
       "      <td>0.0</td>\n",
       "      <td>20.0</td>\n",
       "      <td>0.0</td>\n",
       "      <td>49.92</td>\n",
       "      <td>400</td>\n",
       "    </tr>\n",
       "    <tr>\n",
       "      <th>3</th>\n",
       "      <td>91</td>\n",
       "      <td>\"1981-04-01\"</td>\n",
       "      <td>3</td>\n",
       "      <td>0.0</td>\n",
       "      <td>21.7</td>\n",
       "      <td>0.0</td>\n",
       "      <td>56.38</td>\n",
       "      <td>400</td>\n",
       "    </tr>\n",
       "    <tr>\n",
       "      <th>4</th>\n",
       "      <td>91</td>\n",
       "      <td>\"1981-04-01\"</td>\n",
       "      <td>4</td>\n",
       "      <td>0.0</td>\n",
       "      <td>21.7</td>\n",
       "      <td>0.0</td>\n",
       "      <td>70.02</td>\n",
       "      <td>400</td>\n",
       "    </tr>\n",
       "  </tbody>\n",
       "</table>\n",
       "</div>"
      ],
      "text/plain": [
       "   jday          date  hour  solrad  temp  precip     rh  co2\n",
       "0    91  \"1981-04-01\"     0     0.0  22.2     0.0  42.03  400\n",
       "1    91  \"1981-04-01\"     1     0.0  21.7     0.0  40.22  400\n",
       "2    91  \"1981-04-01\"     2     0.0  20.0     0.0  49.92  400\n",
       "3    91  \"1981-04-01\"     3     0.0  21.7     0.0  56.38  400\n",
       "4    91  \"1981-04-01\"     4     0.0  21.7     0.0  70.02  400"
      ]
     },
     "execution_count": 618,
     "metadata": {},
     "output_type": "execute_result"
    }
   ],
   "source": [
    "test.head()"
   ]
  },
  {
   "cell_type": "code",
   "execution_count": 619,
   "metadata": {},
   "outputs": [
    {
     "data": {
      "text/plain": [
       "[<matplotlib.lines.Line2D at 0x7f6e71c26ef0>]"
      ]
     },
     "execution_count": 619,
     "metadata": {},
     "output_type": "execute_result"
    },
    {
     "data": {
      "image/png": "[encoded data removed]",
      "text/plain": [
       "<Figure size 432x288 with 1 Axes>"
      ]
     },
     "metadata": {},
     "output_type": "display_data"
    }
   ],
   "source": [
    "plt.plot(test.precip)"
   ]
  },
  {
   "cell_type": "code",
   "execution_count": null,
   "metadata": {},
   "outputs": [],
   "source": []
  }
 ],
 "metadata": {
  "kernelspec": {
   "display_name": "Python 3",
   "language": "python",
   "name": "python3"
  },
  "language_info": {
   "codemirror_mode": {
    "name": "ipython",
    "version": 3
   },
   "file_extension": ".py",
   "mimetype": "text/x-python",
   "name": "python",
   "nbconvert_exporter": "python",
   "pygments_lexer": "ipython3",
   "version": "3.6.8"
  }
 },
 "nbformat": 4,
 "nbformat_minor": 2
}
