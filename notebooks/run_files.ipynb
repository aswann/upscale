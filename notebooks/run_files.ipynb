{
 "cells": [
  {
   "cell_type": "markdown",
   "metadata": {},
   "source": [
    "## Final workflow to run simulations"
   ]
  },
  {
   "cell_type": "markdown",
   "metadata": {},
   "source": [
    "Creating several bash files that provides direction for where to look for the initial files and where to place the model output files"
   ]
  },
  {
   "cell_type": "code",
   "execution_count": 1,
   "metadata": {},
   "outputs": [],
   "source": [
    "import numpy as np\n",
    "import pandas as pd\n",
    "import matplotlib.pyplot as plt\n",
    "import glob"
   ]
  },
  {
   "cell_type": "markdown",
   "metadata": {},
   "source": [
    "### 1. Organize run files into sub-folders for each year"
   ]
  },
  {
   "cell_type": "code",
   "execution_count": 30,
   "metadata": {},
   "outputs": [],
   "source": [
    "str1s = []\n",
    "str2s = []\n",
    "dirct = '/home/disk/eos8/ach315/upscale/runs/con/'\n",
    "\n",
    "for i in np.arange(1961,1991):\n",
    "    str1 = 'mkdir ' + dirct + str(i) + '\\n'\n",
    "    str1s.append(str1)\n",
    "    str2 = 'mv ' + dirct + '*_' + str(i) + '.txt' + ' ' + str(i) + '/\\n'\n",
    "    str2s.append(str2)\n",
    "\n",
    "organize = open(dirct + 'organize.sh', 'w')\n",
    "organize.writelines(str1s)\n",
    "organize.writelines(str2s)\n",
    "organize.close()"
   ]
  },
  {
   "cell_type": "markdown",
   "metadata": {},
   "source": [
    "This creates a shell script that helps organize the files into years. <br/>\n",
    "Remember to make this script executable!\n",
    "<pre> chmod +x organize.sh <code>"
   ]
  },
  {
   "cell_type": "markdown",
   "metadata": {},
   "source": [
    "### 2. Create job files (shell scripts) that run batches of simulations"
   ]
  },
  {
   "cell_type": "markdown",
   "metadata": {},
   "source": [
    "I'm planning to write bash files that include sets of run.txt files that either represent: <br\\>\n",
    "- climate treatments: e.g. temp, vpd, co2, or\n",
    "- parameter simulations: e.g. planting date, juvenile leaf numbers"
   ]
  },
  {
   "cell_type": "code",
   "execution_count": 38,
   "metadata": {},
   "outputs": [
    {
     "name": "stdout",
     "output_type": "stream",
     "text": [
      "/home/disk/eos8/ach315/upscale/jobs/con\n"
     ]
    }
   ],
   "source": [
    "cd /home/disk/eos8/ach315/upscale/jobs/con/"
   ]
  },
  {
   "cell_type": "code",
   "execution_count": 41,
   "metadata": {},
   "outputs": [],
   "source": [
    "dirct = '/home/disk/eos8/ach315/upscale/jobs/con/'\n",
    "\n",
    "for i in np.arange(1961,1990):\n",
    "    str1 = '#! /bin/bash\\n'\n",
    "    str2 = '#PBS -l nodes=1:ppn=1\\n'\n",
    "    str3 = '#PBS -l walltime=08:00:00\\n'\n",
    "    str4 = '#PBS -m ae\\n'\n",
    "    str5 = '#PBS -M ach315@uw.edu\\n'\n",
    "    str6 = '#PBS -N maizsim_control\\n'\n",
    "    str7 = '\\n'\n",
    "    str8 = 'FILES=/home/disk/eos8/ach315/upscale/runs/con/' + str(i)+ '\\n'\n",
    "    str9 = '\\n'\n",
    "    str10 = 'for file in $FILES\\n'\n",
    "    str11 = 'do\\n'\n",
    "    str12 = '    cd /home/diks/eos8/ach315/maizsim\\n'\n",
    "    str13 = '    maizsim $file\\n'\n",
    "    str14 = 'done\\n'\n",
    "    \n",
    "    strings = [str1, str2, str3, str4, str5, str6, str7, str8, str9, str10, str11, str12, str13, str14]\n",
    "    \n",
    "    jobs = open(dirct + str(i) + '.job', 'w')\n",
    "    jobs.writelines(strings)\n",
    "    jobs.close()"
   ]
  },
  {
   "cell_type": "code",
   "execution_count": null,
   "metadata": {},
   "outputs": [],
   "source": []
  }
 ],
 "metadata": {
  "kernelspec": {
   "display_name": "Python 3",
   "language": "python",
   "name": "python3"
  },
  "language_info": {
   "codemirror_mode": {
    "name": "ipython",
    "version": 3
   },
   "file_extension": ".py",
   "mimetype": "text/x-python",
   "name": "python",
   "nbconvert_exporter": "python",
   "pygments_lexer": "ipython3",
   "version": "3.6.9"
  }
 },
 "nbformat": 4,
 "nbformat_minor": 2
}
