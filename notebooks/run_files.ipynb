{
 "cells": [
  {
   "cell_type": "markdown",
   "metadata": {},
   "source": [
    "## Generating run.txt files for maizsim simulations"
   ]
  },
  {
   "cell_type": "markdown",
   "metadata": {},
   "source": [
    "Creating several bash files that provides direction for where to look for the initial files and where to place the model output files"
   ]
  },
  {
   "cell_type": "code",
   "execution_count": 13,
   "metadata": {},
   "outputs": [],
   "source": [
    "import numpy as np\n",
    "import pandas as pd\n",
    "import matplotlib.pyplot as plt\n",
    "import glob"
   ]
  },
  {
   "cell_type": "markdown",
   "metadata": {},
   "source": [
    "### 1. run.txt"
   ]
  },
  {
   "cell_type": "code",
   "execution_count": null,
   "metadata": {},
   "outputs": [],
   "source": [
    "# 191211: still working on this\n",
    "\n",
    "directories = glob.glob('/home/disk/eos8/ach315/upscale/init_files/site_years/*')\n",
    "#for i in directories:\n",
    "#    year = i.split('/')[-1].split('_')[-1]\n",
    "#    site = i.split('/')[-1].split('_')[-2]"
   ]
  },
  {
   "cell_type": "code",
   "execution_count": null,
   "metadata": {},
   "outputs": [],
   "source": [
    "years = np.arange(1961,1991)\n",
    "sites = \n"
   ]
  },
  {
   "cell_type": "code",
   "execution_count": 9,
   "metadata": {},
   "outputs": [],
   "source": [
    "site = '' # would use a for-loop to go through all site-year combinations\n",
    "year = ''\n",
    "init_directory = '/home/disk/eos8/ach315/upscale/init_files/site_years' + site + '_' + year + '/'\n",
    "output_directory = '/home/disk/eos8/ach315/upscale/runs/' + site + '_' + year + '/'\n",
    "\n",
    "str1 = init_directory + 'wea.txt'\n",
    "str2 = init_directory + 'time.txt'\n",
    "str3 = init_directory + 'biology.txt'\n",
    "str4 = init_directory + 'cliamte.txt'\n",
    "str5 = init_directory + 'nitrogen.txt'\n",
    "str6 = init_directory + 'solute.txt'\n",
    "str7 = init_directory + 'soil.txt'\n",
    "str8 = init_directory + 'management.txt'\n",
    "str9 = init_directory + 'water.txt'\n",
    "str10 = init_directory + 'waterbound.txt'\n",
    "str11 = init_directory + 'init.txt'\n",
    "str12 = init_directory + 'cultivar.txt'\n",
    "str13 = init_directory + 'grid.txt'\n",
    "str14 = init_directory + 'nod.txt'\n",
    "str15 = init_directory + 'element.txt'\n",
    "str16 = init_directory + 'massbl.txt'\n",
    "str17 = output_directory + 'out1.txt'\n",
    "str18 = output_directory + 'out2.txt'\n",
    "str19 = output_directory + 'out3.txt'\n",
    "str20 = output_directory + 'out4.txt'\n",
    "str21 = output_directory + 'out5.txt'\n",
    "str22 = output_directory + 'out6.txt'\n",
    "str23 = output_directory + 'massbl,txt'"
   ]
  },
  {
   "cell_type": "markdown",
   "metadata": {},
   "source": [
    "### 2. bash file that includes a batch of run.txt files"
   ]
  },
  {
   "cell_type": "markdown",
   "metadata": {},
   "source": [
    "I'm planning to write bash files that include sets of run.txt files that either represent: <br\\>\n",
    "- climate treatments: e.g. temp, vpd, co2, or\n",
    "- parameter simulations: e.g. planting date, juvenile leaf numbers"
   ]
  },
  {
   "cell_type": "code",
   "execution_count": 11,
   "metadata": {},
   "outputs": [],
   "source": [
    "site = ''\n",
    "year = ''\n",
    "run_file = 'run_' + site + '_' + year + '.txt'"
   ]
  },
  {
   "cell_type": "code",
   "execution_count": null,
   "metadata": {},
   "outputs": [],
   "source": []
  }
 ],
 "metadata": {
  "kernelspec": {
   "display_name": "Python 3",
   "language": "python",
   "name": "python3"
  },
  "language_info": {
   "codemirror_mode": {
    "name": "ipython",
    "version": 3
   },
   "file_extension": ".py",
   "mimetype": "text/x-python",
   "name": "python",
   "nbconvert_exporter": "python",
   "pygments_lexer": "ipython3",
   "version": "3.6.9"
  }
 },
 "nbformat": 4,
 "nbformat_minor": 2
}
