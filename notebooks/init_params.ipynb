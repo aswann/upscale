{
 "cells": [
  {
   "cell_type": "markdown",
   "metadata": {},
   "source": [
    "## Parameter sampling for ensemble simulations\n",
    "This is a refined/revised effort to what has been done in init_var, <br/>\n",
    "which uses a LHS approach - assuming no correlation between parameters. <br/>\n",
    "After stats consulting, decided that this might not be the correct method to go about."
   ]
  },
  {
   "cell_type": "code",
   "execution_count": 1,
   "metadata": {},
   "outputs": [],
   "source": [
    "import pandas as pd\n",
    "import numpy as np\n",
    "import matplotlib.pyplot as plt\n",
    "import seaborn as sns\n",
    "\n",
    "from funcs import unfold, tup_convert"
   ]
  },
  {
   "cell_type": "markdown",
   "metadata": {},
   "source": [
    "### Step 1. Parameter choice\n",
    "- Phenology\n",
    "    - juv_leaves: 15-25 (Padilla and Otegui, 2005)\n",
    "    - **staygreen: 3-8*** (still looking for a literature-based value)\n",
    "    - rmax_ltar: 0.53 (leaves/day) (Kim et al., 2012)\n",
    "        - check out (Padilla and Otegui, 2005) for value range\n",
    "        - have LTAR determine LTIR (e.g. LTIR = LTAR * 2)\n",
    "- Morphology\n",
    "    - LAF: leaf angle factor (1.37) \n",
    "    - LM_min: length characteristic of genotype (90cm) (Fournier and Andrieu, 1998)\n",
    "- Physiology\n",
    "    - vcm25: 60 µmol/m2s (von Caemmerer, 2000, Table 2)\n",
    "    - vpm25: 120 µmol/m2s (von Caemmerer, 2000, Table 2), 60 µmol/m2s (Kim et al., 2007, Table 4, Soo says don't use this, caveats in measurements)\n",
    "        - I suspect/hypothesize that vcm25 & vpm25 would be pretty correlated. Probably should apply something similar to ltar & ltir\n",
    "    - g1: 10.055 (Yang et el., 2009); 3.06-3.23 (BB model), 6.502-9.482 (BBL model (Miner et al., 2017 Table 1 )\n",
    "    - ref_potential: water stress sensitivity\n",
    "    - Topt: temperature sensitivity"
   ]
  },
  {
   "cell_type": "code",
   "execution_count": null,
   "metadata": {},
   "outputs": [],
   "source": []
  },
  {
   "cell_type": "code",
   "execution_count": null,
   "metadata": {},
   "outputs": [],
   "source": []
  },
  {
   "cell_type": "code",
   "execution_count": null,
   "metadata": {},
   "outputs": [],
   "source": []
  },
  {
   "cell_type": "markdown",
   "metadata": {},
   "source": [
    "### Consider correlation among parameters\n",
    "#### How to generate correlated data and should I try?\n",
    "\n",
    "- If I expect correlation among parameters, my current sampling method may not be reasonable. We recommend estimating (either via existing data or domain knowledge) a covariance matrix for your input parameters and then drawing your random parameter vectors such that they obey this correlation. \n",
    "- According to Marino et al., some references on LHS with correlated inputs are Iman and Conover, 1982 and Iman and Davenport, 1982. These approaches appear to: \n",
    "    - (a) retain the efficiency of LHS (not too many samples required) and \n",
    "    - (b) not assume that your inputs are normally distributed. \n",
    "- If you are not able to find a python library that implements this method, the simplest option would be to abandon LHS and draw your set of parameter vectors from a multivariate normal distribution. \n",
    "- Drawing from a multivariate normal distribution is straightforward in python provided that you specify a covariance matrix for your parameters. The downside of this approach is that it imposes a specific distribution on your inputs (may not be justified) and it might require more samples than LHS\n",
    "https://stackoverflow.com/questions/16024677/generate-correlated-data-in-python-3-3"
   ]
  },
  {
   "cell_type": "code",
   "execution_count": null,
   "metadata": {},
   "outputs": [],
   "source": []
  }
 ],
 "metadata": {
  "kernelspec": {
   "display_name": "Python [conda env:ideotype]",
   "language": "python",
   "name": "conda-env-ideotype-py"
  },
  "language_info": {
   "codemirror_mode": {
    "name": "ipython",
    "version": 3
   },
   "file_extension": ".py",
   "mimetype": "text/x-python",
   "name": "python",
   "nbconvert_exporter": "python",
   "pygments_lexer": "ipython3",
   "version": "3.8.5"
  }
 },
 "nbformat": 4,
 "nbformat_minor": 4
}
