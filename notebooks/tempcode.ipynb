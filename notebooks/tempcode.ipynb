{
 "metadata": {
  "language_info": {
   "codemirror_mode": {
    "name": "ipython",
    "version": 3
   },
   "file_extension": ".py",
   "mimetype": "text/x-python",
   "name": "python",
   "nbconvert_exporter": "python",
   "pygments_lexer": "ipython3",
   "version": "3.8.5"
  },
  "orig_nbformat": 2,
  "kernelspec": {
   "name": "python385jvsc74a57bd0783384f561cfe9f051ec3d8f563c5b19d22c65c650d3b0df22bcabcf030fffe4",
   "display_name": "Python 3.8.5 64-bit ('ideotype': conda)"
  },
  "metadata": {
   "interpreter": {
    "hash": "783384f561cfe9f051ec3d8f563c5b19d22c65c650d3b0df22bcabcf030fffe4"
   }
  }
 },
 "nbformat": 4,
 "nbformat_minor": 2,
 "cells": [
  {
   "source": [
    "## Weather file summarize"
   ],
   "cell_type": "markdown",
   "metadata": {}
  },
  {
   "cell_type": "code",
   "execution_count": 15,
   "metadata": {},
   "outputs": [],
   "source": [
    "import pandas as pd\n",
    "import numpy as np\n",
    "\n",
    "from ideotype.weafile_process import (wea_preprocess,\n",
    "                                      wea_summarize)\n"
   ]
  },
  {
   "cell_type": "code",
   "execution_count": 6,
   "metadata": {},
   "outputs": [],
   "source": [
    "# Read in weather data\n",
    "basepath = '/home/disk/eos8/ach315/upscale/weadata/process'\n",
    "df_temp, df_rh, df_precip, df_solrad = wea_preprocess(basepath)"
   ]
  },
  {
   "cell_type": "code",
   "execution_count": 19,
   "metadata": {},
   "outputs": [],
   "source": [
    "# Preset parameters\n",
    "gseason_start = 3\n",
    "gsewason_end = 10\n",
    "siteyears_filtered = pd.read_csv('/home/disk/eos8/ach315/upscale/weadata/siteyears_filtered_test.csv', dtype='str')\n"
   ]
  },
  {
   "cell_type": "code",
   "execution_count": 20,
   "metadata": {},
   "outputs": [],
   "source": [
    "# Summarize weather data\n",
    "df_wea = wea_summarize(siteyears_filtered,\n",
    "                       df_temp, df_rh, df_precip, df_solrad,\n",
    "                       gseason_start, gsewason_end)"
   ]
  },
  {
   "cell_type": "code",
   "execution_count": 22,
   "metadata": {},
   "outputs": [
    {
     "output_type": "execute_result",
     "data": {
      "text/plain": [
       "     site  year   temp  temp_var     rh    rh_var   vpd  precip  precip_var  \\\n",
       "0  724230  1981  19.33  3.197110  67.31  4.903702  0.74   620.7    0.001351   \n",
       "1  723270  1984  19.24  3.108028  67.31  4.721181  0.74   962.4    0.002666   \n",
       "2  723270  1985  20.81  2.481715  67.42  5.557172  0.81   468.9    0.001180   \n",
       "3  723340  1994  22.14  2.190552  65.14  5.328471  0.94   668.6    0.001465   \n",
       "4  724460  1976  18.39  3.908074  65.60  6.045564  0.74   492.7    0.001238   \n",
       "\n",
       "   solrad  solrad_var  \n",
       "0  215.23  353.863005  \n",
       "1  232.75  384.974067  \n",
       "2  237.67  380.429646  \n",
       "3  226.84  382.946834  \n",
       "4  238.28  380.468652  "
      ],
      "text/html": "<div>\n<style scoped>\n    .dataframe tbody tr th:only-of-type {\n        vertical-align: middle;\n    }\n\n    .dataframe tbody tr th {\n        vertical-align: top;\n    }\n\n    .dataframe thead th {\n        text-align: right;\n    }\n</style>\n<table border=\"1\" class=\"dataframe\">\n  <thead>\n    <tr style=\"text-align: right;\">\n      <th></th>\n      <th>site</th>\n      <th>year</th>\n      <th>temp</th>\n      <th>temp_var</th>\n      <th>rh</th>\n      <th>rh_var</th>\n      <th>vpd</th>\n      <th>precip</th>\n      <th>precip_var</th>\n      <th>solrad</th>\n      <th>solrad_var</th>\n    </tr>\n  </thead>\n  <tbody>\n    <tr>\n      <th>0</th>\n      <td>724230</td>\n      <td>1981</td>\n      <td>19.33</td>\n      <td>3.197110</td>\n      <td>67.31</td>\n      <td>4.903702</td>\n      <td>0.74</td>\n      <td>620.7</td>\n      <td>0.001351</td>\n      <td>215.23</td>\n      <td>353.863005</td>\n    </tr>\n    <tr>\n      <th>1</th>\n      <td>723270</td>\n      <td>1984</td>\n      <td>19.24</td>\n      <td>3.108028</td>\n      <td>67.31</td>\n      <td>4.721181</td>\n      <td>0.74</td>\n      <td>962.4</td>\n      <td>0.002666</td>\n      <td>232.75</td>\n      <td>384.974067</td>\n    </tr>\n    <tr>\n      <th>2</th>\n      <td>723270</td>\n      <td>1985</td>\n      <td>20.81</td>\n      <td>2.481715</td>\n      <td>67.42</td>\n      <td>5.557172</td>\n      <td>0.81</td>\n      <td>468.9</td>\n      <td>0.001180</td>\n      <td>237.67</td>\n      <td>380.429646</td>\n    </tr>\n    <tr>\n      <th>3</th>\n      <td>723340</td>\n      <td>1994</td>\n      <td>22.14</td>\n      <td>2.190552</td>\n      <td>65.14</td>\n      <td>5.328471</td>\n      <td>0.94</td>\n      <td>668.6</td>\n      <td>0.001465</td>\n      <td>226.84</td>\n      <td>382.946834</td>\n    </tr>\n    <tr>\n      <th>4</th>\n      <td>724460</td>\n      <td>1976</td>\n      <td>18.39</td>\n      <td>3.908074</td>\n      <td>65.60</td>\n      <td>6.045564</td>\n      <td>0.74</td>\n      <td>492.7</td>\n      <td>0.001238</td>\n      <td>238.28</td>\n      <td>380.468652</td>\n    </tr>\n  </tbody>\n</table>\n</div>"
     },
     "metadata": {},
     "execution_count": 22
    }
   ],
   "source": [
    "df_wea.head()"
   ]
  },
  {
   "cell_type": "code",
   "execution_count": null,
   "metadata": {},
   "outputs": [],
   "source": []
  }
 ]
}