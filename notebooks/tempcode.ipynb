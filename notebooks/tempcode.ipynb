{
 "cells": [
  {
   "cell_type": "code",
   "execution_count": null,
   "metadata": {},
   "outputs": [],
   "source": []
  }
 ],
 "metadata": {
  "kernelspec": {
   "display_name": "Python 3.8.5 64-bit ('ideotype': conda)",
   "language": "python",
   "name": "python385jvsc74a57bd0783384f561cfe9f051ec3d8f563c5b19d22c65c650d3b0df22bcabcf030fffe4"
  },
  "language_info": {
   "codemirror_mode": {
    "name": "ipython",
    "version": 3
   },
   "file_extension": ".py",
   "mimetype": "text/x-python",
   "name": "python",
   "nbconvert_exporter": "python",
   "pygments_lexer": "ipython3",
   "version": "3.8.5"
  },
  "metadata": {
   "interpreter": {
    "hash": "783384f561cfe9f051ec3d8f563c5b19d22c65c650d3b0df22bcabcf030fffe4"
   }
  }
 },
 "nbformat": 4,
 "nbformat_minor": 4
}
