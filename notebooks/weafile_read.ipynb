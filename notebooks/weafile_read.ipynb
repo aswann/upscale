{
 "cells": [
  {
   "cell_type": "markdown",
   "metadata": {},
   "source": [
    "# Weather file - raw data process\n",
    "- Main task: reading in raw weather data from two sources and combine all output into .csv format <br/>\n",
    "- Data source: \n",
    "    1. NOAA Integrated Surface Data (ISH): https://www.ncdc.noaa.gov/isd/data-access\n",
    "    2. National Solar Radiation Database (NSRD): https://rredc.nrel.gov/solar/old_data/nsrdb/\n",
    "- Main output: \n",
    "    1. met data: df_temp_all, df_rh_all, df_precip_all\n",
    "    2. solarad data: df_solrad_all"
   ]
  },
  {
   "cell_type": "code",
   "execution_count": 1,
   "metadata": {},
   "outputs": [],
   "source": [
    "import numpy as np\n",
    "import pandas as pd\n",
    "import matplotlib.pyplot as plt\n",
    "import seaborn as sns\n",
    "import glob\n",
    "import time \n",
    "import datetime"
   ]
  },
  {
   "cell_type": "markdown",
   "metadata": {},
   "source": [
    "### Step 1. Hourly Meteorology Data - ISH\n",
    "- Main task: \n",
    "    - Read in and process raw met data\n",
    "    - Store output as dataframe and save as .csv\n",
    "- Main input: \n",
    "    - /data/**ISH/***\n",
    "- Main output: \n",
    "    - **df_temp_all**\n",
    "    - **df_rh_all**\n",
    "    - **df_precip_all**"
   ]
  },
  {
   "cell_type": "markdown",
   "metadata": {},
   "source": [
    "#### 1.1: function calculating RH with temp and dew point temp input\n",
    "Following the Clausius-Clapeyron relationship"
   ]
  },
  {
   "cell_type": "code",
   "execution_count": 6,
   "metadata": {},
   "outputs": [],
   "source": [
    "# Creating Clausius-Clapeyron function\n",
    "\n",
    "def CC(temp, temp_dew):\n",
    "    \"\"\"\n",
    "    function that calculates relative humidity with temperature and dew point temperature\n",
    "    temperautre input units: ˚C\n",
    "    \"\"\"\n",
    "    # constant parameters\n",
    "    Tref = 273.15  # reference temperature\n",
    "    Es_Tref = 6.11 # saturation vapor pressure at reference temperature\n",
    "    Lv = 2.5e+06   # latent heat of vaporation (J/kg)\n",
    "    Rv = 461       # gas constant for moist air (J/kg)\n",
    "    \n",
    "    # transformed temperature inputs\n",
    "    Tair = temp + Tref\n",
    "    Tdew = temp_dew + Tref\n",
    "    \n",
    "    # Clausius-Clapeyron relation\n",
    "    es = Es_Tref*np.exp((Lv/Rv)*(1/Tref - 1/Tair))\n",
    "    e = Es_Tref*np.exp((Lv/Rv)*(1/Tref - 1/Tdew))\n",
    "    rh = round(e/es,4)\n",
    "    \n",
    "    return(rh)"
   ]
  },
  {
   "cell_type": "markdown",
   "metadata": {},
   "source": [
    "#### 1.2: read in individual met files and parse out data needed"
   ]
  },
  {
   "cell_type": "code",
   "execution_count": 7,
   "metadata": {},
   "outputs": [
    {
     "name": "stdout",
     "output_type": "stream",
     "text": [
      "1961\n",
      "1962\n",
      "1963\n",
      "1964\n",
      "1965\n",
      "1966\n",
      "1967\n",
      "1968\n",
      "1969\n",
      "1970\n",
      "1971\n",
      "1972\n",
      "1973\n",
      "1973 /home/disk/eos8/ach315/data/ISH/1973/725330-14827-1973\n",
      "1973 /home/disk/eos8/ach315/data/ISH/1973/723530-13967-1973\n",
      "1974\n",
      "1974 /home/disk/eos8/ach315/data/ISH/1974/723721-23184-1974\n",
      "1975\n",
      "1975 /home/disk/eos8/ach315/data/ISH/1975/723676-23048-1975\n",
      "1976\n",
      "1976 /home/disk/eos8/ach315/data/ISH/1976/722446-93987-1976\n",
      "1976 /home/disk/eos8/ach315/data/ISH/1976/724280-14821-1976\n",
      "1976 /home/disk/eos8/ach315/data/ISH/1976/912120-41415-1976\n",
      "1977\n",
      "1977 /home/disk/eos8/ach315/data/ISH/1977/724280-14821-1977\n",
      "1977 /home/disk/eos8/ach315/data/ISH/1977/726835-24230-1977\n",
      "1978\n",
      "1978 /home/disk/eos8/ach315/data/ISH/1978/723815-23161-1978\n",
      "1979\n",
      "1979 /home/disk/eos8/ach315/data/ISH/1979/723401-13963-1979\n",
      "1980\n",
      "1980 /home/disk/eos8/ach315/data/ISH/1980/723815-23161-1980\n",
      "1981\n",
      "1981 /home/disk/eos8/ach315/data/ISH/1981/723815-23161-1981\n",
      "1982\n",
      "1983\n",
      "1983 /home/disk/eos8/ach315/data/ISH/1983/726430-14920-1983\n",
      "1984\n",
      "1985\n",
      "1986\n",
      "1987\n",
      "1988\n",
      "1989\n",
      "1990\n",
      "run time: 0:30:44.005537\n"
     ]
    }
   ],
   "source": [
    "%%time # run time ~30 mins\n",
    "\n",
    "# timing related settings\n",
    "years = np.arange(1961, 1991) # timeframe in which we have weather data\n",
    "dateparse = lambda dates: [datetime.datetime.strptime(d, \"%Y%m%d%H\") for d in dates] # dateparsing method to be used in pd.read_fwf\n",
    "season_start, season_end = '03-01-', '11-30-' # setting a pretty borad range for growing season\n",
    "\n",
    "# setting up np.read_fwf arguments\n",
    "colnames = ['time', 'temp', 'dew_temp', 'precip', 'precip_time', 'precip_depth', 'precip_condition', 'precip_quality', 'rh']\n",
    "colspecs = [(15,25), (87,92), (93,98), (105,8193)]\n",
    "\n",
    "# empty dataframes to store data from all site-years\n",
    "df_temp_all = pd.DataFrame()\n",
    "df_rh_all = pd.DataFrame()\n",
    "df_precip_all = pd.DataFrame()\n",
    "\n",
    "# reading in all weather data and storing as dataframe\n",
    "for year in years:\n",
    "    print(year) # output to track code progress\n",
    "    times = pd.date_range(season_start + str(year), season_end + str(year), freq='1H')\n",
    "    fnames = glob.glob('/home/disk/eos8/ach315/data/ISH/' + str(year) + '/*')\n",
    "    \n",
    "    # creating dataframes to store all site data for an individual year\n",
    "    df_temp_sites = pd.DataFrame(index=times)\n",
    "    df_rh_sites = pd.DataFrame(index=times)\n",
    "    df_precip_sites = pd.DataFrame(index=times)\n",
    "    \n",
    "    for name in fnames:\n",
    "        # WBAN site name \n",
    "        site_id = name.split('/')[-1].split('-')[-2]\n",
    "        \n",
    "        # read in individual files\n",
    "        df = pd.read_fwf(name, names=colnames, colspecs=colspecs, header=None, index_col='time',\n",
    "                         encoding='latin_1', dtype={'temp':int, 'precip':str}, \n",
    "                         parse_dates=True, date_parser=dateparse)\n",
    "    \n",
    "        # remove duplicated hours, keeping only the first measurement per hour\n",
    "        df = df[df.index.duplicated(keep='first') == False]\n",
    "        \n",
    "        # add in missing time values (corrects for leap years) and keeps only growing season\n",
    "        df = df.reindex(times, fill_value=np.nan)\n",
    "        \n",
    "        # finding precip data\n",
    "        try:\n",
    "            df.precip_time = df[df['precip'].str.find('AA1')!=-1]['precip'].str.split('AA1').str.get(1).str.slice(0,2).astype(float)\n",
    "            df.precip_depth = df[df['precip'].str.find('AA1')!=-1]['precip'].str.split('AA1').str.get(1).str.slice(2, 6).astype(float)\n",
    "            df.precip_condition = df[df['precip'].str.find('AA1')!=-1]['precip'].str.split('AA1').str.get(1).str.slice(6,7).astype(float)\n",
    "            df.precip_quality = df[df['precip'].str.find('AA1')!=-1]['precip'].str.split('AA1').str.get(1).str.slice(7,8).astype(float)\n",
    "        except: \n",
    "            print(year, name)\n",
    "                \n",
    "        # replacing missing values (9999) with NANs \n",
    "        df.temp = df.temp.replace({9999: np.nan})\n",
    "        \n",
    "        # converting units \n",
    "        df.temp = df.temp/10\n",
    "        df.dew_temp = df.dew_temp/10\n",
    "        df.precip_depth = df.precip_depth/10\n",
    "        \n",
    "        # calculating RH through Clausius Clapeyron\n",
    "        df.rh = CC(df.temp, df.dew_temp)*100\n",
    "\n",
    "        # combining weather data into individual dataframes\n",
    "        df_temp = pd.DataFrame({site_id: df.temp}, index= times)\n",
    "        df_rh = pd.DataFrame({site_id: df.rh}, index=times)\n",
    "        df_precip = pd.DataFrame({site_id: df.precip_depth}, index=times)\n",
    "        \n",
    "        df_temp_sites = pd.concat([df_temp_sites, df_temp], axis= 1, sort=True)\n",
    "        df_rh_sites = pd.concat([df_rh_sites, df_rh], axis=1, sort=True)\n",
    "        df_precip_sites = pd.concat([df_precip_sites, df_precip], axis=1, sort=True)\n",
    "\n",
    "    # combining all site-years data together\n",
    "    df_temp_all = pd.concat([df_temp_all, df_temp_sites], sort=True)\n",
    "    df_rh_all = pd.concat([df_rh_all, df_rh_sites], sort=True)\n",
    "    df_precip_all = pd.concat([df_precip_all, df_precip_sites], sort=True)"
   ]
  },
  {
   "cell_type": "markdown",
   "metadata": {},
   "source": [
    "#### 1.3: Output the processed weather data into individual .csv files\n",
    "- Main output: \n",
    "    - /weadata/**temp_all.csv**\n",
    "    - /weadata/**precip_all.csv**\n",
    "    - /weadata/**rh_all.csv**"
   ]
  },
  {
   "cell_type": "code",
   "execution_count": 9,
   "metadata": {},
   "outputs": [],
   "source": [
    "#df_temp_all.to_csv('/home/disk/eos8/ach315/upscale/weadata/temp_all.csv')\n",
    "#df_precip_all.to_csv('/home/disk/eos8/ach315/upscale/weadata/precip_all.csv')\n",
    "#df_rh_all.to_csv('/home/disk/eos8/ach315/upscale/weadata/rh_all.csv')"
   ]
  },
  {
   "cell_type": "markdown",
   "metadata": {},
   "source": [
    "### Step 2. Hourly Solar Radiation Data - NSRD\n",
    "- Main task: \n",
    "    - Read in and process raw hourly solar radiation data\n",
    "    - Store output as dataframe and save as .csv\n",
    "- Main input:\n",
    "    - /data/**ISH_NSRD/***\n",
    "- Main output:\n",
    "    - **df_solrad_all**"
   ]
  },
  {
   "cell_type": "markdown",
   "metadata": {},
   "source": [
    "#### 2.1: read in solar radiation data"
   ]
  },
  {
   "cell_type": "code",
   "execution_count": 51,
   "metadata": {},
   "outputs": [
    {
     "name": "stdout",
     "output_type": "stream",
     "text": [
      "1961\n",
      "1962\n",
      "CPU times: user 5min 40s, sys: 886 ms, total: 5min 40s\n",
      "Wall time: 5min 44s\n"
     ]
    }
   ],
   "source": [
    "%%time\n",
    "\n",
    "years = np.arange(1961,1963) # test one year first\n",
    "colnames = ['year', 'month', 'day', 'hour', 'solrad']\n",
    "colspecs = [(1,3), (4,6), (7,9), (10,12), (23,27)]\n",
    "\n",
    "df_solrad_all = pd.DataFrame()\n",
    "\n",
    "for y in years:\n",
    "    print(y)\n",
    "    \n",
    "    fnames = glob.glob('/home/disk/eos8/ach315/data/ISH_NSRD/' + str(y) + '/*')    \n",
    "    df_solrad_sites = pd.DataFrame()\n",
    "    \n",
    "    for f in fnames:\n",
    "        WBAN_id = str(f.split('/')[-1].split('_')[0])\n",
    "        df = pd.read_fwf(f, skiprows=[0], header=None, \n",
    "                         names=colnames, colspecs=colspecs)\n",
    "        time = df.apply(lambda row: datetime.datetime(y, row['month'], row['day'], row['hour']-1), axis=1)\n",
    "        solrad = df['solrad'] # Global Horizontal Radiation (Wh/m2)\n",
    "        df_solrad = pd.DataFrame(solrad)\n",
    "        df_solrad.columns = [WBAN_id]\n",
    "        df_solrad.index = time        \n",
    "        df_solrad_sites = pd.concat([df_solrad_sites, df_solrad], axis=1, sort=True)\n",
    "            \n",
    "    df_solrad_all = pd.concat([df_solrad_all, df_solrad_sites], sort=True)\n",
    "\n",
    "# convert 9999 values into NANs\n",
    "df_solrad_all = df_solrad_all.replace({9999: np.nan})"
   ]
  },
  {
   "cell_type": "markdown",
   "metadata": {},
   "source": [
    "#### 2.2: Output the processed weather data into individual .csv files\n",
    "- Main output: \n",
    "    - /weadata/**solrad_all.csv**"
   ]
  },
  {
   "cell_type": "code",
   "execution_count": null,
   "metadata": {},
   "outputs": [],
   "source": [
    "#df_solrad_all.to_csv('/home/disk/eos8/ach315/upscale/weadata/solrad_all.csv')"
   ]
  }
 ],
 "metadata": {
  "kernelspec": {
   "display_name": "Python 3",
   "language": "python",
   "name": "python3"
  },
  "language_info": {
   "codemirror_mode": {
    "name": "ipython",
    "version": 3
   },
   "file_extension": ".py",
   "mimetype": "text/x-python",
   "name": "python",
   "nbconvert_exporter": "python",
   "pygments_lexer": "ipython3",
   "version": "3.6.10"
  }
 },
 "nbformat": 4,
 "nbformat_minor": 4
}
