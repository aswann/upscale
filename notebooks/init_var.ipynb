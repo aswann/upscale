{
 "cells": [
  {
   "cell_type": "markdown",
   "metadata": {},
   "source": [
    "# Ensemble parameter combinations and cultivar files"
   ]
  },
  {
   "cell_type": "code",
   "execution_count": 1,
   "metadata": {},
   "outputs": [],
   "source": [
    "import os\n",
    "import pandas as pd\n",
    "import numpy as np\n",
    "import glob as glob\n",
    "import datetime\n",
    "import matplotlib.pyplot as plt\n",
    "import seaborn as sns\n",
    "\n",
    "from pyDOE import *\n",
    "\n",
    "# my functions\n",
    "from funcs import unfold, tup_convert"
   ]
  },
  {
   "cell_type": "markdown",
   "metadata": {},
   "source": [
    "### Step 1. Create dataframe with all parameters\n",
    "**these values still need valid ranges from literature** <br/>\n",
    "Literature-based default values\n",
    "* phenology\n",
    "    - juv_leaves: 15-25 (Padilla and Otegui, 2005)\n",
    "    - **staygreen: 3-8*** (still looking for a literature-based value)\n",
    "    - rmax_ltir: 0.978 (leaves/day) (Kim et al., 2012)\n",
    "    - rmax_ltar: 0.53 (leaves/day) (Kim et al., 2012)\n",
    "        - check out (Padilla and Otegui, 2005) for value range\n",
    "        - I'm thinking to have LTAR vary based on LTIR (e.g. LTAR = 0.5*LTIR)\n",
    "* morphology\n",
    "    - LAF: leaf angle factor for corn leaves (1.37)\n",
    "    - \n",
    "    - leaf_wid: leaf width (0.05 m) \n",
    "        - **seems like leaf width is only for calcualting boundary layer, don't think I care too much about this**\n",
    "* physiology\n",
    "    - vcm25: 60 µmol/m2s (von Caemmerer, 2000, Table 2)\n",
    "    - vpm25: 120 µmol/m2s (von Caemmerer, 2000, Table 2), 60 µmol/m2s (Kim et al., 2007, Table 4)\n",
    "    - go: 0.096 (Yang et al., 2009)\n",
    "    - g1: 10.055 (Yang et al., 2009); Table 1 (Miner et al., 2017): 3.06-3.23 (BB model), 6.502-9.482 (BBL model) \n",
    "    - **ref_potential:**\n",
    "    - Topt: **still need to be taken out to cultivar file**"
   ]
  },
  {
   "cell_type": "markdown",
   "metadata": {},
   "source": [
    "Some additional online resources:\n",
    "- https://www.farmprogress.com/story-why-should-know-early-stages-corn-development-9-59528\n",
    "- https://www.farmprogress.com/corn/number-corn-leaves-provides-insight-maturity\n",
    "- https://www.pioneer.com/us/agronomy/staging_corn_growth.html"
   ]
  },
  {
   "cell_type": "code",
   "execution_count": 49,
   "metadata": {},
   "outputs": [],
   "source": [
    "# genetic parameter list\n",
    "params = ['juv_leaves', 'stayGreen', 'rmax_ltir', # phenology\n",
    "#          'LAF', 'leaf_wid', # morphology\n",
    "          'Vcmax', 'Vpmax', 'g1', 'ref_potential'] # physiology \n",
    "#          'T_opt' "
   ]
  },
  {
   "cell_type": "markdown",
   "metadata": {},
   "source": [
    "#### ensemble paramter range"
   ]
  },
  {
   "cell_type": "code",
   "execution_count": 50,
   "metadata": {},
   "outputs": [],
   "source": [
    "param_range = {'juv_leaves': [15, 25],\n",
    "               'stayGreen': [3,8],\n",
    "               'rmax_ltir': [0.5, 1.5],\n",
    "#               'LAF': [1, 3],\n",
    "#               'leaf_wid': [0.02, 0.08],\n",
    "               'Vcmax': [60, 80],\n",
    "               'Vpmax': [60, 120],\n",
    "               'g1': [1, 10], \n",
    "               'ref_potential': [-4, -1]}\n",
    "#               'T_opt': [20, 28],"
   ]
  },
  {
   "cell_type": "markdown",
   "metadata": {},
   "source": [
    "### Step 2. Latin hypercube parameter sampling\n",
    "Info on this method here: https://pythonhosted.org/pyDOE/randomized.html <br/>\n",
    "Only execute this code block once, if executed once more, everything will be randomized again"
   ]
  },
  {
   "cell_type": "code",
   "execution_count": 51,
   "metadata": {},
   "outputs": [],
   "source": [
    "sample = lhs(len(params), samples=100)\n",
    "df_params = pd.DataFrame(sample, columns=params)\n",
    "\n",
    "df_parameters = pd.DataFrame()\n",
    "for i in params: \n",
    "    df_parameters[i] = unfold(df_params[i], param_range[i][0], param_range[i][1])\n",
    "df_parameters.juv_leaves = [round(x) for x in df_parameters.juv_leaves]\n",
    "df_parameters['rmax_ltar'] = df_parameters.rmax_ltir*0.5\n",
    "df_parameters = df_parameters.round(2)\n",
    "#df_parameters.to_csv('/home/disk/eos8/ach315/upscale/inits/param_100.csv', index=False)"
   ]
  },
  {
   "cell_type": "code",
   "execution_count": 52,
   "metadata": {},
   "outputs": [
    {
     "data": {
      "image/png": "[encoded data removed]",
      "text/plain": [
       "<Figure size 288x288 with 2 Axes>"
      ]
     },
     "metadata": {
      "needs_background": "light"
     },
     "output_type": "display_data"
    }
   ],
   "source": [
    "# visualizing parameter spread - this is just an example\n",
    "sample = lhs(len(params), samples=5) # trying with 5 cultivar combinations for now\n",
    "df_test = pd.DataFrame(sample, columns=params)\n",
    "df_test.index = ['cultivar 1','cultivar 2','cultivar 3','cultivar 4','cultivar 5']\n",
    "\n",
    "fig, ax = plt.subplots(figsize=(4,4))\n",
    "ax = sns.heatmap(df_test)\n",
    "\n",
    "plt.xticks(\n",
    "    fontweight='light', fontsize=12)\n",
    "\n",
    "plt.yticks(\n",
    "    rotation=0,\n",
    "    fontweight='light', fontsize=12)\n",
    "\n",
    "# adjusting color bar specifics\n",
    "cbar = ax.collections[0].colorbar\n",
    "cbar.ax.tick_params(labelsize=10)\n",
    "\n",
    "fig.subplots_adjust(left=0.2, bottom=0.45)\n",
    "#plt.savefig('/home/disk/eos8/ach315/upscale/figs/params.png', format='png', dpi=800, transparent=True)"
   ]
  },
  {
   "cell_type": "markdown",
   "metadata": {},
   "source": [
    "### Step 3. Creating cultivar init file template\n",
    "- Main task: create ensemble of parameter files\n",
    "- Main input: **df_parameters**\n",
    "- Main output: **/inits/var/var_i.txt**"
   ]
  },
  {
   "cell_type": "code",
   "execution_count": 53,
   "metadata": {},
   "outputs": [
    {
     "data": {
      "text/html": [
       "<div>\n",
       "<style scoped>\n",
       "    .dataframe tbody tr th:only-of-type {\n",
       "        vertical-align: middle;\n",
       "    }\n",
       "\n",
       "    .dataframe tbody tr th {\n",
       "        vertical-align: top;\n",
       "    }\n",
       "\n",
       "    .dataframe thead th {\n",
       "        text-align: right;\n",
       "    }\n",
       "</style>\n",
       "<table border=\"1\" class=\"dataframe\">\n",
       "  <thead>\n",
       "    <tr style=\"text-align: right;\">\n",
       "      <th></th>\n",
       "      <th>juv_leaves</th>\n",
       "      <th>stayGreen</th>\n",
       "      <th>rmax_ltir</th>\n",
       "      <th>Vcmax</th>\n",
       "      <th>Vpmax</th>\n",
       "      <th>g1</th>\n",
       "      <th>ref_potential</th>\n",
       "      <th>rmax_ltar</th>\n",
       "    </tr>\n",
       "  </thead>\n",
       "  <tbody>\n",
       "    <tr>\n",
       "      <th>0</th>\n",
       "      <td>23</td>\n",
       "      <td>7.71</td>\n",
       "      <td>1.00</td>\n",
       "      <td>63.79</td>\n",
       "      <td>115.28</td>\n",
       "      <td>7.52</td>\n",
       "      <td>-2.43</td>\n",
       "      <td>0.50</td>\n",
       "    </tr>\n",
       "    <tr>\n",
       "      <th>1</th>\n",
       "      <td>18</td>\n",
       "      <td>3.73</td>\n",
       "      <td>0.91</td>\n",
       "      <td>73.71</td>\n",
       "      <td>113.77</td>\n",
       "      <td>2.59</td>\n",
       "      <td>-3.63</td>\n",
       "      <td>0.45</td>\n",
       "    </tr>\n",
       "    <tr>\n",
       "      <th>2</th>\n",
       "      <td>22</td>\n",
       "      <td>4.60</td>\n",
       "      <td>1.21</td>\n",
       "      <td>77.63</td>\n",
       "      <td>110.44</td>\n",
       "      <td>8.00</td>\n",
       "      <td>-2.70</td>\n",
       "      <td>0.60</td>\n",
       "    </tr>\n",
       "    <tr>\n",
       "      <th>3</th>\n",
       "      <td>23</td>\n",
       "      <td>6.68</td>\n",
       "      <td>1.43</td>\n",
       "      <td>65.75</td>\n",
       "      <td>99.41</td>\n",
       "      <td>5.18</td>\n",
       "      <td>-1.91</td>\n",
       "      <td>0.72</td>\n",
       "    </tr>\n",
       "    <tr>\n",
       "      <th>4</th>\n",
       "      <td>16</td>\n",
       "      <td>6.79</td>\n",
       "      <td>0.55</td>\n",
       "      <td>60.61</td>\n",
       "      <td>91.98</td>\n",
       "      <td>9.63</td>\n",
       "      <td>-1.47</td>\n",
       "      <td>0.27</td>\n",
       "    </tr>\n",
       "  </tbody>\n",
       "</table>\n",
       "</div>"
      ],
      "text/plain": [
       "   juv_leaves  stayGreen  rmax_ltir  Vcmax   Vpmax    g1  ref_potential  \\\n",
       "0          23       7.71       1.00  63.79  115.28  7.52          -2.43   \n",
       "1          18       3.73       0.91  73.71  113.77  2.59          -3.63   \n",
       "2          22       4.60       1.21  77.63  110.44  8.00          -2.70   \n",
       "3          23       6.68       1.43  65.75   99.41  5.18          -1.91   \n",
       "4          16       6.79       0.55  60.61   91.98  9.63          -1.47   \n",
       "\n",
       "   rmax_ltar  \n",
       "0       0.50  \n",
       "1       0.45  \n",
       "2       0.60  \n",
       "3       0.72  \n",
       "4       0.27  "
      ]
     },
     "execution_count": 53,
     "metadata": {},
     "output_type": "execute_result"
    }
   ],
   "source": [
    "df_parameters = pd.read_csv('/home/disk/eos8/ach315/upscale/inits/param_100.csv')\n",
    "df_parameters.head()"
   ]
  },
  {
   "cell_type": "code",
   "execution_count": 54,
   "metadata": {},
   "outputs": [],
   "source": [
    "### constant parameters\n",
    "# cultivar traits\n",
    "(gdd_mature, daylen_sen, LA_min, phyllo) = (1600, 0, 100, 3)\n",
    "\n",
    "# soil water\n",
    "(rrrm, rrry, rvrl) = (166.7, 31.3, 0.73)\n",
    "(alpm, alpy, rtwl, rtminwtperunitarea) = (0.35, 0.04, 1.059e-004, 2.0000e-004)\n",
    "(epsi, lupw, courmax) = (1, 1, 1)\n",
    "(diffgeo1, diffgeo2, diffgoe3) = (2.4, 2.9, 0)\n",
    "(wl, wa, wr, wb) = (1, 1, 2, 10)\n",
    "\n",
    "# soil nitrogen\n",
    "(isink, rroot) = (0, 0.017)\n",
    "(consti_1, constk_1, cmin0_1) = (35.0, 0.50, 0.01)\n",
    "(consti_2, constk_2, cmin0_2) = (17.2, 0.75, 0.30)\n",
    "\n",
    "# photosynthesis\n",
    "(eavp, eavc, eaj, hj, sj, jm_25, rd_25, ear, g0) = (75100, 55900, 32800, 220000, 702.6, 300, 2, 39800, 0.017)\n",
    "(f, scatt, Kc_25, Ko_25, Kp_25, gbs, gi, gamma1) = (0.15, 0.15, 650, 450, 80, 0.003, 1, 0.193)\n",
    "(gamma_gsw, sf, stoma_ratio, widfct, leaf_wid) = (10.0, 2.3, 1.0, 0.72, 0.05)\n",
    "(cica_ratio, SC_param, BLC_param) = (0.7, 1.57, 1.36)"
   ]
  },
  {
   "cell_type": "code",
   "execution_count": 55,
   "metadata": {},
   "outputs": [],
   "source": [
    "# setting up strings\n",
    "def strings(): \n",
    "    tab = '    '\n",
    "    str1 = '*** Corn growth simulation for US maize simualtion\\n'\n",
    "    str2 = 'cultivar: Romario\\n'\n",
    "    str3 = ('gdd_mature' + tab + 'juv_leaf' + tab + 'daylen_sen' + tab + 'staygreen' + tab + \n",
    "            'LA_min' + tab + 'Rmax_LTAR' + tab + 'Rmax_LTIR' + tab + 'phyllo\\n')\n",
    "    str4 = '\\n'\n",
    "    str5 = tup_convert(['%.0f' %gdd_mature, tab, '%.0f' %juv_leaves, tab, '%.0f' %daylen_sen, tab, \n",
    "                        '%.2f' %staygreen, tab, '%.f' %LA_min, tab, \n",
    "                        '%.2f' %rmax_ltar, tab, '%.2f' %rmax_ltir, tab, '%.0f\\n' %phyllo])\n",
    "\n",
    "    str6 = '[SoilRoot]\\n'\n",
    "    str7 = '*** water uptake parameter information ***\\n'\n",
    "    str8 = 'RRRM' + tab + 'RRRY' + tab + 'RVRL\\n'\n",
    "    str9 = tup_convert(['%.2f' %rrrm, tab, '%.2f' %rrry, tab, '%.2f\\n' %rvrl])\n",
    "    str10 = 'ALPM' + tab + 'ALPY' + tab + 'RTWL' + tab + 'RtMinWtPerUnitArea\\n'\n",
    "    str11 = tup_convert(['%.2f' %alpm, tab, '%.2f' %alpy, tab, '%.7f' %rtwl, tab, '%.4f\\n' %rtminwtperunitarea])\n",
    "\n",
    "    str12 = '[RootDiff]\\n'\n",
    "    str13 = '*** root mover parameter information\\n'\n",
    "    str14 = 'EPSI' + tab + 'lUpW' + tab + 'CourMax\\n'\n",
    "    str15 = tup_convert(['%.f' %epsi, tab, '%.f' %lupw, tab, '%.f\\n' %courmax])\n",
    "    str16 = 'Diffusivity and geotrophic velocity\\n'\n",
    "    str17 = tup_convert(['%.1f' %diffgeo1, tab, '%.1f' %diffgeo2, tab, '%.1f\\n' %diffgoe3])\n",
    "\n",
    "    str18 = '[SoilNitrogen]\\n'\n",
    "    str19 = '*** nitrogen root uptake parameter infromation ***\\n'\n",
    "    str20 = 'ISINK' + tab + 'Rroot\\n'\n",
    "    str21 = tup_convert(['%.0f' %isink, tab, '%.2f\\n' %rroot])\n",
    "    str22 = 'ConstI' + tab + 'Constk' + tab + 'Cmin0\\n'\n",
    "    str23 = tup_convert(['%.1f' %consti_1, tab, '%.1f' %constk_1, tab, '%.2f\\n' %cmin0_1])\n",
    "    str24 = tup_convert(['%.1f' %consti_2, tab, '%.2f' %constk_2, tab, '%.2f\\n' %cmin0_2])\n",
    "\n",
    "    str25 = '[Gas_Exchange Species Parameters]\\n'\n",
    "    str26 = '*** for photosynthesis calculations ***\\n'\n",
    "    str27 = ('EaVP' + tab + 'EaVc' + tab + 'Eaj' + tab + 'Hj' + tab + 'Sj' + tab + 'Vpm25' +\n",
    "             tab + 'Vcm25' + tab + 'Jm25' + tab + 'Rd25' + tab + 'Ear' + tab + 'g0' + tab + 'g1\\n')\n",
    "    str28 = tup_convert(['%.f' %eavp, tab, '%.f' %eavc, tab, '%.f' %eaj, tab, '%.f' %hj, tab, '%.f' %sj, tab, \n",
    "                         '%.f' %vpm_25, tab, '%.f' %vcm_25, tab, '%.f' %jm_25, tab, '%.f' %rd_25, tab,\n",
    "                         '%.f' %ear, tab, '%.2f' %g0, tab, '%.2f\\n' %g1])\n",
    "\n",
    "    str29 = '*** second set of parameters for photosynthesis ***\\n'\n",
    "    str30 = 'f' + tab + 'scatt' + tab + 'Kc_25' + tab + 'Ko_25' + tab + 'Kp_25' + tab + 'gbs' + tab + 'gi' + tab + 'gamma1\\n'\n",
    "    str31 = tup_convert(['%.2f' %f, tab, '%.2f' %scatt, tab, '%.f' %Kc_25, tab, '%.f' %Ko_25, tab, \n",
    "                         '%.f' %Kp_25, tab, '%.3f' %gbs, tab, '%.2f' %gi, tab, '%.2f\\n' %gamma1 ])\n",
    "    \n",
    "    str32 = '*** third set of photosynthesis parameters ***\\n'\n",
    "    str33 = ('gamma_gsw' + tab + 'sensitivity (sf)' + tab + 'ref_potential (phyla, bars)' + tab + \n",
    "            'stoma_ratio' + tab + 'widfct' + tab + 'leaf_wid (m)\\n')\n",
    "    str34 = tup_convert(['%.1f' %gamma_gsw, tab, '%.1f' %sf, tab, '%.1f' %ref_potential, tab, \n",
    "                       '%.1f' %stoma_ratio, tab, '%.1f' %widfct, tab, '%.3f\\n' %leaf_wid])\n",
    "    str35 = '**** seconday parameters for miscelanioius equations ****\\n'\n",
    "    str36 = 'Ci/Ca' + tab + 'SC_param' + tab + 'BLC_param\\n'\n",
    "    str37 = tup_convert(['%.1f' %cica_ratio, tab, '%.2f' %SC_param, tab, '%.2f\\n' %BLC_param])\n",
    "    str38 = '[Leaf Parameters]\\n'\n",
    "\n",
    "    # combining strings\n",
    "    strs = [str1, str2, str3, str4, str5, str6, str7, str8, str9, str10, \n",
    "            str11, str12, str13, str14, str15, str16, str17, str18, str19, str20, \n",
    "            str21, str22, str23, str24, str25, str26, str27, str28, str29, str30, \n",
    "            str31, str32, str33, str34, str35, str36, str37, str38]\n",
    "    \n",
    "    return(strs)"
   ]
  },
  {
   "cell_type": "code",
   "execution_count": 58,
   "metadata": {},
   "outputs": [],
   "source": [
    "# parameter perturbation\n",
    "for i in np.arange(df_parameters.shape[0]):\n",
    "    [juv_leaves, staygreen, rmax_ltir, vcm_25, vpm_25, g1, ref_potential, rmax_ltar] = df_parameters.iloc[i,:]\n",
    "    strs = strings()\n",
    "    var = open('/home/disk/eos8/ach315/upscale/inits/var/var_' + str(i) + '.txt', 'w')\n",
    "    var.writelines(strs)\n",
    "    var.close()"
   ]
  }
 ],
 "metadata": {
  "kernelspec": {
   "display_name": "Python 3",
   "language": "python",
   "name": "python3"
  },
  "language_info": {
   "codemirror_mode": {
    "name": "ipython",
    "version": 3
   },
   "file_extension": ".py",
   "mimetype": "text/x-python",
   "name": "python",
   "nbconvert_exporter": "python",
   "pygments_lexer": "ipython3",
   "version": "3.6.10"
  }
 },
 "nbformat": 4,
 "nbformat_minor": 4
}
