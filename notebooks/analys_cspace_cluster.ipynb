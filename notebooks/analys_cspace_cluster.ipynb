{
 "cells": [
  {
   "cell_type": "markdown",
   "metadata": {},
   "source": [
    "## Cluster simulation sites into climate spaces"
   ]
  },
  {
   "cell_type": "code",
   "execution_count": 1,
   "metadata": {},
   "outputs": [],
   "source": [
    "import pandas as pd\n",
    "from sklearn.preprocessing import StandardScaler\n",
    "from sklearn.cluster import KMeans\n",
    "\n",
    "from ideotype.data_process import read_data, parse_mature"
   ]
  },
  {
   "cell_type": "code",
   "execution_count": 2,
   "metadata": {},
   "outputs": [],
   "source": [
    "# Read in present-day data\n",
    "run_name = 'present'\n",
    "df_sims, df_sites, df_wea, df_params, df_all, df_matured = read_data(\n",
    "    f'/home/disk/eos8/ach315/ideotype/ideotype/'\n",
    "    f'data/files/filepaths_{run_name}.yml')\n",
    "df_extended, df_stuck = parse_mature(df_all)\n",
    "df_all.drop(df_stuck.index, inplace=True)\n",
    "df_all.site = df_all.site.astype(int)"
   ]
  },
  {
   "cell_type": "code",
   "execution_count": 3,
   "metadata": {},
   "outputs": [],
   "source": [
    "df_climate = df_all.groupby('site').mean()[['temp', 'vpd', 'precip']]\n",
    "df_climate_std = StandardScaler().fit_transform(df_climate)\n",
    "df_climate.reset_index(inplace=True)\n",
    "\n",
    "kmeans_mod = KMeans(n_clusters=4)\n",
    "kmeans_mod.fit(df_climate_std)\n",
    "y_kmeans = kmeans_mod.predict(df_climate_std)\n",
    "\n",
    "df_cluster = df_climate.copy()\n",
    "df_cluster['group'] = y_kmeans\n",
    "\n",
    "df_km0 = df_cluster.query('group==0')\n",
    "df_km1 = df_cluster.query('group==1')\n",
    "df_km2 = df_cluster.query('group==2')\n",
    "df_km3 = df_cluster.query('group==3')\n",
    "\n",
    "df_sites.site = df_sites.site.astype(int)\n",
    "df_clustered_sites = pd.merge(df_cluster, df_sites, left_on='site', right_on='site')\n",
    "#df_clustered_sites.to_csv('/home/disk/eos8/ach315/ideotype/ideotype/data/climate_cluster/sites_clusered.csv', index=False)"
   ]
  },
  {
   "cell_type": "code",
   "execution_count": null,
   "metadata": {},
   "outputs": [],
   "source": []
  }
 ],
 "metadata": {
  "kernelspec": {
   "display_name": "Python [conda env:ideotype]",
   "language": "python",
   "name": "conda-env-ideotype-py"
  },
  "language_info": {
   "codemirror_mode": {
    "name": "ipython",
    "version": 3
   },
   "file_extension": ".py",
   "mimetype": "text/x-python",
   "name": "python",
   "nbconvert_exporter": "python",
   "pygments_lexer": "ipython3",
   "version": "3.9.4"
  }
 },
 "nbformat": 4,
 "nbformat_minor": 4
}
