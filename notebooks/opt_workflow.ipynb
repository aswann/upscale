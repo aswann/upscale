{
 "cells": [
  {
   "cell_type": "markdown",
   "metadata": {},
   "source": [
    "## Workflow to setup and run ensemble simulations"
   ]
  },
  {
   "cell_type": "markdown",
   "metadata": {},
   "source": [
    "Creating several bash files that provides direction for where to look for the initial files and where to place the model output files"
   ]
  },
  {
   "cell_type": "code",
   "execution_count": 7,
   "metadata": {},
   "outputs": [],
   "source": [
    "import os\n",
    "import numpy as np\n",
    "import pandas as pd\n",
    "import matplotlib.pyplot as plt\n",
    "import glob"
   ]
  },
  {
   "cell_type": "markdown",
   "metadata": {},
   "source": [
    "### 0.1 Create directories to hold run files, simulation outputs, & job scripts\n",
    "Repository structure: <br\\>\n",
    "- /home/disk/eos8/ach315/upscale/sims/opt/\n",
    "- /home/disk/eos8/ach315/upscale/runs/opt/\n",
    "    - years/ \n",
    "        - cultivars/\n",
    "            - all sites"
   ]
  },
  {
   "cell_type": "markdown",
   "metadata": {},
   "source": [
    "following cell only needs to be executed once or else will throw error:"
   ]
  },
  {
   "cell_type": "code",
   "execution_count": 77,
   "metadata": {},
   "outputs": [],
   "source": [
    "#folder = 'runs/'\n",
    "#folder = 'sims/'\n",
    "folder = 'jobs/'\n",
    "\n",
    "for i in np.arange(1961,1991):\n",
    "    os.mkdir('/home/disk/eos8/ach315/upscale/' + folder + 'opt/' + str(i))\n",
    "\n",
    "cultivars = list()\n",
    "for i in np.arange(0,100): \n",
    "    cultivar = 'var_' + str(i)\n",
    "    cultivars.append(cultivar)\n",
    "    \n",
    "for i in np.arange(1961,1991):\n",
    "    for j in cultivars:\n",
    "        os.mkdir('/home/disk/eos8/ach315/upscale/' + folder + 'opt/' + str(i) + '/' + str(j))    "
   ]
  },
  {
   "cell_type": "markdown",
   "metadata": {},
   "source": [
    "### 1. Create run.txt files"
   ]
  },
  {
   "cell_type": "code",
   "execution_count": 44,
   "metadata": {},
   "outputs": [],
   "source": [
    "directories = glob.glob('/home/disk/eos8/ach315/upscale/runs/opt/*')\n",
    "siteyears = pd.read_csv('/home/disk/eos8/ach315/upscale/weadata/site_year_crithr1.csv', dtype=str, index_col=0)\n",
    "site_info = pd.read_csv('/home/disk/eos8/ach315/upscale/weadata/site_info.csv', dtype=str, index_col=0)"
   ]
  },
  {
   "cell_type": "code",
   "execution_count": 78,
   "metadata": {},
   "outputs": [
    {
     "data": {
      "text/html": [
       "<div>\n",
       "<style scoped>\n",
       "    .dataframe tbody tr th:only-of-type {\n",
       "        vertical-align: middle;\n",
       "    }\n",
       "\n",
       "    .dataframe tbody tr th {\n",
       "        vertical-align: top;\n",
       "    }\n",
       "\n",
       "    .dataframe thead th {\n",
       "        text-align: right;\n",
       "    }\n",
       "</style>\n",
       "<table border=\"1\" class=\"dataframe\">\n",
       "  <thead>\n",
       "    <tr style=\"text-align: right;\">\n",
       "      <th></th>\n",
       "      <th>site</th>\n",
       "      <th>city</th>\n",
       "      <th>state</th>\n",
       "      <th>lat</th>\n",
       "      <th>lon</th>\n",
       "    </tr>\n",
       "  </thead>\n",
       "  <tbody>\n",
       "    <tr>\n",
       "      <td>0</td>\n",
       "      <td>03103</td>\n",
       "      <td>FLAGSTAFF</td>\n",
       "      <td>AZ</td>\n",
       "      <td>35.08</td>\n",
       "      <td>111.4</td>\n",
       "    </tr>\n",
       "    <tr>\n",
       "      <td>1</td>\n",
       "      <td>03812</td>\n",
       "      <td>ASHEVILLE</td>\n",
       "      <td>NC</td>\n",
       "      <td>35.26</td>\n",
       "      <td>82.32</td>\n",
       "    </tr>\n",
       "    <tr>\n",
       "      <td>2</td>\n",
       "      <td>03813</td>\n",
       "      <td>MACON</td>\n",
       "      <td>GA</td>\n",
       "      <td>32.42</td>\n",
       "      <td>83.39</td>\n",
       "    </tr>\n",
       "    <tr>\n",
       "      <td>3</td>\n",
       "      <td>03820</td>\n",
       "      <td>AUGUSTA</td>\n",
       "      <td>GA</td>\n",
       "      <td>33.22</td>\n",
       "      <td>81.58</td>\n",
       "    </tr>\n",
       "    <tr>\n",
       "      <td>4</td>\n",
       "      <td>03822</td>\n",
       "      <td>SAVANNAH</td>\n",
       "      <td>GA</td>\n",
       "      <td>32.08</td>\n",
       "      <td>81.12</td>\n",
       "    </tr>\n",
       "  </tbody>\n",
       "</table>\n",
       "</div>"
      ],
      "text/plain": [
       "    site                    city state    lat    lon\n",
       "0  03103  FLAGSTAFF                 AZ  35.08  111.4\n",
       "1  03812  ASHEVILLE                 NC  35.26  82.32\n",
       "2  03813  MACON                     GA  32.42  83.39\n",
       "3  03820  AUGUSTA                   GA  33.22  81.58\n",
       "4  03822  SAVANNAH                  GA  32.08  81.12"
      ]
     },
     "execution_count": 78,
     "metadata": {},
     "output_type": "execute_result"
    }
   ],
   "source": [
    "site_info.head()"
   ]
  },
  {
   "cell_type": "code",
   "execution_count": 80,
   "metadata": {},
   "outputs": [
    {
     "data": {
      "text/plain": [
       "(2125, 2)"
      ]
     },
     "execution_count": 80,
     "metadata": {},
     "output_type": "execute_result"
    }
   ],
   "source": [
    "siteyears.shape"
   ]
  },
  {
   "cell_type": "code",
   "execution_count": 61,
   "metadata": {},
   "outputs": [],
   "source": [
    "for i in directories:\n",
    "    year = i.split('/')[-1].split('_')[-1]\n",
    "    site = i.split('/')[-1].split('_')[-2]\n",
    "\n",
    "    # setting up directories\n",
    "    init_dirct_wea = '/home/disk/eos8/ach315/upscale/weadata/data/control/'\n",
    "    init_dirct_stand = '/home/disk/eos8/ach315/upscale/inits/standard/'\n",
    "    init_dirct_custom = '/home/disk/eos8/ach315/upscale/inits/con/' + site + '_' + year + '/'\n",
    "    output_dirct = '/home/disk/eos8/ach315/upscale/sims/opt/' + site + '_' + year + '/'\n",
    "\n",
    "    # strings in run file\n",
    "    cultivars = glob.glob('/home/disk/eos8/ach315/upscale/inits/var/*')\n",
    "    for j in cultivars:\n",
    "        var = j.split('/')[-1].split('.')[-2]\n",
    "        str1 = init_dirct_wea + site + '_' + year + '.txt\\n'\n",
    "        str2 = init_dirct_custom + 'time.txt\\n'\n",
    "        str3 = init_dirct_stand + 'biology.txt\\n'\n",
    "        str4 = init_dirct_custom + 'climate.txt\\n'\n",
    "        str5 = init_dirct_stand + 'nitrogen.txt\\n'\n",
    "        str6 = init_dirct_stand + 'solute.txt\\n'\n",
    "        str7 = init_dirct_stand + 'soil.txt\\n'\n",
    "        str8 = init_dirct_custom + 'management.txt\\n'\n",
    "        str9 = init_dirct_stand + 'drip.txt\\n'\n",
    "        str10 = init_dirct_stand + 'water.txt\\n'\n",
    "        str11 = init_dirct_stand + 'waterbound.txt\\n'\n",
    "        str12 = init_dirct_custom + 'init.txt\\n'\n",
    "        str13 = j + '\\n' # looping through different cultivar files\n",
    "        str14 = init_dirct_stand + 'grid.txt\\n'\n",
    "        str15 = init_dirct_stand + 'nod.txt\\n'\n",
    "        str16 = init_dirct_stand + 'massbl.txt\\n'\n",
    "        str17 = output_dirct + 'out1_' + site + '_' + year + '_' + var + '.txt\\n'\n",
    "        str18 = output_dirct + 'out2_' + site + '_' + year + '_' + var + '.txt\\n'\n",
    "        str19 = output_dirct + 'out3.txt\\n'\n",
    "        str20 = output_dirct + 'out4.txt\\n'\n",
    "        str21 = output_dirct + 'out5.txt\\n'\n",
    "        str22 = output_dirct + 'out6.txt\\n'\n",
    "        str23 = output_dirct + 'massbl.txt\\n'\n",
    "        \n",
    "        # combining strings1\n",
    "        strings = [str1, str2, str3, str4, str5, str6, str7, str8, str9, str10, str11, str12, str13,\n",
    "                   str14, str15, str16, str17, str18, str19, str20, str21, str22, str23]\n",
    "\n",
    "        # writing out run.txt file\n",
    "        run = open('/home/disk/eos8/ach315/upscale/runs/opt/' + year + '/' + var + \n",
    "                   '/run_' + site + '_' + year + '_' + var + '.txt', 'w')\n",
    "        run.writelines(strings)\n",
    "        run.close()"
   ]
  },
  {
   "cell_type": "markdown",
   "metadata": {},
   "source": [
    "### 2. Create job files that execute a batch of run files"
   ]
  },
  {
   "cell_type": "code",
   "execution_count": null,
   "metadata": {},
   "outputs": [],
   "source": [
    "dirct = '/home/disk/eos8/ach315/upscale/jobs/opt/'\n",
    "treatment = 'con'\n",
    "\n",
    "for i in np.arange(1961,1991):\n",
    "    for j in cultivars:\n",
    "        \n",
    "        str1 = '#! /bin/bash\\n'\n",
    "        str2 = '#PBS -l nodes=1:ppn=1\\n'\n",
    "        str3 = '#PBS -l walltime=12:00:00\\n'\n",
    "        str4 = '#PBS -m ae\\n'\n",
    "        str5 = '#PBS -M ach315@uw.edu\\n'\n",
    "        str6 = '#PBS -N maizsim_' + treatment + '_' + str(i) + '\\n'\n",
    "        str7 = '\\n'\n",
    "        str8 = 'FILES=/home/disk/eos8/ach315/upscale/runs/opt/' + str(i)+ '/*\\n'\n",
    "        str9 = '\\n'\n",
    "        str10 = 'for file in $FILES\\n'\n",
    "        str11 = 'do\\n'\n",
    "        str12 = '    cd /home/disk/eos8/ach315/maizsim\\n'\n",
    "        str13 = '    maizsim $file\\n'\n",
    "        str14 = 'done\\n'\n",
    "\n",
    "        strings = [str1, str2, str3, str4, str5, str6, str7, str8, str9, str10, str11, str12, str13, str14]\n",
    "\n",
    "        jobs = open(dirct + str(i) + '.job', 'w')\n",
    "        jobs.writelines(strings)\n",
    "        jobs.close()"
   ]
  }
 ],
 "metadata": {
  "kernelspec": {
   "display_name": "Python 3",
   "language": "python",
   "name": "python3"
  },
  "language_info": {
   "codemirror_mode": {
    "name": "ipython",
    "version": 3
   },
   "file_extension": ".py",
   "mimetype": "text/x-python",
   "name": "python",
   "nbconvert_exporter": "python",
   "pygments_lexer": "ipython3",
   "version": "3.6.9"
  }
 },
 "nbformat": 4,
 "nbformat_minor": 2
}
