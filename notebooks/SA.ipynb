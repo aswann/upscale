{
 "cells": [
  {
   "cell_type": "markdown",
   "metadata": {},
   "source": [
    "## Sensitivity Analysis with SALib\n",
    "Python library info: https://salib.readthedocs.io/en/latest/"
   ]
  },
  {
   "cell_type": "code",
   "execution_count": 85,
   "metadata": {},
   "outputs": [],
   "source": [
    "import matplotlib.pyplot as plt\n",
    "from SALib.sample import saltelli\n",
    "from SALib.sample import fast_sampler\n",
    "from SALib.sample import latin\n",
    "from SALib.analyze import sobol\n",
    "from SALib.analyze import fast\n",
    "from SALib.test_functions import Ishigami\n",
    "import numpy as np"
   ]
  },
  {
   "cell_type": "code",
   "execution_count": 23,
   "metadata": {},
   "outputs": [],
   "source": [
    "problem = {\n",
    "    'num_vars': 8,\n",
    "    'names': ['x1', 'x2', 'x3', 'x4', 'x5', 'x6', 'x7', 'x8'],\n",
    "    'bounds': [[-3.14159265359, 3.14159265359],\n",
    "               [-3.14159265359, 3.14159265359],\n",
    "               [-3.14159265359, 3.14159265359],\n",
    "               [-3.14159265359, 3.14159265359],\n",
    "               [-3.14159265359, 3.14159265359],\n",
    "               [-3.14159265359, 3.14159265359],\n",
    "               [-3.14159265359, 3.14159265359],\n",
    "               [-3.14159265359, 3.14159265359]\n",
    "              ]\n",
    "}"
   ]
  },
  {
   "cell_type": "code",
   "execution_count": 24,
   "metadata": {},
   "outputs": [
    {
     "name": "stdout",
     "output_type": "stream",
     "text": [
      "(18000, 8)\n"
     ]
    }
   ],
   "source": [
    "param_values = saltelli.sample(problem, 1000)\n",
    "print(param_values.shape)"
   ]
  },
  {
   "cell_type": "code",
   "execution_count": 26,
   "metadata": {},
   "outputs": [
    {
     "name": "stdout",
     "output_type": "stream",
     "text": [
      "(800, 8)\n"
     ]
    }
   ],
   "source": [
    "param_values = fast_sampler.sample(problem, 100)\n",
    "print(param_values.shape)"
   ]
  },
  {
   "cell_type": "code",
   "execution_count": 33,
   "metadata": {},
   "outputs": [
    {
     "data": {
      "text/plain": [
       "array([ 1.24637551,  1.24637551,  1.24637551,  1.24637551,  1.24637551,\n",
       "        1.24637551,  1.24637551, -0.01026155])"
      ]
     },
     "execution_count": 33,
     "metadata": {},
     "output_type": "execute_result"
    }
   ],
   "source": [
    "param_values[-10]"
   ]
  },
  {
   "cell_type": "code",
   "execution_count": null,
   "metadata": {},
   "outputs": [],
   "source": []
  },
  {
   "cell_type": "code",
   "execution_count": null,
   "metadata": {},
   "outputs": [],
   "source": []
  },
  {
   "cell_type": "code",
   "execution_count": null,
   "metadata": {},
   "outputs": [],
   "source": []
  },
  {
   "cell_type": "markdown",
   "metadata": {},
   "source": [
    "#### Trying out with my own data & settings"
   ]
  },
  {
   "cell_type": "code",
   "execution_count": 74,
   "metadata": {},
   "outputs": [],
   "source": [
    "params = {\n",
    "    'num_vars': 10,\n",
    "    'names': ['juv_leaves', \n",
    "              'staygreen',\n",
    "              'rmax_ltar',\n",
    "              'LAF',\n",
    "              'LM_min',\n",
    "              'Vcmax',\n",
    "              'Vpmax',\n",
    "              'g1',\n",
    "              'ref_potential',\n",
    "              'Topt'],\n",
    "    'bounds': [[15,25],\n",
    "               [3,8],\n",
    "               [0.5,1],\n",
    "               [1,3],\n",
    "               [90,120],\n",
    "               [60,100],\n",
    "               [100,150],\n",
    "               [3,10],\n",
    "               [100,120],\n",
    "               [30,35]]\n",
    "}"
   ]
  },
  {
   "cell_type": "code",
   "execution_count": 75,
   "metadata": {},
   "outputs": [
    {
     "data": {
      "text/plain": [
       "(1000, 10)"
      ]
     },
     "execution_count": 75,
     "metadata": {},
     "output_type": "execute_result"
    }
   ],
   "source": [
    "param_values = fast_sampler.sample(params, 100)\n",
    "param_values.shape"
   ]
  },
  {
   "cell_type": "code",
   "execution_count": 76,
   "metadata": {},
   "outputs": [
    {
     "data": {
      "text/plain": [
       "<matplotlib.collections.PathCollection at 0x7f8133551e80>"
      ]
     },
     "execution_count": 76,
     "metadata": {},
     "output_type": "execute_result"
    },
    {
     "data": {
      "image/png": "[encoded data removed]",
      "text/plain": [
       "<Figure size 432x288 with 1 Axes>"
      ]
     },
     "metadata": {
      "needs_background": "light"
     },
     "output_type": "display_data"
    }
   ],
   "source": [
    "param_list = []\n",
    "for i in np.arange(param_values.shape[0]):\n",
    "    param_list.append(param_values[i, 0])\n",
    "\n",
    "plt.scatter(list(np.arange(len(param_list))), param_list, alpha=0.5)"
   ]
  },
  {
   "cell_type": "code",
   "execution_count": 70,
   "metadata": {},
   "outputs": [
    {
     "data": {
      "text/plain": [
       "(100, 10)"
      ]
     },
     "execution_count": 70,
     "metadata": {},
     "output_type": "execute_result"
    }
   ],
   "source": [
    "param_values = latin.sample(params, 100)\n",
    "param_values.shape"
   ]
  },
  {
   "cell_type": "code",
   "execution_count": 71,
   "metadata": {},
   "outputs": [
    {
     "data": {
      "text/plain": [
       "<matplotlib.collections.PathCollection at 0x7f813363efa0>"
      ]
     },
     "execution_count": 71,
     "metadata": {},
     "output_type": "execute_result"
    },
    {
     "data": {
      "image/png": "[encoded data removed]",
      "text/plain": [
       "<Figure size 432x288 with 1 Axes>"
      ]
     },
     "metadata": {
      "needs_background": "light"
     },
     "output_type": "display_data"
    }
   ],
   "source": [
    "param_list = []\n",
    "for i in np.arange(param_values.shape[0]):\n",
    "    param_list.append(param_values[i, 0])\n",
    "\n",
    "plt.scatter(list(np.arange(len(param_list))), param_list, alpha=0.5)"
   ]
  },
  {
   "cell_type": "code",
   "execution_count": 83,
   "metadata": {},
   "outputs": [
    {
     "data": {
      "text/plain": [
       "1000"
      ]
     },
     "execution_count": 83,
     "metadata": {},
     "output_type": "execute_result"
    }
   ],
   "source": [
    "Y = Ishigami.evaluate(param_values)\n",
    "len(Y)"
   ]
  },
  {
   "cell_type": "code",
   "execution_count": 86,
   "metadata": {},
   "outputs": [],
   "source": [
    "Si = fast.analyze(params, Y, print_to_console=False)"
   ]
  },
  {
   "cell_type": "code",
   "execution_count": 87,
   "metadata": {},
   "outputs": [
    {
     "data": {
      "text/plain": [
       "{'S1': [0.06783498949865839,\n",
       "  0.9251799048897631,\n",
       "  9.171163994345672e-05,\n",
       "  7.895621702961159e-05,\n",
       "  7.585174499184594e-05,\n",
       "  7.154069901512003e-05,\n",
       "  7.990279760644376e-05,\n",
       "  7.175308124075256e-05,\n",
       "  7.395500017630054e-05,\n",
       "  7.236548398971792e-05],\n",
       " 'ST': [0.07092883333388977,\n",
       "  0.931826172678197,\n",
       "  0.0018929602783392951,\n",
       "  0.001910183169254509,\n",
       "  0.0018717173326049386,\n",
       "  0.0018183007681682462,\n",
       "  0.0019219116513490286,\n",
       "  0.0018209323368182373,\n",
       "  0.0018482155775846332,\n",
       "  0.0018285204363108765],\n",
       " 'names': ['juv_leaves',\n",
       "  'staygreen',\n",
       "  'rmax_ltar',\n",
       "  'LAF',\n",
       "  'LM_min',\n",
       "  'Vcmax',\n",
       "  'Vpmax',\n",
       "  'g1',\n",
       "  'ref_potential',\n",
       "  'Topt']}"
      ]
     },
     "execution_count": 87,
     "metadata": {},
     "output_type": "execute_result"
    }
   ],
   "source": [
    "Si"
   ]
  },
  {
   "cell_type": "code",
   "execution_count": null,
   "metadata": {},
   "outputs": [],
   "source": []
  }
 ],
 "metadata": {
  "kernelspec": {
   "name": "conda-env-ideotype-py"
  },
  "language_info": {
   "codemirror_mode": {
    "name": "ipython",
    "version": 3
   },
   "file_extension": ".py",
   "mimetype": "text/x-python",
   "name": "python",
   "nbconvert_exporter": "python",
   "pygments_lexer": "ipython3",
   "version": "3.8.5"
  }
 },
 "nbformat": 4,
 "nbformat_minor": 4
}
