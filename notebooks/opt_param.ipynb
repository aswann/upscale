{
 "cells": [
  {
   "cell_type": "markdown",
   "metadata": {},
   "source": [
    "## Workflow to generate ensemble parameter combinations"
   ]
  },
  {
   "cell_type": "code",
   "execution_count": 7,
   "metadata": {},
   "outputs": [],
   "source": [
    "# this loads previoulsy stored environment\n",
    "import dill\n",
    "dill.load_session('opt_param_env.db')"
   ]
  },
  {
   "cell_type": "code",
   "execution_count": 8,
   "metadata": {},
   "outputs": [],
   "source": [
    "# Load in necessary packages\n",
    "import os\n",
    "import pandas as pd\n",
    "import numpy as np\n",
    "import glob as glob\n",
    "import datetime\n",
    "from pyDOE import *\n",
    "\n",
    "# personal functions\n",
    "from funcs import unfold"
   ]
  },
  {
   "cell_type": "markdown",
   "metadata": {},
   "source": [
    "### 1. Create dataframe with all parameters"
   ]
  },
  {
   "cell_type": "code",
   "execution_count": 9,
   "metadata": {},
   "outputs": [],
   "source": [
    "# genetic parameter list\n",
    "params = ['staygreen', 'rmax_lir', 'rmax_ltar', 'juv_leaves', # phenology\n",
    "          'LAF', 'f', 'scatt', 'leaf_len', 'leaf_wid', # morphology\n",
    "          'vcm_25', 'vpm_25', 'g0', 'g1', 't_opt', # physiology\n",
    "          'psi_threshold'] # water stress"
   ]
  },
  {
   "cell_type": "markdown",
   "metadata": {},
   "source": [
    "#### ensemble paramter range"
   ]
  },
  {
   "cell_type": "code",
   "execution_count": 10,
   "metadata": {},
   "outputs": [],
   "source": [
    "param_range = {'staygreen':[1,6],\n",
    "               'rmax_lir': [0.1, 0.5],\n",
    "               'rmax_ltar': [0.1, 1.5],\n",
    "               'juv_leaves': [10, 15],\n",
    "               'LAF': [1, 3],\n",
    "               'f': [0, 1],\n",
    "               'scatt': [0, 1],\n",
    "               'leaf_len': [100, 200],\n",
    "               'leaf_wid': [10, 50],\n",
    "               'vcm_25': [40, 60],\n",
    "               'vpm_25': [60, 80],\n",
    "               'g0': [0.02, 0.1], # can check the range of these values from literature maybe?\n",
    "               'g1': [2, 4],      # ball-berry slope & intercept\n",
    "               't_opt': [20, 28],\n",
    "               'psi_threshold': [-5, -1]}"
   ]
  },
  {
   "cell_type": "markdown",
   "metadata": {},
   "source": [
    "### 2. Use Latin hypercube to find parameter combinations"
   ]
  },
  {
   "cell_type": "markdown",
   "metadata": {},
   "source": [
    "info on this method here: https://pythonhosted.org/pyDOE/randomized.html"
   ]
  },
  {
   "cell_type": "code",
   "execution_count": 33,
   "metadata": {},
   "outputs": [
    {
     "data": {
      "text/html": [
       "<div>\n",
       "<style scoped>\n",
       "    .dataframe tbody tr th:only-of-type {\n",
       "        vertical-align: middle;\n",
       "    }\n",
       "\n",
       "    .dataframe tbody tr th {\n",
       "        vertical-align: top;\n",
       "    }\n",
       "\n",
       "    .dataframe thead th {\n",
       "        text-align: right;\n",
       "    }\n",
       "</style>\n",
       "<table border=\"1\" class=\"dataframe\">\n",
       "  <thead>\n",
       "    <tr style=\"text-align: right;\">\n",
       "      <th></th>\n",
       "      <th>staygreen</th>\n",
       "      <th>rmax_lir</th>\n",
       "      <th>rmax_ltar</th>\n",
       "      <th>juv_leaves</th>\n",
       "      <th>LAF</th>\n",
       "      <th>f</th>\n",
       "      <th>scatt</th>\n",
       "      <th>leaf_len</th>\n",
       "      <th>leaf_wid</th>\n",
       "      <th>vcm_25</th>\n",
       "      <th>vpm_25</th>\n",
       "      <th>g0</th>\n",
       "      <th>g1</th>\n",
       "      <th>t_opt</th>\n",
       "      <th>psi_threshold</th>\n",
       "    </tr>\n",
       "  </thead>\n",
       "  <tbody>\n",
       "    <tr>\n",
       "      <td>0</td>\n",
       "      <td>3.580975</td>\n",
       "      <td>0.198711</td>\n",
       "      <td>0.351016</td>\n",
       "      <td>13</td>\n",
       "      <td>2.876520</td>\n",
       "      <td>0.064568</td>\n",
       "      <td>0.106130</td>\n",
       "      <td>106.190190</td>\n",
       "      <td>13.885371</td>\n",
       "      <td>48.347382</td>\n",
       "      <td>70.620698</td>\n",
       "      <td>0.043747</td>\n",
       "      <td>3.556952</td>\n",
       "      <td>26.675907</td>\n",
       "      <td>-3.198173</td>\n",
       "    </tr>\n",
       "    <tr>\n",
       "      <td>1</td>\n",
       "      <td>5.990791</td>\n",
       "      <td>0.261375</td>\n",
       "      <td>0.367098</td>\n",
       "      <td>12</td>\n",
       "      <td>1.324976</td>\n",
       "      <td>0.483678</td>\n",
       "      <td>0.597002</td>\n",
       "      <td>193.567761</td>\n",
       "      <td>48.201314</td>\n",
       "      <td>41.062333</td>\n",
       "      <td>65.901951</td>\n",
       "      <td>0.021885</td>\n",
       "      <td>2.876227</td>\n",
       "      <td>21.290204</td>\n",
       "      <td>-1.815574</td>\n",
       "    </tr>\n",
       "    <tr>\n",
       "      <td>2</td>\n",
       "      <td>4.915283</td>\n",
       "      <td>0.112661</td>\n",
       "      <td>1.346119</td>\n",
       "      <td>11</td>\n",
       "      <td>2.588981</td>\n",
       "      <td>0.862133</td>\n",
       "      <td>0.614563</td>\n",
       "      <td>143.936102</td>\n",
       "      <td>42.389777</td>\n",
       "      <td>55.133019</td>\n",
       "      <td>75.452608</td>\n",
       "      <td>0.020834</td>\n",
       "      <td>2.551809</td>\n",
       "      <td>21.559385</td>\n",
       "      <td>-3.426829</td>\n",
       "    </tr>\n",
       "    <tr>\n",
       "      <td>3</td>\n",
       "      <td>1.988260</td>\n",
       "      <td>0.248188</td>\n",
       "      <td>0.639833</td>\n",
       "      <td>11</td>\n",
       "      <td>2.560768</td>\n",
       "      <td>0.222129</td>\n",
       "      <td>0.754981</td>\n",
       "      <td>161.596353</td>\n",
       "      <td>27.072121</td>\n",
       "      <td>47.971242</td>\n",
       "      <td>67.242830</td>\n",
       "      <td>0.030859</td>\n",
       "      <td>3.960681</td>\n",
       "      <td>21.965958</td>\n",
       "      <td>-4.896455</td>\n",
       "    </tr>\n",
       "    <tr>\n",
       "      <td>4</td>\n",
       "      <td>2.769490</td>\n",
       "      <td>0.436952</td>\n",
       "      <td>0.500761</td>\n",
       "      <td>14</td>\n",
       "      <td>1.137164</td>\n",
       "      <td>0.805315</td>\n",
       "      <td>0.602996</td>\n",
       "      <td>159.439111</td>\n",
       "      <td>29.189599</td>\n",
       "      <td>46.337389</td>\n",
       "      <td>70.816556</td>\n",
       "      <td>0.064980</td>\n",
       "      <td>2.733855</td>\n",
       "      <td>25.771664</td>\n",
       "      <td>-1.057574</td>\n",
       "    </tr>\n",
       "  </tbody>\n",
       "</table>\n",
       "</div>"
      ],
      "text/plain": [
       "   staygreen  rmax_lir  rmax_ltar  juv_leaves       LAF         f     scatt  \\\n",
       "0   3.580975  0.198711   0.351016          13  2.876520  0.064568  0.106130   \n",
       "1   5.990791  0.261375   0.367098          12  1.324976  0.483678  0.597002   \n",
       "2   4.915283  0.112661   1.346119          11  2.588981  0.862133  0.614563   \n",
       "3   1.988260  0.248188   0.639833          11  2.560768  0.222129  0.754981   \n",
       "4   2.769490  0.436952   0.500761          14  1.137164  0.805315  0.602996   \n",
       "\n",
       "     leaf_len   leaf_wid     vcm_25     vpm_25        g0        g1      t_opt  \\\n",
       "0  106.190190  13.885371  48.347382  70.620698  0.043747  3.556952  26.675907   \n",
       "1  193.567761  48.201314  41.062333  65.901951  0.021885  2.876227  21.290204   \n",
       "2  143.936102  42.389777  55.133019  75.452608  0.020834  2.551809  21.559385   \n",
       "3  161.596353  27.072121  47.971242  67.242830  0.030859  3.960681  21.965958   \n",
       "4  159.439111  29.189599  46.337389  70.816556  0.064980  2.733855  25.771664   \n",
       "\n",
       "   psi_threshold  \n",
       "0      -3.198173  \n",
       "1      -1.815574  \n",
       "2      -3.426829  \n",
       "3      -4.896455  \n",
       "4      -1.057574  "
      ]
     },
     "execution_count": 33,
     "metadata": {},
     "output_type": "execute_result"
    }
   ],
   "source": [
    "sample = lhs(15, samples=100)\n",
    "df_params = pd.DataFrame(sample, columns=params)\n",
    "\n",
    "for i in params: \n",
    "    df_params[i] = unfold(df_params[i], param_range[i][0], param_range[i][1])\n",
    "\n",
    "# constraining leaf number to be integers only\n",
    "df_params.juv_leaves = [round(x) for x in df_params.juv_leaves]\n",
    "df_params.head()"
   ]
  },
  {
   "cell_type": "markdown",
   "metadata": {},
   "source": [
    "### 3. Setting up planting dates"
   ]
  },
  {
   "cell_type": "code",
   "execution_count": 12,
   "metadata": {},
   "outputs": [],
   "source": [
    "# planting date range\n",
    "season_start = datetime.datetime(1990,3,1)\n",
    "season_end = datetime.datetime(1990,5,31)\n",
    "dates = np.arange(season_start, season_end, datetime.timedelta(3))\n",
    "\n",
    "pdates = []\n",
    "for i in dates:\n",
    "    pdates.append((str(i)[4:10]))"
   ]
  },
  {
   "cell_type": "code",
   "execution_count": null,
   "metadata": {},
   "outputs": [],
   "source": []
  },
  {
   "cell_type": "code",
   "execution_count": null,
   "metadata": {},
   "outputs": [],
   "source": []
  },
  {
   "cell_type": "code",
   "execution_count": null,
   "metadata": {},
   "outputs": [],
   "source": []
  },
  {
   "cell_type": "code",
   "execution_count": null,
   "metadata": {},
   "outputs": [],
   "source": []
  },
  {
   "cell_type": "code",
   "execution_count": null,
   "metadata": {},
   "outputs": [],
   "source": []
  },
  {
   "cell_type": "code",
   "execution_count": 13,
   "metadata": {},
   "outputs": [],
   "source": [
    "dill.dump_session('opt_param_env.db')"
   ]
  }
 ],
 "metadata": {
  "kernelspec": {
   "display_name": "Python 3",
   "language": "python",
   "name": "python3"
  },
  "language_info": {
   "codemirror_mode": {
    "name": "ipython",
    "version": 3
   },
   "file_extension": ".py",
   "mimetype": "text/x-python",
   "name": "python",
   "nbconvert_exporter": "python",
   "pygments_lexer": "ipython3",
   "version": "3.6.9"
  }
 },
 "nbformat": 4,
 "nbformat_minor": 2
}
